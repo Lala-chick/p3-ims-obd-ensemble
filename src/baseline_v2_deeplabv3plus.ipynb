{
 "cells": [
  {
   "cell_type": "markdown",
   "metadata": {},
   "source": [
    "## import"
   ]
  },
  {
   "cell_type": "code",
   "execution_count": 1,
   "metadata": {
    "ExecuteTime": {
     "end_time": "2021-04-22T11:06:58.944902Z",
     "start_time": "2021-04-22T11:06:56.623974Z"
    }
   },
   "outputs": [
    {
     "name": "stdout",
     "output_type": "stream",
     "text": [
      "pytorch version: 1.5.0+cu101\n",
      "GPU 사용 가능 여부: True\n",
      "Tesla V100-PCIE-32GB\n",
      "1\n"
     ]
    }
   ],
   "source": [
    "import os\n",
    "import random\n",
    "import time\n",
    "import json\n",
    "import warnings \n",
    "warnings.filterwarnings('ignore')\n",
    "\n",
    "import torch\n",
    "import torch.nn as nn\n",
    "import torch.nn.functional as F\n",
    "from torch.autograd import Variable\n",
    "from torch.utils.data import Dataset, DataLoader\n",
    "from utils import *\n",
    "import cv2\n",
    "from sklearn.model_selection import StratifiedKFold\n",
    "\n",
    "import numpy as np\n",
    "import pandas as pd\n",
    "from tqdm.auto import tqdm\n",
    "\n",
    "# Pretrained Model\n",
    "import segmentation_models_pytorch as smp\n",
    "\n",
    "# torchvision Models\n",
    "import torchvision\n",
    "from torchvision import models\n",
    "from torchvision.models.segmentation.deeplabv3 import DeepLabHead\n",
    "\n",
    "# 전처리를 위한 라이브러리\n",
    "from torch.utils.data.sampler import WeightedRandomSampler\n",
    "from pycocotools.coco import COCO\n",
    "import torchvision\n",
    "import torchvision.transforms as transforms\n",
    "\n",
    "import albumentations as A\n",
    "from albumentations.pytorch import ToTensorV2\n",
    "\n",
    "# 시각화를 위한 라이브러리\n",
    "import matplotlib.pyplot as plt\n",
    "import seaborn as sns; sns.set()\n",
    "\n",
    "plt.rcParams['axes.grid'] = False\n",
    "\n",
    "print('pytorch version: {}'.format(torch.__version__))\n",
    "print('GPU 사용 가능 여부: {}'.format(torch.cuda.is_available()))\n",
    "\n",
    "print(torch.cuda.get_device_name(0))\n",
    "print(torch.cuda.device_count())\n",
    "\n",
    "device = \"cuda\" if torch.cuda.is_available() else \"cpu\"   # GPU 사용 가능 여부에 따라 device 정보 저장\n",
    "%matplotlib inline"
   ]
  },
  {
   "cell_type": "markdown",
   "metadata": {},
   "source": [
    "## 하이퍼파라미터 세팅 및 seed 고정"
   ]
  },
  {
   "cell_type": "code",
   "execution_count": 2,
   "metadata": {
    "ExecuteTime": {
     "end_time": "2021-04-22T11:06:59.171980Z",
     "start_time": "2021-04-22T11:06:59.167952Z"
    }
   },
   "outputs": [],
   "source": [
    "batch_size = 20  # Mini-batch size\n",
    "num_epochs = 40\n",
    "learning_rate = 1e-4"
   ]
  },
  {
   "cell_type": "code",
   "execution_count": 3,
   "metadata": {
    "ExecuteTime": {
     "end_time": "2021-04-22T11:06:59.446510Z",
     "start_time": "2021-04-22T11:06:59.443508Z"
    }
   },
   "outputs": [],
   "source": [
    "# seed 고정\n",
    "random_seed = 42\n",
    "torch.manual_seed(random_seed)\n",
    "torch.cuda.manual_seed(random_seed)\n",
    "# torch.cuda.manual_seed_all(random_seed) # if use multi-GPU\n",
    "torch.backends.cudnn.deterministic = True\n",
    "torch.backends.cudnn.benchmark = False\n",
    "np.random.seed(random_seed)\n",
    "random.seed(random_seed)"
   ]
  },
  {
   "cell_type": "markdown",
   "metadata": {},
   "source": [
    "## 학습 데이터 EDA"
   ]
  },
  {
   "cell_type": "code",
   "execution_count": 4,
   "metadata": {
    "ExecuteTime": {
     "end_time": "2021-04-22T11:07:04.139668Z",
     "start_time": "2021-04-22T11:07:00.575728Z"
    },
    "scrolled": true
   },
   "outputs": [
    {
     "name": "stdout",
     "output_type": "stream",
     "text": [
      "Number of super categories: 11\n",
      "Number of categories: 11\n",
      "Number of annotations: 21116\n",
      "Number of images: 2617\n"
     ]
    }
   ],
   "source": [
    "dataset_path = '../input/data'\n",
    "anns_file_path = dataset_path + '/' + 'train.json'\n",
    "\n",
    "# Read annotations\n",
    "with open(anns_file_path, 'r') as f:\n",
    "    dataset = json.loads(f.read())\n",
    "\n",
    "categories = dataset['categories']\n",
    "anns = dataset['annotations']\n",
    "imgs = dataset['images']\n",
    "nr_cats = len(categories)\n",
    "nr_annotations = len(anns)\n",
    "nr_images = len(imgs)\n",
    "\n",
    "# Load categories and super categories\n",
    "cat_names = []\n",
    "super_cat_names = []\n",
    "super_cat_ids = {}\n",
    "super_cat_last_name = ''\n",
    "nr_super_cats = 0\n",
    "for cat_it in categories:\n",
    "    cat_names.append(cat_it['name'])\n",
    "    super_cat_name = cat_it['supercategory']\n",
    "    # Adding new supercat\n",
    "    if super_cat_name != super_cat_last_name:\n",
    "        super_cat_names.append(super_cat_name)\n",
    "        super_cat_ids[super_cat_name] = nr_super_cats\n",
    "        super_cat_last_name = super_cat_name\n",
    "        nr_super_cats += 1\n",
    "\n",
    "print('Number of super categories:', nr_super_cats)\n",
    "print('Number of categories:', nr_cats)\n",
    "print('Number of annotations:', nr_annotations)\n",
    "print('Number of images:', nr_images)"
   ]
  },
  {
   "cell_type": "code",
   "execution_count": 5,
   "metadata": {
    "ExecuteTime": {
     "end_time": "2021-04-22T11:07:04.394832Z",
     "start_time": "2021-04-22T11:07:04.141668Z"
    },
    "scrolled": true
   },
   "outputs": [],
   "source": [
    "# Count annotations\n",
    "cat_histogram = np.zeros(nr_cats,dtype=int)\n",
    "for ann in anns:\n",
    "    cat_histogram[ann['category_id']] += 1\n",
    "\n",
    "# Convert to DataFrame\n",
    "df = pd.DataFrame({'Categories': cat_names, 'Number of annotations': cat_histogram})\n",
    "df = df.sort_values('Number of annotations', 0, False)"
   ]
  },
  {
   "cell_type": "markdown",
   "metadata": {},
   "source": [
    "## 데이터 전처리 함수 정의 (Dataset)"
   ]
  },
  {
   "cell_type": "code",
   "execution_count": 6,
   "metadata": {
    "ExecuteTime": {
     "end_time": "2021-04-22T11:07:04.439837Z",
     "start_time": "2021-04-22T11:07:04.425804Z"
    }
   },
   "outputs": [],
   "source": [
    "# category labeling \n",
    "sorted_temp_df = df.sort_index()\n",
    "\n",
    "# background = 0 에 해당되는 label 추가 후 기존들을 모두 label + 1 로 설정\n",
    "sorted_df = pd.DataFrame([\"Backgroud\"], columns = [\"Categories\"])\n",
    "sorted_df = sorted_df.append(sorted_temp_df, ignore_index=True)\n",
    "\n",
    "category_names = list(sorted_df.Categories)\n",
    "\n",
    "def get_classname(classID, cats):\n",
    "    for i in range(len(cats)):\n",
    "        if cats[i]['id']==classID:\n",
    "            return cats[i]['name']\n",
    "    return \"None\"\n",
    "\n",
    "class CustomDataLoader(Dataset):\n",
    "    \"\"\"COCO format\"\"\"\n",
    "    def __init__(self, data_dir, mode = 'train', transform = None):\n",
    "        super().__init__()\n",
    "        self.mode = mode\n",
    "        self.transform = transform\n",
    "        self.coco = COCO(data_dir)\n",
    "        self.mask_image=[]\n",
    "        self.mask_label=[]\n",
    "\n",
    "        if (self.mode in ('train', 'val')):\n",
    "            print(f'{self.mode} : Preprocessing...')\n",
    "            for index in tqdm(range(len(self.coco.getImgIds()))):\n",
    "                # dataset이 index되어 list처럼 동작\n",
    "                image_id = self.coco.getImgIds(imgIds=index)\n",
    "                image_infos = self.coco.loadImgs(image_id)[0]\n",
    "\n",
    "                ann_ids = self.coco.getAnnIds(imgIds=image_infos['id'])\n",
    "                anns = self.coco.loadAnns(ann_ids)\n",
    "\n",
    "                # Load the categories in a variable\n",
    "                cat_ids = self.coco.getCatIds()\n",
    "                cats = self.coco.loadCats(cat_ids)\n",
    "\n",
    "                # masks : size가 (height x width)인 2D\n",
    "                # 각각의 pixel 값에는 \"category id + 1\" 할당\n",
    "                # Background = 0\n",
    "                masks = np.zeros((image_infos[\"height\"], image_infos[\"width\"]))\n",
    "                # Unknown = 1, General trash = 2, ... , Cigarette = 11\n",
    "                for i in range(len(anns)):\n",
    "                    className = get_classname(anns[i]['category_id'], cats)\n",
    "                    pixel_value = category_names.index(className)\n",
    "                    masks = np.maximum(self.coco.annToMask(anns[i])*pixel_value, masks)\n",
    "                masks = masks.astype(np.float32)\n",
    "                if 10.0 in list(np.unique(masks)): self.mask_label.append(0)\n",
    "                elif 1.0 in list(np.unique(masks)): self.mask_label.append(1)\n",
    "                elif 11.0 in list(np.unique(masks)): self.mask_label.append(2)\n",
    "                elif 6.0 in list(np.unique(masks)): self.mask_label.append(3)\n",
    "                elif 5.0 in list(np.unique(masks)): self.mask_label.append(4)\n",
    "                elif 4.0 in list(np.unique(masks)): self.mask_label.append(5)\n",
    "                elif 8.0 in list(np.unique(masks)): self.mask_label.append(6)\n",
    "                elif 7.0 in list(np.unique(masks)): self.mask_label.append(7)\n",
    "                elif 2.0 in list(np.unique(masks)): self.mask_label.append(8)\n",
    "                elif 3.0 in list(np.unique(masks)): self.mask_label.append(9)\n",
    "                elif 9.0 in list(np.unique(masks)): self.mask_label.append(10)\n",
    "                else: self.mask_label.append(11)  \n",
    "                self.mask_image.append(masks)\n",
    "\n",
    "          \n",
    "        \n",
    "    def __getitem__(self, index: int):\n",
    "        # dataset이 index되어 list처럼 동작\n",
    "        image_id = self.coco.getImgIds(imgIds=index)\n",
    "        image_infos = self.coco.loadImgs(image_id)[0]\n",
    "        \n",
    "        # cv2 를 활용하여 image 불러오기\n",
    "        images = cv2.imread(os.path.join(dataset_path, image_infos['file_name']))\n",
    "        images = cv2.cvtColor(images, cv2.COLOR_BGR2RGB).astype(np.float32)\n",
    "        \n",
    "        if (self.mode in ('train', 'val')):\n",
    "            # transform -> albumentations 라이브러리 활용\n",
    "            masks=self.mask_image[index]\n",
    "            weak_label=self.mask_label[index]\n",
    "            \n",
    "            if self.transform is not None:\n",
    "                transformed = self.transform(image=images, mask=masks)\n",
    "                images = transformed[\"image\"]\n",
    "                masks = transformed[\"mask\"]\n",
    "            \n",
    "            return images, masks, weak_label, image_infos\n",
    "        \n",
    "        if self.mode == 'test':\n",
    "            # transform -> albumentations 라이브러리 활용\n",
    "            if self.transform is not None:\n",
    "                transformed = self.transform(image=images)\n",
    "                images = transformed[\"image\"]\n",
    "            \n",
    "            return images, image_infos\n",
    "    \n",
    "    \n",
    "    def __len__(self) -> int:\n",
    "        # 전체 dataset의 size를 return\n",
    "        return len(self.coco.getImgIds())"
   ]
  },
  {
   "cell_type": "markdown",
   "metadata": {},
   "source": [
    "## Dataset 정의 및 DataLoader 할당"
   ]
  },
  {
   "cell_type": "code",
   "execution_count": 7,
   "metadata": {
    "ExecuteTime": {
     "end_time": "2021-04-22T11:07:09.179806Z",
     "start_time": "2021-04-22T11:07:04.440804Z"
    },
    "scrolled": true
   },
   "outputs": [
    {
     "name": "stdout",
     "output_type": "stream",
     "text": [
      "loading annotations into memory...\n",
      "Done (t=5.32s)\n",
      "creating index...\n",
      "index created!\n",
      "train : Preprocessing...\n"
     ]
    },
    {
     "data": {
      "application/vnd.jupyter.widget-view+json": {
       "model_id": "e3cdb925f4e74509a7d8608637ad2538",
       "version_major": 2,
       "version_minor": 0
      },
      "text/plain": [
       "  0%|          | 0/3272 [00:00<?, ?it/s]"
      ]
     },
     "metadata": {},
     "output_type": "display_data"
    },
    {
     "name": "stdout",
     "output_type": "stream",
     "text": [
      "loading annotations into memory...\n",
      "Done (t=0.02s)\n",
      "creating index...\n",
      "index created!\n"
     ]
    }
   ],
   "source": [
    "# train.json / validation.json / test.json 디렉토리 설정\n",
    "train_path = dataset_path + '/train_all.json'\n",
    "#val_path = dataset_path + '/val.json'\n",
    "test_path = dataset_path + '/test.json'\n",
    "\n",
    "# collate_fn needs for batch\n",
    "def collate_fn(batch):\n",
    "    return tuple(zip(*batch))\n",
    "\n",
    "train_transform = A.Compose([\n",
    "                            A.Rotate(border_mode=1, p=0.5),\n",
    "                            A.ShiftScaleRotate(border_mode=1, p=0.5),\n",
    "                            A.HorizontalFlip(p=0.5),\n",
    "                            A.VerticalFlip(p=0.5),\n",
    "                            A.Cutout(),\n",
    "                            A.Normalize(\n",
    "                                mean=(0.485, 0.456, 0.406),\n",
    "                                std=(0.229, 0.224, 0.225), max_pixel_value=255.0, p=1.0\n",
    "                            ),\n",
    "                            ToTensorV2(),\n",
    "                            ])\n",
    "\n",
    "test_transform = A.Compose([\n",
    "                            A.Normalize(\n",
    "                                mean=(0.485, 0.456, 0.406),\n",
    "                                std=(0.229, 0.224, 0.225), max_pixel_value=255.0, p=1.0\n",
    "                            ),\n",
    "                            ToTensorV2(),\n",
    "                           ])\n",
    "\n",
    "# create own Dataset 1 (skip)\n",
    "# validation set을 직접 나누고 싶은 경우\n",
    "# random_split 사용하여 data set을 8:2 로 분할\n",
    "# train_size = int(0.8*len(dataset))\n",
    "# val_size = int(len(dataset)-train_size)\n",
    "# dataset = CustomDataLoader(data_dir=train_path, mode='train', transform=transform)\n",
    "# train_dataset, val_dataset = torch.utils.data.random_split(dataset, [train_size, val_size])\n",
    "\n",
    "# create own Dataset 2\n",
    "# train dataset\n",
    "train_dataset = CustomDataLoader(data_dir=train_path, mode='train', transform=train_transform)\n",
    "\n",
    "# test dataset\n",
    "test_dataset = CustomDataLoader(data_dir=test_path, mode='test', transform=test_transform)"
   ]
  },
  {
   "cell_type": "markdown",
   "metadata": {},
   "source": [
    "## Class Score"
   ]
  },
  {
   "cell_type": "code",
   "execution_count": 8,
   "metadata": {},
   "outputs": [],
   "source": [
    "def class_score(avrg_class_IoU):\n",
    "    # Class Score\n",
    "    class_name=['BG','UNK','General Trash','Paper','Paper pack','Metal','Glass','Plastic','Styrofoam','Plastic Bag','Battery','Clothing']\n",
    "    print('-'*80)\n",
    "    print('Validation Class Pred mIoU Score')\n",
    "    for idx, class_score in enumerate(avrg_class_IoU):\n",
    "        print('[{}] mIoU : [{:.4f}]'.format(class_name[idx],class_score))\n",
    "    print('-'*80) "
   ]
  },
  {
   "cell_type": "markdown",
   "metadata": {},
   "source": [
    "## CutMix"
   ]
  },
  {
   "cell_type": "code",
   "execution_count": 9,
   "metadata": {},
   "outputs": [],
   "source": [
    "def rand_bbox(W, H, lam):\n",
    "    cut_rat = torch.sqrt(1.0 - lam)\n",
    "    cut_w = (W * cut_rat).type(torch.long)\n",
    "    cut_h = (H * cut_rat).type(torch.long)\n",
    "    # uniform\n",
    "    cx = torch.randint(W, (1,)).to(device)\n",
    "    cy = torch.randint(H, (1,)).to(device)\n",
    "    x1 = torch.clamp(cx - cut_w // 2, 0, W)\n",
    "    y1 = torch.clamp(cy - cut_h // 2, 0, H)\n",
    "    x2 = torch.clamp(cx + cut_w // 2, 0, W)\n",
    "    y2 = torch.clamp(cy + cut_h // 2, 0, H)\n",
    "    return x1, y1, x2, y2"
   ]
  },
  {
   "cell_type": "code",
   "execution_count": 10,
   "metadata": {},
   "outputs": [],
   "source": [
    "def cutmix_data(x, y, alpha=1.0, p=0.5):\n",
    "    # x-> img \n",
    "    # y-> mask\n",
    "    if np.random.random() > p:\n",
    "        return x, y\n",
    "    W, H = x.size(2), x.size(3)\n",
    "    shuffle = torch.randperm(x.size(0)).to(device)\n",
    "    cutmix_x = x\n",
    "    cutmix_y = y\n",
    "\n",
    "    lam = torch.distributions.beta.Beta(alpha, alpha).sample().to(device)\n",
    "    x1, y1, x2, y2 = rand_bbox(W, H, lam)\n",
    "    cutmix_x[:, :, x1:x2, y1:y2] = x[shuffle, :, x1:x2, y1:y2]\n",
    "    cutmix_y[:, x1:x2, y1:y2] = y[shuffle, x1:x2, y1:y2]\n",
    "    # Adjust lambda to match pixel ratio\n",
    "    #lam = 1 - ((x2 - x1) * (y2 - y1) / float(W * H)).item()\n",
    "    return cutmix_x, cutmix_y"
   ]
  },
  {
   "cell_type": "markdown",
   "metadata": {},
   "source": [
    "## train, validation, test 함수 정의"
   ]
  },
  {
   "cell_type": "code",
   "execution_count": 11,
   "metadata": {
    "ExecuteTime": {
     "end_time": "2021-04-22T11:15:38.201874Z",
     "start_time": "2021-04-22T11:15:38.187884Z"
    }
   },
   "outputs": [],
   "source": [
    "def train(fold, num_epochs, model, data_loader, val_loader, criterion, optimizer, scheduler, device):\n",
    "    print('-'*80)\n",
    "    print(f'Fold : [{fold}] Start training..')\n",
    "    print('-'*80)\n",
    "    early_stop=EarlyStopping(patience=5,path='./saved/'+str(fold)+'_checkpoint.pt')\n",
    "\n",
    "    for epoch in range(num_epochs):\n",
    "        train_loss=[]\n",
    "        model.train()\n",
    "        for step, (images, masks, _, _) in enumerate(tqdm(data_loader)):\n",
    "            images = torch.stack(images)       # (batch, channel, height, width)\n",
    "            masks = torch.stack(masks).long()  # (batch, channel, height, width)\n",
    "\n",
    "            # gpu 연산을 위해 device 할당\n",
    "            images, masks = images.to(device), masks.to(device)\n",
    "\n",
    "            #Cut-Mix\n",
    "            images, masks = cutmix_data(images, masks)\n",
    "\n",
    "            # inference\n",
    "            outputs = model(images)\n",
    "\n",
    "            # loss 계산\n",
    "            loss = criterion(outputs, masks)\n",
    "\n",
    "            optimizer.zero_grad()\n",
    "            loss.backward()\n",
    "            optimizer.step()\n",
    "\n",
    "            train_loss.append(loss.item())\n",
    "\n",
    "            #Cosine Annealing Scheduler\n",
    "            #scheduler.step(epoch + step / len(data_loader))\n",
    "\n",
    "        # validation 주기에 따른 loss 출력 및 best model 저장\n",
    "        avrg_loss, avrg_IoU, avrg_class_IoU, pb_IoU = validation(model, val_loader, device)\n",
    "        print('Epoch [{}/{}], Train Loss: {:.4f} Vali Loss: {:.4f}, Vali mIoU: {:.4f}, Vali Public mIoU: {:.4f}'.format(epoch+1, num_epochs, np.mean(train_loss), avrg_loss, avrg_IoU, pb_IoU))\n",
    "        # Reduce Scheduler\n",
    "        scheduler.step(avrg_IoU)\n",
    "        # Class Score\n",
    "        class_score(avrg_class_IoU)\n",
    "        # Save\n",
    "        early_stop(avrg_IoU,model)\n",
    "        if early_stop.early_stop:\n",
    "            print('Stop Training.....')\n",
    "            break"
   ]
  },
  {
   "cell_type": "code",
   "execution_count": 12,
   "metadata": {
    "ExecuteTime": {
     "end_time": "2021-04-22T11:15:38.901226Z",
     "start_time": "2021-04-22T11:15:38.888195Z"
    }
   },
   "outputs": [],
   "source": [
    "def validation(model, data_loader, device):\n",
    "    criterion = nn.CrossEntropyLoss().to(device)\n",
    "    n_class=12\n",
    "    hist = np.zeros((n_class, n_class))\n",
    "    print('Start validation')\n",
    "    model.eval()\n",
    "    with torch.no_grad():\n",
    "        total_loss = 0\n",
    "        cnt = 0\n",
    "        pb_mIoU_list = []\n",
    "        for step, (images, masks, _, _) in enumerate(tqdm(data_loader)):\n",
    "            images = torch.stack(images)       # (batch, channel, height, width)\n",
    "            masks = torch.stack(masks).long()  # (batch, channel, height, width)\n",
    "\n",
    "            images, masks = images.to(device), masks.to(device)        \n",
    "\n",
    "            outputs = model(images)\n",
    "            loss = criterion(outputs, masks)\n",
    "            total_loss += loss\n",
    "            cnt += 1\n",
    "            \n",
    "            outputs = torch.argmax(outputs.squeeze(), dim=1).detach().cpu().numpy()\n",
    "            \n",
    "            hist = add_hist(hist, masks.detach().cpu().numpy(), outputs, n_class=n_class)\n",
    "            pb_mIoU = public_label_accuracy_score(masks.detach().cpu().numpy(), outputs, n_class=12)\n",
    "            pb_mIoU_list.append(pb_mIoU)\n",
    "        \n",
    "        vali_mIoU, vali_class_mIoU = label_accuracy_score(hist)\n",
    "        avrg_loss = total_loss / cnt\n",
    "\n",
    "    return avrg_loss, vali_mIoU, vali_class_mIoU, np.mean(pb_mIoU_list)"
   ]
  },
  {
   "cell_type": "markdown",
   "metadata": {},
   "source": [
    "## 모델 생성 및 Loss function, Optimizer 정의"
   ]
  },
  {
   "cell_type": "code",
   "execution_count": 13,
   "metadata": {
    "ExecuteTime": {
     "end_time": "2021-04-22T11:15:43.106368Z",
     "start_time": "2021-04-22T11:15:43.096368Z"
    }
   },
   "outputs": [],
   "source": [
    "# Optimizer 정의\n",
    "#optimizer = torch.optim.Adam(params = model.parameters(), lr = 1.2e-7)\n",
    "\n",
    "# Scheduler 정의\n",
    "#scheduler = torch.optim.lr_scheduler.ReduceLROnPlateau(optimizer, mode='max', factor=0.5, patience=1,threshold_mode='abs',min_lr=1e-8, verbose=True)\n",
    "#scheduler = torch.optim.lr_scheduler.CosineAnnealingWarmRestarts(optimizer, T_0=5, eta_min=1.2e-7)\n",
    "#scheduler = CosineAnnealingWarmUpRestarts(optimizer, T_0=20, eta_max=learning_rate,  T_up=2, gamma=0.5)"
   ]
  },
  {
   "cell_type": "code",
   "execution_count": 14,
   "metadata": {
    "ExecuteTime": {
     "start_time": "2021-04-22T11:15:43.700Z"
    },
    "tags": []
   },
   "outputs": [
    {
     "name": "stdout",
     "output_type": "stream",
     "text": [
      "--------------------------------------------------------------------------------\n",
      "Fold : [0] Start training..\n",
      "--------------------------------------------------------------------------------\n"
     ]
    },
    {
     "data": {
      "application/vnd.jupyter.widget-view+json": {
       "model_id": "27a174f2699f44eba68b3329dfad6812",
       "version_major": 2,
       "version_minor": 0
      },
      "text/plain": [
       "  0%|          | 0/131 [00:00<?, ?it/s]"
      ]
     },
     "metadata": {},
     "output_type": "display_data"
    },
    {
     "name": "stdout",
     "output_type": "stream",
     "text": [
      "Start validation\n"
     ]
    },
    {
     "data": {
      "application/vnd.jupyter.widget-view+json": {
       "model_id": "44cf9d83472f439391f041694d4b8560",
       "version_major": 2,
       "version_minor": 0
      },
      "text/plain": [
       "  0%|          | 0/33 [00:00<?, ?it/s]"
      ]
     },
     "metadata": {},
     "output_type": "display_data"
    },
    {
     "name": "stdout",
     "output_type": "stream",
     "text": [
      "Epoch [1/40], Train Loss: 0.9311 Vali Loss: 0.5907, Vali mIoU: 0.2645, Vali Public mIoU: 0.3093\n",
      "--------------------------------------------------------------------------------\n",
      "Validation Class Pred mIoU Score\n",
      "[BG] mIoU : [0.9120]\n",
      "[UNK] mIoU : [0.0000]\n",
      "[General Trash] mIoU : [0.2362]\n",
      "[Paper] mIoU : [0.6265]\n",
      "[Paper pack] mIoU : [0.0000]\n",
      "[Metal] mIoU : [0.0653]\n",
      "[Glass] mIoU : [0.0262]\n",
      "[Plastic] mIoU : [0.2771]\n",
      "[Styrofoam] mIoU : [0.3736]\n",
      "[Plastic Bag] mIoU : [0.6571]\n",
      "[Battery] mIoU : [0.0000]\n",
      "[Clothing] mIoU : [0.0000]\n",
      "--------------------------------------------------------------------------------\n"
     ]
    },
    {
     "data": {
      "application/vnd.jupyter.widget-view+json": {
       "model_id": "049b39a62ed24365bced2e26431a2b60",
       "version_major": 2,
       "version_minor": 0
      },
      "text/plain": [
       "  0%|          | 0/131 [00:00<?, ?it/s]"
      ]
     },
     "metadata": {},
     "output_type": "display_data"
    },
    {
     "name": "stdout",
     "output_type": "stream",
     "text": [
      "Start validation\n"
     ]
    },
    {
     "data": {
      "application/vnd.jupyter.widget-view+json": {
       "model_id": "644236d889f34358a0297eecbd1d6270",
       "version_major": 2,
       "version_minor": 0
      },
      "text/plain": [
       "  0%|          | 0/33 [00:00<?, ?it/s]"
      ]
     },
     "metadata": {},
     "output_type": "display_data"
    },
    {
     "name": "stdout",
     "output_type": "stream",
     "text": [
      "Epoch [2/40], Train Loss: 0.4829 Vali Loss: 0.3939, Vali mIoU: 0.3566, Vali Public mIoU: 0.3760\n",
      "--------------------------------------------------------------------------------\n",
      "Validation Class Pred mIoU Score\n",
      "[BG] mIoU : [0.9263]\n",
      "[UNK] mIoU : [0.0000]\n",
      "[General Trash] mIoU : [0.1995]\n",
      "[Paper] mIoU : [0.6701]\n",
      "[Paper pack] mIoU : [0.1780]\n",
      "[Metal] mIoU : [0.3742]\n",
      "[Glass] mIoU : [0.3766]\n",
      "[Plastic] mIoU : [0.2899]\n",
      "[Styrofoam] mIoU : [0.5065]\n",
      "[Plastic Bag] mIoU : [0.7577]\n",
      "[Battery] mIoU : [0.0000]\n",
      "[Clothing] mIoU : [0.0000]\n",
      "--------------------------------------------------------------------------------\n"
     ]
    },
    {
     "data": {
      "application/vnd.jupyter.widget-view+json": {
       "model_id": "3037c24302bd470dafa12ee3d8d63f5b",
       "version_major": 2,
       "version_minor": 0
      },
      "text/plain": [
       "  0%|          | 0/131 [00:00<?, ?it/s]"
      ]
     },
     "metadata": {},
     "output_type": "display_data"
    },
    {
     "name": "stdout",
     "output_type": "stream",
     "text": [
      "Start validation\n"
     ]
    },
    {
     "data": {
      "application/vnd.jupyter.widget-view+json": {
       "model_id": "f5da318cc955434c91649e49a48bdf3f",
       "version_major": 2,
       "version_minor": 0
      },
      "text/plain": [
       "  0%|          | 0/33 [00:00<?, ?it/s]"
      ]
     },
     "metadata": {},
     "output_type": "display_data"
    },
    {
     "name": "stdout",
     "output_type": "stream",
     "text": [
      "Epoch [3/40], Train Loss: 0.3855 Vali Loss: 0.3478, Vali mIoU: 0.4128, Vali Public mIoU: 0.4079\n",
      "--------------------------------------------------------------------------------\n",
      "Validation Class Pred mIoU Score\n",
      "[BG] mIoU : [0.9344]\n",
      "[UNK] mIoU : [0.0000]\n",
      "[General Trash] mIoU : [0.3248]\n",
      "[Paper] mIoU : [0.6973]\n",
      "[Paper pack] mIoU : [0.2836]\n",
      "[Metal] mIoU : [0.4136]\n",
      "[Glass] mIoU : [0.2734]\n",
      "[Plastic] mIoU : [0.3633]\n",
      "[Styrofoam] mIoU : [0.5379]\n",
      "[Plastic Bag] mIoU : [0.7614]\n",
      "[Battery] mIoU : [0.0000]\n",
      "[Clothing] mIoU : [0.3635]\n",
      "--------------------------------------------------------------------------------\n"
     ]
    },
    {
     "data": {
      "application/vnd.jupyter.widget-view+json": {
       "model_id": "f89e9deeb96e4c159136d29cc7313034",
       "version_major": 2,
       "version_minor": 0
      },
      "text/plain": [
       "  0%|          | 0/131 [00:00<?, ?it/s]"
      ]
     },
     "metadata": {},
     "output_type": "display_data"
    },
    {
     "name": "stdout",
     "output_type": "stream",
     "text": [
      "Start validation\n"
     ]
    },
    {
     "data": {
      "application/vnd.jupyter.widget-view+json": {
       "model_id": "4ae8c5317b8944e1987b897b70de76cc",
       "version_major": 2,
       "version_minor": 0
      },
      "text/plain": [
       "  0%|          | 0/33 [00:00<?, ?it/s]"
      ]
     },
     "metadata": {},
     "output_type": "display_data"
    },
    {
     "name": "stdout",
     "output_type": "stream",
     "text": [
      "Epoch [4/40], Train Loss: 0.3229 Vali Loss: 0.3432, Vali mIoU: 0.4477, Vali Public mIoU: 0.4229\n",
      "--------------------------------------------------------------------------------\n",
      "Validation Class Pred mIoU Score\n",
      "[BG] mIoU : [0.9299]\n",
      "[UNK] mIoU : [0.0000]\n",
      "[General Trash] mIoU : [0.3308]\n",
      "[Paper] mIoU : [0.6639]\n",
      "[Paper pack] mIoU : [0.4129]\n",
      "[Metal] mIoU : [0.4274]\n",
      "[Glass] mIoU : [0.4736]\n",
      "[Plastic] mIoU : [0.3501]\n",
      "[Styrofoam] mIoU : [0.5622]\n",
      "[Plastic Bag] mIoU : [0.7701]\n",
      "[Battery] mIoU : [0.0000]\n",
      "[Clothing] mIoU : [0.4510]\n",
      "--------------------------------------------------------------------------------\n"
     ]
    },
    {
     "data": {
      "application/vnd.jupyter.widget-view+json": {
       "model_id": "cdb7ae53784149a58a21e3de1483aff5",
       "version_major": 2,
       "version_minor": 0
      },
      "text/plain": [
       "  0%|          | 0/131 [00:00<?, ?it/s]"
      ]
     },
     "metadata": {},
     "output_type": "display_data"
    },
    {
     "name": "stdout",
     "output_type": "stream",
     "text": [
      "Start validation\n"
     ]
    },
    {
     "data": {
      "application/vnd.jupyter.widget-view+json": {
       "model_id": "f4e1277d425940a0a7af9f4bf9a4ea7c",
       "version_major": 2,
       "version_minor": 0
      },
      "text/plain": [
       "  0%|          | 0/33 [00:00<?, ?it/s]"
      ]
     },
     "metadata": {},
     "output_type": "display_data"
    },
    {
     "name": "stdout",
     "output_type": "stream",
     "text": [
      "Epoch [5/40], Train Loss: 0.2979 Vali Loss: 0.3317, Vali mIoU: 0.4518, Vali Public mIoU: 0.4145\n",
      "--------------------------------------------------------------------------------\n",
      "Validation Class Pred mIoU Score\n",
      "[BG] mIoU : [0.9301]\n",
      "[UNK] mIoU : [0.0000]\n",
      "[General Trash] mIoU : [0.3267]\n",
      "[Paper] mIoU : [0.7123]\n",
      "[Paper pack] mIoU : [0.4073]\n",
      "[Metal] mIoU : [0.4797]\n",
      "[Glass] mIoU : [0.5291]\n",
      "[Plastic] mIoU : [0.3539]\n",
      "[Styrofoam] mIoU : [0.4926]\n",
      "[Plastic Bag] mIoU : [0.7611]\n",
      "[Battery] mIoU : [0.0000]\n",
      "[Clothing] mIoU : [0.4290]\n",
      "--------------------------------------------------------------------------------\n"
     ]
    },
    {
     "data": {
      "application/vnd.jupyter.widget-view+json": {
       "model_id": "3873f5418e564d30a0a0cb8496555a32",
       "version_major": 2,
       "version_minor": 0
      },
      "text/plain": [
       "  0%|          | 0/131 [00:00<?, ?it/s]"
      ]
     },
     "metadata": {},
     "output_type": "display_data"
    },
    {
     "name": "stdout",
     "output_type": "stream",
     "text": [
      "Start validation\n"
     ]
    },
    {
     "data": {
      "application/vnd.jupyter.widget-view+json": {
       "model_id": "9cb4b902671e461a9aea204f8957498b",
       "version_major": 2,
       "version_minor": 0
      },
      "text/plain": [
       "  0%|          | 0/33 [00:00<?, ?it/s]"
      ]
     },
     "metadata": {},
     "output_type": "display_data"
    },
    {
     "name": "stdout",
     "output_type": "stream",
     "text": [
      "Epoch [6/40], Train Loss: 0.2692 Vali Loss: 0.3214, Vali mIoU: 0.4478, Vali Public mIoU: 0.4353\n",
      "--------------------------------------------------------------------------------\n",
      "Validation Class Pred mIoU Score\n",
      "[BG] mIoU : [0.9400]\n",
      "[UNK] mIoU : [0.0000]\n",
      "[General Trash] mIoU : [0.3170]\n",
      "[Paper] mIoU : [0.7181]\n",
      "[Paper pack] mIoU : [0.3845]\n",
      "[Metal] mIoU : [0.3481]\n",
      "[Glass] mIoU : [0.4743]\n",
      "[Plastic] mIoU : [0.3948]\n",
      "[Styrofoam] mIoU : [0.5972]\n",
      "[Plastic Bag] mIoU : [0.7817]\n",
      "[Battery] mIoU : [0.0000]\n",
      "[Clothing] mIoU : [0.4174]\n",
      "--------------------------------------------------------------------------------\n"
     ]
    },
    {
     "data": {
      "application/vnd.jupyter.widget-view+json": {
       "model_id": "0d378ba910f845f0935f201e421b1f8a",
       "version_major": 2,
       "version_minor": 0
      },
      "text/plain": [
       "  0%|          | 0/131 [00:00<?, ?it/s]"
      ]
     },
     "metadata": {},
     "output_type": "display_data"
    },
    {
     "name": "stdout",
     "output_type": "stream",
     "text": [
      "Start validation\n"
     ]
    },
    {
     "data": {
      "application/vnd.jupyter.widget-view+json": {
       "model_id": "f292cd404cac43e2aa1ecff0a6ab2a17",
       "version_major": 2,
       "version_minor": 0
      },
      "text/plain": [
       "  0%|          | 0/33 [00:00<?, ?it/s]"
      ]
     },
     "metadata": {},
     "output_type": "display_data"
    },
    {
     "name": "stdout",
     "output_type": "stream",
     "text": [
      "Epoch [7/40], Train Loss: 0.2396 Vali Loss: 0.2991, Vali mIoU: 0.4756, Vali Public mIoU: 0.4485\n",
      "--------------------------------------------------------------------------------\n",
      "Validation Class Pred mIoU Score\n",
      "[BG] mIoU : [0.9411]\n",
      "[UNK] mIoU : [0.0000]\n",
      "[General Trash] mIoU : [0.3783]\n",
      "[Paper] mIoU : [0.7232]\n",
      "[Paper pack] mIoU : [0.4638]\n",
      "[Metal] mIoU : [0.4731]\n",
      "[Glass] mIoU : [0.4492]\n",
      "[Plastic] mIoU : [0.3835]\n",
      "[Styrofoam] mIoU : [0.6118]\n",
      "[Plastic Bag] mIoU : [0.7748]\n",
      "[Battery] mIoU : [0.0000]\n",
      "[Clothing] mIoU : [0.5083]\n",
      "--------------------------------------------------------------------------------\n"
     ]
    },
    {
     "data": {
      "application/vnd.jupyter.widget-view+json": {
       "model_id": "bb9d9f01cbd54a91804639868e7b61fc",
       "version_major": 2,
       "version_minor": 0
      },
      "text/plain": [
       "  0%|          | 0/131 [00:00<?, ?it/s]"
      ]
     },
     "metadata": {},
     "output_type": "display_data"
    },
    {
     "name": "stdout",
     "output_type": "stream",
     "text": [
      "Start validation\n"
     ]
    },
    {
     "data": {
      "application/vnd.jupyter.widget-view+json": {
       "model_id": "8607d41059814ad29465d2c0e641f326",
       "version_major": 2,
       "version_minor": 0
      },
      "text/plain": [
       "  0%|          | 0/33 [00:00<?, ?it/s]"
      ]
     },
     "metadata": {},
     "output_type": "display_data"
    },
    {
     "name": "stdout",
     "output_type": "stream",
     "text": [
      "Epoch [8/40], Train Loss: 0.2246 Vali Loss: 0.3047, Vali mIoU: 0.4745, Vali Public mIoU: 0.4554\n",
      "--------------------------------------------------------------------------------\n",
      "Validation Class Pred mIoU Score\n",
      "[BG] mIoU : [0.9465]\n",
      "[UNK] mIoU : [0.0000]\n",
      "[General Trash] mIoU : [0.3621]\n",
      "[Paper] mIoU : [0.7238]\n",
      "[Paper pack] mIoU : [0.4989]\n",
      "[Metal] mIoU : [0.4845]\n",
      "[Glass] mIoU : [0.4944]\n",
      "[Plastic] mIoU : [0.3792]\n",
      "[Styrofoam] mIoU : [0.6369]\n",
      "[Plastic Bag] mIoU : [0.7944]\n",
      "[Battery] mIoU : [0.0002]\n",
      "[Clothing] mIoU : [0.3732]\n",
      "--------------------------------------------------------------------------------\n"
     ]
    },
    {
     "data": {
      "application/vnd.jupyter.widget-view+json": {
       "model_id": "aba88fb12ad54e0a86f1206ef20f4793",
       "version_major": 2,
       "version_minor": 0
      },
      "text/plain": [
       "  0%|          | 0/131 [00:00<?, ?it/s]"
      ]
     },
     "metadata": {},
     "output_type": "display_data"
    },
    {
     "name": "stdout",
     "output_type": "stream",
     "text": [
      "Start validation\n"
     ]
    },
    {
     "data": {
      "application/vnd.jupyter.widget-view+json": {
       "model_id": "faef7a1d49014b7d8f9c91b3859b8a94",
       "version_major": 2,
       "version_minor": 0
      },
      "text/plain": [
       "  0%|          | 0/33 [00:00<?, ?it/s]"
      ]
     },
     "metadata": {},
     "output_type": "display_data"
    },
    {
     "name": "stdout",
     "output_type": "stream",
     "text": [
      "Epoch [9/40], Train Loss: 0.1978 Vali Loss: 0.2898, Vali mIoU: 0.5054, Vali Public mIoU: 0.4618\n",
      "--------------------------------------------------------------------------------\n",
      "Validation Class Pred mIoU Score\n",
      "[BG] mIoU : [0.9478]\n",
      "[UNK] mIoU : [0.0000]\n",
      "[General Trash] mIoU : [0.3960]\n",
      "[Paper] mIoU : [0.7532]\n",
      "[Paper pack] mIoU : [0.4549]\n",
      "[Metal] mIoU : [0.4125]\n",
      "[Glass] mIoU : [0.4743]\n",
      "[Plastic] mIoU : [0.4453]\n",
      "[Styrofoam] mIoU : [0.6449]\n",
      "[Plastic Bag] mIoU : [0.7873]\n",
      "[Battery] mIoU : [0.2682]\n",
      "[Clothing] mIoU : [0.4803]\n",
      "--------------------------------------------------------------------------------\n"
     ]
    },
    {
     "data": {
      "application/vnd.jupyter.widget-view+json": {
       "model_id": "d66ef7714a314227a3f824c406b51125",
       "version_major": 2,
       "version_minor": 0
      },
      "text/plain": [
       "  0%|          | 0/131 [00:00<?, ?it/s]"
      ]
     },
     "metadata": {},
     "output_type": "display_data"
    },
    {
     "name": "stdout",
     "output_type": "stream",
     "text": [
      "Start validation\n"
     ]
    },
    {
     "data": {
      "application/vnd.jupyter.widget-view+json": {
       "model_id": "2b63a865de2b434dabcb894695eaaa57",
       "version_major": 2,
       "version_minor": 0
      },
      "text/plain": [
       "  0%|          | 0/33 [00:00<?, ?it/s]"
      ]
     },
     "metadata": {},
     "output_type": "display_data"
    },
    {
     "name": "stdout",
     "output_type": "stream",
     "text": [
      "Epoch [10/40], Train Loss: 0.2004 Vali Loss: 0.2931, Vali mIoU: 0.5062, Vali Public mIoU: 0.4520\n",
      "--------------------------------------------------------------------------------\n",
      "Validation Class Pred mIoU Score\n",
      "[BG] mIoU : [0.9439]\n",
      "[UNK] mIoU : [0.0000]\n",
      "[General Trash] mIoU : [0.3833]\n",
      "[Paper] mIoU : [0.7173]\n",
      "[Paper pack] mIoU : [0.4504]\n",
      "[Metal] mIoU : [0.3834]\n",
      "[Glass] mIoU : [0.4690]\n",
      "[Plastic] mIoU : [0.4509]\n",
      "[Styrofoam] mIoU : [0.6574]\n",
      "[Plastic Bag] mIoU : [0.8029]\n",
      "[Battery] mIoU : [0.3133]\n",
      "[Clothing] mIoU : [0.5027]\n",
      "--------------------------------------------------------------------------------\n"
     ]
    },
    {
     "data": {
      "application/vnd.jupyter.widget-view+json": {
       "model_id": "428b26525967463488158dab723db3fd",
       "version_major": 2,
       "version_minor": 0
      },
      "text/plain": [
       "  0%|          | 0/131 [00:00<?, ?it/s]"
      ]
     },
     "metadata": {},
     "output_type": "display_data"
    },
    {
     "name": "stdout",
     "output_type": "stream",
     "text": [
      "Start validation\n"
     ]
    },
    {
     "data": {
      "application/vnd.jupyter.widget-view+json": {
       "model_id": "86f6707429c648c58a2db42ad1dfd0be",
       "version_major": 2,
       "version_minor": 0
      },
      "text/plain": [
       "  0%|          | 0/33 [00:00<?, ?it/s]"
      ]
     },
     "metadata": {},
     "output_type": "display_data"
    },
    {
     "name": "stdout",
     "output_type": "stream",
     "text": [
      "Epoch [11/40], Train Loss: 0.1849 Vali Loss: 0.3374, Vali mIoU: 0.4676, Vali Public mIoU: 0.4460\n",
      "--------------------------------------------------------------------------------\n",
      "Validation Class Pred mIoU Score\n",
      "[BG] mIoU : [0.9425]\n",
      "[UNK] mIoU : [0.0000]\n",
      "[General Trash] mIoU : [0.3552]\n",
      "[Paper] mIoU : [0.7132]\n",
      "[Paper pack] mIoU : [0.3679]\n",
      "[Metal] mIoU : [0.4123]\n",
      "[Glass] mIoU : [0.4689]\n",
      "[Plastic] mIoU : [0.4118]\n",
      "[Styrofoam] mIoU : [0.5803]\n",
      "[Plastic Bag] mIoU : [0.7899]\n",
      "[Battery] mIoU : [0.3067]\n",
      "[Clothing] mIoU : [0.2625]\n",
      "--------------------------------------------------------------------------------\n"
     ]
    },
    {
     "data": {
      "application/vnd.jupyter.widget-view+json": {
       "model_id": "b1349a974925421987a8b9a5934c20db",
       "version_major": 2,
       "version_minor": 0
      },
      "text/plain": [
       "  0%|          | 0/131 [00:00<?, ?it/s]"
      ]
     },
     "metadata": {},
     "output_type": "display_data"
    },
    {
     "name": "stdout",
     "output_type": "stream",
     "text": [
      "Start validation\n"
     ]
    },
    {
     "data": {
      "application/vnd.jupyter.widget-view+json": {
       "model_id": "2582c4dc5b1048809c5b9ac3c783114b",
       "version_major": 2,
       "version_minor": 0
      },
      "text/plain": [
       "  0%|          | 0/33 [00:00<?, ?it/s]"
      ]
     },
     "metadata": {},
     "output_type": "display_data"
    },
    {
     "name": "stdout",
     "output_type": "stream",
     "text": [
      "Epoch [12/40], Train Loss: 0.1762 Vali Loss: 0.3284, Vali mIoU: 0.4856, Vali Public mIoU: 0.4619\n",
      "Epoch    12: reducing learning rate of group 0 to 5.0000e-05.\n",
      "--------------------------------------------------------------------------------\n",
      "Validation Class Pred mIoU Score\n",
      "[BG] mIoU : [0.9416]\n",
      "[UNK] mIoU : [0.0000]\n",
      "[General Trash] mIoU : [0.3639]\n",
      "[Paper] mIoU : [0.7058]\n",
      "[Paper pack] mIoU : [0.4271]\n",
      "[Metal] mIoU : [0.4984]\n",
      "[Glass] mIoU : [0.4955]\n",
      "[Plastic] mIoU : [0.4298]\n",
      "[Styrofoam] mIoU : [0.6095]\n",
      "[Plastic Bag] mIoU : [0.7835]\n",
      "[Battery] mIoU : [0.2721]\n",
      "[Clothing] mIoU : [0.3002]\n",
      "--------------------------------------------------------------------------------\n"
     ]
    },
    {
     "data": {
      "application/vnd.jupyter.widget-view+json": {
       "model_id": "c69ae0ddfe0b471c8051b8cfe18c35e4",
       "version_major": 2,
       "version_minor": 0
      },
      "text/plain": [
       "  0%|          | 0/131 [00:00<?, ?it/s]"
      ]
     },
     "metadata": {},
     "output_type": "display_data"
    },
    {
     "name": "stdout",
     "output_type": "stream",
     "text": [
      "Start validation\n"
     ]
    },
    {
     "data": {
      "application/vnd.jupyter.widget-view+json": {
       "model_id": "9257b4d395ef4233ac75b0169fdf55d4",
       "version_major": 2,
       "version_minor": 0
      },
      "text/plain": [
       "  0%|          | 0/33 [00:00<?, ?it/s]"
      ]
     },
     "metadata": {},
     "output_type": "display_data"
    },
    {
     "name": "stdout",
     "output_type": "stream",
     "text": [
      "Epoch [13/40], Train Loss: 0.1558 Vali Loss: 0.2842, Vali mIoU: 0.5342, Vali Public mIoU: 0.4867\n",
      "--------------------------------------------------------------------------------\n",
      "Validation Class Pred mIoU Score\n",
      "[BG] mIoU : [0.9490]\n",
      "[UNK] mIoU : [0.0000]\n",
      "[General Trash] mIoU : [0.4165]\n",
      "[Paper] mIoU : [0.7411]\n",
      "[Paper pack] mIoU : [0.4692]\n",
      "[Metal] mIoU : [0.5416]\n",
      "[Glass] mIoU : [0.5579]\n",
      "[Plastic] mIoU : [0.4354]\n",
      "[Styrofoam] mIoU : [0.6429]\n",
      "[Plastic Bag] mIoU : [0.8097]\n",
      "[Battery] mIoU : [0.3455]\n",
      "[Clothing] mIoU : [0.5017]\n",
      "--------------------------------------------------------------------------------\n"
     ]
    },
    {
     "data": {
      "application/vnd.jupyter.widget-view+json": {
       "model_id": "60b17f7f7b5244b7b5db0296458b9a19",
       "version_major": 2,
       "version_minor": 0
      },
      "text/plain": [
       "  0%|          | 0/131 [00:00<?, ?it/s]"
      ]
     },
     "metadata": {},
     "output_type": "display_data"
    },
    {
     "name": "stdout",
     "output_type": "stream",
     "text": [
      "Start validation\n"
     ]
    },
    {
     "data": {
      "application/vnd.jupyter.widget-view+json": {
       "model_id": "72e2edb4684c4530a3ba896d9dfb9b8d",
       "version_major": 2,
       "version_minor": 0
      },
      "text/plain": [
       "  0%|          | 0/33 [00:00<?, ?it/s]"
      ]
     },
     "metadata": {},
     "output_type": "display_data"
    },
    {
     "name": "stdout",
     "output_type": "stream",
     "text": [
      "Epoch [14/40], Train Loss: 0.1325 Vali Loss: 0.2853, Vali mIoU: 0.5444, Vali Public mIoU: 0.4862\n",
      "--------------------------------------------------------------------------------\n",
      "Validation Class Pred mIoU Score\n",
      "[BG] mIoU : [0.9489]\n",
      "[UNK] mIoU : [0.0000]\n",
      "[General Trash] mIoU : [0.3930]\n",
      "[Paper] mIoU : [0.7638]\n",
      "[Paper pack] mIoU : [0.5232]\n",
      "[Metal] mIoU : [0.5770]\n",
      "[Glass] mIoU : [0.5657]\n",
      "[Plastic] mIoU : [0.4617]\n",
      "[Styrofoam] mIoU : [0.6379]\n",
      "[Plastic Bag] mIoU : [0.8149]\n",
      "[Battery] mIoU : [0.3268]\n",
      "[Clothing] mIoU : [0.5197]\n",
      "--------------------------------------------------------------------------------\n"
     ]
    },
    {
     "data": {
      "application/vnd.jupyter.widget-view+json": {
       "model_id": "ec4af991ad1648d89595d9fd8b1976b0",
       "version_major": 2,
       "version_minor": 0
      },
      "text/plain": [
       "  0%|          | 0/131 [00:00<?, ?it/s]"
      ]
     },
     "metadata": {},
     "output_type": "display_data"
    },
    {
     "name": "stdout",
     "output_type": "stream",
     "text": [
      "Start validation\n"
     ]
    },
    {
     "data": {
      "application/vnd.jupyter.widget-view+json": {
       "model_id": "2b2bcfb14604403e9a12ad608e9fb249",
       "version_major": 2,
       "version_minor": 0
      },
      "text/plain": [
       "  0%|          | 0/33 [00:00<?, ?it/s]"
      ]
     },
     "metadata": {},
     "output_type": "display_data"
    },
    {
     "name": "stdout",
     "output_type": "stream",
     "text": [
      "Epoch [15/40], Train Loss: 0.1274 Vali Loss: 0.2989, Vali mIoU: 0.5240, Vali Public mIoU: 0.4885\n",
      "--------------------------------------------------------------------------------\n",
      "Validation Class Pred mIoU Score\n",
      "[BG] mIoU : [0.9508]\n",
      "[UNK] mIoU : [0.0000]\n",
      "[General Trash] mIoU : [0.4125]\n",
      "[Paper] mIoU : [0.7586]\n",
      "[Paper pack] mIoU : [0.5051]\n",
      "[Metal] mIoU : [0.4806]\n",
      "[Glass] mIoU : [0.5321]\n",
      "[Plastic] mIoU : [0.4389]\n",
      "[Styrofoam] mIoU : [0.6210]\n",
      "[Plastic Bag] mIoU : [0.8157]\n",
      "[Battery] mIoU : [0.2982]\n",
      "[Clothing] mIoU : [0.4747]\n",
      "--------------------------------------------------------------------------------\n"
     ]
    },
    {
     "data": {
      "application/vnd.jupyter.widget-view+json": {
       "model_id": "fa6644e33d624fb394fc2cc5cdc52ad7",
       "version_major": 2,
       "version_minor": 0
      },
      "text/plain": [
       "  0%|          | 0/131 [00:00<?, ?it/s]"
      ]
     },
     "metadata": {},
     "output_type": "display_data"
    },
    {
     "name": "stdout",
     "output_type": "stream",
     "text": [
      "Start validation\n"
     ]
    },
    {
     "data": {
      "application/vnd.jupyter.widget-view+json": {
       "model_id": "047574dd228d421ba6e8af2f1e183745",
       "version_major": 2,
       "version_minor": 0
      },
      "text/plain": [
       "  0%|          | 0/33 [00:00<?, ?it/s]"
      ]
     },
     "metadata": {},
     "output_type": "display_data"
    },
    {
     "name": "stdout",
     "output_type": "stream",
     "text": [
      "Epoch [16/40], Train Loss: 0.1230 Vali Loss: 0.2997, Vali mIoU: 0.5404, Vali Public mIoU: 0.4834\n",
      "Epoch    16: reducing learning rate of group 0 to 2.5000e-05.\n",
      "--------------------------------------------------------------------------------\n",
      "Validation Class Pred mIoU Score\n",
      "[BG] mIoU : [0.9511]\n",
      "[UNK] mIoU : [0.0000]\n",
      "[General Trash] mIoU : [0.4043]\n",
      "[Paper] mIoU : [0.7628]\n",
      "[Paper pack] mIoU : [0.5064]\n",
      "[Metal] mIoU : [0.5305]\n",
      "[Glass] mIoU : [0.5625]\n",
      "[Plastic] mIoU : [0.4533]\n",
      "[Styrofoam] mIoU : [0.6805]\n",
      "[Plastic Bag] mIoU : [0.8098]\n",
      "[Battery] mIoU : [0.3326]\n",
      "[Clothing] mIoU : [0.4917]\n",
      "--------------------------------------------------------------------------------\n"
     ]
    },
    {
     "data": {
      "application/vnd.jupyter.widget-view+json": {
       "model_id": "90dd085e75094145ac6c299b9578f8a7",
       "version_major": 2,
       "version_minor": 0
      },
      "text/plain": [
       "  0%|          | 0/131 [00:00<?, ?it/s]"
      ]
     },
     "metadata": {},
     "output_type": "display_data"
    },
    {
     "name": "stdout",
     "output_type": "stream",
     "text": [
      "Start validation\n"
     ]
    },
    {
     "data": {
      "application/vnd.jupyter.widget-view+json": {
       "model_id": "2b4e0282ab534433a477cb2e0a869674",
       "version_major": 2,
       "version_minor": 0
      },
      "text/plain": [
       "  0%|          | 0/33 [00:00<?, ?it/s]"
      ]
     },
     "metadata": {},
     "output_type": "display_data"
    },
    {
     "name": "stdout",
     "output_type": "stream",
     "text": [
      "Epoch [17/40], Train Loss: 0.1139 Vali Loss: 0.2928, Vali mIoU: 0.5394, Vali Public mIoU: 0.4972\n",
      "--------------------------------------------------------------------------------\n",
      "Validation Class Pred mIoU Score\n",
      "[BG] mIoU : [0.9517]\n",
      "[UNK] mIoU : [0.0000]\n",
      "[General Trash] mIoU : [0.4162]\n",
      "[Paper] mIoU : [0.7527]\n",
      "[Paper pack] mIoU : [0.4964]\n",
      "[Metal] mIoU : [0.5578]\n",
      "[Glass] mIoU : [0.5550]\n",
      "[Plastic] mIoU : [0.4790]\n",
      "[Styrofoam] mIoU : [0.6909]\n",
      "[Plastic Bag] mIoU : [0.8134]\n",
      "[Battery] mIoU : [0.2940]\n",
      "[Clothing] mIoU : [0.4662]\n",
      "--------------------------------------------------------------------------------\n"
     ]
    },
    {
     "data": {
      "application/vnd.jupyter.widget-view+json": {
       "model_id": "222784da9b204e19a863f0da5d9b3ca7",
       "version_major": 2,
       "version_minor": 0
      },
      "text/plain": [
       "  0%|          | 0/131 [00:00<?, ?it/s]"
      ]
     },
     "metadata": {},
     "output_type": "display_data"
    },
    {
     "name": "stdout",
     "output_type": "stream",
     "text": [
      "Start validation\n"
     ]
    },
    {
     "data": {
      "application/vnd.jupyter.widget-view+json": {
       "model_id": "45521d97447e4d4b95be4fa6984f587c",
       "version_major": 2,
       "version_minor": 0
      },
      "text/plain": [
       "  0%|          | 0/33 [00:00<?, ?it/s]"
      ]
     },
     "metadata": {},
     "output_type": "display_data"
    },
    {
     "name": "stdout",
     "output_type": "stream",
     "text": [
      "Epoch [18/40], Train Loss: 0.1082 Vali Loss: 0.2944, Vali mIoU: 0.5443, Vali Public mIoU: 0.4974\n",
      "Epoch    18: reducing learning rate of group 0 to 1.2500e-05.\n",
      "--------------------------------------------------------------------------------\n",
      "Validation Class Pred mIoU Score\n",
      "[BG] mIoU : [0.9525]\n",
      "[UNK] mIoU : [0.0000]\n",
      "[General Trash] mIoU : [0.4070]\n",
      "[Paper] mIoU : [0.7606]\n",
      "[Paper pack] mIoU : [0.5297]\n",
      "[Metal] mIoU : [0.5089]\n",
      "[Glass] mIoU : [0.5666]\n",
      "[Plastic] mIoU : [0.4597]\n",
      "[Styrofoam] mIoU : [0.7015]\n",
      "[Plastic Bag] mIoU : [0.8156]\n",
      "[Battery] mIoU : [0.3128]\n",
      "[Clothing] mIoU : [0.5169]\n",
      "--------------------------------------------------------------------------------\n"
     ]
    },
    {
     "data": {
      "application/vnd.jupyter.widget-view+json": {
       "model_id": "662ffe037ccd4d05850707f5d88dfaa1",
       "version_major": 2,
       "version_minor": 0
      },
      "text/plain": [
       "  0%|          | 0/131 [00:00<?, ?it/s]"
      ]
     },
     "metadata": {},
     "output_type": "display_data"
    },
    {
     "name": "stdout",
     "output_type": "stream",
     "text": [
      "Start validation\n"
     ]
    },
    {
     "data": {
      "application/vnd.jupyter.widget-view+json": {
       "model_id": "5f1dc0225906413d9ccea9000e8a410d",
       "version_major": 2,
       "version_minor": 0
      },
      "text/plain": [
       "  0%|          | 0/33 [00:00<?, ?it/s]"
      ]
     },
     "metadata": {},
     "output_type": "display_data"
    },
    {
     "name": "stdout",
     "output_type": "stream",
     "text": [
      "Epoch [19/40], Train Loss: 0.1026 Vali Loss: 0.2876, Vali mIoU: 0.5496, Vali Public mIoU: 0.5034\n",
      "--------------------------------------------------------------------------------\n",
      "Validation Class Pred mIoU Score\n",
      "[BG] mIoU : [0.9546]\n",
      "[UNK] mIoU : [0.0000]\n",
      "[General Trash] mIoU : [0.3866]\n",
      "[Paper] mIoU : [0.7553]\n",
      "[Paper pack] mIoU : [0.4946]\n",
      "[Metal] mIoU : [0.5381]\n",
      "[Glass] mIoU : [0.6004]\n",
      "[Plastic] mIoU : [0.4869]\n",
      "[Styrofoam] mIoU : [0.7263]\n",
      "[Plastic Bag] mIoU : [0.8083]\n",
      "[Battery] mIoU : [0.3679]\n",
      "[Clothing] mIoU : [0.4767]\n",
      "--------------------------------------------------------------------------------\n"
     ]
    },
    {
     "data": {
      "application/vnd.jupyter.widget-view+json": {
       "model_id": "fea39248263a456e921b7b8eaaeaad55",
       "version_major": 2,
       "version_minor": 0
      },
      "text/plain": [
       "  0%|          | 0/131 [00:00<?, ?it/s]"
      ]
     },
     "metadata": {},
     "output_type": "display_data"
    },
    {
     "name": "stdout",
     "output_type": "stream",
     "text": [
      "Start validation\n"
     ]
    },
    {
     "data": {
      "application/vnd.jupyter.widget-view+json": {
       "model_id": "f78904fe9a9447aea69ef1df66f062a2",
       "version_major": 2,
       "version_minor": 0
      },
      "text/plain": [
       "  0%|          | 0/33 [00:00<?, ?it/s]"
      ]
     },
     "metadata": {},
     "output_type": "display_data"
    },
    {
     "name": "stdout",
     "output_type": "stream",
     "text": [
      "Epoch [20/40], Train Loss: 0.1005 Vali Loss: 0.3063, Vali mIoU: 0.5432, Vali Public mIoU: 0.4940\n",
      "--------------------------------------------------------------------------------\n",
      "Validation Class Pred mIoU Score\n",
      "[BG] mIoU : [0.9525]\n",
      "[UNK] mIoU : [0.0000]\n",
      "[General Trash] mIoU : [0.4063]\n",
      "[Paper] mIoU : [0.7534]\n",
      "[Paper pack] mIoU : [0.4781]\n",
      "[Metal] mIoU : [0.5156]\n",
      "[Glass] mIoU : [0.6270]\n",
      "[Plastic] mIoU : [0.4438]\n",
      "[Styrofoam] mIoU : [0.6889]\n",
      "[Plastic Bag] mIoU : [0.8152]\n",
      "[Battery] mIoU : [0.3347]\n",
      "[Clothing] mIoU : [0.5026]\n",
      "--------------------------------------------------------------------------------\n"
     ]
    },
    {
     "data": {
      "application/vnd.jupyter.widget-view+json": {
       "model_id": "8c13a65a6e894ae6afc84ebe458d780d",
       "version_major": 2,
       "version_minor": 0
      },
      "text/plain": [
       "  0%|          | 0/131 [00:00<?, ?it/s]"
      ]
     },
     "metadata": {},
     "output_type": "display_data"
    },
    {
     "name": "stdout",
     "output_type": "stream",
     "text": [
      "Start validation\n"
     ]
    },
    {
     "data": {
      "application/vnd.jupyter.widget-view+json": {
       "model_id": "c67ab27b04ca4938ac1d7f53217284e0",
       "version_major": 2,
       "version_minor": 0
      },
      "text/plain": [
       "  0%|          | 0/33 [00:00<?, ?it/s]"
      ]
     },
     "metadata": {},
     "output_type": "display_data"
    },
    {
     "name": "stdout",
     "output_type": "stream",
     "text": [
      "Epoch [21/40], Train Loss: 0.1025 Vali Loss: 0.3098, Vali mIoU: 0.5321, Vali Public mIoU: 0.4941\n",
      "Epoch    21: reducing learning rate of group 0 to 6.2500e-06.\n",
      "--------------------------------------------------------------------------------\n",
      "Validation Class Pred mIoU Score\n",
      "[BG] mIoU : [0.9506]\n",
      "[UNK] mIoU : [0.0000]\n",
      "[General Trash] mIoU : [0.4034]\n",
      "[Paper] mIoU : [0.7559]\n",
      "[Paper pack] mIoU : [0.4967]\n",
      "[Metal] mIoU : [0.5507]\n",
      "[Glass] mIoU : [0.5615]\n",
      "[Plastic] mIoU : [0.4399]\n",
      "[Styrofoam] mIoU : [0.6801]\n",
      "[Plastic Bag] mIoU : [0.8154]\n",
      "[Battery] mIoU : [0.3196]\n",
      "[Clothing] mIoU : [0.4108]\n",
      "--------------------------------------------------------------------------------\n"
     ]
    },
    {
     "data": {
      "application/vnd.jupyter.widget-view+json": {
       "model_id": "39121164deb84c3c833cc9ab1ccff947",
       "version_major": 2,
       "version_minor": 0
      },
      "text/plain": [
       "  0%|          | 0/131 [00:00<?, ?it/s]"
      ]
     },
     "metadata": {},
     "output_type": "display_data"
    },
    {
     "name": "stdout",
     "output_type": "stream",
     "text": [
      "Start validation\n"
     ]
    },
    {
     "data": {
      "application/vnd.jupyter.widget-view+json": {
       "model_id": "b38877e06f7f4d428a92e0b35d16b3f5",
       "version_major": 2,
       "version_minor": 0
      },
      "text/plain": [
       "  0%|          | 0/33 [00:00<?, ?it/s]"
      ]
     },
     "metadata": {},
     "output_type": "display_data"
    },
    {
     "name": "stdout",
     "output_type": "stream",
     "text": [
      "Epoch [22/40], Train Loss: 0.1007 Vali Loss: 0.2986, Vali mIoU: 0.5463, Vali Public mIoU: 0.5025\n",
      "--------------------------------------------------------------------------------\n",
      "Validation Class Pred mIoU Score\n",
      "[BG] mIoU : [0.9519]\n",
      "[UNK] mIoU : [0.0000]\n",
      "[General Trash] mIoU : [0.4066]\n",
      "[Paper] mIoU : [0.7536]\n",
      "[Paper pack] mIoU : [0.5062]\n",
      "[Metal] mIoU : [0.5729]\n",
      "[Glass] mIoU : [0.6164]\n",
      "[Plastic] mIoU : [0.4508]\n",
      "[Styrofoam] mIoU : [0.6901]\n",
      "[Plastic Bag] mIoU : [0.8194]\n",
      "[Battery] mIoU : [0.3777]\n",
      "[Clothing] mIoU : [0.4097]\n",
      "--------------------------------------------------------------------------------\n"
     ]
    },
    {
     "data": {
      "application/vnd.jupyter.widget-view+json": {
       "model_id": "f472723a803f43db87e236d1a2e304dd",
       "version_major": 2,
       "version_minor": 0
      },
      "text/plain": [
       "  0%|          | 0/131 [00:00<?, ?it/s]"
      ]
     },
     "metadata": {},
     "output_type": "display_data"
    },
    {
     "name": "stdout",
     "output_type": "stream",
     "text": [
      "Start validation\n"
     ]
    },
    {
     "data": {
      "application/vnd.jupyter.widget-view+json": {
       "model_id": "3ed250db61334b4dab247c1c3769a46c",
       "version_major": 2,
       "version_minor": 0
      },
      "text/plain": [
       "  0%|          | 0/33 [00:00<?, ?it/s]"
      ]
     },
     "metadata": {},
     "output_type": "display_data"
    },
    {
     "name": "stdout",
     "output_type": "stream",
     "text": [
      "Epoch [23/40], Train Loss: 0.0964 Vali Loss: 0.2983, Vali mIoU: 0.5495, Vali Public mIoU: 0.5008\n",
      "Epoch    23: reducing learning rate of group 0 to 3.1250e-06.\n",
      "--------------------------------------------------------------------------------\n",
      "Validation Class Pred mIoU Score\n",
      "[BG] mIoU : [0.9511]\n",
      "[UNK] mIoU : [0.0000]\n",
      "[General Trash] mIoU : [0.4158]\n",
      "[Paper] mIoU : [0.7550]\n",
      "[Paper pack] mIoU : [0.5537]\n",
      "[Metal] mIoU : [0.5423]\n",
      "[Glass] mIoU : [0.5624]\n",
      "[Plastic] mIoU : [0.4596]\n",
      "[Styrofoam] mIoU : [0.6980]\n",
      "[Plastic Bag] mIoU : [0.8195]\n",
      "[Battery] mIoU : [0.3887]\n",
      "[Clothing] mIoU : [0.4481]\n",
      "--------------------------------------------------------------------------------\n"
     ]
    },
    {
     "data": {
      "application/vnd.jupyter.widget-view+json": {
       "model_id": "14ed8ec5650b4c97a83723c0a24cc78e",
       "version_major": 2,
       "version_minor": 0
      },
      "text/plain": [
       "  0%|          | 0/131 [00:00<?, ?it/s]"
      ]
     },
     "metadata": {},
     "output_type": "display_data"
    },
    {
     "name": "stdout",
     "output_type": "stream",
     "text": [
      "Start validation\n"
     ]
    },
    {
     "data": {
      "application/vnd.jupyter.widget-view+json": {
       "model_id": "fe15ef12e2d7446ea83c61ef743669c3",
       "version_major": 2,
       "version_minor": 0
      },
      "text/plain": [
       "  0%|          | 0/33 [00:00<?, ?it/s]"
      ]
     },
     "metadata": {},
     "output_type": "display_data"
    },
    {
     "name": "stdout",
     "output_type": "stream",
     "text": [
      "Epoch [24/40], Train Loss: 0.0980 Vali Loss: 0.2980, Vali mIoU: 0.5483, Vali Public mIoU: 0.4981\n",
      "--------------------------------------------------------------------------------\n",
      "Validation Class Pred mIoU Score\n",
      "[BG] mIoU : [0.9509]\n",
      "[UNK] mIoU : [0.0000]\n",
      "[General Trash] mIoU : [0.4153]\n",
      "[Paper] mIoU : [0.7495]\n",
      "[Paper pack] mIoU : [0.5492]\n",
      "[Metal] mIoU : [0.5364]\n",
      "[Glass] mIoU : [0.6005]\n",
      "[Plastic] mIoU : [0.4677]\n",
      "[Styrofoam] mIoU : [0.6892]\n",
      "[Plastic Bag] mIoU : [0.8148]\n",
      "[Battery] mIoU : [0.3275]\n",
      "[Clothing] mIoU : [0.4787]\n",
      "--------------------------------------------------------------------------------\n",
      "Stop Training.....\n",
      "--------------------------------------------------------------------------------\n",
      "Fold : [1] Start training..\n",
      "--------------------------------------------------------------------------------\n"
     ]
    },
    {
     "data": {
      "application/vnd.jupyter.widget-view+json": {
       "model_id": "cdaa87897c95464b8b81051bc9646545",
       "version_major": 2,
       "version_minor": 0
      },
      "text/plain": [
       "  0%|          | 0/131 [00:00<?, ?it/s]"
      ]
     },
     "metadata": {},
     "output_type": "display_data"
    },
    {
     "name": "stdout",
     "output_type": "stream",
     "text": [
      "Start validation\n"
     ]
    },
    {
     "data": {
      "application/vnd.jupyter.widget-view+json": {
       "model_id": "f44c40085ae34bd9bc99826d17979b68",
       "version_major": 2,
       "version_minor": 0
      },
      "text/plain": [
       "  0%|          | 0/33 [00:00<?, ?it/s]"
      ]
     },
     "metadata": {},
     "output_type": "display_data"
    },
    {
     "name": "stdout",
     "output_type": "stream",
     "text": [
      "Epoch [1/40], Train Loss: 0.9812 Vali Loss: 0.5141, Vali mIoU: 0.3350, Vali Public mIoU: 0.3466\n",
      "--------------------------------------------------------------------------------\n",
      "Validation Class Pred mIoU Score\n",
      "[BG] mIoU : [0.9290]\n",
      "[UNK] mIoU : [0.0000]\n",
      "[General Trash] mIoU : [0.3862]\n",
      "[Paper] mIoU : [0.6607]\n",
      "[Paper pack] mIoU : [0.0978]\n",
      "[Metal] mIoU : [0.1352]\n",
      "[Glass] mIoU : [0.1808]\n",
      "[Plastic] mIoU : [0.3470]\n",
      "[Styrofoam] mIoU : [0.5238]\n",
      "[Plastic Bag] mIoU : [0.7490]\n",
      "[Battery] mIoU : [0.0000]\n",
      "[Clothing] mIoU : [0.0105]\n",
      "--------------------------------------------------------------------------------\n"
     ]
    },
    {
     "data": {
      "application/vnd.jupyter.widget-view+json": {
       "model_id": "a16fb00cad824242858ce4c5a4fffdda",
       "version_major": 2,
       "version_minor": 0
      },
      "text/plain": [
       "  0%|          | 0/131 [00:00<?, ?it/s]"
      ]
     },
     "metadata": {},
     "output_type": "display_data"
    },
    {
     "name": "stdout",
     "output_type": "stream",
     "text": [
      "Start validation\n"
     ]
    },
    {
     "data": {
      "application/vnd.jupyter.widget-view+json": {
       "model_id": "8240e80c49524cf6bd0141309832d64e",
       "version_major": 2,
       "version_minor": 0
      },
      "text/plain": [
       "  0%|          | 0/33 [00:00<?, ?it/s]"
      ]
     },
     "metadata": {},
     "output_type": "display_data"
    },
    {
     "name": "stdout",
     "output_type": "stream",
     "text": [
      "Epoch [2/40], Train Loss: 0.4923 Vali Loss: 0.3729, Vali mIoU: 0.4001, Vali Public mIoU: 0.3785\n",
      "--------------------------------------------------------------------------------\n",
      "Validation Class Pred mIoU Score\n",
      "[BG] mIoU : [0.9354]\n",
      "[UNK] mIoU : [0.0000]\n",
      "[General Trash] mIoU : [0.3972]\n",
      "[Paper] mIoU : [0.6799]\n",
      "[Paper pack] mIoU : [0.2003]\n",
      "[Metal] mIoU : [0.3465]\n",
      "[Glass] mIoU : [0.3503]\n",
      "[Plastic] mIoU : [0.3430]\n",
      "[Styrofoam] mIoU : [0.5107]\n",
      "[Plastic Bag] mIoU : [0.7674]\n",
      "[Battery] mIoU : [0.0000]\n",
      "[Clothing] mIoU : [0.2711]\n",
      "--------------------------------------------------------------------------------\n"
     ]
    },
    {
     "data": {
      "application/vnd.jupyter.widget-view+json": {
       "model_id": "82f1001aaebc41c8a2e6c6cc5012e0e2",
       "version_major": 2,
       "version_minor": 0
      },
      "text/plain": [
       "  0%|          | 0/131 [00:00<?, ?it/s]"
      ]
     },
     "metadata": {},
     "output_type": "display_data"
    },
    {
     "name": "stdout",
     "output_type": "stream",
     "text": [
      "Start validation\n"
     ]
    },
    {
     "data": {
      "application/vnd.jupyter.widget-view+json": {
       "model_id": "bb6749c359b94f9b8dfae994bedf997e",
       "version_major": 2,
       "version_minor": 0
      },
      "text/plain": [
       "  0%|          | 0/33 [00:00<?, ?it/s]"
      ]
     },
     "metadata": {},
     "output_type": "display_data"
    },
    {
     "name": "stdout",
     "output_type": "stream",
     "text": [
      "Epoch [3/40], Train Loss: 0.3860 Vali Loss: 0.3307, Vali mIoU: 0.4228, Vali Public mIoU: 0.3903\n",
      "--------------------------------------------------------------------------------\n",
      "Validation Class Pred mIoU Score\n",
      "[BG] mIoU : [0.9383]\n",
      "[UNK] mIoU : [0.0000]\n",
      "[General Trash] mIoU : [0.4113]\n",
      "[Paper] mIoU : [0.6953]\n",
      "[Paper pack] mIoU : [0.3331]\n",
      "[Metal] mIoU : [0.3322]\n",
      "[Glass] mIoU : [0.3824]\n",
      "[Plastic] mIoU : [0.3464]\n",
      "[Styrofoam] mIoU : [0.5006]\n",
      "[Plastic Bag] mIoU : [0.7757]\n",
      "[Battery] mIoU : [0.0000]\n",
      "[Clothing] mIoU : [0.3583]\n",
      "--------------------------------------------------------------------------------\n"
     ]
    },
    {
     "data": {
      "application/vnd.jupyter.widget-view+json": {
       "model_id": "d355ef2675194fbf8a0ccab74f925a92",
       "version_major": 2,
       "version_minor": 0
      },
      "text/plain": [
       "  0%|          | 0/131 [00:00<?, ?it/s]"
      ]
     },
     "metadata": {},
     "output_type": "display_data"
    },
    {
     "name": "stdout",
     "output_type": "stream",
     "text": [
      "Start validation\n"
     ]
    },
    {
     "data": {
      "application/vnd.jupyter.widget-view+json": {
       "model_id": "b8c665cbcbdf4080b5f408215f642b56",
       "version_major": 2,
       "version_minor": 0
      },
      "text/plain": [
       "  0%|          | 0/33 [00:00<?, ?it/s]"
      ]
     },
     "metadata": {},
     "output_type": "display_data"
    },
    {
     "name": "stdout",
     "output_type": "stream",
     "text": [
      "Epoch [4/40], Train Loss: 0.3324 Vali Loss: 0.3106, Vali mIoU: 0.4350, Vali Public mIoU: 0.4241\n",
      "--------------------------------------------------------------------------------\n",
      "Validation Class Pred mIoU Score\n",
      "[BG] mIoU : [0.9437]\n",
      "[UNK] mIoU : [0.0000]\n",
      "[General Trash] mIoU : [0.4199]\n",
      "[Paper] mIoU : [0.7376]\n",
      "[Paper pack] mIoU : [0.3532]\n",
      "[Metal] mIoU : [0.4195]\n",
      "[Glass] mIoU : [0.3638]\n",
      "[Plastic] mIoU : [0.4120]\n",
      "[Styrofoam] mIoU : [0.5928]\n",
      "[Plastic Bag] mIoU : [0.7346]\n",
      "[Battery] mIoU : [0.0000]\n",
      "[Clothing] mIoU : [0.2434]\n",
      "--------------------------------------------------------------------------------\n"
     ]
    },
    {
     "data": {
      "application/vnd.jupyter.widget-view+json": {
       "model_id": "4a2038771cc14cc18081f26637e78ef6",
       "version_major": 2,
       "version_minor": 0
      },
      "text/plain": [
       "  0%|          | 0/131 [00:00<?, ?it/s]"
      ]
     },
     "metadata": {},
     "output_type": "display_data"
    },
    {
     "name": "stdout",
     "output_type": "stream",
     "text": [
      "Start validation\n"
     ]
    },
    {
     "data": {
      "application/vnd.jupyter.widget-view+json": {
       "model_id": "27c6b9c284c84f3e8ee9a053d3c4897c",
       "version_major": 2,
       "version_minor": 0
      },
      "text/plain": [
       "  0%|          | 0/33 [00:00<?, ?it/s]"
      ]
     },
     "metadata": {},
     "output_type": "display_data"
    },
    {
     "name": "stdout",
     "output_type": "stream",
     "text": [
      "Epoch [5/40], Train Loss: 0.3029 Vali Loss: 0.2742, Vali mIoU: 0.4647, Vali Public mIoU: 0.4486\n",
      "--------------------------------------------------------------------------------\n",
      "Validation Class Pred mIoU Score\n",
      "[BG] mIoU : [0.9444]\n",
      "[UNK] mIoU : [0.0000]\n",
      "[General Trash] mIoU : [0.4805]\n",
      "[Paper] mIoU : [0.7425]\n",
      "[Paper pack] mIoU : [0.4392]\n",
      "[Metal] mIoU : [0.3441]\n",
      "[Glass] mIoU : [0.4826]\n",
      "[Plastic] mIoU : [0.3991]\n",
      "[Styrofoam] mIoU : [0.6039]\n",
      "[Plastic Bag] mIoU : [0.7974]\n",
      "[Battery] mIoU : [0.0000]\n",
      "[Clothing] mIoU : [0.3432]\n",
      "--------------------------------------------------------------------------------\n"
     ]
    },
    {
     "data": {
      "application/vnd.jupyter.widget-view+json": {
       "model_id": "42d5715934a4421eba2945cfb2e5a663",
       "version_major": 2,
       "version_minor": 0
      },
      "text/plain": [
       "  0%|          | 0/131 [00:00<?, ?it/s]"
      ]
     },
     "metadata": {},
     "output_type": "display_data"
    },
    {
     "name": "stdout",
     "output_type": "stream",
     "text": [
      "Start validation\n"
     ]
    },
    {
     "data": {
      "application/vnd.jupyter.widget-view+json": {
       "model_id": "7354fdd622034fc2b76ba6b9e8143c9d",
       "version_major": 2,
       "version_minor": 0
      },
      "text/plain": [
       "  0%|          | 0/33 [00:00<?, ?it/s]"
      ]
     },
     "metadata": {},
     "output_type": "display_data"
    },
    {
     "name": "stdout",
     "output_type": "stream",
     "text": [
      "Epoch [6/40], Train Loss: 0.2681 Vali Loss: 0.2891, Vali mIoU: 0.4415, Vali Public mIoU: 0.4247\n",
      "--------------------------------------------------------------------------------\n",
      "Validation Class Pred mIoU Score\n",
      "[BG] mIoU : [0.9438]\n",
      "[UNK] mIoU : [0.0000]\n",
      "[General Trash] mIoU : [0.4457]\n",
      "[Paper] mIoU : [0.7214]\n",
      "[Paper pack] mIoU : [0.3372]\n",
      "[Metal] mIoU : [0.3771]\n",
      "[Glass] mIoU : [0.4005]\n",
      "[Plastic] mIoU : [0.4623]\n",
      "[Styrofoam] mIoU : [0.6113]\n",
      "[Plastic Bag] mIoU : [0.7994]\n",
      "[Battery] mIoU : [0.0000]\n",
      "[Clothing] mIoU : [0.1991]\n",
      "--------------------------------------------------------------------------------\n"
     ]
    },
    {
     "data": {
      "application/vnd.jupyter.widget-view+json": {
       "model_id": "12e786bb0110423fa5361baf2f4b9b6b",
       "version_major": 2,
       "version_minor": 0
      },
      "text/plain": [
       "  0%|          | 0/131 [00:00<?, ?it/s]"
      ]
     },
     "metadata": {},
     "output_type": "display_data"
    },
    {
     "name": "stdout",
     "output_type": "stream",
     "text": [
      "Start validation\n"
     ]
    },
    {
     "data": {
      "application/vnd.jupyter.widget-view+json": {
       "model_id": "864a219910d441218a18e67e630169c4",
       "version_major": 2,
       "version_minor": 0
      },
      "text/plain": [
       "  0%|          | 0/33 [00:00<?, ?it/s]"
      ]
     },
     "metadata": {},
     "output_type": "display_data"
    },
    {
     "name": "stdout",
     "output_type": "stream",
     "text": [
      "Epoch [7/40], Train Loss: 0.2491 Vali Loss: 0.2665, Vali mIoU: 0.4627, Vali Public mIoU: 0.4432\n",
      "Epoch     7: reducing learning rate of group 0 to 5.0000e-05.\n",
      "--------------------------------------------------------------------------------\n",
      "Validation Class Pred mIoU Score\n",
      "[BG] mIoU : [0.9476]\n",
      "[UNK] mIoU : [0.0000]\n",
      "[General Trash] mIoU : [0.4801]\n",
      "[Paper] mIoU : [0.7368]\n",
      "[Paper pack] mIoU : [0.4104]\n",
      "[Metal] mIoU : [0.4016]\n",
      "[Glass] mIoU : [0.5195]\n",
      "[Plastic] mIoU : [0.4468]\n",
      "[Styrofoam] mIoU : [0.5587]\n",
      "[Plastic Bag] mIoU : [0.8098]\n",
      "[Battery] mIoU : [0.0000]\n",
      "[Clothing] mIoU : [0.2408]\n",
      "--------------------------------------------------------------------------------\n"
     ]
    },
    {
     "data": {
      "application/vnd.jupyter.widget-view+json": {
       "model_id": "83b090decf5b456c9e1bc7a6d3cdc55f",
       "version_major": 2,
       "version_minor": 0
      },
      "text/plain": [
       "  0%|          | 0/131 [00:00<?, ?it/s]"
      ]
     },
     "metadata": {},
     "output_type": "display_data"
    },
    {
     "name": "stdout",
     "output_type": "stream",
     "text": [
      "Start validation\n"
     ]
    },
    {
     "data": {
      "application/vnd.jupyter.widget-view+json": {
       "model_id": "3f3de50d696945fb868a21f103aee5a5",
       "version_major": 2,
       "version_minor": 0
      },
      "text/plain": [
       "  0%|          | 0/33 [00:00<?, ?it/s]"
      ]
     },
     "metadata": {},
     "output_type": "display_data"
    },
    {
     "name": "stdout",
     "output_type": "stream",
     "text": [
      "Epoch [8/40], Train Loss: 0.2031 Vali Loss: 0.2371, Vali mIoU: 0.4959, Vali Public mIoU: 0.4787\n",
      "--------------------------------------------------------------------------------\n",
      "Validation Class Pred mIoU Score\n",
      "[BG] mIoU : [0.9525]\n",
      "[UNK] mIoU : [0.0000]\n",
      "[General Trash] mIoU : [0.4967]\n",
      "[Paper] mIoU : [0.7626]\n",
      "[Paper pack] mIoU : [0.3432]\n",
      "[Metal] mIoU : [0.5084]\n",
      "[Glass] mIoU : [0.4959]\n",
      "[Plastic] mIoU : [0.4671]\n",
      "[Styrofoam] mIoU : [0.7058]\n",
      "[Plastic Bag] mIoU : [0.8284]\n",
      "[Battery] mIoU : [0.0000]\n",
      "[Clothing] mIoU : [0.3902]\n",
      "--------------------------------------------------------------------------------\n"
     ]
    },
    {
     "data": {
      "application/vnd.jupyter.widget-view+json": {
       "model_id": "eac65bdf227f4de7bd220c5c82510558",
       "version_major": 2,
       "version_minor": 0
      },
      "text/plain": [
       "  0%|          | 0/131 [00:00<?, ?it/s]"
      ]
     },
     "metadata": {},
     "output_type": "display_data"
    },
    {
     "name": "stdout",
     "output_type": "stream",
     "text": [
      "Start validation\n"
     ]
    },
    {
     "data": {
      "application/vnd.jupyter.widget-view+json": {
       "model_id": "f6417d1b70a14848b7c37ab63c6d30e0",
       "version_major": 2,
       "version_minor": 0
      },
      "text/plain": [
       "  0%|          | 0/33 [00:00<?, ?it/s]"
      ]
     },
     "metadata": {},
     "output_type": "display_data"
    },
    {
     "name": "stdout",
     "output_type": "stream",
     "text": [
      "Epoch [9/40], Train Loss: 0.1763 Vali Loss: 0.2505, Vali mIoU: 0.4863, Vali Public mIoU: 0.4778\n",
      "--------------------------------------------------------------------------------\n",
      "Validation Class Pred mIoU Score\n",
      "[BG] mIoU : [0.9518]\n",
      "[UNK] mIoU : [0.0000]\n",
      "[General Trash] mIoU : [0.4675]\n",
      "[Paper] mIoU : [0.7586]\n",
      "[Paper pack] mIoU : [0.3295]\n",
      "[Metal] mIoU : [0.5280]\n",
      "[Glass] mIoU : [0.4914]\n",
      "[Plastic] mIoU : [0.4979]\n",
      "[Styrofoam] mIoU : [0.6867]\n",
      "[Plastic Bag] mIoU : [0.8214]\n",
      "[Battery] mIoU : [0.0000]\n",
      "[Clothing] mIoU : [0.3033]\n",
      "--------------------------------------------------------------------------------\n"
     ]
    },
    {
     "data": {
      "application/vnd.jupyter.widget-view+json": {
       "model_id": "534b4c616707454984371a473326cbbd",
       "version_major": 2,
       "version_minor": 0
      },
      "text/plain": [
       "  0%|          | 0/131 [00:00<?, ?it/s]"
      ]
     },
     "metadata": {},
     "output_type": "display_data"
    },
    {
     "name": "stdout",
     "output_type": "stream",
     "text": [
      "Start validation\n"
     ]
    },
    {
     "data": {
      "application/vnd.jupyter.widget-view+json": {
       "model_id": "62913cd1482842dfa1f519a0734c1387",
       "version_major": 2,
       "version_minor": 0
      },
      "text/plain": [
       "  0%|          | 0/33 [00:00<?, ?it/s]"
      ]
     },
     "metadata": {},
     "output_type": "display_data"
    },
    {
     "name": "stdout",
     "output_type": "stream",
     "text": [
      "Epoch [10/40], Train Loss: 0.1721 Vali Loss: 0.2473, Vali mIoU: 0.4969, Vali Public mIoU: 0.4863\n",
      "--------------------------------------------------------------------------------\n",
      "Validation Class Pred mIoU Score\n",
      "[BG] mIoU : [0.9516]\n",
      "[UNK] mIoU : [0.0000]\n",
      "[General Trash] mIoU : [0.4833]\n",
      "[Paper] mIoU : [0.7575]\n",
      "[Paper pack] mIoU : [0.4802]\n",
      "[Metal] mIoU : [0.5195]\n",
      "[Glass] mIoU : [0.4748]\n",
      "[Plastic] mIoU : [0.4562]\n",
      "[Styrofoam] mIoU : [0.6727]\n",
      "[Plastic Bag] mIoU : [0.8251]\n",
      "[Battery] mIoU : [0.0000]\n",
      "[Clothing] mIoU : [0.3419]\n",
      "--------------------------------------------------------------------------------\n"
     ]
    },
    {
     "data": {
      "application/vnd.jupyter.widget-view+json": {
       "model_id": "4e9e76c6bdf94dfc9fd6e92ec4e20392",
       "version_major": 2,
       "version_minor": 0
      },
      "text/plain": [
       "  0%|          | 0/131 [00:00<?, ?it/s]"
      ]
     },
     "metadata": {},
     "output_type": "display_data"
    },
    {
     "name": "stdout",
     "output_type": "stream",
     "text": [
      "Start validation\n"
     ]
    },
    {
     "data": {
      "application/vnd.jupyter.widget-view+json": {
       "model_id": "4700cd5f95df43fda8226aa4b2f9a50f",
       "version_major": 2,
       "version_minor": 0
      },
      "text/plain": [
       "  0%|          | 0/33 [00:00<?, ?it/s]"
      ]
     },
     "metadata": {},
     "output_type": "display_data"
    },
    {
     "name": "stdout",
     "output_type": "stream",
     "text": [
      "Epoch [11/40], Train Loss: 0.1627 Vali Loss: 0.2428, Vali mIoU: 0.5081, Vali Public mIoU: 0.4871\n",
      "--------------------------------------------------------------------------------\n",
      "Validation Class Pred mIoU Score\n",
      "[BG] mIoU : [0.9534]\n",
      "[UNK] mIoU : [0.0000]\n",
      "[General Trash] mIoU : [0.5062]\n",
      "[Paper] mIoU : [0.7451]\n",
      "[Paper pack] mIoU : [0.5223]\n",
      "[Metal] mIoU : [0.5772]\n",
      "[Glass] mIoU : [0.4721]\n",
      "[Plastic] mIoU : [0.4862]\n",
      "[Styrofoam] mIoU : [0.6671]\n",
      "[Plastic Bag] mIoU : [0.8249]\n",
      "[Battery] mIoU : [0.0000]\n",
      "[Clothing] mIoU : [0.3427]\n",
      "--------------------------------------------------------------------------------\n"
     ]
    },
    {
     "data": {
      "application/vnd.jupyter.widget-view+json": {
       "model_id": "7adec020fc2844c19b105f25356156c8",
       "version_major": 2,
       "version_minor": 0
      },
      "text/plain": [
       "  0%|          | 0/131 [00:00<?, ?it/s]"
      ]
     },
     "metadata": {},
     "output_type": "display_data"
    },
    {
     "name": "stdout",
     "output_type": "stream",
     "text": [
      "Start validation\n"
     ]
    },
    {
     "data": {
      "application/vnd.jupyter.widget-view+json": {
       "model_id": "64de11066a5240118c8e179cb4207d67",
       "version_major": 2,
       "version_minor": 0
      },
      "text/plain": [
       "  0%|          | 0/33 [00:00<?, ?it/s]"
      ]
     },
     "metadata": {},
     "output_type": "display_data"
    },
    {
     "name": "stdout",
     "output_type": "stream",
     "text": [
      "Epoch [12/40], Train Loss: 0.1597 Vali Loss: 0.2547, Vali mIoU: 0.4901, Vali Public mIoU: 0.4720\n",
      "--------------------------------------------------------------------------------\n",
      "Validation Class Pred mIoU Score\n",
      "[BG] mIoU : [0.9540]\n",
      "[UNK] mIoU : [0.0000]\n",
      "[General Trash] mIoU : [0.4193]\n",
      "[Paper] mIoU : [0.7772]\n",
      "[Paper pack] mIoU : [0.4626]\n",
      "[Metal] mIoU : [0.4992]\n",
      "[Glass] mIoU : [0.5396]\n",
      "[Plastic] mIoU : [0.4637]\n",
      "[Styrofoam] mIoU : [0.6778]\n",
      "[Plastic Bag] mIoU : [0.8006]\n",
      "[Battery] mIoU : [0.0000]\n",
      "[Clothing] mIoU : [0.2868]\n",
      "--------------------------------------------------------------------------------\n"
     ]
    },
    {
     "data": {
      "application/vnd.jupyter.widget-view+json": {
       "model_id": "8f3c20b40c334fcd9391613bb6f1cbdb",
       "version_major": 2,
       "version_minor": 0
      },
      "text/plain": [
       "  0%|          | 0/131 [00:00<?, ?it/s]"
      ]
     },
     "metadata": {},
     "output_type": "display_data"
    },
    {
     "name": "stdout",
     "output_type": "stream",
     "text": [
      "Start validation\n"
     ]
    },
    {
     "data": {
      "application/vnd.jupyter.widget-view+json": {
       "model_id": "828e12952f7d41d0a5a7d0b0f72e7c3c",
       "version_major": 2,
       "version_minor": 0
      },
      "text/plain": [
       "  0%|          | 0/33 [00:00<?, ?it/s]"
      ]
     },
     "metadata": {},
     "output_type": "display_data"
    },
    {
     "name": "stdout",
     "output_type": "stream",
     "text": [
      "Epoch [13/40], Train Loss: 0.1481 Vali Loss: 0.2441, Vali mIoU: 0.4975, Vali Public mIoU: 0.4751\n",
      "Epoch    13: reducing learning rate of group 0 to 2.5000e-05.\n",
      "--------------------------------------------------------------------------------\n",
      "Validation Class Pred mIoU Score\n",
      "[BG] mIoU : [0.9538]\n",
      "[UNK] mIoU : [0.0000]\n",
      "[General Trash] mIoU : [0.4804]\n",
      "[Paper] mIoU : [0.7823]\n",
      "[Paper pack] mIoU : [0.4537]\n",
      "[Metal] mIoU : [0.5328]\n",
      "[Glass] mIoU : [0.4414]\n",
      "[Plastic] mIoU : [0.4830]\n",
      "[Styrofoam] mIoU : [0.6776]\n",
      "[Plastic Bag] mIoU : [0.8182]\n",
      "[Battery] mIoU : [0.0758]\n",
      "[Clothing] mIoU : [0.2707]\n",
      "--------------------------------------------------------------------------------\n"
     ]
    },
    {
     "data": {
      "application/vnd.jupyter.widget-view+json": {
       "model_id": "6a1e1d6448cd473abc9e34f1d15b7a15",
       "version_major": 2,
       "version_minor": 0
      },
      "text/plain": [
       "  0%|          | 0/131 [00:00<?, ?it/s]"
      ]
     },
     "metadata": {},
     "output_type": "display_data"
    },
    {
     "name": "stdout",
     "output_type": "stream",
     "text": [
      "Start validation\n"
     ]
    },
    {
     "data": {
      "application/vnd.jupyter.widget-view+json": {
       "model_id": "ae6793a8cd7b4605aef98f1ebd96cf04",
       "version_major": 2,
       "version_minor": 0
      },
      "text/plain": [
       "  0%|          | 0/33 [00:00<?, ?it/s]"
      ]
     },
     "metadata": {},
     "output_type": "display_data"
    },
    {
     "name": "stdout",
     "output_type": "stream",
     "text": [
      "Epoch [14/40], Train Loss: 0.1376 Vali Loss: 0.2408, Vali mIoU: 0.5316, Vali Public mIoU: 0.4939\n",
      "--------------------------------------------------------------------------------\n",
      "Validation Class Pred mIoU Score\n",
      "[BG] mIoU : [0.9549]\n",
      "[UNK] mIoU : [0.0000]\n",
      "[General Trash] mIoU : [0.4990]\n",
      "[Paper] mIoU : [0.7809]\n",
      "[Paper pack] mIoU : [0.4441]\n",
      "[Metal] mIoU : [0.5361]\n",
      "[Glass] mIoU : [0.5072]\n",
      "[Plastic] mIoU : [0.4973]\n",
      "[Styrofoam] mIoU : [0.7110]\n",
      "[Plastic Bag] mIoU : [0.8270]\n",
      "[Battery] mIoU : [0.3490]\n",
      "[Clothing] mIoU : [0.2725]\n",
      "--------------------------------------------------------------------------------\n"
     ]
    },
    {
     "data": {
      "application/vnd.jupyter.widget-view+json": {
       "model_id": "2a82e0852a904b87b14d112b2d7dbe9a",
       "version_major": 2,
       "version_minor": 0
      },
      "text/plain": [
       "  0%|          | 0/131 [00:00<?, ?it/s]"
      ]
     },
     "metadata": {},
     "output_type": "display_data"
    },
    {
     "name": "stdout",
     "output_type": "stream",
     "text": [
      "Start validation\n"
     ]
    },
    {
     "data": {
      "application/vnd.jupyter.widget-view+json": {
       "model_id": "c6461c5218f0406484fe4660fed7bdfd",
       "version_major": 2,
       "version_minor": 0
      },
      "text/plain": [
       "  0%|          | 0/33 [00:00<?, ?it/s]"
      ]
     },
     "metadata": {},
     "output_type": "display_data"
    },
    {
     "name": "stdout",
     "output_type": "stream",
     "text": [
      "Epoch [15/40], Train Loss: 0.1254 Vali Loss: 0.2301, Vali mIoU: 0.5697, Vali Public mIoU: 0.5101\n",
      "--------------------------------------------------------------------------------\n",
      "Validation Class Pred mIoU Score\n",
      "[BG] mIoU : [0.9554]\n",
      "[UNK] mIoU : [0.0000]\n",
      "[General Trash] mIoU : [0.5303]\n",
      "[Paper] mIoU : [0.7748]\n",
      "[Paper pack] mIoU : [0.4638]\n",
      "[Metal] mIoU : [0.5852]\n",
      "[Glass] mIoU : [0.5680]\n",
      "[Plastic] mIoU : [0.5252]\n",
      "[Styrofoam] mIoU : [0.6828]\n",
      "[Plastic Bag] mIoU : [0.8373]\n",
      "[Battery] mIoU : [0.5850]\n",
      "[Clothing] mIoU : [0.3284]\n",
      "--------------------------------------------------------------------------------\n"
     ]
    },
    {
     "data": {
      "application/vnd.jupyter.widget-view+json": {
       "model_id": "0de7bcda41904a3b855e2fac1480c048",
       "version_major": 2,
       "version_minor": 0
      },
      "text/plain": [
       "  0%|          | 0/131 [00:00<?, ?it/s]"
      ]
     },
     "metadata": {},
     "output_type": "display_data"
    },
    {
     "name": "stdout",
     "output_type": "stream",
     "text": [
      "Start validation\n"
     ]
    },
    {
     "data": {
      "application/vnd.jupyter.widget-view+json": {
       "model_id": "e6e60ff1f04b41cfbe2eb846040bcb3e",
       "version_major": 2,
       "version_minor": 0
      },
      "text/plain": [
       "  0%|          | 0/33 [00:00<?, ?it/s]"
      ]
     },
     "metadata": {},
     "output_type": "display_data"
    },
    {
     "name": "stdout",
     "output_type": "stream",
     "text": [
      "Epoch [16/40], Train Loss: 0.1227 Vali Loss: 0.2363, Vali mIoU: 0.5697, Vali Public mIoU: 0.5036\n",
      "--------------------------------------------------------------------------------\n",
      "Validation Class Pred mIoU Score\n",
      "[BG] mIoU : [0.9559]\n",
      "[UNK] mIoU : [0.0000]\n",
      "[General Trash] mIoU : [0.5111]\n",
      "[Paper] mIoU : [0.7860]\n",
      "[Paper pack] mIoU : [0.4828]\n",
      "[Metal] mIoU : [0.5616]\n",
      "[Glass] mIoU : [0.5095]\n",
      "[Plastic] mIoU : [0.5082]\n",
      "[Styrofoam] mIoU : [0.7261]\n",
      "[Plastic Bag] mIoU : [0.8302]\n",
      "[Battery] mIoU : [0.6912]\n",
      "[Clothing] mIoU : [0.2738]\n",
      "--------------------------------------------------------------------------------\n"
     ]
    },
    {
     "data": {
      "application/vnd.jupyter.widget-view+json": {
       "model_id": "d5ad3a14227f4082b55887dc20c0262a",
       "version_major": 2,
       "version_minor": 0
      },
      "text/plain": [
       "  0%|          | 0/131 [00:00<?, ?it/s]"
      ]
     },
     "metadata": {},
     "output_type": "display_data"
    },
    {
     "name": "stdout",
     "output_type": "stream",
     "text": [
      "Start validation\n"
     ]
    },
    {
     "data": {
      "application/vnd.jupyter.widget-view+json": {
       "model_id": "6783497cbabf4dedbe10c6141f7c84e4",
       "version_major": 2,
       "version_minor": 0
      },
      "text/plain": [
       "  0%|          | 0/33 [00:00<?, ?it/s]"
      ]
     },
     "metadata": {},
     "output_type": "display_data"
    },
    {
     "name": "stdout",
     "output_type": "stream",
     "text": [
      "Epoch [17/40], Train Loss: 0.1178 Vali Loss: 0.2377, Vali mIoU: 0.5693, Vali Public mIoU: 0.4998\n",
      "Epoch    17: reducing learning rate of group 0 to 1.2500e-05.\n",
      "--------------------------------------------------------------------------------\n",
      "Validation Class Pred mIoU Score\n",
      "[BG] mIoU : [0.9546]\n",
      "[UNK] mIoU : [0.0000]\n",
      "[General Trash] mIoU : [0.5178]\n",
      "[Paper] mIoU : [0.7826]\n",
      "[Paper pack] mIoU : [0.4500]\n",
      "[Metal] mIoU : [0.5564]\n",
      "[Glass] mIoU : [0.5980]\n",
      "[Plastic] mIoU : [0.5101]\n",
      "[Styrofoam] mIoU : [0.6945]\n",
      "[Plastic Bag] mIoU : [0.8332]\n",
      "[Battery] mIoU : [0.6644]\n",
      "[Clothing] mIoU : [0.2704]\n",
      "--------------------------------------------------------------------------------\n"
     ]
    },
    {
     "data": {
      "application/vnd.jupyter.widget-view+json": {
       "model_id": "28322a6792bb4d0d8ab2b9f1dbbf626c",
       "version_major": 2,
       "version_minor": 0
      },
      "text/plain": [
       "  0%|          | 0/131 [00:00<?, ?it/s]"
      ]
     },
     "metadata": {},
     "output_type": "display_data"
    },
    {
     "name": "stdout",
     "output_type": "stream",
     "text": [
      "Start validation\n"
     ]
    },
    {
     "data": {
      "application/vnd.jupyter.widget-view+json": {
       "model_id": "c35459ffcf0b431d82db8cd0ea14b6ee",
       "version_major": 2,
       "version_minor": 0
      },
      "text/plain": [
       "  0%|          | 0/33 [00:00<?, ?it/s]"
      ]
     },
     "metadata": {},
     "output_type": "display_data"
    },
    {
     "name": "stdout",
     "output_type": "stream",
     "text": [
      "Epoch [18/40], Train Loss: 0.1138 Vali Loss: 0.2462, Vali mIoU: 0.5625, Vali Public mIoU: 0.5003\n",
      "--------------------------------------------------------------------------------\n",
      "Validation Class Pred mIoU Score\n",
      "[BG] mIoU : [0.9570]\n",
      "[UNK] mIoU : [0.0000]\n",
      "[General Trash] mIoU : [0.4968]\n",
      "[Paper] mIoU : [0.7837]\n",
      "[Paper pack] mIoU : [0.4755]\n",
      "[Metal] mIoU : [0.5368]\n",
      "[Glass] mIoU : [0.5222]\n",
      "[Plastic] mIoU : [0.4994]\n",
      "[Styrofoam] mIoU : [0.6652]\n",
      "[Plastic Bag] mIoU : [0.8323]\n",
      "[Battery] mIoU : [0.6807]\n",
      "[Clothing] mIoU : [0.3001]\n",
      "--------------------------------------------------------------------------------\n"
     ]
    },
    {
     "data": {
      "application/vnd.jupyter.widget-view+json": {
       "model_id": "49fcaf955f9b413b847eb66a5022ee2c",
       "version_major": 2,
       "version_minor": 0
      },
      "text/plain": [
       "  0%|          | 0/131 [00:00<?, ?it/s]"
      ]
     },
     "metadata": {},
     "output_type": "display_data"
    },
    {
     "name": "stdout",
     "output_type": "stream",
     "text": [
      "Start validation\n"
     ]
    },
    {
     "data": {
      "application/vnd.jupyter.widget-view+json": {
       "model_id": "ce7ee8704fa24f57a77d241d77c2afd0",
       "version_major": 2,
       "version_minor": 0
      },
      "text/plain": [
       "  0%|          | 0/33 [00:00<?, ?it/s]"
      ]
     },
     "metadata": {},
     "output_type": "display_data"
    },
    {
     "name": "stdout",
     "output_type": "stream",
     "text": [
      "Epoch [19/40], Train Loss: 0.1128 Vali Loss: 0.2326, Vali mIoU: 0.5853, Vali Public mIoU: 0.5071\n",
      "--------------------------------------------------------------------------------\n",
      "Validation Class Pred mIoU Score\n",
      "[BG] mIoU : [0.9571]\n",
      "[UNK] mIoU : [0.0000]\n",
      "[General Trash] mIoU : [0.5055]\n",
      "[Paper] mIoU : [0.7927]\n",
      "[Paper pack] mIoU : [0.5087]\n",
      "[Metal] mIoU : [0.5665]\n",
      "[Glass] mIoU : [0.5743]\n",
      "[Plastic] mIoU : [0.5271]\n",
      "[Styrofoam] mIoU : [0.6839]\n",
      "[Plastic Bag] mIoU : [0.8351]\n",
      "[Battery] mIoU : [0.7296]\n",
      "[Clothing] mIoU : [0.3429]\n",
      "--------------------------------------------------------------------------------\n"
     ]
    },
    {
     "data": {
      "application/vnd.jupyter.widget-view+json": {
       "model_id": "a6f8e9ee2a7248bc8dd616eb805e35e5",
       "version_major": 2,
       "version_minor": 0
      },
      "text/plain": [
       "  0%|          | 0/131 [00:00<?, ?it/s]"
      ]
     },
     "metadata": {},
     "output_type": "display_data"
    },
    {
     "name": "stdout",
     "output_type": "stream",
     "text": [
      "Start validation\n"
     ]
    },
    {
     "data": {
      "application/vnd.jupyter.widget-view+json": {
       "model_id": "650f93aa81d8467fa166198baea23688",
       "version_major": 2,
       "version_minor": 0
      },
      "text/plain": [
       "  0%|          | 0/33 [00:00<?, ?it/s]"
      ]
     },
     "metadata": {},
     "output_type": "display_data"
    },
    {
     "name": "stdout",
     "output_type": "stream",
     "text": [
      "Epoch [20/40], Train Loss: 0.1075 Vali Loss: 0.2361, Vali mIoU: 0.5854, Vali Public mIoU: 0.5159\n",
      "--------------------------------------------------------------------------------\n",
      "Validation Class Pred mIoU Score\n",
      "[BG] mIoU : [0.9569]\n",
      "[UNK] mIoU : [0.0000]\n",
      "[General Trash] mIoU : [0.5140]\n",
      "[Paper] mIoU : [0.7870]\n",
      "[Paper pack] mIoU : [0.4738]\n",
      "[Metal] mIoU : [0.5484]\n",
      "[Glass] mIoU : [0.5826]\n",
      "[Plastic] mIoU : [0.5187]\n",
      "[Styrofoam] mIoU : [0.6934]\n",
      "[Plastic Bag] mIoU : [0.8379]\n",
      "[Battery] mIoU : [0.7484]\n",
      "[Clothing] mIoU : [0.3633]\n",
      "--------------------------------------------------------------------------------\n"
     ]
    },
    {
     "data": {
      "application/vnd.jupyter.widget-view+json": {
       "model_id": "70a5c38d69ce4eef9a7776887dc7e982",
       "version_major": 2,
       "version_minor": 0
      },
      "text/plain": [
       "  0%|          | 0/131 [00:00<?, ?it/s]"
      ]
     },
     "metadata": {},
     "output_type": "display_data"
    },
    {
     "name": "stdout",
     "output_type": "stream",
     "text": [
      "Start validation\n"
     ]
    },
    {
     "data": {
      "application/vnd.jupyter.widget-view+json": {
       "model_id": "3a9bae66b3c44531b3880132244f04d2",
       "version_major": 2,
       "version_minor": 0
      },
      "text/plain": [
       "  0%|          | 0/33 [00:00<?, ?it/s]"
      ]
     },
     "metadata": {},
     "output_type": "display_data"
    },
    {
     "name": "stdout",
     "output_type": "stream",
     "text": [
      "Epoch [21/40], Train Loss: 0.1083 Vali Loss: 0.2366, Vali mIoU: 0.5682, Vali Public mIoU: 0.4935\n",
      "Epoch    21: reducing learning rate of group 0 to 6.2500e-06.\n",
      "--------------------------------------------------------------------------------\n",
      "Validation Class Pred mIoU Score\n",
      "[BG] mIoU : [0.9570]\n",
      "[UNK] mIoU : [0.0000]\n",
      "[General Trash] mIoU : [0.5363]\n",
      "[Paper] mIoU : [0.7899]\n",
      "[Paper pack] mIoU : [0.4126]\n",
      "[Metal] mIoU : [0.5511]\n",
      "[Glass] mIoU : [0.5197]\n",
      "[Plastic] mIoU : [0.5121]\n",
      "[Styrofoam] mIoU : [0.7183]\n",
      "[Plastic Bag] mIoU : [0.8277]\n",
      "[Battery] mIoU : [0.7104]\n",
      "[Clothing] mIoU : [0.2828]\n",
      "--------------------------------------------------------------------------------\n"
     ]
    },
    {
     "data": {
      "application/vnd.jupyter.widget-view+json": {
       "model_id": "fe6c02c977f14988b4009b2830ed8f23",
       "version_major": 2,
       "version_minor": 0
      },
      "text/plain": [
       "  0%|          | 0/131 [00:00<?, ?it/s]"
      ]
     },
     "metadata": {},
     "output_type": "display_data"
    },
    {
     "name": "stdout",
     "output_type": "stream",
     "text": [
      "Start validation\n"
     ]
    },
    {
     "data": {
      "application/vnd.jupyter.widget-view+json": {
       "model_id": "92a018d0c02a4697a5fa1241f368b112",
       "version_major": 2,
       "version_minor": 0
      },
      "text/plain": [
       "  0%|          | 0/33 [00:00<?, ?it/s]"
      ]
     },
     "metadata": {},
     "output_type": "display_data"
    },
    {
     "name": "stdout",
     "output_type": "stream",
     "text": [
      "Epoch [22/40], Train Loss: 0.1055 Vali Loss: 0.2319, Vali mIoU: 0.5844, Vali Public mIoU: 0.5016\n",
      "--------------------------------------------------------------------------------\n",
      "Validation Class Pred mIoU Score\n",
      "[BG] mIoU : [0.9576]\n",
      "[UNK] mIoU : [0.0000]\n",
      "[General Trash] mIoU : [0.5040]\n",
      "[Paper] mIoU : [0.7884]\n",
      "[Paper pack] mIoU : [0.4785]\n",
      "[Metal] mIoU : [0.5801]\n",
      "[Glass] mIoU : [0.6063]\n",
      "[Plastic] mIoU : [0.5150]\n",
      "[Styrofoam] mIoU : [0.6944]\n",
      "[Plastic Bag] mIoU : [0.8369]\n",
      "[Battery] mIoU : [0.7370]\n",
      "[Clothing] mIoU : [0.3140]\n",
      "--------------------------------------------------------------------------------\n"
     ]
    },
    {
     "data": {
      "application/vnd.jupyter.widget-view+json": {
       "model_id": "fa422cc99f374a0f837297022458800c",
       "version_major": 2,
       "version_minor": 0
      },
      "text/plain": [
       "  0%|          | 0/131 [00:00<?, ?it/s]"
      ]
     },
     "metadata": {},
     "output_type": "display_data"
    },
    {
     "name": "stdout",
     "output_type": "stream",
     "text": [
      "Start validation\n"
     ]
    },
    {
     "data": {
      "application/vnd.jupyter.widget-view+json": {
       "model_id": "46078301215e42829b8cff2b55a88825",
       "version_major": 2,
       "version_minor": 0
      },
      "text/plain": [
       "  0%|          | 0/33 [00:00<?, ?it/s]"
      ]
     },
     "metadata": {},
     "output_type": "display_data"
    },
    {
     "name": "stdout",
     "output_type": "stream",
     "text": [
      "Epoch [23/40], Train Loss: 0.1033 Vali Loss: 0.2325, Vali mIoU: 0.5737, Vali Public mIoU: 0.5073\n",
      "Epoch    23: reducing learning rate of group 0 to 3.1250e-06.\n",
      "--------------------------------------------------------------------------------\n",
      "Validation Class Pred mIoU Score\n",
      "[BG] mIoU : [0.9588]\n",
      "[UNK] mIoU : [0.0000]\n",
      "[General Trash] mIoU : [0.5031]\n",
      "[Paper] mIoU : [0.7899]\n",
      "[Paper pack] mIoU : [0.4757]\n",
      "[Metal] mIoU : [0.5833]\n",
      "[Glass] mIoU : [0.5399]\n",
      "[Plastic] mIoU : [0.5133]\n",
      "[Styrofoam] mIoU : [0.6963]\n",
      "[Plastic Bag] mIoU : [0.8344]\n",
      "[Battery] mIoU : [0.7230]\n",
      "[Clothing] mIoU : [0.2668]\n",
      "--------------------------------------------------------------------------------\n"
     ]
    },
    {
     "data": {
      "application/vnd.jupyter.widget-view+json": {
       "model_id": "933df54ee5394c7cb48d9bb2b242ff95",
       "version_major": 2,
       "version_minor": 0
      },
      "text/plain": [
       "  0%|          | 0/131 [00:00<?, ?it/s]"
      ]
     },
     "metadata": {},
     "output_type": "display_data"
    },
    {
     "name": "stdout",
     "output_type": "stream",
     "text": [
      "Start validation\n"
     ]
    },
    {
     "data": {
      "application/vnd.jupyter.widget-view+json": {
       "model_id": "08f7db8e937f4f869b682a00a38c96f5",
       "version_major": 2,
       "version_minor": 0
      },
      "text/plain": [
       "  0%|          | 0/33 [00:00<?, ?it/s]"
      ]
     },
     "metadata": {},
     "output_type": "display_data"
    },
    {
     "name": "stdout",
     "output_type": "stream",
     "text": [
      "Epoch [24/40], Train Loss: 0.1038 Vali Loss: 0.2384, Vali mIoU: 0.5797, Vali Public mIoU: 0.5023\n",
      "--------------------------------------------------------------------------------\n",
      "Validation Class Pred mIoU Score\n",
      "[BG] mIoU : [0.9577]\n",
      "[UNK] mIoU : [0.0000]\n",
      "[General Trash] mIoU : [0.5091]\n",
      "[Paper] mIoU : [0.7863]\n",
      "[Paper pack] mIoU : [0.4815]\n",
      "[Metal] mIoU : [0.5407]\n",
      "[Glass] mIoU : [0.5903]\n",
      "[Plastic] mIoU : [0.5371]\n",
      "[Styrofoam] mIoU : [0.6968]\n",
      "[Plastic Bag] mIoU : [0.8400]\n",
      "[Battery] mIoU : [0.7207]\n",
      "[Clothing] mIoU : [0.2960]\n",
      "--------------------------------------------------------------------------------\n"
     ]
    },
    {
     "data": {
      "application/vnd.jupyter.widget-view+json": {
       "model_id": "afff26edd57343c78c5d8bea7b1f3111",
       "version_major": 2,
       "version_minor": 0
      },
      "text/plain": [
       "  0%|          | 0/131 [00:00<?, ?it/s]"
      ]
     },
     "metadata": {},
     "output_type": "display_data"
    },
    {
     "name": "stdout",
     "output_type": "stream",
     "text": [
      "Start validation\n"
     ]
    },
    {
     "data": {
      "application/vnd.jupyter.widget-view+json": {
       "model_id": "97d5ef2fff544b0aae086d7548e39467",
       "version_major": 2,
       "version_minor": 0
      },
      "text/plain": [
       "  0%|          | 0/33 [00:00<?, ?it/s]"
      ]
     },
     "metadata": {},
     "output_type": "display_data"
    },
    {
     "name": "stdout",
     "output_type": "stream",
     "text": [
      "Epoch [25/40], Train Loss: 0.1004 Vali Loss: 0.2372, Vali mIoU: 0.5773, Vali Public mIoU: 0.5034\n",
      "Epoch    25: reducing learning rate of group 0 to 1.5625e-06.\n",
      "--------------------------------------------------------------------------------\n",
      "Validation Class Pred mIoU Score\n",
      "[BG] mIoU : [0.9578]\n",
      "[UNK] mIoU : [0.0000]\n",
      "[General Trash] mIoU : [0.5069]\n",
      "[Paper] mIoU : [0.7920]\n",
      "[Paper pack] mIoU : [0.4730]\n",
      "[Metal] mIoU : [0.5522]\n",
      "[Glass] mIoU : [0.5907]\n",
      "[Plastic] mIoU : [0.5110]\n",
      "[Styrofoam] mIoU : [0.7077]\n",
      "[Plastic Bag] mIoU : [0.8340]\n",
      "[Battery] mIoU : [0.6990]\n",
      "[Clothing] mIoU : [0.3032]\n",
      "--------------------------------------------------------------------------------\n",
      "Stop Training.....\n",
      "--------------------------------------------------------------------------------\n",
      "Fold : [2] Start training..\n",
      "--------------------------------------------------------------------------------\n"
     ]
    },
    {
     "data": {
      "application/vnd.jupyter.widget-view+json": {
       "model_id": "ff4ff4c4dea9488db36dff1451a65432",
       "version_major": 2,
       "version_minor": 0
      },
      "text/plain": [
       "  0%|          | 0/131 [00:00<?, ?it/s]"
      ]
     },
     "metadata": {},
     "output_type": "display_data"
    },
    {
     "name": "stdout",
     "output_type": "stream",
     "text": [
      "Start validation\n"
     ]
    },
    {
     "data": {
      "application/vnd.jupyter.widget-view+json": {
       "model_id": "4b5ee64bc816423da3a3c8ceb36c4bd8",
       "version_major": 2,
       "version_minor": 0
      },
      "text/plain": [
       "  0%|          | 0/33 [00:00<?, ?it/s]"
      ]
     },
     "metadata": {},
     "output_type": "display_data"
    },
    {
     "name": "stdout",
     "output_type": "stream",
     "text": [
      "Epoch [1/40], Train Loss: 0.9364 Vali Loss: 0.5261, Vali mIoU: 0.2942, Vali Public mIoU: 0.3402\n",
      "--------------------------------------------------------------------------------\n",
      "Validation Class Pred mIoU Score\n",
      "[BG] mIoU : [0.9269]\n",
      "[UNK] mIoU : [0.0000]\n",
      "[General Trash] mIoU : [0.1957]\n",
      "[Paper] mIoU : [0.6090]\n",
      "[Paper pack] mIoU : [0.0000]\n",
      "[Metal] mIoU : [0.1650]\n",
      "[Glass] mIoU : [0.0424]\n",
      "[Plastic] mIoU : [0.3281]\n",
      "[Styrofoam] mIoU : [0.4917]\n",
      "[Plastic Bag] mIoU : [0.7714]\n",
      "[Battery] mIoU : [0.0000]\n",
      "[Clothing] mIoU : [0.0000]\n",
      "--------------------------------------------------------------------------------\n"
     ]
    },
    {
     "data": {
      "application/vnd.jupyter.widget-view+json": {
       "model_id": "40d0213c97e84e64bad776e5c6cc3e53",
       "version_major": 2,
       "version_minor": 0
      },
      "text/plain": [
       "  0%|          | 0/131 [00:00<?, ?it/s]"
      ]
     },
     "metadata": {},
     "output_type": "display_data"
    },
    {
     "name": "stdout",
     "output_type": "stream",
     "text": [
      "Start validation\n"
     ]
    },
    {
     "data": {
      "application/vnd.jupyter.widget-view+json": {
       "model_id": "b354370d041146cb8748eff8392a90c6",
       "version_major": 2,
       "version_minor": 0
      },
      "text/plain": [
       "  0%|          | 0/33 [00:00<?, ?it/s]"
      ]
     },
     "metadata": {},
     "output_type": "display_data"
    },
    {
     "name": "stdout",
     "output_type": "stream",
     "text": [
      "Epoch [2/40], Train Loss: 0.4801 Vali Loss: 0.3940, Vali mIoU: 0.3606, Vali Public mIoU: 0.3737\n",
      "--------------------------------------------------------------------------------\n",
      "Validation Class Pred mIoU Score\n",
      "[BG] mIoU : [0.9374]\n",
      "[UNK] mIoU : [0.0000]\n",
      "[General Trash] mIoU : [0.2405]\n",
      "[Paper] mIoU : [0.6491]\n",
      "[Paper pack] mIoU : [0.0108]\n",
      "[Metal] mIoU : [0.2944]\n",
      "[Glass] mIoU : [0.4881]\n",
      "[Plastic] mIoU : [0.3544]\n",
      "[Styrofoam] mIoU : [0.5841]\n",
      "[Plastic Bag] mIoU : [0.7685]\n",
      "[Battery] mIoU : [0.0000]\n",
      "[Clothing] mIoU : [0.0000]\n",
      "--------------------------------------------------------------------------------\n"
     ]
    },
    {
     "data": {
      "application/vnd.jupyter.widget-view+json": {
       "model_id": "0beae33aaa0d49388f177860a21d6154",
       "version_major": 2,
       "version_minor": 0
      },
      "text/plain": [
       "  0%|          | 0/131 [00:00<?, ?it/s]"
      ]
     },
     "metadata": {},
     "output_type": "display_data"
    },
    {
     "name": "stdout",
     "output_type": "stream",
     "text": [
      "Start validation\n"
     ]
    },
    {
     "data": {
      "application/vnd.jupyter.widget-view+json": {
       "model_id": "5f07367008444c578d74c67632bcbb82",
       "version_major": 2,
       "version_minor": 0
      },
      "text/plain": [
       "  0%|          | 0/33 [00:00<?, ?it/s]"
      ]
     },
     "metadata": {},
     "output_type": "display_data"
    },
    {
     "name": "stdout",
     "output_type": "stream",
     "text": [
      "Epoch [3/40], Train Loss: 0.3865 Vali Loss: 0.3409, Vali mIoU: 0.4299, Vali Public mIoU: 0.4036\n",
      "--------------------------------------------------------------------------------\n",
      "Validation Class Pred mIoU Score\n",
      "[BG] mIoU : [0.9351]\n",
      "[UNK] mIoU : [0.0000]\n",
      "[General Trash] mIoU : [0.2812]\n",
      "[Paper] mIoU : [0.6740]\n",
      "[Paper pack] mIoU : [0.2371]\n",
      "[Metal] mIoU : [0.2851]\n",
      "[Glass] mIoU : [0.5601]\n",
      "[Plastic] mIoU : [0.3789]\n",
      "[Styrofoam] mIoU : [0.5454]\n",
      "[Plastic Bag] mIoU : [0.7794]\n",
      "[Battery] mIoU : [0.0000]\n",
      "[Clothing] mIoU : [0.4822]\n",
      "--------------------------------------------------------------------------------\n"
     ]
    },
    {
     "data": {
      "application/vnd.jupyter.widget-view+json": {
       "model_id": "f7b7c2bf5e4a46d6989b00d846aa1f8e",
       "version_major": 2,
       "version_minor": 0
      },
      "text/plain": [
       "  0%|          | 0/131 [00:00<?, ?it/s]"
      ]
     },
     "metadata": {},
     "output_type": "display_data"
    },
    {
     "name": "stdout",
     "output_type": "stream",
     "text": [
      "Start validation\n"
     ]
    },
    {
     "data": {
      "application/vnd.jupyter.widget-view+json": {
       "model_id": "1ff1f227ea744d87b74baed81adfa64f",
       "version_major": 2,
       "version_minor": 0
      },
      "text/plain": [
       "  0%|          | 0/33 [00:00<?, ?it/s]"
      ]
     },
     "metadata": {},
     "output_type": "display_data"
    },
    {
     "name": "stdout",
     "output_type": "stream",
     "text": [
      "Epoch [4/40], Train Loss: 0.3305 Vali Loss: 0.3109, Vali mIoU: 0.4487, Vali Public mIoU: 0.4066\n",
      "--------------------------------------------------------------------------------\n",
      "Validation Class Pred mIoU Score\n",
      "[BG] mIoU : [0.9409]\n",
      "[UNK] mIoU : [0.0000]\n",
      "[General Trash] mIoU : [0.2959]\n",
      "[Paper] mIoU : [0.6938]\n",
      "[Paper pack] mIoU : [0.3251]\n",
      "[Metal] mIoU : [0.3579]\n",
      "[Glass] mIoU : [0.4081]\n",
      "[Plastic] mIoU : [0.3727]\n",
      "[Styrofoam] mIoU : [0.6086]\n",
      "[Plastic Bag] mIoU : [0.7885]\n",
      "[Battery] mIoU : [0.0000]\n",
      "[Clothing] mIoU : [0.5928]\n",
      "--------------------------------------------------------------------------------\n"
     ]
    },
    {
     "data": {
      "application/vnd.jupyter.widget-view+json": {
       "model_id": "47908e843cfa4889802769fda3b306b6",
       "version_major": 2,
       "version_minor": 0
      },
      "text/plain": [
       "  0%|          | 0/131 [00:00<?, ?it/s]"
      ]
     },
     "metadata": {},
     "output_type": "display_data"
    },
    {
     "name": "stdout",
     "output_type": "stream",
     "text": [
      "Start validation\n"
     ]
    },
    {
     "data": {
      "application/vnd.jupyter.widget-view+json": {
       "model_id": "757ca05f9e354d2ab90e2023ea1af299",
       "version_major": 2,
       "version_minor": 0
      },
      "text/plain": [
       "  0%|          | 0/33 [00:00<?, ?it/s]"
      ]
     },
     "metadata": {},
     "output_type": "display_data"
    },
    {
     "name": "stdout",
     "output_type": "stream",
     "text": [
      "Epoch [5/40], Train Loss: 0.2874 Vali Loss: 0.3301, Vali mIoU: 0.4564, Vali Public mIoU: 0.4098\n",
      "--------------------------------------------------------------------------------\n",
      "Validation Class Pred mIoU Score\n",
      "[BG] mIoU : [0.9372]\n",
      "[UNK] mIoU : [0.0000]\n",
      "[General Trash] mIoU : [0.3070]\n",
      "[Paper] mIoU : [0.6754]\n",
      "[Paper pack] mIoU : [0.4000]\n",
      "[Metal] mIoU : [0.3396]\n",
      "[Glass] mIoU : [0.5436]\n",
      "[Plastic] mIoU : [0.4028]\n",
      "[Styrofoam] mIoU : [0.5550]\n",
      "[Plastic Bag] mIoU : [0.7831]\n",
      "[Battery] mIoU : [0.0000]\n",
      "[Clothing] mIoU : [0.5326]\n",
      "--------------------------------------------------------------------------------\n"
     ]
    },
    {
     "data": {
      "application/vnd.jupyter.widget-view+json": {
       "model_id": "0f9124bcc50342b18cbd85f4eff9cf10",
       "version_major": 2,
       "version_minor": 0
      },
      "text/plain": [
       "  0%|          | 0/131 [00:00<?, ?it/s]"
      ]
     },
     "metadata": {},
     "output_type": "display_data"
    },
    {
     "name": "stdout",
     "output_type": "stream",
     "text": [
      "Start validation\n"
     ]
    },
    {
     "data": {
      "application/vnd.jupyter.widget-view+json": {
       "model_id": "4bb717ce71684297a86002e790d5f97a",
       "version_major": 2,
       "version_minor": 0
      },
      "text/plain": [
       "  0%|          | 0/33 [00:00<?, ?it/s]"
      ]
     },
     "metadata": {},
     "output_type": "display_data"
    },
    {
     "name": "stdout",
     "output_type": "stream",
     "text": [
      "Epoch [6/40], Train Loss: 0.2707 Vali Loss: 0.2723, Vali mIoU: 0.5092, Vali Public mIoU: 0.4632\n",
      "--------------------------------------------------------------------------------\n",
      "Validation Class Pred mIoU Score\n",
      "[BG] mIoU : [0.9439]\n",
      "[UNK] mIoU : [0.0000]\n",
      "[General Trash] mIoU : [0.3588]\n",
      "[Paper] mIoU : [0.7006]\n",
      "[Paper pack] mIoU : [0.4157]\n",
      "[Metal] mIoU : [0.4831]\n",
      "[Glass] mIoU : [0.6407]\n",
      "[Plastic] mIoU : [0.4753]\n",
      "[Styrofoam] mIoU : [0.6527]\n",
      "[Plastic Bag] mIoU : [0.8130]\n",
      "[Battery] mIoU : [0.0000]\n",
      "[Clothing] mIoU : [0.6262]\n",
      "--------------------------------------------------------------------------------\n"
     ]
    },
    {
     "data": {
      "application/vnd.jupyter.widget-view+json": {
       "model_id": "f841dfbc29a54c7e9f2e2342d74c986b",
       "version_major": 2,
       "version_minor": 0
      },
      "text/plain": [
       "  0%|          | 0/131 [00:00<?, ?it/s]"
      ]
     },
     "metadata": {},
     "output_type": "display_data"
    },
    {
     "name": "stdout",
     "output_type": "stream",
     "text": [
      "Start validation\n"
     ]
    },
    {
     "data": {
      "application/vnd.jupyter.widget-view+json": {
       "model_id": "3d1c2991cde54801846971c61dab97b6",
       "version_major": 2,
       "version_minor": 0
      },
      "text/plain": [
       "  0%|          | 0/33 [00:00<?, ?it/s]"
      ]
     },
     "metadata": {},
     "output_type": "display_data"
    },
    {
     "name": "stdout",
     "output_type": "stream",
     "text": [
      "Epoch [7/40], Train Loss: 0.2577 Vali Loss: 0.3047, Vali mIoU: 0.4718, Vali Public mIoU: 0.4361\n",
      "--------------------------------------------------------------------------------\n",
      "Validation Class Pred mIoU Score\n",
      "[BG] mIoU : [0.9418]\n",
      "[UNK] mIoU : [0.0000]\n",
      "[General Trash] mIoU : [0.3420]\n",
      "[Paper] mIoU : [0.6993]\n",
      "[Paper pack] mIoU : [0.3899]\n",
      "[Metal] mIoU : [0.3960]\n",
      "[Glass] mIoU : [0.6924]\n",
      "[Plastic] mIoU : [0.4723]\n",
      "[Styrofoam] mIoU : [0.4539]\n",
      "[Plastic Bag] mIoU : [0.7878]\n",
      "[Battery] mIoU : [0.0000]\n",
      "[Clothing] mIoU : [0.4863]\n",
      "--------------------------------------------------------------------------------\n"
     ]
    },
    {
     "data": {
      "application/vnd.jupyter.widget-view+json": {
       "model_id": "ee9325e86ba549d6b04bb1ecdcbb217d",
       "version_major": 2,
       "version_minor": 0
      },
      "text/plain": [
       "  0%|          | 0/131 [00:00<?, ?it/s]"
      ]
     },
     "metadata": {},
     "output_type": "display_data"
    },
    {
     "name": "stdout",
     "output_type": "stream",
     "text": [
      "Start validation\n"
     ]
    },
    {
     "data": {
      "application/vnd.jupyter.widget-view+json": {
       "model_id": "78f689350df3436d8e0a72ed2540302b",
       "version_major": 2,
       "version_minor": 0
      },
      "text/plain": [
       "  0%|          | 0/33 [00:00<?, ?it/s]"
      ]
     },
     "metadata": {},
     "output_type": "display_data"
    },
    {
     "name": "stdout",
     "output_type": "stream",
     "text": [
      "Epoch [8/40], Train Loss: 0.2301 Vali Loss: 0.2789, Vali mIoU: 0.5096, Vali Public mIoU: 0.4551\n",
      "--------------------------------------------------------------------------------\n",
      "Validation Class Pred mIoU Score\n",
      "[BG] mIoU : [0.9474]\n",
      "[UNK] mIoU : [0.0000]\n",
      "[General Trash] mIoU : [0.3575]\n",
      "[Paper] mIoU : [0.7150]\n",
      "[Paper pack] mIoU : [0.4469]\n",
      "[Metal] mIoU : [0.3132]\n",
      "[Glass] mIoU : [0.6914]\n",
      "[Plastic] mIoU : [0.4446]\n",
      "[Styrofoam] mIoU : [0.6503]\n",
      "[Plastic Bag] mIoU : [0.8196]\n",
      "[Battery] mIoU : [0.1696]\n",
      "[Clothing] mIoU : [0.5594]\n",
      "--------------------------------------------------------------------------------\n"
     ]
    },
    {
     "data": {
      "application/vnd.jupyter.widget-view+json": {
       "model_id": "c88bf7544805423a9bd1eabc38e10b62",
       "version_major": 2,
       "version_minor": 0
      },
      "text/plain": [
       "  0%|          | 0/131 [00:00<?, ?it/s]"
      ]
     },
     "metadata": {},
     "output_type": "display_data"
    },
    {
     "name": "stdout",
     "output_type": "stream",
     "text": [
      "Start validation\n"
     ]
    },
    {
     "data": {
      "application/vnd.jupyter.widget-view+json": {
       "model_id": "5fc855d6a5aa4f2caf93ecbb22ac48ec",
       "version_major": 2,
       "version_minor": 0
      },
      "text/plain": [
       "  0%|          | 0/33 [00:00<?, ?it/s]"
      ]
     },
     "metadata": {},
     "output_type": "display_data"
    },
    {
     "name": "stdout",
     "output_type": "stream",
     "text": [
      "Epoch [9/40], Train Loss: 0.2169 Vali Loss: 0.2864, Vali mIoU: 0.4777, Vali Public mIoU: 0.4353\n",
      "--------------------------------------------------------------------------------\n",
      "Validation Class Pred mIoU Score\n",
      "[BG] mIoU : [0.9482]\n",
      "[UNK] mIoU : [0.0000]\n",
      "[General Trash] mIoU : [0.3202]\n",
      "[Paper] mIoU : [0.7241]\n",
      "[Paper pack] mIoU : [0.4194]\n",
      "[Metal] mIoU : [0.4458]\n",
      "[Glass] mIoU : [0.4225]\n",
      "[Plastic] mIoU : [0.3817]\n",
      "[Styrofoam] mIoU : [0.6312]\n",
      "[Plastic Bag] mIoU : [0.8154]\n",
      "[Battery] mIoU : [0.0189]\n",
      "[Clothing] mIoU : [0.6048]\n",
      "--------------------------------------------------------------------------------\n"
     ]
    },
    {
     "data": {
      "application/vnd.jupyter.widget-view+json": {
       "model_id": "97e872fbdd3647409f070afa327e2707",
       "version_major": 2,
       "version_minor": 0
      },
      "text/plain": [
       "  0%|          | 0/131 [00:00<?, ?it/s]"
      ]
     },
     "metadata": {},
     "output_type": "display_data"
    },
    {
     "name": "stdout",
     "output_type": "stream",
     "text": [
      "Start validation\n"
     ]
    },
    {
     "data": {
      "application/vnd.jupyter.widget-view+json": {
       "model_id": "fefafb4b47e24f3db0c696fb6cdbc21c",
       "version_major": 2,
       "version_minor": 0
      },
      "text/plain": [
       "  0%|          | 0/33 [00:00<?, ?it/s]"
      ]
     },
     "metadata": {},
     "output_type": "display_data"
    },
    {
     "name": "stdout",
     "output_type": "stream",
     "text": [
      "Epoch [10/40], Train Loss: 0.1983 Vali Loss: 0.2830, Vali mIoU: 0.5213, Vali Public mIoU: 0.4647\n",
      "--------------------------------------------------------------------------------\n",
      "Validation Class Pred mIoU Score\n",
      "[BG] mIoU : [0.9482]\n",
      "[UNK] mIoU : [0.0000]\n",
      "[General Trash] mIoU : [0.3068]\n",
      "[Paper] mIoU : [0.7111]\n",
      "[Paper pack] mIoU : [0.4561]\n",
      "[Metal] mIoU : [0.4547]\n",
      "[Glass] mIoU : [0.6297]\n",
      "[Plastic] mIoU : [0.4619]\n",
      "[Styrofoam] mIoU : [0.6587]\n",
      "[Plastic Bag] mIoU : [0.8131]\n",
      "[Battery] mIoU : [0.2331]\n",
      "[Clothing] mIoU : [0.5815]\n",
      "--------------------------------------------------------------------------------\n"
     ]
    },
    {
     "data": {
      "application/vnd.jupyter.widget-view+json": {
       "model_id": "cd93ece7b7f8497ca3e9674d01d87542",
       "version_major": 2,
       "version_minor": 0
      },
      "text/plain": [
       "  0%|          | 0/131 [00:00<?, ?it/s]"
      ]
     },
     "metadata": {},
     "output_type": "display_data"
    },
    {
     "name": "stdout",
     "output_type": "stream",
     "text": [
      "Start validation\n"
     ]
    },
    {
     "data": {
      "application/vnd.jupyter.widget-view+json": {
       "model_id": "4bdb8b22b91645d18bc5ed1a8dade0a0",
       "version_major": 2,
       "version_minor": 0
      },
      "text/plain": [
       "  0%|          | 0/33 [00:00<?, ?it/s]"
      ]
     },
     "metadata": {},
     "output_type": "display_data"
    },
    {
     "name": "stdout",
     "output_type": "stream",
     "text": [
      "Epoch [11/40], Train Loss: 0.1824 Vali Loss: 0.2903, Vali mIoU: 0.5273, Vali Public mIoU: 0.4536\n",
      "--------------------------------------------------------------------------------\n",
      "Validation Class Pred mIoU Score\n",
      "[BG] mIoU : [0.9466]\n",
      "[UNK] mIoU : [0.0000]\n",
      "[General Trash] mIoU : [0.3342]\n",
      "[Paper] mIoU : [0.7195]\n",
      "[Paper pack] mIoU : [0.3521]\n",
      "[Metal] mIoU : [0.3686]\n",
      "[Glass] mIoU : [0.6435]\n",
      "[Plastic] mIoU : [0.4315]\n",
      "[Styrofoam] mIoU : [0.5996]\n",
      "[Plastic Bag] mIoU : [0.8026]\n",
      "[Battery] mIoU : [0.5121]\n",
      "[Clothing] mIoU : [0.6177]\n",
      "--------------------------------------------------------------------------------\n"
     ]
    },
    {
     "data": {
      "application/vnd.jupyter.widget-view+json": {
       "model_id": "148a07c47f6b418898d554955b37c909",
       "version_major": 2,
       "version_minor": 0
      },
      "text/plain": [
       "  0%|          | 0/131 [00:00<?, ?it/s]"
      ]
     },
     "metadata": {},
     "output_type": "display_data"
    },
    {
     "name": "stdout",
     "output_type": "stream",
     "text": [
      "Start validation\n"
     ]
    },
    {
     "data": {
      "application/vnd.jupyter.widget-view+json": {
       "model_id": "7546418d562345d6a2f0aa2a7b85c8c2",
       "version_major": 2,
       "version_minor": 0
      },
      "text/plain": [
       "  0%|          | 0/33 [00:00<?, ?it/s]"
      ]
     },
     "metadata": {},
     "output_type": "display_data"
    },
    {
     "name": "stdout",
     "output_type": "stream",
     "text": [
      "Epoch [12/40], Train Loss: 0.1762 Vali Loss: 0.2782, Vali mIoU: 0.5248, Vali Public mIoU: 0.4551\n",
      "--------------------------------------------------------------------------------\n",
      "Validation Class Pred mIoU Score\n",
      "[BG] mIoU : [0.9464]\n",
      "[UNK] mIoU : [0.0000]\n",
      "[General Trash] mIoU : [0.3440]\n",
      "[Paper] mIoU : [0.7302]\n",
      "[Paper pack] mIoU : [0.4183]\n",
      "[Metal] mIoU : [0.4042]\n",
      "[Glass] mIoU : [0.6329]\n",
      "[Plastic] mIoU : [0.4420]\n",
      "[Styrofoam] mIoU : [0.6779]\n",
      "[Plastic Bag] mIoU : [0.8013]\n",
      "[Battery] mIoU : [0.3049]\n",
      "[Clothing] mIoU : [0.5950]\n",
      "--------------------------------------------------------------------------------\n"
     ]
    },
    {
     "data": {
      "application/vnd.jupyter.widget-view+json": {
       "model_id": "4edcdc286633429ba88414b8eab03499",
       "version_major": 2,
       "version_minor": 0
      },
      "text/plain": [
       "  0%|          | 0/131 [00:00<?, ?it/s]"
      ]
     },
     "metadata": {},
     "output_type": "display_data"
    },
    {
     "name": "stdout",
     "output_type": "stream",
     "text": [
      "Start validation\n"
     ]
    },
    {
     "data": {
      "application/vnd.jupyter.widget-view+json": {
       "model_id": "f08525661f93435cb4d00b1875bd7b5f",
       "version_major": 2,
       "version_minor": 0
      },
      "text/plain": [
       "  0%|          | 0/33 [00:00<?, ?it/s]"
      ]
     },
     "metadata": {},
     "output_type": "display_data"
    },
    {
     "name": "stdout",
     "output_type": "stream",
     "text": [
      "Epoch [13/40], Train Loss: 0.1728 Vali Loss: 0.3103, Vali mIoU: 0.5068, Vali Public mIoU: 0.4392\n",
      "Epoch    13: reducing learning rate of group 0 to 5.0000e-05.\n",
      "--------------------------------------------------------------------------------\n",
      "Validation Class Pred mIoU Score\n",
      "[BG] mIoU : [0.9398]\n",
      "[UNK] mIoU : [0.0000]\n",
      "[General Trash] mIoU : [0.3326]\n",
      "[Paper] mIoU : [0.6742]\n",
      "[Paper pack] mIoU : [0.4591]\n",
      "[Metal] mIoU : [0.3870]\n",
      "[Glass] mIoU : [0.6269]\n",
      "[Plastic] mIoU : [0.4248]\n",
      "[Styrofoam] mIoU : [0.6022]\n",
      "[Plastic Bag] mIoU : [0.8106]\n",
      "[Battery] mIoU : [0.2448]\n",
      "[Clothing] mIoU : [0.5790]\n",
      "--------------------------------------------------------------------------------\n"
     ]
    },
    {
     "data": {
      "application/vnd.jupyter.widget-view+json": {
       "model_id": "80e21126c9a2433cb356ee88f6ff8437",
       "version_major": 2,
       "version_minor": 0
      },
      "text/plain": [
       "  0%|          | 0/131 [00:00<?, ?it/s]"
      ]
     },
     "metadata": {},
     "output_type": "display_data"
    },
    {
     "name": "stdout",
     "output_type": "stream",
     "text": [
      "Start validation\n"
     ]
    },
    {
     "data": {
      "application/vnd.jupyter.widget-view+json": {
       "model_id": "403f295d8ec34b2aa1630850da735f8d",
       "version_major": 2,
       "version_minor": 0
      },
      "text/plain": [
       "  0%|          | 0/33 [00:00<?, ?it/s]"
      ]
     },
     "metadata": {},
     "output_type": "display_data"
    },
    {
     "name": "stdout",
     "output_type": "stream",
     "text": [
      "Epoch [14/40], Train Loss: 0.1433 Vali Loss: 0.2627, Vali mIoU: 0.5457, Vali Public mIoU: 0.4686\n",
      "--------------------------------------------------------------------------------\n",
      "Validation Class Pred mIoU Score\n",
      "[BG] mIoU : [0.9545]\n",
      "[UNK] mIoU : [0.0000]\n",
      "[General Trash] mIoU : [0.3460]\n",
      "[Paper] mIoU : [0.7353]\n",
      "[Paper pack] mIoU : [0.4951]\n",
      "[Metal] mIoU : [0.4123]\n",
      "[Glass] mIoU : [0.6258]\n",
      "[Plastic] mIoU : [0.4678]\n",
      "[Styrofoam] mIoU : [0.7048]\n",
      "[Plastic Bag] mIoU : [0.8311]\n",
      "[Battery] mIoU : [0.3852]\n",
      "[Clothing] mIoU : [0.5902]\n",
      "--------------------------------------------------------------------------------\n"
     ]
    },
    {
     "data": {
      "application/vnd.jupyter.widget-view+json": {
       "model_id": "ce6945ba70b2439ca8b062ef791cc2d5",
       "version_major": 2,
       "version_minor": 0
      },
      "text/plain": [
       "  0%|          | 0/131 [00:00<?, ?it/s]"
      ]
     },
     "metadata": {},
     "output_type": "display_data"
    },
    {
     "name": "stdout",
     "output_type": "stream",
     "text": [
      "Start validation\n"
     ]
    },
    {
     "data": {
      "application/vnd.jupyter.widget-view+json": {
       "model_id": "8c958a5f20674a9ca4605db540678b64",
       "version_major": 2,
       "version_minor": 0
      },
      "text/plain": [
       "  0%|          | 0/33 [00:00<?, ?it/s]"
      ]
     },
     "metadata": {},
     "output_type": "display_data"
    },
    {
     "name": "stdout",
     "output_type": "stream",
     "text": [
      "Epoch [15/40], Train Loss: 0.1327 Vali Loss: 0.2506, Vali mIoU: 0.5817, Vali Public mIoU: 0.4948\n",
      "--------------------------------------------------------------------------------\n",
      "Validation Class Pred mIoU Score\n",
      "[BG] mIoU : [0.9544]\n",
      "[UNK] mIoU : [0.0000]\n",
      "[General Trash] mIoU : [0.3551]\n",
      "[Paper] mIoU : [0.7477]\n",
      "[Paper pack] mIoU : [0.4986]\n",
      "[Metal] mIoU : [0.5102]\n",
      "[Glass] mIoU : [0.6771]\n",
      "[Plastic] mIoU : [0.5174]\n",
      "[Styrofoam] mIoU : [0.7498]\n",
      "[Plastic Bag] mIoU : [0.8411]\n",
      "[Battery] mIoU : [0.4981]\n",
      "[Clothing] mIoU : [0.6309]\n",
      "--------------------------------------------------------------------------------\n"
     ]
    },
    {
     "data": {
      "application/vnd.jupyter.widget-view+json": {
       "model_id": "4487b68be01248a6b96c7d9a0c632280",
       "version_major": 2,
       "version_minor": 0
      },
      "text/plain": [
       "  0%|          | 0/131 [00:00<?, ?it/s]"
      ]
     },
     "metadata": {},
     "output_type": "display_data"
    },
    {
     "name": "stdout",
     "output_type": "stream",
     "text": [
      "Start validation\n"
     ]
    },
    {
     "data": {
      "application/vnd.jupyter.widget-view+json": {
       "model_id": "3f767a51158540749b42dcb6ad36c820",
       "version_major": 2,
       "version_minor": 0
      },
      "text/plain": [
       "  0%|          | 0/33 [00:00<?, ?it/s]"
      ]
     },
     "metadata": {},
     "output_type": "display_data"
    },
    {
     "name": "stdout",
     "output_type": "stream",
     "text": [
      "Epoch [16/40], Train Loss: 0.1235 Vali Loss: 0.2713, Vali mIoU: 0.5493, Vali Public mIoU: 0.4819\n",
      "--------------------------------------------------------------------------------\n",
      "Validation Class Pred mIoU Score\n",
      "[BG] mIoU : [0.9556]\n",
      "[UNK] mIoU : [0.0000]\n",
      "[General Trash] mIoU : [0.3484]\n",
      "[Paper] mIoU : [0.7487]\n",
      "[Paper pack] mIoU : [0.4892]\n",
      "[Metal] mIoU : [0.4279]\n",
      "[Glass] mIoU : [0.6312]\n",
      "[Plastic] mIoU : [0.4664]\n",
      "[Styrofoam] mIoU : [0.7569]\n",
      "[Plastic Bag] mIoU : [0.8228]\n",
      "[Battery] mIoU : [0.3199]\n",
      "[Clothing] mIoU : [0.6246]\n",
      "--------------------------------------------------------------------------------\n"
     ]
    },
    {
     "data": {
      "application/vnd.jupyter.widget-view+json": {
       "model_id": "2373912ee97342548657261184999816",
       "version_major": 2,
       "version_minor": 0
      },
      "text/plain": [
       "  0%|          | 0/131 [00:00<?, ?it/s]"
      ]
     },
     "metadata": {},
     "output_type": "display_data"
    },
    {
     "name": "stdout",
     "output_type": "stream",
     "text": [
      "Start validation\n"
     ]
    },
    {
     "data": {
      "application/vnd.jupyter.widget-view+json": {
       "model_id": "68488f4e15c84ceeaf17a4503b4eb00d",
       "version_major": 2,
       "version_minor": 0
      },
      "text/plain": [
       "  0%|          | 0/33 [00:00<?, ?it/s]"
      ]
     },
     "metadata": {},
     "output_type": "display_data"
    },
    {
     "name": "stdout",
     "output_type": "stream",
     "text": [
      "Epoch [17/40], Train Loss: 0.1136 Vali Loss: 0.2684, Vali mIoU: 0.5597, Vali Public mIoU: 0.4944\n",
      "Epoch    17: reducing learning rate of group 0 to 2.5000e-05.\n",
      "--------------------------------------------------------------------------------\n",
      "Validation Class Pred mIoU Score\n",
      "[BG] mIoU : [0.9556]\n",
      "[UNK] mIoU : [0.0000]\n",
      "[General Trash] mIoU : [0.3693]\n",
      "[Paper] mIoU : [0.7476]\n",
      "[Paper pack] mIoU : [0.4670]\n",
      "[Metal] mIoU : [0.4696]\n",
      "[Glass] mIoU : [0.7253]\n",
      "[Plastic] mIoU : [0.5089]\n",
      "[Styrofoam] mIoU : [0.7415]\n",
      "[Plastic Bag] mIoU : [0.8234]\n",
      "[Battery] mIoU : [0.2572]\n",
      "[Clothing] mIoU : [0.6510]\n",
      "--------------------------------------------------------------------------------\n"
     ]
    },
    {
     "data": {
      "application/vnd.jupyter.widget-view+json": {
       "model_id": "c206c2dc01014bf8b60c0608938b1da7",
       "version_major": 2,
       "version_minor": 0
      },
      "text/plain": [
       "  0%|          | 0/131 [00:00<?, ?it/s]"
      ]
     },
     "metadata": {},
     "output_type": "display_data"
    },
    {
     "name": "stdout",
     "output_type": "stream",
     "text": [
      "Start validation\n"
     ]
    },
    {
     "data": {
      "application/vnd.jupyter.widget-view+json": {
       "model_id": "ac029606aa1644fb91b784e1988263f5",
       "version_major": 2,
       "version_minor": 0
      },
      "text/plain": [
       "  0%|          | 0/33 [00:00<?, ?it/s]"
      ]
     },
     "metadata": {},
     "output_type": "display_data"
    },
    {
     "name": "stdout",
     "output_type": "stream",
     "text": [
      "Epoch [18/40], Train Loss: 0.1095 Vali Loss: 0.2614, Vali mIoU: 0.5682, Vali Public mIoU: 0.4976\n",
      "--------------------------------------------------------------------------------\n",
      "Validation Class Pred mIoU Score\n",
      "[BG] mIoU : [0.9547]\n",
      "[UNK] mIoU : [0.0000]\n",
      "[General Trash] mIoU : [0.3948]\n",
      "[Paper] mIoU : [0.7443]\n",
      "[Paper pack] mIoU : [0.4724]\n",
      "[Metal] mIoU : [0.4671]\n",
      "[Glass] mIoU : [0.7034]\n",
      "[Plastic] mIoU : [0.5146]\n",
      "[Styrofoam] mIoU : [0.7367]\n",
      "[Plastic Bag] mIoU : [0.8390]\n",
      "[Battery] mIoU : [0.3403]\n",
      "[Clothing] mIoU : [0.6505]\n",
      "--------------------------------------------------------------------------------\n"
     ]
    },
    {
     "data": {
      "application/vnd.jupyter.widget-view+json": {
       "model_id": "fd6280e891a841da824b437b5b054cf5",
       "version_major": 2,
       "version_minor": 0
      },
      "text/plain": [
       "  0%|          | 0/131 [00:00<?, ?it/s]"
      ]
     },
     "metadata": {},
     "output_type": "display_data"
    },
    {
     "name": "stdout",
     "output_type": "stream",
     "text": [
      "Start validation\n"
     ]
    },
    {
     "data": {
      "application/vnd.jupyter.widget-view+json": {
       "model_id": "9bc17beead724630933b480c60daa147",
       "version_major": 2,
       "version_minor": 0
      },
      "text/plain": [
       "  0%|          | 0/33 [00:00<?, ?it/s]"
      ]
     },
     "metadata": {},
     "output_type": "display_data"
    },
    {
     "name": "stdout",
     "output_type": "stream",
     "text": [
      "Epoch [19/40], Train Loss: 0.1068 Vali Loss: 0.2626, Vali mIoU: 0.5624, Vali Public mIoU: 0.4956\n",
      "Epoch    19: reducing learning rate of group 0 to 1.2500e-05.\n",
      "--------------------------------------------------------------------------------\n",
      "Validation Class Pred mIoU Score\n",
      "[BG] mIoU : [0.9578]\n",
      "[UNK] mIoU : [0.0000]\n",
      "[General Trash] mIoU : [0.3678]\n",
      "[Paper] mIoU : [0.7536]\n",
      "[Paper pack] mIoU : [0.5133]\n",
      "[Metal] mIoU : [0.4612]\n",
      "[Glass] mIoU : [0.6582]\n",
      "[Plastic] mIoU : [0.5117]\n",
      "[Styrofoam] mIoU : [0.7599]\n",
      "[Plastic Bag] mIoU : [0.8352]\n",
      "[Battery] mIoU : [0.2907]\n",
      "[Clothing] mIoU : [0.6391]\n",
      "--------------------------------------------------------------------------------\n"
     ]
    },
    {
     "data": {
      "application/vnd.jupyter.widget-view+json": {
       "model_id": "335ae22ae97f471c8d99b28587cadd3c",
       "version_major": 2,
       "version_minor": 0
      },
      "text/plain": [
       "  0%|          | 0/131 [00:00<?, ?it/s]"
      ]
     },
     "metadata": {},
     "output_type": "display_data"
    },
    {
     "name": "stdout",
     "output_type": "stream",
     "text": [
      "Start validation\n"
     ]
    },
    {
     "data": {
      "application/vnd.jupyter.widget-view+json": {
       "model_id": "2d0879b7d1cd4c5b96d60cdcda4a9867",
       "version_major": 2,
       "version_minor": 0
      },
      "text/plain": [
       "  0%|          | 0/33 [00:00<?, ?it/s]"
      ]
     },
     "metadata": {},
     "output_type": "display_data"
    },
    {
     "name": "stdout",
     "output_type": "stream",
     "text": [
      "Epoch [20/40], Train Loss: 0.1018 Vali Loss: 0.2573, Vali mIoU: 0.5714, Vali Public mIoU: 0.4993\n",
      "--------------------------------------------------------------------------------\n",
      "Validation Class Pred mIoU Score\n",
      "[BG] mIoU : [0.9574]\n",
      "[UNK] mIoU : [0.0000]\n",
      "[General Trash] mIoU : [0.3838]\n",
      "[Paper] mIoU : [0.7517]\n",
      "[Paper pack] mIoU : [0.5415]\n",
      "[Metal] mIoU : [0.4479]\n",
      "[Glass] mIoU : [0.6777]\n",
      "[Plastic] mIoU : [0.5089]\n",
      "[Styrofoam] mIoU : [0.7708]\n",
      "[Plastic Bag] mIoU : [0.8442]\n",
      "[Battery] mIoU : [0.3647]\n",
      "[Clothing] mIoU : [0.6083]\n",
      "--------------------------------------------------------------------------------\n",
      "Stop Training.....\n",
      "--------------------------------------------------------------------------------\n",
      "Fold : [3] Start training..\n",
      "--------------------------------------------------------------------------------\n"
     ]
    },
    {
     "data": {
      "application/vnd.jupyter.widget-view+json": {
       "model_id": "42a82f6d919346b59b19497a8e77b9f3",
       "version_major": 2,
       "version_minor": 0
      },
      "text/plain": [
       "  0%|          | 0/131 [00:00<?, ?it/s]"
      ]
     },
     "metadata": {},
     "output_type": "display_data"
    },
    {
     "name": "stdout",
     "output_type": "stream",
     "text": [
      "Start validation\n"
     ]
    },
    {
     "data": {
      "application/vnd.jupyter.widget-view+json": {
       "model_id": "9ff5343a26354f1a9ee8a93033adc891",
       "version_major": 2,
       "version_minor": 0
      },
      "text/plain": [
       "  0%|          | 0/33 [00:00<?, ?it/s]"
      ]
     },
     "metadata": {},
     "output_type": "display_data"
    },
    {
     "name": "stdout",
     "output_type": "stream",
     "text": [
      "Epoch [1/40], Train Loss: 0.9624 Vali Loss: 0.5140, Vali mIoU: 0.2896, Vali Public mIoU: 0.3189\n",
      "--------------------------------------------------------------------------------\n",
      "Validation Class Pred mIoU Score\n",
      "[BG] mIoU : [0.9265]\n",
      "[UNK] mIoU : [0.0000]\n",
      "[General Trash] mIoU : [0.1762]\n",
      "[Paper] mIoU : [0.6386]\n",
      "[Paper pack] mIoU : [0.0000]\n",
      "[Metal] mIoU : [0.0381]\n",
      "[Glass] mIoU : [0.2772]\n",
      "[Plastic] mIoU : [0.2998]\n",
      "[Styrofoam] mIoU : [0.3771]\n",
      "[Plastic Bag] mIoU : [0.7419]\n",
      "[Battery] mIoU : [0.0000]\n",
      "[Clothing] mIoU : [0.0000]\n",
      "--------------------------------------------------------------------------------\n"
     ]
    },
    {
     "data": {
      "application/vnd.jupyter.widget-view+json": {
       "model_id": "a0aa9124b9344cdc84de67a823c6d318",
       "version_major": 2,
       "version_minor": 0
      },
      "text/plain": [
       "  0%|          | 0/131 [00:00<?, ?it/s]"
      ]
     },
     "metadata": {},
     "output_type": "display_data"
    },
    {
     "name": "stdout",
     "output_type": "stream",
     "text": [
      "Start validation\n"
     ]
    },
    {
     "data": {
      "application/vnd.jupyter.widget-view+json": {
       "model_id": "60a7200d356549dcad1f633be29f105f",
       "version_major": 2,
       "version_minor": 0
      },
      "text/plain": [
       "  0%|          | 0/33 [00:00<?, ?it/s]"
      ]
     },
     "metadata": {},
     "output_type": "display_data"
    },
    {
     "name": "stdout",
     "output_type": "stream",
     "text": [
      "Epoch [2/40], Train Loss: 0.4854 Vali Loss: 0.4142, Vali mIoU: 0.3432, Vali Public mIoU: 0.3581\n",
      "--------------------------------------------------------------------------------\n",
      "Validation Class Pred mIoU Score\n",
      "[BG] mIoU : [0.9299]\n",
      "[UNK] mIoU : [0.0000]\n",
      "[General Trash] mIoU : [0.2475]\n",
      "[Paper] mIoU : [0.6579]\n",
      "[Paper pack] mIoU : [0.0070]\n",
      "[Metal] mIoU : [0.3340]\n",
      "[Glass] mIoU : [0.4843]\n",
      "[Plastic] mIoU : [0.2200]\n",
      "[Styrofoam] mIoU : [0.5220]\n",
      "[Plastic Bag] mIoU : [0.7152]\n",
      "[Battery] mIoU : [0.0000]\n",
      "[Clothing] mIoU : [0.0000]\n",
      "--------------------------------------------------------------------------------\n"
     ]
    },
    {
     "data": {
      "application/vnd.jupyter.widget-view+json": {
       "model_id": "5de844a590a546b78f0605c2e3b8d5e8",
       "version_major": 2,
       "version_minor": 0
      },
      "text/plain": [
       "  0%|          | 0/131 [00:00<?, ?it/s]"
      ]
     },
     "metadata": {},
     "output_type": "display_data"
    },
    {
     "name": "stdout",
     "output_type": "stream",
     "text": [
      "Start validation\n"
     ]
    },
    {
     "data": {
      "application/vnd.jupyter.widget-view+json": {
       "model_id": "92c72e616c3c4716b384c0af2e7cba52",
       "version_major": 2,
       "version_minor": 0
      },
      "text/plain": [
       "  0%|          | 0/33 [00:00<?, ?it/s]"
      ]
     },
     "metadata": {},
     "output_type": "display_data"
    },
    {
     "name": "stdout",
     "output_type": "stream",
     "text": [
      "Epoch [3/40], Train Loss: 0.3920 Vali Loss: 0.3259, Vali mIoU: 0.4011, Vali Public mIoU: 0.4035\n",
      "--------------------------------------------------------------------------------\n",
      "Validation Class Pred mIoU Score\n",
      "[BG] mIoU : [0.9408]\n",
      "[UNK] mIoU : [0.0000]\n",
      "[General Trash] mIoU : [0.2731]\n",
      "[Paper] mIoU : [0.6867]\n",
      "[Paper pack] mIoU : [0.1855]\n",
      "[Metal] mIoU : [0.3152]\n",
      "[Glass] mIoU : [0.4996]\n",
      "[Plastic] mIoU : [0.3400]\n",
      "[Styrofoam] mIoU : [0.5082]\n",
      "[Plastic Bag] mIoU : [0.7749]\n",
      "[Battery] mIoU : [0.0000]\n",
      "[Clothing] mIoU : [0.2897]\n",
      "--------------------------------------------------------------------------------\n"
     ]
    },
    {
     "data": {
      "application/vnd.jupyter.widget-view+json": {
       "model_id": "1b5e86aa67f540519c852eef825a387c",
       "version_major": 2,
       "version_minor": 0
      },
      "text/plain": [
       "  0%|          | 0/131 [00:00<?, ?it/s]"
      ]
     },
     "metadata": {},
     "output_type": "display_data"
    },
    {
     "name": "stdout",
     "output_type": "stream",
     "text": [
      "Start validation\n"
     ]
    },
    {
     "data": {
      "application/vnd.jupyter.widget-view+json": {
       "model_id": "1b30e70144b34216a3420a8fb8a94587",
       "version_major": 2,
       "version_minor": 0
      },
      "text/plain": [
       "  0%|          | 0/33 [00:00<?, ?it/s]"
      ]
     },
     "metadata": {},
     "output_type": "display_data"
    },
    {
     "name": "stdout",
     "output_type": "stream",
     "text": [
      "Epoch [4/40], Train Loss: 0.3247 Vali Loss: 0.3580, Vali mIoU: 0.4213, Vali Public mIoU: 0.3988\n",
      "--------------------------------------------------------------------------------\n",
      "Validation Class Pred mIoU Score\n",
      "[BG] mIoU : [0.9379]\n",
      "[UNK] mIoU : [0.0000]\n",
      "[General Trash] mIoU : [0.2961]\n",
      "[Paper] mIoU : [0.6439]\n",
      "[Paper pack] mIoU : [0.3762]\n",
      "[Metal] mIoU : [0.3448]\n",
      "[Glass] mIoU : [0.4844]\n",
      "[Plastic] mIoU : [0.3537]\n",
      "[Styrofoam] mIoU : [0.4733]\n",
      "[Plastic Bag] mIoU : [0.7198]\n",
      "[Battery] mIoU : [0.0000]\n",
      "[Clothing] mIoU : [0.4258]\n",
      "--------------------------------------------------------------------------------\n"
     ]
    },
    {
     "data": {
      "application/vnd.jupyter.widget-view+json": {
       "model_id": "c40057ae91e1486d98c3f26e0c8602fb",
       "version_major": 2,
       "version_minor": 0
      },
      "text/plain": [
       "  0%|          | 0/131 [00:00<?, ?it/s]"
      ]
     },
     "metadata": {},
     "output_type": "display_data"
    },
    {
     "name": "stdout",
     "output_type": "stream",
     "text": [
      "Start validation\n"
     ]
    },
    {
     "data": {
      "application/vnd.jupyter.widget-view+json": {
       "model_id": "788e954d0a0047f788013db4e0ab9c3e",
       "version_major": 2,
       "version_minor": 0
      },
      "text/plain": [
       "  0%|          | 0/33 [00:00<?, ?it/s]"
      ]
     },
     "metadata": {},
     "output_type": "display_data"
    },
    {
     "name": "stdout",
     "output_type": "stream",
     "text": [
      "Epoch [5/40], Train Loss: 0.2963 Vali Loss: 0.3060, Vali mIoU: 0.4510, Vali Public mIoU: 0.4320\n",
      "--------------------------------------------------------------------------------\n",
      "Validation Class Pred mIoU Score\n",
      "[BG] mIoU : [0.9409]\n",
      "[UNK] mIoU : [0.0000]\n",
      "[General Trash] mIoU : [0.2724]\n",
      "[Paper] mIoU : [0.6690]\n",
      "[Paper pack] mIoU : [0.4756]\n",
      "[Metal] mIoU : [0.4218]\n",
      "[Glass] mIoU : [0.5127]\n",
      "[Plastic] mIoU : [0.3565]\n",
      "[Styrofoam] mIoU : [0.5479]\n",
      "[Plastic Bag] mIoU : [0.7922]\n",
      "[Battery] mIoU : [0.0000]\n",
      "[Clothing] mIoU : [0.4228]\n",
      "--------------------------------------------------------------------------------\n"
     ]
    },
    {
     "data": {
      "application/vnd.jupyter.widget-view+json": {
       "model_id": "1626fcf558f64585b8cccac05dcee194",
       "version_major": 2,
       "version_minor": 0
      },
      "text/plain": [
       "  0%|          | 0/131 [00:00<?, ?it/s]"
      ]
     },
     "metadata": {},
     "output_type": "display_data"
    },
    {
     "name": "stdout",
     "output_type": "stream",
     "text": [
      "Start validation\n"
     ]
    },
    {
     "data": {
      "application/vnd.jupyter.widget-view+json": {
       "model_id": "ddd560ba883d4666a568bfc94ae31f94",
       "version_major": 2,
       "version_minor": 0
      },
      "text/plain": [
       "  0%|          | 0/33 [00:00<?, ?it/s]"
      ]
     },
     "metadata": {},
     "output_type": "display_data"
    },
    {
     "name": "stdout",
     "output_type": "stream",
     "text": [
      "Epoch [6/40], Train Loss: 0.2768 Vali Loss: 0.3043, Vali mIoU: 0.4367, Vali Public mIoU: 0.4144\n",
      "--------------------------------------------------------------------------------\n",
      "Validation Class Pred mIoU Score\n",
      "[BG] mIoU : [0.9437]\n",
      "[UNK] mIoU : [0.0000]\n",
      "[General Trash] mIoU : [0.3393]\n",
      "[Paper] mIoU : [0.7000]\n",
      "[Paper pack] mIoU : [0.3034]\n",
      "[Metal] mIoU : [0.3658]\n",
      "[Glass] mIoU : [0.4094]\n",
      "[Plastic] mIoU : [0.3460]\n",
      "[Styrofoam] mIoU : [0.5898]\n",
      "[Plastic Bag] mIoU : [0.7842]\n",
      "[Battery] mIoU : [0.0000]\n",
      "[Clothing] mIoU : [0.4586]\n",
      "--------------------------------------------------------------------------------\n"
     ]
    },
    {
     "data": {
      "application/vnd.jupyter.widget-view+json": {
       "model_id": "523bdbe968b1447ea7afe9190260d9ef",
       "version_major": 2,
       "version_minor": 0
      },
      "text/plain": [
       "  0%|          | 0/131 [00:00<?, ?it/s]"
      ]
     },
     "metadata": {},
     "output_type": "display_data"
    },
    {
     "name": "stdout",
     "output_type": "stream",
     "text": [
      "Start validation\n"
     ]
    },
    {
     "data": {
      "application/vnd.jupyter.widget-view+json": {
       "model_id": "d342deb7d8a84f1386f1453cee7575ad",
       "version_major": 2,
       "version_minor": 0
      },
      "text/plain": [
       "  0%|          | 0/33 [00:00<?, ?it/s]"
      ]
     },
     "metadata": {},
     "output_type": "display_data"
    },
    {
     "name": "stdout",
     "output_type": "stream",
     "text": [
      "Epoch [7/40], Train Loss: 0.2466 Vali Loss: 0.2733, Vali mIoU: 0.4770, Vali Public mIoU: 0.4524\n",
      "--------------------------------------------------------------------------------\n",
      "Validation Class Pred mIoU Score\n",
      "[BG] mIoU : [0.9472]\n",
      "[UNK] mIoU : [0.0000]\n",
      "[General Trash] mIoU : [0.3632]\n",
      "[Paper] mIoU : [0.7293]\n",
      "[Paper pack] mIoU : [0.4034]\n",
      "[Metal] mIoU : [0.4510]\n",
      "[Glass] mIoU : [0.6488]\n",
      "[Plastic] mIoU : [0.3605]\n",
      "[Styrofoam] mIoU : [0.6075]\n",
      "[Plastic Bag] mIoU : [0.7820]\n",
      "[Battery] mIoU : [0.0000]\n",
      "[Clothing] mIoU : [0.4318]\n",
      "--------------------------------------------------------------------------------\n"
     ]
    },
    {
     "data": {
      "application/vnd.jupyter.widget-view+json": {
       "model_id": "f11de0d9352e412abe666cd83921c531",
       "version_major": 2,
       "version_minor": 0
      },
      "text/plain": [
       "  0%|          | 0/131 [00:00<?, ?it/s]"
      ]
     },
     "metadata": {},
     "output_type": "display_data"
    },
    {
     "name": "stdout",
     "output_type": "stream",
     "text": [
      "Start validation\n"
     ]
    },
    {
     "data": {
      "application/vnd.jupyter.widget-view+json": {
       "model_id": "868c6f5c75124f03b82975ae7ed188d2",
       "version_major": 2,
       "version_minor": 0
      },
      "text/plain": [
       "  0%|          | 0/33 [00:00<?, ?it/s]"
      ]
     },
     "metadata": {},
     "output_type": "display_data"
    },
    {
     "name": "stdout",
     "output_type": "stream",
     "text": [
      "Epoch [8/40], Train Loss: 0.2298 Vali Loss: 0.2891, Vali mIoU: 0.4728, Vali Public mIoU: 0.4480\n",
      "--------------------------------------------------------------------------------\n",
      "Validation Class Pred mIoU Score\n",
      "[BG] mIoU : [0.9458]\n",
      "[UNK] mIoU : [0.0000]\n",
      "[General Trash] mIoU : [0.3217]\n",
      "[Paper] mIoU : [0.7027]\n",
      "[Paper pack] mIoU : [0.3901]\n",
      "[Metal] mIoU : [0.4281]\n",
      "[Glass] mIoU : [0.5374]\n",
      "[Plastic] mIoU : [0.4087]\n",
      "[Styrofoam] mIoU : [0.6217]\n",
      "[Plastic Bag] mIoU : [0.7910]\n",
      "[Battery] mIoU : [0.0000]\n",
      "[Clothing] mIoU : [0.5261]\n",
      "--------------------------------------------------------------------------------\n"
     ]
    },
    {
     "data": {
      "application/vnd.jupyter.widget-view+json": {
       "model_id": "832df1b3860e477fa83b91cfe2482cbc",
       "version_major": 2,
       "version_minor": 0
      },
      "text/plain": [
       "  0%|          | 0/131 [00:00<?, ?it/s]"
      ]
     },
     "metadata": {},
     "output_type": "display_data"
    },
    {
     "name": "stdout",
     "output_type": "stream",
     "text": [
      "Start validation\n"
     ]
    },
    {
     "data": {
      "application/vnd.jupyter.widget-view+json": {
       "model_id": "1e85efc0293144ca87f396902e3decda",
       "version_major": 2,
       "version_minor": 0
      },
      "text/plain": [
       "  0%|          | 0/33 [00:00<?, ?it/s]"
      ]
     },
     "metadata": {},
     "output_type": "display_data"
    },
    {
     "name": "stdout",
     "output_type": "stream",
     "text": [
      "Epoch [9/40], Train Loss: 0.2172 Vali Loss: 0.2954, Vali mIoU: 0.4508, Vali Public mIoU: 0.4375\n",
      "Epoch     9: reducing learning rate of group 0 to 5.0000e-05.\n",
      "--------------------------------------------------------------------------------\n",
      "Validation Class Pred mIoU Score\n",
      "[BG] mIoU : [0.9492]\n",
      "[UNK] mIoU : [0.0000]\n",
      "[General Trash] mIoU : [0.3260]\n",
      "[Paper] mIoU : [0.7192]\n",
      "[Paper pack] mIoU : [0.4586]\n",
      "[Metal] mIoU : [0.2844]\n",
      "[Glass] mIoU : [0.4833]\n",
      "[Plastic] mIoU : [0.4124]\n",
      "[Styrofoam] mIoU : [0.6163]\n",
      "[Plastic Bag] mIoU : [0.8038]\n",
      "[Battery] mIoU : [0.0000]\n",
      "[Clothing] mIoU : [0.3565]\n",
      "--------------------------------------------------------------------------------\n"
     ]
    },
    {
     "data": {
      "application/vnd.jupyter.widget-view+json": {
       "model_id": "bc77f2afd5434f78868124a90f118f14",
       "version_major": 2,
       "version_minor": 0
      },
      "text/plain": [
       "  0%|          | 0/131 [00:00<?, ?it/s]"
      ]
     },
     "metadata": {},
     "output_type": "display_data"
    },
    {
     "name": "stdout",
     "output_type": "stream",
     "text": [
      "Start validation\n"
     ]
    },
    {
     "data": {
      "application/vnd.jupyter.widget-view+json": {
       "model_id": "eb2758f6243b406fbbf4d9e9677f6321",
       "version_major": 2,
       "version_minor": 0
      },
      "text/plain": [
       "  0%|          | 0/33 [00:00<?, ?it/s]"
      ]
     },
     "metadata": {},
     "output_type": "display_data"
    },
    {
     "name": "stdout",
     "output_type": "stream",
     "text": [
      "Epoch [10/40], Train Loss: 0.1806 Vali Loss: 0.2571, Vali mIoU: 0.5129, Vali Public mIoU: 0.4829\n",
      "--------------------------------------------------------------------------------\n",
      "Validation Class Pred mIoU Score\n",
      "[BG] mIoU : [0.9534]\n",
      "[UNK] mIoU : [0.0000]\n",
      "[General Trash] mIoU : [0.3694]\n",
      "[Paper] mIoU : [0.7306]\n",
      "[Paper pack] mIoU : [0.5065]\n",
      "[Metal] mIoU : [0.4944]\n",
      "[Glass] mIoU : [0.6554]\n",
      "[Plastic] mIoU : [0.4246]\n",
      "[Styrofoam] mIoU : [0.6347]\n",
      "[Plastic Bag] mIoU : [0.8204]\n",
      "[Battery] mIoU : [0.0000]\n",
      "[Clothing] mIoU : [0.5658]\n",
      "--------------------------------------------------------------------------------\n"
     ]
    },
    {
     "data": {
      "application/vnd.jupyter.widget-view+json": {
       "model_id": "0ddfbcd2c23645cea4678ce89339d6be",
       "version_major": 2,
       "version_minor": 0
      },
      "text/plain": [
       "  0%|          | 0/131 [00:00<?, ?it/s]"
      ]
     },
     "metadata": {},
     "output_type": "display_data"
    },
    {
     "name": "stdout",
     "output_type": "stream",
     "text": [
      "Start validation\n"
     ]
    },
    {
     "data": {
      "application/vnd.jupyter.widget-view+json": {
       "model_id": "c1293719b6374efe863a1d6e763bb866",
       "version_major": 2,
       "version_minor": 0
      },
      "text/plain": [
       "  0%|          | 0/33 [00:00<?, ?it/s]"
      ]
     },
     "metadata": {},
     "output_type": "display_data"
    },
    {
     "name": "stdout",
     "output_type": "stream",
     "text": [
      "Epoch [11/40], Train Loss: 0.1626 Vali Loss: 0.2491, Vali mIoU: 0.5240, Vali Public mIoU: 0.4970\n",
      "--------------------------------------------------------------------------------\n",
      "Validation Class Pred mIoU Score\n",
      "[BG] mIoU : [0.9553]\n",
      "[UNK] mIoU : [0.0000]\n",
      "[General Trash] mIoU : [0.3839]\n",
      "[Paper] mIoU : [0.7455]\n",
      "[Paper pack] mIoU : [0.5714]\n",
      "[Metal] mIoU : [0.4829]\n",
      "[Glass] mIoU : [0.6375]\n",
      "[Plastic] mIoU : [0.4482]\n",
      "[Styrofoam] mIoU : [0.6658]\n",
      "[Plastic Bag] mIoU : [0.8211]\n",
      "[Battery] mIoU : [0.0000]\n",
      "[Clothing] mIoU : [0.5764]\n",
      "--------------------------------------------------------------------------------\n"
     ]
    },
    {
     "data": {
      "application/vnd.jupyter.widget-view+json": {
       "model_id": "7ab2839a00f14dc8876c650d3fd2ab07",
       "version_major": 2,
       "version_minor": 0
      },
      "text/plain": [
       "  0%|          | 0/131 [00:00<?, ?it/s]"
      ]
     },
     "metadata": {},
     "output_type": "display_data"
    },
    {
     "name": "stdout",
     "output_type": "stream",
     "text": [
      "Start validation\n"
     ]
    },
    {
     "data": {
      "application/vnd.jupyter.widget-view+json": {
       "model_id": "47aa17af003f45c5b30d69c34019cd74",
       "version_major": 2,
       "version_minor": 0
      },
      "text/plain": [
       "  0%|          | 0/33 [00:00<?, ?it/s]"
      ]
     },
     "metadata": {},
     "output_type": "display_data"
    },
    {
     "name": "stdout",
     "output_type": "stream",
     "text": [
      "Epoch [12/40], Train Loss: 0.1526 Vali Loss: 0.2562, Vali mIoU: 0.5218, Vali Public mIoU: 0.4932\n",
      "--------------------------------------------------------------------------------\n",
      "Validation Class Pred mIoU Score\n",
      "[BG] mIoU : [0.9550]\n",
      "[UNK] mIoU : [0.0000]\n",
      "[General Trash] mIoU : [0.3504]\n",
      "[Paper] mIoU : [0.7368]\n",
      "[Paper pack] mIoU : [0.5302]\n",
      "[Metal] mIoU : [0.5116]\n",
      "[Glass] mIoU : [0.6270]\n",
      "[Plastic] mIoU : [0.4689]\n",
      "[Styrofoam] mIoU : [0.6739]\n",
      "[Plastic Bag] mIoU : [0.8106]\n",
      "[Battery] mIoU : [0.0000]\n",
      "[Clothing] mIoU : [0.5977]\n",
      "--------------------------------------------------------------------------------\n"
     ]
    },
    {
     "data": {
      "application/vnd.jupyter.widget-view+json": {
       "model_id": "e6624834db394e0482e0faab228288b4",
       "version_major": 2,
       "version_minor": 0
      },
      "text/plain": [
       "  0%|          | 0/131 [00:00<?, ?it/s]"
      ]
     },
     "metadata": {},
     "output_type": "display_data"
    },
    {
     "name": "stdout",
     "output_type": "stream",
     "text": [
      "Start validation\n"
     ]
    },
    {
     "data": {
      "application/vnd.jupyter.widget-view+json": {
       "model_id": "5ffdafbf8d4d41eca1fc1ab2dc1a0fb1",
       "version_major": 2,
       "version_minor": 0
      },
      "text/plain": [
       "  0%|          | 0/33 [00:00<?, ?it/s]"
      ]
     },
     "metadata": {},
     "output_type": "display_data"
    },
    {
     "name": "stdout",
     "output_type": "stream",
     "text": [
      "Epoch [13/40], Train Loss: 0.1422 Vali Loss: 0.2581, Vali mIoU: 0.5180, Vali Public mIoU: 0.4949\n",
      "Epoch    13: reducing learning rate of group 0 to 2.5000e-05.\n",
      "--------------------------------------------------------------------------------\n",
      "Validation Class Pred mIoU Score\n",
      "[BG] mIoU : [0.9549]\n",
      "[UNK] mIoU : [0.0000]\n",
      "[General Trash] mIoU : [0.3821]\n",
      "[Paper] mIoU : [0.7374]\n",
      "[Paper pack] mIoU : [0.4658]\n",
      "[Metal] mIoU : [0.5013]\n",
      "[Glass] mIoU : [0.6258]\n",
      "[Plastic] mIoU : [0.4496]\n",
      "[Styrofoam] mIoU : [0.6626]\n",
      "[Plastic Bag] mIoU : [0.8245]\n",
      "[Battery] mIoU : [0.0000]\n",
      "[Clothing] mIoU : [0.6125]\n",
      "--------------------------------------------------------------------------------\n"
     ]
    },
    {
     "data": {
      "application/vnd.jupyter.widget-view+json": {
       "model_id": "fd21360615074b22a7e624f78b3f210b",
       "version_major": 2,
       "version_minor": 0
      },
      "text/plain": [
       "  0%|          | 0/131 [00:00<?, ?it/s]"
      ]
     },
     "metadata": {},
     "output_type": "display_data"
    },
    {
     "name": "stdout",
     "output_type": "stream",
     "text": [
      "Start validation\n"
     ]
    },
    {
     "data": {
      "application/vnd.jupyter.widget-view+json": {
       "model_id": "5d433d8618f0459090bb18be17b5d84b",
       "version_major": 2,
       "version_minor": 0
      },
      "text/plain": [
       "  0%|          | 0/33 [00:00<?, ?it/s]"
      ]
     },
     "metadata": {},
     "output_type": "display_data"
    },
    {
     "name": "stdout",
     "output_type": "stream",
     "text": [
      "Epoch [14/40], Train Loss: 0.1322 Vali Loss: 0.2539, Vali mIoU: 0.5228, Vali Public mIoU: 0.5027\n",
      "--------------------------------------------------------------------------------\n",
      "Validation Class Pred mIoU Score\n",
      "[BG] mIoU : [0.9554]\n",
      "[UNK] mIoU : [0.0000]\n",
      "[General Trash] mIoU : [0.3769]\n",
      "[Paper] mIoU : [0.7453]\n",
      "[Paper pack] mIoU : [0.5383]\n",
      "[Metal] mIoU : [0.4991]\n",
      "[Glass] mIoU : [0.6322]\n",
      "[Plastic] mIoU : [0.4804]\n",
      "[Styrofoam] mIoU : [0.6672]\n",
      "[Plastic Bag] mIoU : [0.8293]\n",
      "[Battery] mIoU : [0.0000]\n",
      "[Clothing] mIoU : [0.5494]\n",
      "--------------------------------------------------------------------------------\n"
     ]
    },
    {
     "data": {
      "application/vnd.jupyter.widget-view+json": {
       "model_id": "ac31334841074445a166a425646dd150",
       "version_major": 2,
       "version_minor": 0
      },
      "text/plain": [
       "  0%|          | 0/131 [00:00<?, ?it/s]"
      ]
     },
     "metadata": {},
     "output_type": "display_data"
    },
    {
     "name": "stdout",
     "output_type": "stream",
     "text": [
      "Start validation\n"
     ]
    },
    {
     "data": {
      "application/vnd.jupyter.widget-view+json": {
       "model_id": "7ff82b0965d342e299c66cc0ceb188cf",
       "version_major": 2,
       "version_minor": 0
      },
      "text/plain": [
       "  0%|          | 0/33 [00:00<?, ?it/s]"
      ]
     },
     "metadata": {},
     "output_type": "display_data"
    },
    {
     "name": "stdout",
     "output_type": "stream",
     "text": [
      "Epoch [15/40], Train Loss: 0.1291 Vali Loss: 0.2537, Vali mIoU: 0.5196, Vali Public mIoU: 0.4978\n",
      "Epoch    15: reducing learning rate of group 0 to 1.2500e-05.\n",
      "--------------------------------------------------------------------------------\n",
      "Validation Class Pred mIoU Score\n",
      "[BG] mIoU : [0.9552]\n",
      "[UNK] mIoU : [0.0000]\n",
      "[General Trash] mIoU : [0.3591]\n",
      "[Paper] mIoU : [0.7411]\n",
      "[Paper pack] mIoU : [0.5347]\n",
      "[Metal] mIoU : [0.5260]\n",
      "[Glass] mIoU : [0.5721]\n",
      "[Plastic] mIoU : [0.4711]\n",
      "[Styrofoam] mIoU : [0.6902]\n",
      "[Plastic Bag] mIoU : [0.8335]\n",
      "[Battery] mIoU : [0.0000]\n",
      "[Clothing] mIoU : [0.5517]\n",
      "--------------------------------------------------------------------------------\n"
     ]
    },
    {
     "data": {
      "application/vnd.jupyter.widget-view+json": {
       "model_id": "7c52299457634d5e98bd720d861b3d23",
       "version_major": 2,
       "version_minor": 0
      },
      "text/plain": [
       "  0%|          | 0/131 [00:00<?, ?it/s]"
      ]
     },
     "metadata": {},
     "output_type": "display_data"
    },
    {
     "name": "stdout",
     "output_type": "stream",
     "text": [
      "Start validation\n"
     ]
    },
    {
     "data": {
      "application/vnd.jupyter.widget-view+json": {
       "model_id": "bfc29e79141841279d677d925f888c56",
       "version_major": 2,
       "version_minor": 0
      },
      "text/plain": [
       "  0%|          | 0/33 [00:00<?, ?it/s]"
      ]
     },
     "metadata": {},
     "output_type": "display_data"
    },
    {
     "name": "stdout",
     "output_type": "stream",
     "text": [
      "Epoch [16/40], Train Loss: 0.1180 Vali Loss: 0.2401, Vali mIoU: 0.5381, Vali Public mIoU: 0.5038\n",
      "--------------------------------------------------------------------------------\n",
      "Validation Class Pred mIoU Score\n",
      "[BG] mIoU : [0.9556]\n",
      "[UNK] mIoU : [0.0000]\n",
      "[General Trash] mIoU : [0.3928]\n",
      "[Paper] mIoU : [0.7527]\n",
      "[Paper pack] mIoU : [0.5539]\n",
      "[Metal] mIoU : [0.5355]\n",
      "[Glass] mIoU : [0.6443]\n",
      "[Plastic] mIoU : [0.4858]\n",
      "[Styrofoam] mIoU : [0.6755]\n",
      "[Plastic Bag] mIoU : [0.8347]\n",
      "[Battery] mIoU : [0.0000]\n",
      "[Clothing] mIoU : [0.6266]\n",
      "--------------------------------------------------------------------------------\n"
     ]
    },
    {
     "data": {
      "application/vnd.jupyter.widget-view+json": {
       "model_id": "79b05f788ba443fba8fd66004c615603",
       "version_major": 2,
       "version_minor": 0
      },
      "text/plain": [
       "  0%|          | 0/131 [00:00<?, ?it/s]"
      ]
     },
     "metadata": {},
     "output_type": "display_data"
    },
    {
     "name": "stdout",
     "output_type": "stream",
     "text": [
      "Start validation\n"
     ]
    },
    {
     "data": {
      "application/vnd.jupyter.widget-view+json": {
       "model_id": "ed17c8b766ea4adcb0c7d2914f3c97a5",
       "version_major": 2,
       "version_minor": 0
      },
      "text/plain": [
       "  0%|          | 0/33 [00:00<?, ?it/s]"
      ]
     },
     "metadata": {},
     "output_type": "display_data"
    },
    {
     "name": "stdout",
     "output_type": "stream",
     "text": [
      "Epoch [17/40], Train Loss: 0.1192 Vali Loss: 0.2518, Vali mIoU: 0.5368, Vali Public mIoU: 0.5029\n",
      "--------------------------------------------------------------------------------\n",
      "Validation Class Pred mIoU Score\n",
      "[BG] mIoU : [0.9544]\n",
      "[UNK] mIoU : [0.0000]\n",
      "[General Trash] mIoU : [0.3719]\n",
      "[Paper] mIoU : [0.7456]\n",
      "[Paper pack] mIoU : [0.5443]\n",
      "[Metal] mIoU : [0.5326]\n",
      "[Glass] mIoU : [0.6848]\n",
      "[Plastic] mIoU : [0.4780]\n",
      "[Styrofoam] mIoU : [0.6764]\n",
      "[Plastic Bag] mIoU : [0.8372]\n",
      "[Battery] mIoU : [0.0000]\n",
      "[Clothing] mIoU : [0.6165]\n",
      "--------------------------------------------------------------------------------\n"
     ]
    },
    {
     "data": {
      "application/vnd.jupyter.widget-view+json": {
       "model_id": "d2a8a6dfe62c423ea01616abd1cdbc49",
       "version_major": 2,
       "version_minor": 0
      },
      "text/plain": [
       "  0%|          | 0/131 [00:00<?, ?it/s]"
      ]
     },
     "metadata": {},
     "output_type": "display_data"
    },
    {
     "name": "stdout",
     "output_type": "stream",
     "text": [
      "Start validation\n"
     ]
    },
    {
     "data": {
      "application/vnd.jupyter.widget-view+json": {
       "model_id": "1f868986348241418a98fc29ad609a10",
       "version_major": 2,
       "version_minor": 0
      },
      "text/plain": [
       "  0%|          | 0/33 [00:00<?, ?it/s]"
      ]
     },
     "metadata": {},
     "output_type": "display_data"
    },
    {
     "name": "stdout",
     "output_type": "stream",
     "text": [
      "Epoch [18/40], Train Loss: 0.1165 Vali Loss: 0.2507, Vali mIoU: 0.5355, Vali Public mIoU: 0.5045\n",
      "Epoch    18: reducing learning rate of group 0 to 6.2500e-06.\n",
      "--------------------------------------------------------------------------------\n",
      "Validation Class Pred mIoU Score\n",
      "[BG] mIoU : [0.9550]\n",
      "[UNK] mIoU : [0.0000]\n",
      "[General Trash] mIoU : [0.3792]\n",
      "[Paper] mIoU : [0.7469]\n",
      "[Paper pack] mIoU : [0.5721]\n",
      "[Metal] mIoU : [0.5024]\n",
      "[Glass] mIoU : [0.6481]\n",
      "[Plastic] mIoU : [0.4747]\n",
      "[Styrofoam] mIoU : [0.6833]\n",
      "[Plastic Bag] mIoU : [0.8311]\n",
      "[Battery] mIoU : [0.0000]\n",
      "[Clothing] mIoU : [0.6332]\n",
      "--------------------------------------------------------------------------------\n"
     ]
    },
    {
     "data": {
      "application/vnd.jupyter.widget-view+json": {
       "model_id": "825d11508f8e4b21a677d1378319b5c8",
       "version_major": 2,
       "version_minor": 0
      },
      "text/plain": [
       "  0%|          | 0/131 [00:00<?, ?it/s]"
      ]
     },
     "metadata": {},
     "output_type": "display_data"
    },
    {
     "name": "stdout",
     "output_type": "stream",
     "text": [
      "Start validation\n"
     ]
    },
    {
     "data": {
      "application/vnd.jupyter.widget-view+json": {
       "model_id": "fd1414956a7d4bde9ca69a8c4dc55d18",
       "version_major": 2,
       "version_minor": 0
      },
      "text/plain": [
       "  0%|          | 0/33 [00:00<?, ?it/s]"
      ]
     },
     "metadata": {},
     "output_type": "display_data"
    },
    {
     "name": "stdout",
     "output_type": "stream",
     "text": [
      "Epoch [19/40], Train Loss: 0.1133 Vali Loss: 0.2487, Vali mIoU: 0.5351, Vali Public mIoU: 0.5093\n",
      "--------------------------------------------------------------------------------\n",
      "Validation Class Pred mIoU Score\n",
      "[BG] mIoU : [0.9570]\n",
      "[UNK] mIoU : [0.0000]\n",
      "[General Trash] mIoU : [0.3877]\n",
      "[Paper] mIoU : [0.7553]\n",
      "[Paper pack] mIoU : [0.5495]\n",
      "[Metal] mIoU : [0.5161]\n",
      "[Glass] mIoU : [0.6534]\n",
      "[Plastic] mIoU : [0.4629]\n",
      "[Styrofoam] mIoU : [0.7007]\n",
      "[Plastic Bag] mIoU : [0.8328]\n",
      "[Battery] mIoU : [0.0002]\n",
      "[Clothing] mIoU : [0.6059]\n",
      "--------------------------------------------------------------------------------\n"
     ]
    },
    {
     "data": {
      "application/vnd.jupyter.widget-view+json": {
       "model_id": "9ecf6fb56b42408198180d5e31cd4290",
       "version_major": 2,
       "version_minor": 0
      },
      "text/plain": [
       "  0%|          | 0/131 [00:00<?, ?it/s]"
      ]
     },
     "metadata": {},
     "output_type": "display_data"
    },
    {
     "name": "stdout",
     "output_type": "stream",
     "text": [
      "Start validation\n"
     ]
    },
    {
     "data": {
      "application/vnd.jupyter.widget-view+json": {
       "model_id": "f9143e61d1dc459c9b75272ca61b7f9f",
       "version_major": 2,
       "version_minor": 0
      },
      "text/plain": [
       "  0%|          | 0/33 [00:00<?, ?it/s]"
      ]
     },
     "metadata": {},
     "output_type": "display_data"
    },
    {
     "name": "stdout",
     "output_type": "stream",
     "text": [
      "Epoch [20/40], Train Loss: 0.1108 Vali Loss: 0.2519, Vali mIoU: 0.5331, Vali Public mIoU: 0.5122\n",
      "Epoch    20: reducing learning rate of group 0 to 3.1250e-06.\n",
      "--------------------------------------------------------------------------------\n",
      "Validation Class Pred mIoU Score\n",
      "[BG] mIoU : [0.9558]\n",
      "[UNK] mIoU : [0.0000]\n",
      "[General Trash] mIoU : [0.3636]\n",
      "[Paper] mIoU : [0.7472]\n",
      "[Paper pack] mIoU : [0.5659]\n",
      "[Metal] mIoU : [0.5283]\n",
      "[Glass] mIoU : [0.6587]\n",
      "[Plastic] mIoU : [0.4890]\n",
      "[Styrofoam] mIoU : [0.6876]\n",
      "[Plastic Bag] mIoU : [0.8371]\n",
      "[Battery] mIoU : [0.0035]\n",
      "[Clothing] mIoU : [0.5608]\n",
      "--------------------------------------------------------------------------------\n"
     ]
    },
    {
     "data": {
      "application/vnd.jupyter.widget-view+json": {
       "model_id": "c4d2dd0f22d842139505b94030da5083",
       "version_major": 2,
       "version_minor": 0
      },
      "text/plain": [
       "  0%|          | 0/131 [00:00<?, ?it/s]"
      ]
     },
     "metadata": {},
     "output_type": "display_data"
    },
    {
     "name": "stdout",
     "output_type": "stream",
     "text": [
      "Start validation\n"
     ]
    },
    {
     "data": {
      "application/vnd.jupyter.widget-view+json": {
       "model_id": "61505f382e9b46248f6d64acb314c527",
       "version_major": 2,
       "version_minor": 0
      },
      "text/plain": [
       "  0%|          | 0/33 [00:00<?, ?it/s]"
      ]
     },
     "metadata": {},
     "output_type": "display_data"
    },
    {
     "name": "stdout",
     "output_type": "stream",
     "text": [
      "Epoch [21/40], Train Loss: 0.1112 Vali Loss: 0.2441, Vali mIoU: 0.5361, Vali Public mIoU: 0.5113\n",
      "--------------------------------------------------------------------------------\n",
      "Validation Class Pred mIoU Score\n",
      "[BG] mIoU : [0.9568]\n",
      "[UNK] mIoU : [0.0000]\n",
      "[General Trash] mIoU : [0.3854]\n",
      "[Paper] mIoU : [0.7591]\n",
      "[Paper pack] mIoU : [0.5769]\n",
      "[Metal] mIoU : [0.5352]\n",
      "[Glass] mIoU : [0.6642]\n",
      "[Plastic] mIoU : [0.4826]\n",
      "[Styrofoam] mIoU : [0.6739]\n",
      "[Plastic Bag] mIoU : [0.8333]\n",
      "[Battery] mIoU : [0.0009]\n",
      "[Clothing] mIoU : [0.5644]\n",
      "--------------------------------------------------------------------------------\n",
      "Stop Training.....\n",
      "--------------------------------------------------------------------------------\n",
      "Fold : [4] Start training..\n",
      "--------------------------------------------------------------------------------\n"
     ]
    },
    {
     "data": {
      "application/vnd.jupyter.widget-view+json": {
       "model_id": "54cf3832935c4ec8a8a74ce6443bd876",
       "version_major": 2,
       "version_minor": 0
      },
      "text/plain": [
       "  0%|          | 0/131 [00:00<?, ?it/s]"
      ]
     },
     "metadata": {},
     "output_type": "display_data"
    },
    {
     "name": "stdout",
     "output_type": "stream",
     "text": [
      "Start validation\n"
     ]
    },
    {
     "data": {
      "application/vnd.jupyter.widget-view+json": {
       "model_id": "65db2b0226ce4ff594a855b581fec54f",
       "version_major": 2,
       "version_minor": 0
      },
      "text/plain": [
       "  0%|          | 0/33 [00:00<?, ?it/s]"
      ]
     },
     "metadata": {},
     "output_type": "display_data"
    },
    {
     "name": "stdout",
     "output_type": "stream",
     "text": [
      "Epoch [1/40], Train Loss: 0.9656 Vali Loss: 0.5308, Vali mIoU: 0.2704, Vali Public mIoU: 0.3024\n",
      "--------------------------------------------------------------------------------\n",
      "Validation Class Pred mIoU Score\n",
      "[BG] mIoU : [0.9262]\n",
      "[UNK] mIoU : [0.0000]\n",
      "[General Trash] mIoU : [0.0940]\n",
      "[Paper] mIoU : [0.5813]\n",
      "[Paper pack] mIoU : [0.0000]\n",
      "[Metal] mIoU : [0.0425]\n",
      "[Glass] mIoU : [0.0565]\n",
      "[Plastic] mIoU : [0.2742]\n",
      "[Styrofoam] mIoU : [0.5718]\n",
      "[Plastic Bag] mIoU : [0.6977]\n",
      "[Battery] mIoU : [0.0000]\n",
      "[Clothing] mIoU : [0.0000]\n",
      "--------------------------------------------------------------------------------\n"
     ]
    },
    {
     "data": {
      "application/vnd.jupyter.widget-view+json": {
       "model_id": "156b12d8f1e44e9da5bf37cbcdac80e9",
       "version_major": 2,
       "version_minor": 0
      },
      "text/plain": [
       "  0%|          | 0/131 [00:00<?, ?it/s]"
      ]
     },
     "metadata": {},
     "output_type": "display_data"
    },
    {
     "name": "stdout",
     "output_type": "stream",
     "text": [
      "Start validation\n"
     ]
    },
    {
     "data": {
      "application/vnd.jupyter.widget-view+json": {
       "model_id": "0f9db7480982423a984d9eae311f0d59",
       "version_major": 2,
       "version_minor": 0
      },
      "text/plain": [
       "  0%|          | 0/33 [00:00<?, ?it/s]"
      ]
     },
     "metadata": {},
     "output_type": "display_data"
    },
    {
     "name": "stdout",
     "output_type": "stream",
     "text": [
      "Epoch [2/40], Train Loss: 0.4792 Vali Loss: 0.3929, Vali mIoU: 0.4045, Vali Public mIoU: 0.3676\n",
      "--------------------------------------------------------------------------------\n",
      "Validation Class Pred mIoU Score\n",
      "[BG] mIoU : [0.9323]\n",
      "[UNK] mIoU : [0.0000]\n",
      "[General Trash] mIoU : [0.3487]\n",
      "[Paper] mIoU : [0.6704]\n",
      "[Paper pack] mIoU : [0.1770]\n",
      "[Metal] mIoU : [0.3523]\n",
      "[Glass] mIoU : [0.2893]\n",
      "[Plastic] mIoU : [0.3488]\n",
      "[Styrofoam] mIoU : [0.6264]\n",
      "[Plastic Bag] mIoU : [0.7576]\n",
      "[Battery] mIoU : [0.0000]\n",
      "[Clothing] mIoU : [0.3508]\n",
      "--------------------------------------------------------------------------------\n"
     ]
    },
    {
     "data": {
      "application/vnd.jupyter.widget-view+json": {
       "model_id": "402ff8aea4084eca95d3a4901c37867c",
       "version_major": 2,
       "version_minor": 0
      },
      "text/plain": [
       "  0%|          | 0/131 [00:00<?, ?it/s]"
      ]
     },
     "metadata": {},
     "output_type": "display_data"
    },
    {
     "name": "stdout",
     "output_type": "stream",
     "text": [
      "Start validation\n"
     ]
    },
    {
     "data": {
      "application/vnd.jupyter.widget-view+json": {
       "model_id": "9e71b737b69f428f996963c9e87fe195",
       "version_major": 2,
       "version_minor": 0
      },
      "text/plain": [
       "  0%|          | 0/33 [00:00<?, ?it/s]"
      ]
     },
     "metadata": {},
     "output_type": "display_data"
    },
    {
     "name": "stdout",
     "output_type": "stream",
     "text": [
      "Epoch [3/40], Train Loss: 0.3800 Vali Loss: 0.3383, Vali mIoU: 0.4354, Vali Public mIoU: 0.3988\n",
      "--------------------------------------------------------------------------------\n",
      "Validation Class Pred mIoU Score\n",
      "[BG] mIoU : [0.9351]\n",
      "[UNK] mIoU : [0.0000]\n",
      "[General Trash] mIoU : [0.4218]\n",
      "[Paper] mIoU : [0.6522]\n",
      "[Paper pack] mIoU : [0.2686]\n",
      "[Metal] mIoU : [0.4461]\n",
      "[Glass] mIoU : [0.3002]\n",
      "[Plastic] mIoU : [0.3358]\n",
      "[Styrofoam] mIoU : [0.5803]\n",
      "[Plastic Bag] mIoU : [0.7546]\n",
      "[Battery] mIoU : [0.0000]\n",
      "[Clothing] mIoU : [0.5297]\n",
      "--------------------------------------------------------------------------------\n"
     ]
    },
    {
     "data": {
      "application/vnd.jupyter.widget-view+json": {
       "model_id": "aaddb703e3b9407a84faeb60cc3684f6",
       "version_major": 2,
       "version_minor": 0
      },
      "text/plain": [
       "  0%|          | 0/131 [00:00<?, ?it/s]"
      ]
     },
     "metadata": {},
     "output_type": "display_data"
    },
    {
     "name": "stdout",
     "output_type": "stream",
     "text": [
      "Start validation\n"
     ]
    },
    {
     "data": {
      "application/vnd.jupyter.widget-view+json": {
       "model_id": "ed527a1204054ad5bf9c6c88e61dde13",
       "version_major": 2,
       "version_minor": 0
      },
      "text/plain": [
       "  0%|          | 0/33 [00:00<?, ?it/s]"
      ]
     },
     "metadata": {},
     "output_type": "display_data"
    },
    {
     "name": "stdout",
     "output_type": "stream",
     "text": [
      "Epoch [4/40], Train Loss: 0.3245 Vali Loss: 0.3108, Vali mIoU: 0.4487, Vali Public mIoU: 0.4131\n",
      "--------------------------------------------------------------------------------\n",
      "Validation Class Pred mIoU Score\n",
      "[BG] mIoU : [0.9395]\n",
      "[UNK] mIoU : [0.0000]\n",
      "[General Trash] mIoU : [0.4358]\n",
      "[Paper] mIoU : [0.7063]\n",
      "[Paper pack] mIoU : [0.3155]\n",
      "[Metal] mIoU : [0.3586]\n",
      "[Glass] mIoU : [0.3505]\n",
      "[Plastic] mIoU : [0.3451]\n",
      "[Styrofoam] mIoU : [0.6443]\n",
      "[Plastic Bag] mIoU : [0.7804]\n",
      "[Battery] mIoU : [0.0000]\n",
      "[Clothing] mIoU : [0.5087]\n",
      "--------------------------------------------------------------------------------\n"
     ]
    },
    {
     "data": {
      "application/vnd.jupyter.widget-view+json": {
       "model_id": "9c6493149b1943cd8411901198c01bbb",
       "version_major": 2,
       "version_minor": 0
      },
      "text/plain": [
       "  0%|          | 0/131 [00:00<?, ?it/s]"
      ]
     },
     "metadata": {},
     "output_type": "display_data"
    },
    {
     "name": "stdout",
     "output_type": "stream",
     "text": [
      "Start validation\n"
     ]
    },
    {
     "data": {
      "application/vnd.jupyter.widget-view+json": {
       "model_id": "71ca3ba067bb40b7815f6050d981ca5d",
       "version_major": 2,
       "version_minor": 0
      },
      "text/plain": [
       "  0%|          | 0/33 [00:00<?, ?it/s]"
      ]
     },
     "metadata": {},
     "output_type": "display_data"
    },
    {
     "name": "stdout",
     "output_type": "stream",
     "text": [
      "Epoch [5/40], Train Loss: 0.2926 Vali Loss: 0.3088, Vali mIoU: 0.4846, Vali Public mIoU: 0.4300\n",
      "--------------------------------------------------------------------------------\n",
      "Validation Class Pred mIoU Score\n",
      "[BG] mIoU : [0.9391]\n",
      "[UNK] mIoU : [0.0000]\n",
      "[General Trash] mIoU : [0.4788]\n",
      "[Paper] mIoU : [0.7136]\n",
      "[Paper pack] mIoU : [0.4116]\n",
      "[Metal] mIoU : [0.4401]\n",
      "[Glass] mIoU : [0.4330]\n",
      "[Plastic] mIoU : [0.3665]\n",
      "[Styrofoam] mIoU : [0.6828]\n",
      "[Plastic Bag] mIoU : [0.7615]\n",
      "[Battery] mIoU : [0.0000]\n",
      "[Clothing] mIoU : [0.5883]\n",
      "--------------------------------------------------------------------------------\n"
     ]
    },
    {
     "data": {
      "application/vnd.jupyter.widget-view+json": {
       "model_id": "661f07f2f37c4470a98c9912f60df07e",
       "version_major": 2,
       "version_minor": 0
      },
      "text/plain": [
       "  0%|          | 0/131 [00:00<?, ?it/s]"
      ]
     },
     "metadata": {},
     "output_type": "display_data"
    },
    {
     "name": "stdout",
     "output_type": "stream",
     "text": [
      "Start validation\n"
     ]
    },
    {
     "data": {
      "application/vnd.jupyter.widget-view+json": {
       "model_id": "70377f6d40cb49308bfc51a3ddd8f804",
       "version_major": 2,
       "version_minor": 0
      },
      "text/plain": [
       "  0%|          | 0/33 [00:00<?, ?it/s]"
      ]
     },
     "metadata": {},
     "output_type": "display_data"
    },
    {
     "name": "stdout",
     "output_type": "stream",
     "text": [
      "Epoch [6/40], Train Loss: 0.2631 Vali Loss: 0.2959, Vali mIoU: 0.4712, Vali Public mIoU: 0.4347\n",
      "--------------------------------------------------------------------------------\n",
      "Validation Class Pred mIoU Score\n",
      "[BG] mIoU : [0.9435]\n",
      "[UNK] mIoU : [0.0000]\n",
      "[General Trash] mIoU : [0.4392]\n",
      "[Paper] mIoU : [0.6887]\n",
      "[Paper pack] mIoU : [0.3714]\n",
      "[Metal] mIoU : [0.4363]\n",
      "[Glass] mIoU : [0.4864]\n",
      "[Plastic] mIoU : [0.3750]\n",
      "[Styrofoam] mIoU : [0.5920]\n",
      "[Plastic Bag] mIoU : [0.7870]\n",
      "[Battery] mIoU : [0.0000]\n",
      "[Clothing] mIoU : [0.5344]\n",
      "--------------------------------------------------------------------------------\n"
     ]
    },
    {
     "data": {
      "application/vnd.jupyter.widget-view+json": {
       "model_id": "4f5b5c8a95e34ab6882ccab15a183a2f",
       "version_major": 2,
       "version_minor": 0
      },
      "text/plain": [
       "  0%|          | 0/131 [00:00<?, ?it/s]"
      ]
     },
     "metadata": {},
     "output_type": "display_data"
    },
    {
     "name": "stdout",
     "output_type": "stream",
     "text": [
      "Start validation\n"
     ]
    },
    {
     "data": {
      "application/vnd.jupyter.widget-view+json": {
       "model_id": "e0ad7416bbd2469eb6023ac87c47c3fe",
       "version_major": 2,
       "version_minor": 0
      },
      "text/plain": [
       "  0%|          | 0/33 [00:00<?, ?it/s]"
      ]
     },
     "metadata": {},
     "output_type": "display_data"
    },
    {
     "name": "stdout",
     "output_type": "stream",
     "text": [
      "Epoch [7/40], Train Loss: 0.2465 Vali Loss: 0.3046, Vali mIoU: 0.4747, Vali Public mIoU: 0.4301\n",
      "Epoch     7: reducing learning rate of group 0 to 5.0000e-05.\n",
      "--------------------------------------------------------------------------------\n",
      "Validation Class Pred mIoU Score\n",
      "[BG] mIoU : [0.9353]\n",
      "[UNK] mIoU : [0.0000]\n",
      "[General Trash] mIoU : [0.4808]\n",
      "[Paper] mIoU : [0.7049]\n",
      "[Paper pack] mIoU : [0.4100]\n",
      "[Metal] mIoU : [0.4834]\n",
      "[Glass] mIoU : [0.4180]\n",
      "[Plastic] mIoU : [0.3863]\n",
      "[Styrofoam] mIoU : [0.6273]\n",
      "[Plastic Bag] mIoU : [0.7801]\n",
      "[Battery] mIoU : [0.0000]\n",
      "[Clothing] mIoU : [0.4704]\n",
      "--------------------------------------------------------------------------------\n"
     ]
    },
    {
     "data": {
      "application/vnd.jupyter.widget-view+json": {
       "model_id": "674bafc8dc804ac6b23e5d4dd6c1bf67",
       "version_major": 2,
       "version_minor": 0
      },
      "text/plain": [
       "  0%|          | 0/131 [00:00<?, ?it/s]"
      ]
     },
     "metadata": {},
     "output_type": "display_data"
    },
    {
     "name": "stdout",
     "output_type": "stream",
     "text": [
      "Start validation\n"
     ]
    },
    {
     "data": {
      "application/vnd.jupyter.widget-view+json": {
       "model_id": "793a657ecb164d99acee7ff3cec7f7f8",
       "version_major": 2,
       "version_minor": 0
      },
      "text/plain": [
       "  0%|          | 0/33 [00:00<?, ?it/s]"
      ]
     },
     "metadata": {},
     "output_type": "display_data"
    },
    {
     "name": "stdout",
     "output_type": "stream",
     "text": [
      "Epoch [8/40], Train Loss: 0.2076 Vali Loss: 0.2583, Vali mIoU: 0.5183, Vali Public mIoU: 0.4738\n",
      "--------------------------------------------------------------------------------\n",
      "Validation Class Pred mIoU Score\n",
      "[BG] mIoU : [0.9481]\n",
      "[UNK] mIoU : [0.0000]\n",
      "[General Trash] mIoU : [0.4849]\n",
      "[Paper] mIoU : [0.7437]\n",
      "[Paper pack] mIoU : [0.4671]\n",
      "[Metal] mIoU : [0.5149]\n",
      "[Glass] mIoU : [0.5482]\n",
      "[Plastic] mIoU : [0.4319]\n",
      "[Styrofoam] mIoU : [0.6930]\n",
      "[Plastic Bag] mIoU : [0.8041]\n",
      "[Battery] mIoU : [0.0000]\n",
      "[Clothing] mIoU : [0.5838]\n",
      "--------------------------------------------------------------------------------\n"
     ]
    },
    {
     "data": {
      "application/vnd.jupyter.widget-view+json": {
       "model_id": "6179471538df4552a825befbb43ed7d9",
       "version_major": 2,
       "version_minor": 0
      },
      "text/plain": [
       "  0%|          | 0/131 [00:00<?, ?it/s]"
      ]
     },
     "metadata": {},
     "output_type": "display_data"
    },
    {
     "name": "stdout",
     "output_type": "stream",
     "text": [
      "Start validation\n"
     ]
    },
    {
     "data": {
      "application/vnd.jupyter.widget-view+json": {
       "model_id": "eb67822f6b104d79935746c0c70dd00d",
       "version_major": 2,
       "version_minor": 0
      },
      "text/plain": [
       "  0%|          | 0/33 [00:00<?, ?it/s]"
      ]
     },
     "metadata": {},
     "output_type": "display_data"
    },
    {
     "name": "stdout",
     "output_type": "stream",
     "text": [
      "Epoch [9/40], Train Loss: 0.1859 Vali Loss: 0.2754, Vali mIoU: 0.4966, Vali Public mIoU: 0.4572\n",
      "--------------------------------------------------------------------------------\n",
      "Validation Class Pred mIoU Score\n",
      "[BG] mIoU : [0.9476]\n",
      "[UNK] mIoU : [0.0000]\n",
      "[General Trash] mIoU : [0.5070]\n",
      "[Paper] mIoU : [0.7366]\n",
      "[Paper pack] mIoU : [0.3824]\n",
      "[Metal] mIoU : [0.4367]\n",
      "[Glass] mIoU : [0.4123]\n",
      "[Plastic] mIoU : [0.4024]\n",
      "[Styrofoam] mIoU : [0.7026]\n",
      "[Plastic Bag] mIoU : [0.8092]\n",
      "[Battery] mIoU : [0.0000]\n",
      "[Clothing] mIoU : [0.6220]\n",
      "--------------------------------------------------------------------------------\n"
     ]
    },
    {
     "data": {
      "application/vnd.jupyter.widget-view+json": {
       "model_id": "dfc2f88a163043e8a507e2c6623c17b2",
       "version_major": 2,
       "version_minor": 0
      },
      "text/plain": [
       "  0%|          | 0/131 [00:00<?, ?it/s]"
      ]
     },
     "metadata": {},
     "output_type": "display_data"
    },
    {
     "name": "stdout",
     "output_type": "stream",
     "text": [
      "Start validation\n"
     ]
    },
    {
     "data": {
      "application/vnd.jupyter.widget-view+json": {
       "model_id": "2782385e2faf460c8527ca2e507ab3a1",
       "version_major": 2,
       "version_minor": 0
      },
      "text/plain": [
       "  0%|          | 0/33 [00:00<?, ?it/s]"
      ]
     },
     "metadata": {},
     "output_type": "display_data"
    },
    {
     "name": "stdout",
     "output_type": "stream",
     "text": [
      "Epoch [10/40], Train Loss: 0.1777 Vali Loss: 0.2643, Vali mIoU: 0.5240, Vali Public mIoU: 0.4764\n",
      "--------------------------------------------------------------------------------\n",
      "Validation Class Pred mIoU Score\n",
      "[BG] mIoU : [0.9463]\n",
      "[UNK] mIoU : [0.0000]\n",
      "[General Trash] mIoU : [0.4530]\n",
      "[Paper] mIoU : [0.7255]\n",
      "[Paper pack] mIoU : [0.4788]\n",
      "[Metal] mIoU : [0.5417]\n",
      "[Glass] mIoU : [0.5286]\n",
      "[Plastic] mIoU : [0.4339]\n",
      "[Styrofoam] mIoU : [0.6988]\n",
      "[Plastic Bag] mIoU : [0.8087]\n",
      "[Battery] mIoU : [0.0000]\n",
      "[Clothing] mIoU : [0.6725]\n",
      "--------------------------------------------------------------------------------\n"
     ]
    },
    {
     "data": {
      "application/vnd.jupyter.widget-view+json": {
       "model_id": "234c66a0bbf94c5f8b4a8d1243c7990c",
       "version_major": 2,
       "version_minor": 0
      },
      "text/plain": [
       "  0%|          | 0/131 [00:00<?, ?it/s]"
      ]
     },
     "metadata": {},
     "output_type": "display_data"
    },
    {
     "name": "stdout",
     "output_type": "stream",
     "text": [
      "Start validation\n"
     ]
    },
    {
     "data": {
      "application/vnd.jupyter.widget-view+json": {
       "model_id": "999d86b8f1bd4fd69d736e22ed9fc1bc",
       "version_major": 2,
       "version_minor": 0
      },
      "text/plain": [
       "  0%|          | 0/33 [00:00<?, ?it/s]"
      ]
     },
     "metadata": {},
     "output_type": "display_data"
    },
    {
     "name": "stdout",
     "output_type": "stream",
     "text": [
      "Epoch [11/40], Train Loss: 0.1635 Vali Loss: 0.2713, Vali mIoU: 0.5142, Vali Public mIoU: 0.4647\n",
      "--------------------------------------------------------------------------------\n",
      "Validation Class Pred mIoU Score\n",
      "[BG] mIoU : [0.9486]\n",
      "[UNK] mIoU : [0.0000]\n",
      "[General Trash] mIoU : [0.4979]\n",
      "[Paper] mIoU : [0.7459]\n",
      "[Paper pack] mIoU : [0.4819]\n",
      "[Metal] mIoU : [0.4846]\n",
      "[Glass] mIoU : [0.5499]\n",
      "[Plastic] mIoU : [0.4443]\n",
      "[Styrofoam] mIoU : [0.6873]\n",
      "[Plastic Bag] mIoU : [0.8078]\n",
      "[Battery] mIoU : [0.0006]\n",
      "[Clothing] mIoU : [0.5221]\n",
      "--------------------------------------------------------------------------------\n"
     ]
    },
    {
     "data": {
      "application/vnd.jupyter.widget-view+json": {
       "model_id": "366092de727147fb85bb5ad901569e44",
       "version_major": 2,
       "version_minor": 0
      },
      "text/plain": [
       "  0%|          | 0/131 [00:00<?, ?it/s]"
      ]
     },
     "metadata": {},
     "output_type": "display_data"
    },
    {
     "name": "stdout",
     "output_type": "stream",
     "text": [
      "Start validation\n"
     ]
    },
    {
     "data": {
      "application/vnd.jupyter.widget-view+json": {
       "model_id": "b31f8db16bd349c892072697e23c7df4",
       "version_major": 2,
       "version_minor": 0
      },
      "text/plain": [
       "  0%|          | 0/33 [00:00<?, ?it/s]"
      ]
     },
     "metadata": {},
     "output_type": "display_data"
    },
    {
     "name": "stdout",
     "output_type": "stream",
     "text": [
      "Epoch [12/40], Train Loss: 0.1536 Vali Loss: 0.2685, Vali mIoU: 0.5189, Vali Public mIoU: 0.4789\n",
      "Epoch    12: reducing learning rate of group 0 to 2.5000e-05.\n",
      "--------------------------------------------------------------------------------\n",
      "Validation Class Pred mIoU Score\n",
      "[BG] mIoU : [0.9499]\n",
      "[UNK] mIoU : [0.0000]\n",
      "[General Trash] mIoU : [0.4745]\n",
      "[Paper] mIoU : [0.7396]\n",
      "[Paper pack] mIoU : [0.3652]\n",
      "[Metal] mIoU : [0.5092]\n",
      "[Glass] mIoU : [0.4717]\n",
      "[Plastic] mIoU : [0.4536]\n",
      "[Styrofoam] mIoU : [0.7196]\n",
      "[Plastic Bag] mIoU : [0.8189]\n",
      "[Battery] mIoU : [0.1792]\n",
      "[Clothing] mIoU : [0.5454]\n",
      "--------------------------------------------------------------------------------\n"
     ]
    },
    {
     "data": {
      "application/vnd.jupyter.widget-view+json": {
       "model_id": "e166a1c811aa4a48aaecde9a90097b1b",
       "version_major": 2,
       "version_minor": 0
      },
      "text/plain": [
       "  0%|          | 0/131 [00:00<?, ?it/s]"
      ]
     },
     "metadata": {},
     "output_type": "display_data"
    },
    {
     "name": "stdout",
     "output_type": "stream",
     "text": [
      "Start validation\n"
     ]
    },
    {
     "data": {
      "application/vnd.jupyter.widget-view+json": {
       "model_id": "8853b972ceea4dd5b407b7080a4e6003",
       "version_major": 2,
       "version_minor": 0
      },
      "text/plain": [
       "  0%|          | 0/33 [00:00<?, ?it/s]"
      ]
     },
     "metadata": {},
     "output_type": "display_data"
    },
    {
     "name": "stdout",
     "output_type": "stream",
     "text": [
      "Epoch [13/40], Train Loss: 0.1398 Vali Loss: 0.2705, Vali mIoU: 0.5321, Vali Public mIoU: 0.4676\n",
      "--------------------------------------------------------------------------------\n",
      "Validation Class Pred mIoU Score\n",
      "[BG] mIoU : [0.9496]\n",
      "[UNK] mIoU : [0.0000]\n",
      "[General Trash] mIoU : [0.5000]\n",
      "[Paper] mIoU : [0.7376]\n",
      "[Paper pack] mIoU : [0.4378]\n",
      "[Metal] mIoU : [0.5092]\n",
      "[Glass] mIoU : [0.4816]\n",
      "[Plastic] mIoU : [0.4382]\n",
      "[Styrofoam] mIoU : [0.7154]\n",
      "[Plastic Bag] mIoU : [0.8173]\n",
      "[Battery] mIoU : [0.2065]\n",
      "[Clothing] mIoU : [0.5926]\n",
      "--------------------------------------------------------------------------------\n"
     ]
    },
    {
     "data": {
      "application/vnd.jupyter.widget-view+json": {
       "model_id": "6c09186df6cf40b28cdcdc76f069fe20",
       "version_major": 2,
       "version_minor": 0
      },
      "text/plain": [
       "  0%|          | 0/131 [00:00<?, ?it/s]"
      ]
     },
     "metadata": {},
     "output_type": "display_data"
    },
    {
     "name": "stdout",
     "output_type": "stream",
     "text": [
      "Start validation\n"
     ]
    },
    {
     "data": {
      "application/vnd.jupyter.widget-view+json": {
       "model_id": "097df5ddbb224796ab20089a38bebe63",
       "version_major": 2,
       "version_minor": 0
      },
      "text/plain": [
       "  0%|          | 0/33 [00:00<?, ?it/s]"
      ]
     },
     "metadata": {},
     "output_type": "display_data"
    },
    {
     "name": "stdout",
     "output_type": "stream",
     "text": [
      "Epoch [14/40], Train Loss: 0.1374 Vali Loss: 0.2643, Vali mIoU: 0.5522, Vali Public mIoU: 0.4796\n",
      "--------------------------------------------------------------------------------\n",
      "Validation Class Pred mIoU Score\n",
      "[BG] mIoU : [0.9508]\n",
      "[UNK] mIoU : [0.0000]\n",
      "[General Trash] mIoU : [0.4933]\n",
      "[Paper] mIoU : [0.7463]\n",
      "[Paper pack] mIoU : [0.4557]\n",
      "[Metal] mIoU : [0.5266]\n",
      "[Glass] mIoU : [0.5414]\n",
      "[Plastic] mIoU : [0.4439]\n",
      "[Styrofoam] mIoU : [0.7357]\n",
      "[Plastic Bag] mIoU : [0.8222]\n",
      "[Battery] mIoU : [0.3705]\n",
      "[Clothing] mIoU : [0.5400]\n",
      "--------------------------------------------------------------------------------\n"
     ]
    },
    {
     "data": {
      "application/vnd.jupyter.widget-view+json": {
       "model_id": "fe553c88aec147aaa9c3cdd04bab3a82",
       "version_major": 2,
       "version_minor": 0
      },
      "text/plain": [
       "  0%|          | 0/131 [00:00<?, ?it/s]"
      ]
     },
     "metadata": {},
     "output_type": "display_data"
    },
    {
     "name": "stdout",
     "output_type": "stream",
     "text": [
      "Start validation\n"
     ]
    },
    {
     "data": {
      "application/vnd.jupyter.widget-view+json": {
       "model_id": "77418ed4c9dc4e7b82e72a4da0318f4f",
       "version_major": 2,
       "version_minor": 0
      },
      "text/plain": [
       "  0%|          | 0/33 [00:00<?, ?it/s]"
      ]
     },
     "metadata": {},
     "output_type": "display_data"
    },
    {
     "name": "stdout",
     "output_type": "stream",
     "text": [
      "Epoch [15/40], Train Loss: 0.1312 Vali Loss: 0.2800, Vali mIoU: 0.5573, Vali Public mIoU: 0.4722\n",
      "--------------------------------------------------------------------------------\n",
      "Validation Class Pred mIoU Score\n",
      "[BG] mIoU : [0.9510]\n",
      "[UNK] mIoU : [0.0000]\n",
      "[General Trash] mIoU : [0.4559]\n",
      "[Paper] mIoU : [0.7402]\n",
      "[Paper pack] mIoU : [0.4604]\n",
      "[Metal] mIoU : [0.5057]\n",
      "[Glass] mIoU : [0.5387]\n",
      "[Plastic] mIoU : [0.4376]\n",
      "[Styrofoam] mIoU : [0.7070]\n",
      "[Plastic Bag] mIoU : [0.8070]\n",
      "[Battery] mIoU : [0.4782]\n",
      "[Clothing] mIoU : [0.6058]\n",
      "--------------------------------------------------------------------------------\n"
     ]
    },
    {
     "data": {
      "application/vnd.jupyter.widget-view+json": {
       "model_id": "097f47c0d8d84bdabeea5052347c054c",
       "version_major": 2,
       "version_minor": 0
      },
      "text/plain": [
       "  0%|          | 0/131 [00:00<?, ?it/s]"
      ]
     },
     "metadata": {},
     "output_type": "display_data"
    },
    {
     "name": "stdout",
     "output_type": "stream",
     "text": [
      "Start validation\n"
     ]
    },
    {
     "data": {
      "application/vnd.jupyter.widget-view+json": {
       "model_id": "aa10661d654d46e9951b12493939c16f",
       "version_major": 2,
       "version_minor": 0
      },
      "text/plain": [
       "  0%|          | 0/33 [00:00<?, ?it/s]"
      ]
     },
     "metadata": {},
     "output_type": "display_data"
    },
    {
     "name": "stdout",
     "output_type": "stream",
     "text": [
      "Epoch [16/40], Train Loss: 0.1215 Vali Loss: 0.2676, Vali mIoU: 0.5691, Vali Public mIoU: 0.4786\n",
      "--------------------------------------------------------------------------------\n",
      "Validation Class Pred mIoU Score\n",
      "[BG] mIoU : [0.9508]\n",
      "[UNK] mIoU : [0.0000]\n",
      "[General Trash] mIoU : [0.4788]\n",
      "[Paper] mIoU : [0.7550]\n",
      "[Paper pack] mIoU : [0.4541]\n",
      "[Metal] mIoU : [0.5352]\n",
      "[Glass] mIoU : [0.4753]\n",
      "[Plastic] mIoU : [0.4433]\n",
      "[Styrofoam] mIoU : [0.7211]\n",
      "[Plastic Bag] mIoU : [0.8183]\n",
      "[Battery] mIoU : [0.5962]\n",
      "[Clothing] mIoU : [0.6009]\n",
      "--------------------------------------------------------------------------------\n"
     ]
    },
    {
     "data": {
      "application/vnd.jupyter.widget-view+json": {
       "model_id": "2a59ceb6acfd4d12b877ecdfd06a5a09",
       "version_major": 2,
       "version_minor": 0
      },
      "text/plain": [
       "  0%|          | 0/131 [00:00<?, ?it/s]"
      ]
     },
     "metadata": {},
     "output_type": "display_data"
    },
    {
     "name": "stdout",
     "output_type": "stream",
     "text": [
      "Start validation\n"
     ]
    },
    {
     "data": {
      "application/vnd.jupyter.widget-view+json": {
       "model_id": "9a93a53559b54265932fa28ba2e727ce",
       "version_major": 2,
       "version_minor": 0
      },
      "text/plain": [
       "  0%|          | 0/33 [00:00<?, ?it/s]"
      ]
     },
     "metadata": {},
     "output_type": "display_data"
    },
    {
     "name": "stdout",
     "output_type": "stream",
     "text": [
      "Epoch [17/40], Train Loss: 0.1177 Vali Loss: 0.2824, Vali mIoU: 0.5485, Vali Public mIoU: 0.4534\n",
      "--------------------------------------------------------------------------------\n",
      "Validation Class Pred mIoU Score\n",
      "[BG] mIoU : [0.9496]\n",
      "[UNK] mIoU : [0.0000]\n",
      "[General Trash] mIoU : [0.4679]\n",
      "[Paper] mIoU : [0.7431]\n",
      "[Paper pack] mIoU : [0.4242]\n",
      "[Metal] mIoU : [0.4801]\n",
      "[Glass] mIoU : [0.5080]\n",
      "[Plastic] mIoU : [0.4356]\n",
      "[Styrofoam] mIoU : [0.6956]\n",
      "[Plastic Bag] mIoU : [0.8090]\n",
      "[Battery] mIoU : [0.5523]\n",
      "[Clothing] mIoU : [0.5162]\n",
      "--------------------------------------------------------------------------------\n"
     ]
    },
    {
     "data": {
      "application/vnd.jupyter.widget-view+json": {
       "model_id": "3cf13eb596bf45588abcf185fde5eee1",
       "version_major": 2,
       "version_minor": 0
      },
      "text/plain": [
       "  0%|          | 0/131 [00:00<?, ?it/s]"
      ]
     },
     "metadata": {},
     "output_type": "display_data"
    },
    {
     "name": "stdout",
     "output_type": "stream",
     "text": [
      "Start validation\n"
     ]
    },
    {
     "data": {
      "application/vnd.jupyter.widget-view+json": {
       "model_id": "fe542f0191e54a1ba675cdac1d631fb2",
       "version_major": 2,
       "version_minor": 0
      },
      "text/plain": [
       "  0%|          | 0/33 [00:00<?, ?it/s]"
      ]
     },
     "metadata": {},
     "output_type": "display_data"
    },
    {
     "name": "stdout",
     "output_type": "stream",
     "text": [
      "Epoch [18/40], Train Loss: 0.1198 Vali Loss: 0.2750, Vali mIoU: 0.5637, Vali Public mIoU: 0.4608\n",
      "Epoch    18: reducing learning rate of group 0 to 1.2500e-05.\n",
      "--------------------------------------------------------------------------------\n",
      "Validation Class Pred mIoU Score\n",
      "[BG] mIoU : [0.9515]\n",
      "[UNK] mIoU : [0.0000]\n",
      "[General Trash] mIoU : [0.4754]\n",
      "[Paper] mIoU : [0.7335]\n",
      "[Paper pack] mIoU : [0.4671]\n",
      "[Metal] mIoU : [0.5213]\n",
      "[Glass] mIoU : [0.5294]\n",
      "[Plastic] mIoU : [0.4411]\n",
      "[Styrofoam] mIoU : [0.7103]\n",
      "[Plastic Bag] mIoU : [0.8080]\n",
      "[Battery] mIoU : [0.5858]\n",
      "[Clothing] mIoU : [0.5416]\n",
      "--------------------------------------------------------------------------------\n"
     ]
    },
    {
     "data": {
      "application/vnd.jupyter.widget-view+json": {
       "model_id": "ecf0aa906d434c30826e689d95f5a307",
       "version_major": 2,
       "version_minor": 0
      },
      "text/plain": [
       "  0%|          | 0/131 [00:00<?, ?it/s]"
      ]
     },
     "metadata": {},
     "output_type": "display_data"
    },
    {
     "name": "stdout",
     "output_type": "stream",
     "text": [
      "Start validation\n"
     ]
    },
    {
     "data": {
      "application/vnd.jupyter.widget-view+json": {
       "model_id": "67e9d2e7f22044fea6f625bf976bad78",
       "version_major": 2,
       "version_minor": 0
      },
      "text/plain": [
       "  0%|          | 0/33 [00:00<?, ?it/s]"
      ]
     },
     "metadata": {},
     "output_type": "display_data"
    },
    {
     "name": "stdout",
     "output_type": "stream",
     "text": [
      "Epoch [19/40], Train Loss: 0.1134 Vali Loss: 0.2766, Vali mIoU: 0.5649, Vali Public mIoU: 0.4765\n",
      "--------------------------------------------------------------------------------\n",
      "Validation Class Pred mIoU Score\n",
      "[BG] mIoU : [0.9528]\n",
      "[UNK] mIoU : [0.0000]\n",
      "[General Trash] mIoU : [0.4772]\n",
      "[Paper] mIoU : [0.7398]\n",
      "[Paper pack] mIoU : [0.4360]\n",
      "[Metal] mIoU : [0.4570]\n",
      "[Glass] mIoU : [0.5356]\n",
      "[Plastic] mIoU : [0.4435]\n",
      "[Styrofoam] mIoU : [0.7233]\n",
      "[Plastic Bag] mIoU : [0.8099]\n",
      "[Battery] mIoU : [0.6226]\n",
      "[Clothing] mIoU : [0.5815]\n",
      "--------------------------------------------------------------------------------\n"
     ]
    },
    {
     "data": {
      "application/vnd.jupyter.widget-view+json": {
       "model_id": "3f4f7f6b898640a8a4995460d3cb0d11",
       "version_major": 2,
       "version_minor": 0
      },
      "text/plain": [
       "  0%|          | 0/131 [00:00<?, ?it/s]"
      ]
     },
     "metadata": {},
     "output_type": "display_data"
    },
    {
     "name": "stdout",
     "output_type": "stream",
     "text": [
      "Start validation\n"
     ]
    },
    {
     "data": {
      "application/vnd.jupyter.widget-view+json": {
       "model_id": "680aa026b713486193e4875b7b6e4bad",
       "version_major": 2,
       "version_minor": 0
      },
      "text/plain": [
       "  0%|          | 0/33 [00:00<?, ?it/s]"
      ]
     },
     "metadata": {},
     "output_type": "display_data"
    },
    {
     "name": "stdout",
     "output_type": "stream",
     "text": [
      "Epoch [20/40], Train Loss: 0.1060 Vali Loss: 0.2775, Vali mIoU: 0.5710, Vali Public mIoU: 0.4776\n",
      "--------------------------------------------------------------------------------\n",
      "Validation Class Pred mIoU Score\n",
      "[BG] mIoU : [0.9514]\n",
      "[UNK] mIoU : [0.0000]\n",
      "[General Trash] mIoU : [0.4911]\n",
      "[Paper] mIoU : [0.7485]\n",
      "[Paper pack] mIoU : [0.3935]\n",
      "[Metal] mIoU : [0.5199]\n",
      "[Glass] mIoU : [0.4963]\n",
      "[Plastic] mIoU : [0.4316]\n",
      "[Styrofoam] mIoU : [0.7270]\n",
      "[Plastic Bag] mIoU : [0.8157]\n",
      "[Battery] mIoU : [0.6457]\n",
      "[Clothing] mIoU : [0.6313]\n",
      "--------------------------------------------------------------------------------\n"
     ]
    },
    {
     "data": {
      "application/vnd.jupyter.widget-view+json": {
       "model_id": "7e6a5531ad3a4a28b2bdcf72883d2d18",
       "version_major": 2,
       "version_minor": 0
      },
      "text/plain": [
       "  0%|          | 0/131 [00:00<?, ?it/s]"
      ]
     },
     "metadata": {},
     "output_type": "display_data"
    },
    {
     "name": "stdout",
     "output_type": "stream",
     "text": [
      "Start validation\n"
     ]
    },
    {
     "data": {
      "application/vnd.jupyter.widget-view+json": {
       "model_id": "4f40ca58f8e34d95a83c6021b8085b98",
       "version_major": 2,
       "version_minor": 0
      },
      "text/plain": [
       "  0%|          | 0/33 [00:00<?, ?it/s]"
      ]
     },
     "metadata": {},
     "output_type": "display_data"
    },
    {
     "name": "stdout",
     "output_type": "stream",
     "text": [
      "Epoch [21/40], Train Loss: 0.1070 Vali Loss: 0.2716, Vali mIoU: 0.5857, Vali Public mIoU: 0.4900\n",
      "--------------------------------------------------------------------------------\n",
      "Validation Class Pred mIoU Score\n",
      "[BG] mIoU : [0.9528]\n",
      "[UNK] mIoU : [0.0000]\n",
      "[General Trash] mIoU : [0.4830]\n",
      "[Paper] mIoU : [0.7532]\n",
      "[Paper pack] mIoU : [0.4995]\n",
      "[Metal] mIoU : [0.5237]\n",
      "[Glass] mIoU : [0.5449]\n",
      "[Plastic] mIoU : [0.4623]\n",
      "[Styrofoam] mIoU : [0.7262]\n",
      "[Plastic Bag] mIoU : [0.8244]\n",
      "[Battery] mIoU : [0.6841]\n",
      "[Clothing] mIoU : [0.5743]\n",
      "--------------------------------------------------------------------------------\n"
     ]
    },
    {
     "data": {
      "application/vnd.jupyter.widget-view+json": {
       "model_id": "ca22031b10244bb2913426e125d7abb5",
       "version_major": 2,
       "version_minor": 0
      },
      "text/plain": [
       "  0%|          | 0/131 [00:00<?, ?it/s]"
      ]
     },
     "metadata": {},
     "output_type": "display_data"
    },
    {
     "name": "stdout",
     "output_type": "stream",
     "text": [
      "Start validation\n"
     ]
    },
    {
     "data": {
      "application/vnd.jupyter.widget-view+json": {
       "model_id": "42a47af4e99b49f0857d01b88a1518c7",
       "version_major": 2,
       "version_minor": 0
      },
      "text/plain": [
       "  0%|          | 0/33 [00:00<?, ?it/s]"
      ]
     },
     "metadata": {},
     "output_type": "display_data"
    },
    {
     "name": "stdout",
     "output_type": "stream",
     "text": [
      "Epoch [22/40], Train Loss: 0.1009 Vali Loss: 0.2759, Vali mIoU: 0.5775, Vali Public mIoU: 0.4782\n",
      "--------------------------------------------------------------------------------\n",
      "Validation Class Pred mIoU Score\n",
      "[BG] mIoU : [0.9526]\n",
      "[UNK] mIoU : [0.0000]\n",
      "[General Trash] mIoU : [0.4906]\n",
      "[Paper] mIoU : [0.7559]\n",
      "[Paper pack] mIoU : [0.4758]\n",
      "[Metal] mIoU : [0.4999]\n",
      "[Glass] mIoU : [0.5142]\n",
      "[Plastic] mIoU : [0.4443]\n",
      "[Styrofoam] mIoU : [0.7193]\n",
      "[Plastic Bag] mIoU : [0.8172]\n",
      "[Battery] mIoU : [0.6599]\n",
      "[Clothing] mIoU : [0.5999]\n",
      "--------------------------------------------------------------------------------\n"
     ]
    },
    {
     "data": {
      "application/vnd.jupyter.widget-view+json": {
       "model_id": "609f92f4b2474dcbbafcabcb9c037d6d",
       "version_major": 2,
       "version_minor": 0
      },
      "text/plain": [
       "  0%|          | 0/131 [00:00<?, ?it/s]"
      ]
     },
     "metadata": {},
     "output_type": "display_data"
    },
    {
     "name": "stdout",
     "output_type": "stream",
     "text": [
      "Start validation\n"
     ]
    },
    {
     "data": {
      "application/vnd.jupyter.widget-view+json": {
       "model_id": "8c6b6e7c1bc6488e96b43a0ee6a949fb",
       "version_major": 2,
       "version_minor": 0
      },
      "text/plain": [
       "  0%|          | 0/33 [00:00<?, ?it/s]"
      ]
     },
     "metadata": {},
     "output_type": "display_data"
    },
    {
     "name": "stdout",
     "output_type": "stream",
     "text": [
      "Epoch [23/40], Train Loss: 0.1051 Vali Loss: 0.2782, Vali mIoU: 0.5909, Vali Public mIoU: 0.4855\n",
      "--------------------------------------------------------------------------------\n",
      "Validation Class Pred mIoU Score\n",
      "[BG] mIoU : [0.9521]\n",
      "[UNK] mIoU : [0.0000]\n",
      "[General Trash] mIoU : [0.4938]\n",
      "[Paper] mIoU : [0.7362]\n",
      "[Paper pack] mIoU : [0.4720]\n",
      "[Metal] mIoU : [0.5481]\n",
      "[Glass] mIoU : [0.5427]\n",
      "[Plastic] mIoU : [0.4548]\n",
      "[Styrofoam] mIoU : [0.7222]\n",
      "[Plastic Bag] mIoU : [0.8219]\n",
      "[Battery] mIoU : [0.6823]\n",
      "[Clothing] mIoU : [0.6646]\n",
      "--------------------------------------------------------------------------------\n"
     ]
    },
    {
     "data": {
      "application/vnd.jupyter.widget-view+json": {
       "model_id": "b5ec3bf285564ca58ccc6f885833bf01",
       "version_major": 2,
       "version_minor": 0
      },
      "text/plain": [
       "  0%|          | 0/131 [00:00<?, ?it/s]"
      ]
     },
     "metadata": {},
     "output_type": "display_data"
    },
    {
     "name": "stdout",
     "output_type": "stream",
     "text": [
      "Start validation\n"
     ]
    },
    {
     "data": {
      "application/vnd.jupyter.widget-view+json": {
       "model_id": "a0c88601580a49ca9d0ea1b5003bde8c",
       "version_major": 2,
       "version_minor": 0
      },
      "text/plain": [
       "  0%|          | 0/33 [00:00<?, ?it/s]"
      ]
     },
     "metadata": {},
     "output_type": "display_data"
    },
    {
     "name": "stdout",
     "output_type": "stream",
     "text": [
      "Epoch [24/40], Train Loss: 0.1051 Vali Loss: 0.2809, Vali mIoU: 0.5805, Vali Public mIoU: 0.4809\n",
      "--------------------------------------------------------------------------------\n",
      "Validation Class Pred mIoU Score\n",
      "[BG] mIoU : [0.9523]\n",
      "[UNK] mIoU : [0.0000]\n",
      "[General Trash] mIoU : [0.4816]\n",
      "[Paper] mIoU : [0.7429]\n",
      "[Paper pack] mIoU : [0.4838]\n",
      "[Metal] mIoU : [0.5276]\n",
      "[Glass] mIoU : [0.5032]\n",
      "[Plastic] mIoU : [0.4272]\n",
      "[Styrofoam] mIoU : [0.7281]\n",
      "[Plastic Bag] mIoU : [0.8253]\n",
      "[Battery] mIoU : [0.7001]\n",
      "[Clothing] mIoU : [0.5939]\n",
      "--------------------------------------------------------------------------------\n"
     ]
    },
    {
     "data": {
      "application/vnd.jupyter.widget-view+json": {
       "model_id": "ae61b88294194312b9a0906c8bf0791c",
       "version_major": 2,
       "version_minor": 0
      },
      "text/plain": [
       "  0%|          | 0/131 [00:00<?, ?it/s]"
      ]
     },
     "metadata": {},
     "output_type": "display_data"
    },
    {
     "name": "stdout",
     "output_type": "stream",
     "text": [
      "Start validation\n"
     ]
    },
    {
     "data": {
      "application/vnd.jupyter.widget-view+json": {
       "model_id": "e57230fe8c31457cbcc5d3c0272a54c2",
       "version_major": 2,
       "version_minor": 0
      },
      "text/plain": [
       "  0%|          | 0/33 [00:00<?, ?it/s]"
      ]
     },
     "metadata": {},
     "output_type": "display_data"
    },
    {
     "name": "stdout",
     "output_type": "stream",
     "text": [
      "Epoch [25/40], Train Loss: 0.1013 Vali Loss: 0.2773, Vali mIoU: 0.5797, Vali Public mIoU: 0.4820\n",
      "Epoch    25: reducing learning rate of group 0 to 6.2500e-06.\n",
      "--------------------------------------------------------------------------------\n",
      "Validation Class Pred mIoU Score\n",
      "[BG] mIoU : [0.9523]\n",
      "[UNK] mIoU : [0.0000]\n",
      "[General Trash] mIoU : [0.4712]\n",
      "[Paper] mIoU : [0.7499]\n",
      "[Paper pack] mIoU : [0.4890]\n",
      "[Metal] mIoU : [0.5110]\n",
      "[Glass] mIoU : [0.5398]\n",
      "[Plastic] mIoU : [0.4472]\n",
      "[Styrofoam] mIoU : [0.7149]\n",
      "[Plastic Bag] mIoU : [0.8249]\n",
      "[Battery] mIoU : [0.6376]\n",
      "[Clothing] mIoU : [0.6181]\n",
      "--------------------------------------------------------------------------------\n"
     ]
    },
    {
     "data": {
      "application/vnd.jupyter.widget-view+json": {
       "model_id": "c08893005ce4478e9a177b07194af230",
       "version_major": 2,
       "version_minor": 0
      },
      "text/plain": [
       "  0%|          | 0/131 [00:00<?, ?it/s]"
      ]
     },
     "metadata": {},
     "output_type": "display_data"
    },
    {
     "name": "stdout",
     "output_type": "stream",
     "text": [
      "Start validation\n"
     ]
    },
    {
     "data": {
      "application/vnd.jupyter.widget-view+json": {
       "model_id": "06b9b488fc78497ba9fdd3c99d000c1c",
       "version_major": 2,
       "version_minor": 0
      },
      "text/plain": [
       "  0%|          | 0/33 [00:00<?, ?it/s]"
      ]
     },
     "metadata": {},
     "output_type": "display_data"
    },
    {
     "name": "stdout",
     "output_type": "stream",
     "text": [
      "Epoch [26/40], Train Loss: 0.0998 Vali Loss: 0.2758, Vali mIoU: 0.5854, Vali Public mIoU: 0.4861\n",
      "--------------------------------------------------------------------------------\n",
      "Validation Class Pred mIoU Score\n",
      "[BG] mIoU : [0.9518]\n",
      "[UNK] mIoU : [0.0000]\n",
      "[General Trash] mIoU : [0.4721]\n",
      "[Paper] mIoU : [0.7445]\n",
      "[Paper pack] mIoU : [0.4701]\n",
      "[Metal] mIoU : [0.5565]\n",
      "[Glass] mIoU : [0.5088]\n",
      "[Plastic] mIoU : [0.4598]\n",
      "[Styrofoam] mIoU : [0.7359]\n",
      "[Plastic Bag] mIoU : [0.8297]\n",
      "[Battery] mIoU : [0.7010]\n",
      "[Clothing] mIoU : [0.5947]\n",
      "--------------------------------------------------------------------------------\n"
     ]
    },
    {
     "data": {
      "application/vnd.jupyter.widget-view+json": {
       "model_id": "c73ef85b9e0247b69404a192711f64fd",
       "version_major": 2,
       "version_minor": 0
      },
      "text/plain": [
       "  0%|          | 0/131 [00:00<?, ?it/s]"
      ]
     },
     "metadata": {},
     "output_type": "display_data"
    },
    {
     "name": "stdout",
     "output_type": "stream",
     "text": [
      "Start validation\n"
     ]
    },
    {
     "data": {
      "application/vnd.jupyter.widget-view+json": {
       "model_id": "7d614c6de7b4432288cc6139ae4705ee",
       "version_major": 2,
       "version_minor": 0
      },
      "text/plain": [
       "  0%|          | 0/33 [00:00<?, ?it/s]"
      ]
     },
     "metadata": {},
     "output_type": "display_data"
    },
    {
     "name": "stdout",
     "output_type": "stream",
     "text": [
      "Epoch [27/40], Train Loss: 0.0956 Vali Loss: 0.2808, Vali mIoU: 0.5787, Vali Public mIoU: 0.4912\n",
      "Epoch    27: reducing learning rate of group 0 to 3.1250e-06.\n",
      "--------------------------------------------------------------------------------\n",
      "Validation Class Pred mIoU Score\n",
      "[BG] mIoU : [0.9508]\n",
      "[UNK] mIoU : [0.0000]\n",
      "[General Trash] mIoU : [0.4851]\n",
      "[Paper] mIoU : [0.7558]\n",
      "[Paper pack] mIoU : [0.5072]\n",
      "[Metal] mIoU : [0.5054]\n",
      "[Glass] mIoU : [0.5077]\n",
      "[Plastic] mIoU : [0.4543]\n",
      "[Styrofoam] mIoU : [0.7264]\n",
      "[Plastic Bag] mIoU : [0.8205]\n",
      "[Battery] mIoU : [0.6970]\n",
      "[Clothing] mIoU : [0.5345]\n",
      "--------------------------------------------------------------------------------\n"
     ]
    },
    {
     "data": {
      "application/vnd.jupyter.widget-view+json": {
       "model_id": "cfa99cd2849c44408a07f671b21b3eb3",
       "version_major": 2,
       "version_minor": 0
      },
      "text/plain": [
       "  0%|          | 0/131 [00:00<?, ?it/s]"
      ]
     },
     "metadata": {},
     "output_type": "display_data"
    },
    {
     "name": "stdout",
     "output_type": "stream",
     "text": [
      "Start validation\n"
     ]
    },
    {
     "data": {
      "application/vnd.jupyter.widget-view+json": {
       "model_id": "d9d1ae321fa54c5ca43f4d06d43d0ad1",
       "version_major": 2,
       "version_minor": 0
      },
      "text/plain": [
       "  0%|          | 0/33 [00:00<?, ?it/s]"
      ]
     },
     "metadata": {},
     "output_type": "display_data"
    },
    {
     "name": "stdout",
     "output_type": "stream",
     "text": [
      "Epoch [28/40], Train Loss: 0.0956 Vali Loss: 0.2744, Vali mIoU: 0.5747, Vali Public mIoU: 0.4732\n",
      "--------------------------------------------------------------------------------\n",
      "Validation Class Pred mIoU Score\n",
      "[BG] mIoU : [0.9532]\n",
      "[UNK] mIoU : [0.0000]\n",
      "[General Trash] mIoU : [0.4763]\n",
      "[Paper] mIoU : [0.7573]\n",
      "[Paper pack] mIoU : [0.4422]\n",
      "[Metal] mIoU : [0.5148]\n",
      "[Glass] mIoU : [0.4757]\n",
      "[Plastic] mIoU : [0.4516]\n",
      "[Styrofoam] mIoU : [0.7260]\n",
      "[Plastic Bag] mIoU : [0.8262]\n",
      "[Battery] mIoU : [0.6732]\n",
      "[Clothing] mIoU : [0.6000]\n",
      "--------------------------------------------------------------------------------\n",
      "Stop Training.....\n"
     ]
    }
   ],
   "source": [
    "folds=StratifiedKFold(n_splits=5,shuffle=True)\n",
    "for current_fold,(train_idx, vali_idx) in enumerate(folds.split(train_dataset,train_dataset.mask_label)):\n",
    "    model = smp.DeepLabV3Plus('resnext50_32x4d', encoder_weights=\"swsl\", classes=12)\n",
    "    model.eval()\n",
    "    model.to(device)\n",
    "\n",
    "    train_data=torch.utils.data.Subset(train_dataset,train_idx)\n",
    "    vali_data=torch.utils.data.Subset(train_dataset,vali_idx)\n",
    "\n",
    "    train_loader=DataLoader(train_data,batch_size=batch_size,shuffle=True,collate_fn=collate_fn,num_workers=0)\n",
    "    val_loader=DataLoader(vali_data,batch_size=batch_size,shuffle=False,collate_fn=collate_fn,num_workers=0)\n",
    "\n",
    "    criterion = nn.CrossEntropyLoss().to(device)\n",
    "    optimizer = torch.optim.Adam(params = model.parameters(), lr = learning_rate)\n",
    "    scheduler = torch.optim.lr_scheduler.ReduceLROnPlateau(optimizer, mode='max', factor=0.5, patience=1,threshold_mode='abs',min_lr=1e-8, verbose=True)\n",
    "    #scheduler = CosineAnnealingWarmUpRestarts(optimizer, T_0=20, eta_max=learning_rate,  T_up=2, gamma=0.5)\n",
    "    \n",
    "    train(current_fold, num_epochs, model, train_loader, val_loader, criterion, optimizer, scheduler, device)"
   ]
  },
  {
   "cell_type": "markdown",
   "metadata": {},
   "source": [
    "## 저장된 model 불러오기 (학습된 이후) "
   ]
  },
  {
   "cell_type": "code",
   "execution_count": 19,
   "metadata": {
    "ExecuteTime": {
     "end_time": "2021-04-16T19:44:21.050200Z",
     "start_time": "2021-04-16T19:44:20.802200Z"
    },
    "scrolled": true
   },
   "outputs": [
    {
     "data": {
      "text/plain": [
       "<All keys matched successfully>"
      ]
     },
     "execution_count": 19,
     "metadata": {},
     "output_type": "execute_result"
    }
   ],
   "source": [
    "# best model 저장된 경로\n",
    "model_path = './saved/15_checkpoint.pt'\n",
    "\n",
    "# best model 불러오기\n",
    "checkpoint = torch.load(model_path, map_location=device)\n",
    "model.load_state_dict(checkpoint)\n",
    "\n",
    "# 추론을 실행하기 전에는 반드시 설정 (batch normalization, dropout 를 평가 모드로 설정)\n",
    "# model.eval()"
   ]
  },
  {
   "cell_type": "markdown",
   "metadata": {},
   "source": [
    "## submission을 위한 test 함수 정의"
   ]
  },
  {
   "cell_type": "code",
   "execution_count": null,
   "metadata": {},
   "outputs": [],
   "source": [
    "test_loader = torch.utils.data.DataLoader(dataset=test_dataset,\n",
    "                                          batch_size=batch_size,\n",
    "                                          num_workers=1,\n",
    "                                          collate_fn=collate_fn)"
   ]
  },
  {
   "cell_type": "code",
   "execution_count": 20,
   "metadata": {
    "ExecuteTime": {
     "end_time": "2021-04-16T19:44:27.469285Z",
     "start_time": "2021-04-16T19:44:27.456021Z"
    }
   },
   "outputs": [],
   "source": [
    "def test(model, data_loader, device):\n",
    "    model.to(device)\n",
    "    size = 256\n",
    "    transform = A.Compose([A.Resize(256, 256)])\n",
    "    print('Start prediction.')\n",
    "    model.eval()\n",
    "    \n",
    "    file_name_list = []\n",
    "    preds_array = np.empty((0, size*size), dtype=np.long)\n",
    "    \n",
    "    with torch.no_grad():\n",
    "        for step, (imgs, image_infos) in enumerate(tqdm(test_loader)):\n",
    "\n",
    "            # inference (512 x 512)\n",
    "            outs = model(torch.stack(imgs).to(device))\n",
    "            oms = torch.argmax(outs.squeeze(), dim=1).detach().cpu().numpy()\n",
    "            \n",
    "            # resize (256 x 256)\n",
    "            temp_mask = []\n",
    "            for img, mask in zip(np.stack(imgs), oms):\n",
    "                transformed = transform(image=img, mask=mask)\n",
    "                mask = transformed['mask']\n",
    "                temp_mask.append(mask)\n",
    "\n",
    "            oms = np.array(temp_mask)\n",
    "            \n",
    "            oms = oms.reshape([oms.shape[0], size*size]).astype(int)\n",
    "            preds_array = np.vstack((preds_array, oms))\n",
    "            \n",
    "            file_name_list.append([i['file_name'] for i in image_infos])\n",
    "    print(\"End prediction.\")\n",
    "    file_names = [y for x in file_name_list for y in x]\n",
    "    \n",
    "    return file_names, preds_array"
   ]
  },
  {
   "cell_type": "markdown",
   "metadata": {},
   "source": [
    "## submission.csv 생성"
   ]
  },
  {
   "cell_type": "code",
   "execution_count": 21,
   "metadata": {
    "ExecuteTime": {
     "end_time": "2021-04-16T19:45:42.235310Z",
     "start_time": "2021-04-16T19:44:30.499016Z"
    },
    "scrolled": true
   },
   "outputs": [
    {
     "name": "stdout",
     "output_type": "stream",
     "text": [
      "Start prediction.\n"
     ]
    },
    {
     "data": {
      "application/vnd.jupyter.widget-view+json": {
       "model_id": "e4418f89783e453db413600d815d15cb",
       "version_major": 2,
       "version_minor": 0
      },
      "text/plain": [
       "  0%|          | 0/42 [00:00<?, ?it/s]"
      ]
     },
     "metadata": {},
     "output_type": "display_data"
    },
    {
     "name": "stdout",
     "output_type": "stream",
     "text": [
      "End prediction.\n"
     ]
    }
   ],
   "source": [
    "# sample_submisson.csv 열기\n",
    "submission = pd.read_csv('./submission/sample_submission.csv', index_col=None)\n",
    "\n",
    "# test set에 대한 prediction\n",
    "file_names, preds = test(model, test_loader, device)\n",
    "\n",
    "# PredictionString 대입\n",
    "for file_name, string in zip(file_names, preds):\n",
    "    submission = submission.append({\"image_id\" : file_name, \"PredictionString\" : ' '.join(str(e) for e in string.tolist())}, \n",
    "                                   ignore_index=True)\n",
    "\n",
    "# submission.csv로 저장\n",
    "submission.to_csv(\"./submission/deeplabv3plus_maxIoU.csv\", index=False)"
   ]
  },
  {
   "cell_type": "markdown",
   "metadata": {},
   "source": [
    "## Reference\n",
    "\n"
   ]
  }
 ],
 "metadata": {
  "hide_input": false,
  "kernelspec": {
   "display_name": "Python 3",
   "language": "python",
   "name": "python3"
  },
  "language_info": {
   "codemirror_mode": {
    "name": "ipython",
    "version": 3
   },
   "file_extension": ".py",
   "mimetype": "text/x-python",
   "name": "python",
   "nbconvert_exporter": "python",
   "pygments_lexer": "ipython3",
   "version": "3.7.7"
  },
  "toc": {
   "base_numbering": 1,
   "nav_menu": {},
   "number_sections": true,
   "sideBar": true,
   "skip_h1_title": false,
   "title_cell": "Table of Contents",
   "title_sidebar": "Contents",
   "toc_cell": true,
   "toc_position": {
    "height": "calc(100% - 180px)",
    "left": "10px",
    "top": "150px",
    "width": "297.278px"
   },
   "toc_section_display": true,
   "toc_window_display": true
  }
 },
 "nbformat": 4,
 "nbformat_minor": 4
}
