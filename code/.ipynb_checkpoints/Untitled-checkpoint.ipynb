{
 "cells": [
  {
   "cell_type": "markdown",
   "id": "4e6ea48b-7f52-47ec-a170-15145ca6cd5e",
   "metadata": {},
   "source": [
    "# Psudo labeling"
   ]
  },
  {
   "cell_type": "code",
   "execution_count": null,
   "id": "cf9777ec-8d9b-4e65-b816-60ac0da1c767",
   "metadata": {},
   "outputs": [],
   "source": [
    "model_path = f'./saved/{CFG.version}.pt'\n",
    "\n",
    "# best model 불러오기\n",
    "checkpoint = torch.load(model_path, map_location=device)\n",
    "model.load_state_dict(checkpoint)\n",
    "\n",
    "# 추론을 실행하기 전에는 반드시 설정 (batch normalization, dropout 를 평가 모드로 설정)\n",
    "model.eval()"
   ]
  },
  {
   "cell_type": "code",
   "execution_count": null,
   "id": "1b4df266-cb30-43cc-ac6d-c2b4800355cb",
   "metadata": {},
   "outputs": [],
   "source": [
    "# 첫번째 batch의 추론 결과 확인\n",
    "for imgs, image_infos in test_loader:\n",
    "    image_infos = image_infos\n",
    "    temp_images = imgs\n",
    "    \n",
    "    model.eval()\n",
    "    # inference\n",
    "    outs = model(torch.stack(temp_images).to(device))\n",
    "    oms = torch.argmax(outs.squeeze(), dim=1).detach().cpu().numpy()\n",
    "\n",
    "    i = 3\n",
    "    fig, (ax1, ax2) = plt.subplots(nrows=1, ncols=2, figsize=(16, 16))\n",
    "\n",
    "    print('Shape of Original Image :', list(temp_images[i].shape))\n",
    "    print('Shape of Predicted : ', list(oms[i].shape))\n",
    "    print('Unique values, category of transformed mask : \\n', [{int(i),category_names[int(i)]} for i in list(np.unique(oms[i]))])\n",
    "\n",
    "    # Original image\n",
    "    ax1.imshow(temp_images[i].permute([1,2,0]))\n",
    "    ax1.grid(False)\n",
    "    ax1.set_title(\"Original image : {}\".format(image_infos[i]['file_name']), fontsize = 15)\n",
    "\n",
    "    # Predicted\n",
    "    ax2.imshow(oms[i])\n",
    "    ax2.grid(False)\n",
    "    ax2.set_title(\"Predicted : {}\".format(image_infos[i]['file_name']), fontsize = 15)\n",
    "\n",
    "    plt.show()"
   ]
  }
 ],
 "metadata": {
  "kernelspec": {
   "display_name": "Python 3",
   "language": "python",
   "name": "python3"
  },
  "language_info": {
   "codemirror_mode": {
    "name": "ipython",
    "version": 3
   },
   "file_extension": ".py",
   "mimetype": "text/x-python",
   "name": "python",
   "nbconvert_exporter": "python",
   "pygments_lexer": "ipython3",
   "version": "3.7.7"
  }
 },
 "nbformat": 4,
 "nbformat_minor": 5
}
