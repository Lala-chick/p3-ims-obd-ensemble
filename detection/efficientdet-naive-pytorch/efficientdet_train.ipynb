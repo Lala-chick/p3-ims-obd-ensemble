{
 "cells": [
  {
   "cell_type": "markdown",
   "metadata": {
    "id": "nPjAIPUhJzg9"
   },
   "source": [
    "## Import"
   ]
  },
  {
   "cell_type": "code",
   "execution_count": 1,
   "metadata": {},
   "outputs": [],
   "source": [
    "import wandb"
   ]
  },
  {
   "cell_type": "code",
   "execution_count": 2,
   "metadata": {},
   "outputs": [
    {
     "name": "stderr",
     "output_type": "stream",
     "text": [
      "\u001b[34m\u001b[1mwandb\u001b[0m: Currently logged in as: \u001b[33mdevhunmin\u001b[0m (use `wandb login --relogin` to force relogin)\n"
     ]
    },
    {
     "data": {
      "text/plain": [
       "True"
      ]
     },
     "execution_count": 2,
     "metadata": {},
     "output_type": "execute_result"
    }
   ],
   "source": [
    "wandb.login()"
   ]
  },
  {
   "cell_type": "code",
   "execution_count": 3,
   "metadata": {},
   "outputs": [
    {
     "data": {
      "text/html": [
       "\n",
       "                Tracking run with wandb version 0.10.30<br/>\n",
       "                Syncing run <strong style=\"color:#cdcd00\">stellar-darkness-54</strong> to <a href=\"https://wandb.ai\" target=\"_blank\">Weights & Biases</a> <a href=\"https://docs.wandb.com/integrations/jupyter.html\" target=\"_blank\">(Documentation)</a>.<br/>\n",
       "                Project page: <a href=\"https://wandb.ai/devhunmin/efficientdet\" target=\"_blank\">https://wandb.ai/devhunmin/efficientdet</a><br/>\n",
       "                Run page: <a href=\"https://wandb.ai/devhunmin/efficientdet/runs/1nq42wym\" target=\"_blank\">https://wandb.ai/devhunmin/efficientdet/runs/1nq42wym</a><br/>\n",
       "                Run data is saved locally in <code>/opt/ml/efficientdet/wandb/run-20210517_133255-1nq42wym</code><br/><br/>\n",
       "            "
      ],
      "text/plain": [
       "<IPython.core.display.HTML object>"
      ]
     },
     "metadata": {},
     "output_type": "display_data"
    },
    {
     "data": {
      "text/html": [
       "<h1>Run(1nq42wym)</h1><iframe src=\"https://wandb.ai/devhunmin/efficientdet/runs/1nq42wym\" style=\"border:none;width:100%;height:400px\"></iframe>"
      ],
      "text/plain": [
       "<wandb.sdk.wandb_run.Run at 0x7efe9e718a90>"
      ]
     },
     "execution_count": 3,
     "metadata": {},
     "output_type": "execute_result"
    }
   ],
   "source": [
    "wandb.init(project=\"efficientdet\",\n",
    "           config={\n",
    "               \"model\":'efficientdet-b4'\n",
    "           })"
   ]
  },
  {
   "cell_type": "code",
   "execution_count": 1,
   "metadata": {
    "executionInfo": {
     "elapsed": 800,
     "status": "ok",
     "timestamp": 1620895927614,
     "user": {
      "displayName": "KM KIM",
      "photoUrl": "",
      "userId": "13177087664038437403"
     },
     "user_tz": -540
    },
    "id": "9LJEGz8cZjG_"
   },
   "outputs": [],
   "source": [
    "from pycocotools.coco import COCO\n",
    "import gluoncv.utils as gcv\n",
    "from torch.utils.data.sampler import WeightedRandomSampler\n",
    "import torch\n",
    "from effdet import get_efficientdet_config, EfficientDet, DetBenchTrain\n",
    "from effdet.efficientdet import HeadNet\n",
    "import os\n",
    "from datetime import datetime\n",
    "import time\n",
    "import random\n",
    "import cv2\n",
    "import pandas as pd\n",
    "import numpy as np\n",
    "import albumentations as A\n",
    "from albumentations.pytorch.transforms import ToTensorV2\n",
    "import matplotlib.pyplot as plt\n",
    "from sklearn.model_selection import KFold\n",
    "from torch.utils.data import DataLoader, Dataset\n",
    "from tqdm import tqdm\n",
    "import warnings\n",
    "from torch.optim.lr_scheduler import _LRScheduler\n",
    "import math\n",
    "warnings.filterwarnings(action='ignore') "
   ]
  },
  {
   "cell_type": "code",
   "execution_count": 2,
   "metadata": {
    "colab": {
     "base_uri": "https://localhost:8080/"
    },
    "executionInfo": {
     "elapsed": 1830,
     "status": "ok",
     "timestamp": 1620895736698,
     "user": {
      "displayName": "KM KIM",
      "photoUrl": "",
      "userId": "13177087664038437403"
     },
     "user_tz": -540
    },
    "id": "HTdrSoEDZpc4",
    "outputId": "9a0af000-f0b4-4641-f922-45e3e269df8f"
   },
   "outputs": [
    {
     "name": "stdout",
     "output_type": "stream",
     "text": [
      "cuda\n"
     ]
    }
   ],
   "source": [
    "device = torch.device('cuda') if torch.cuda.is_available() else torch.device('cpu')\n",
    "print(device)"
   ]
  },
  {
   "cell_type": "code",
   "execution_count": 4,
   "metadata": {},
   "outputs": [
    {
     "data": {
      "text/plain": [
       "'1.6.0'"
      ]
     },
     "execution_count": 4,
     "metadata": {},
     "output_type": "execute_result"
    }
   ],
   "source": [
    "torch.__version__"
   ]
  },
  {
   "cell_type": "code",
   "execution_count": 7,
   "metadata": {},
   "outputs": [
    {
     "name": "stdout",
     "output_type": "stream",
     "text": [
      "Tue May 18 00:33:31 2021       \n",
      "+-----------------------------------------------------------------------------+\n",
      "| NVIDIA-SMI 418.67       Driver Version: 418.67       CUDA Version: 10.1     |\n",
      "|-------------------------------+----------------------+----------------------+\n",
      "| GPU  Name        Persistence-M| Bus-Id        Disp.A | Volatile Uncorr. ECC |\n",
      "| Fan  Temp  Perf  Pwr:Usage/Cap|         Memory-Usage | GPU-Util  Compute M. |\n",
      "|===============================+======================+======================|\n",
      "|   0  Tesla V100-PCIE...  On   | 00000000:00:05.0 Off |                  Off |\n",
      "| N/A   41C    P0    44W / 250W |  15612MiB / 32480MiB |      0%      Default |\n",
      "+-------------------------------+----------------------+----------------------+\n",
      "                                                                               \n",
      "+-----------------------------------------------------------------------------+\n",
      "| Processes:                                                       GPU Memory |\n",
      "|  GPU       PID   Type   Process name                             Usage      |\n",
      "|=============================================================================|\n",
      "+-----------------------------------------------------------------------------+\n"
     ]
    }
   ],
   "source": [
    "!nvidia-smi"
   ]
  },
  {
   "cell_type": "code",
   "execution_count": 6,
   "metadata": {
    "executionInfo": {
     "elapsed": 665,
     "status": "ok",
     "timestamp": 1620895737964,
     "user": {
      "displayName": "KM KIM",
      "photoUrl": "",
      "userId": "13177087664038437403"
     },
     "user_tz": -540
    },
    "id": "Uf0AsHbJZvYB"
   },
   "outputs": [],
   "source": [
    "def seed_everything(seed):\n",
    "    random.seed(seed)\n",
    "    os.environ['PYTHONHASHSEED'] = str(seed)\n",
    "    np.random.seed(seed)\n",
    "    torch.manual_seed(seed)\n",
    "    torch.cuda.manual_seed(seed)\n",
    "    torch.backends.cudnn.deterministic = True\n",
    "    torch.backends.cudnn.benchmark = True"
   ]
  },
  {
   "cell_type": "code",
   "execution_count": 7,
   "metadata": {
    "executionInfo": {
     "elapsed": 742,
     "status": "ok",
     "timestamp": 1620895739260,
     "user": {
      "displayName": "KM KIM",
      "photoUrl": "",
      "userId": "13177087664038437403"
     },
     "user_tz": -540
    },
    "id": "W1MUIEicZxtO"
   },
   "outputs": [],
   "source": [
    "batch_size = 4\n",
    "learning_rate = 1e-4\n",
    "num_epochs = 200\n",
    "seed = 41"
   ]
  },
  {
   "cell_type": "code",
   "execution_count": 8,
   "metadata": {
    "executionInfo": {
     "elapsed": 451,
     "status": "ok",
     "timestamp": 1620895740341,
     "user": {
      "displayName": "KM KIM",
      "photoUrl": "",
      "userId": "13177087664038437403"
     },
     "user_tz": -540
    },
    "id": "tuNOCEnYZzU3"
   },
   "outputs": [],
   "source": [
    "seed_everything(seed)"
   ]
  },
  {
   "cell_type": "code",
   "execution_count": 9,
   "metadata": {
    "executionInfo": {
     "elapsed": 777,
     "status": "ok",
     "timestamp": 1620895791468,
     "user": {
      "displayName": "KM KIM",
      "photoUrl": "",
      "userId": "13177087664038437403"
     },
     "user_tz": -540
    },
    "id": "RqyRqPIWYnyt"
   },
   "outputs": [],
   "source": [
    "IMAGENET_DEFAULT_MEAN = [x * 255 for x in (0.485, 0.456, 0.406)]\n",
    "IMAGENET_DEFAULT_STD = [x * 255 for x in (0.229, 0.224, 0.225)]\n",
    "\n",
    "class CustomDataset(Dataset):\n",
    "    '''\n",
    "      data_dir: data가 존재하는 폴더 경로\n",
    "      transforms: data transform (resize, crop, Totensor, etc,,,)\n",
    "    '''\n",
    "    def __init__(self, annotation, data_dir, test_mode, transforms):\n",
    "        super().__init__()\n",
    "        self.img_size=256\n",
    "        self.mosaic_border = [512//2, 512//2]\n",
    "        self.test_mode = test_mode\n",
    "        self.obj_label = []\n",
    "        self.data_dir = data_dir\n",
    "        # coco annotation 불러오기 (coco API)\n",
    "        self.coco = COCO(annotation)\n",
    "        self.predictions = {\n",
    "            \"images\": self.coco.dataset[\"images\"].copy(),\n",
    "            \"categories\": self.coco.dataset[\"categories\"].copy(),\n",
    "            \"annotations\": None\n",
    "        }\n",
    "        self.transforms = transforms\n",
    "        \n",
    "        if self.test_mode==False:\n",
    "            for index in tqdm(range(len(self.coco.getImgIds()))):\n",
    "                image_id = self.coco.getImgIds(imgIds=index)\n",
    "                image_info = self.coco.loadImgs(image_id)[0]\n",
    "                ann_ids = self.coco.getAnnIds(imgIds=image_info['id'])\n",
    "                anns = self.coco.loadAnns(ann_ids)\n",
    "                obj_list = np.array([x['category_id'] for x in anns])\n",
    "                self.get_obj_label(obj_list)\n",
    "    \n",
    "    #   0          1             2        3        4       5     6         7            8          9         10\n",
    "    # UNKNOWN, General trash, Paper, Paper pack, Metal, Glass, Plastic, Styrofoam, Plastic bag, Battery, Clothing\n",
    "    #  160,            2782,    9311,     659,    562   , 610 ,  3090,     1343    ,  7643,       63,        177\n",
    "    def get_obj_label(self,obj_list):\n",
    "        if 9.0 in list(np.unique(obj_list)): self.obj_label.append(0)\n",
    "        elif 0.0 in list(np.unique(obj_list)): self.obj_label.append(1)\n",
    "        elif 10.0 in list(np.unique(obj_list)): self.obj_label.append(2)\n",
    "        elif 4.0 in list(np.unique(obj_list)): self.obj_label.append(3)\n",
    "        elif 5.0 in list(np.unique(obj_list)): self.obj_label.append(4)\n",
    "        elif 3.0 in list(np.unique(obj_list)): self.obj_label.append(5)\n",
    "        elif 7.0 in list(np.unique(obj_list)): self.obj_label.append(6)\n",
    "        elif 1.0 in list(np.unique(obj_list)): self.obj_label.append(7)\n",
    "        elif 6.0 in list(np.unique(obj_list)): self.obj_label.append(8)\n",
    "        elif 8.0 in list(np.unique(obj_list)): self.obj_label.append(9)\n",
    "        else: self.obj_label.append(10)\n",
    "\n",
    "    def __getitem__(self, index: int):\n",
    "        image_id = self.coco.getImgIds(imgIds=index)\n",
    "        image, boxes, labels = self.load_image_and_boxes(index)\n",
    "\n",
    "        if self.test_mode:\n",
    "            image, boxes, labels = self.load_image_and_boxes(index)\n",
    "        else:\n",
    "            p = random.random()\n",
    "            if p > 0.6:\n",
    "                image, boxes, labels = self.load_mixup_image_and_boxes(index) # p=0.4\n",
    "            elif p > 0.3:\n",
    "                image, boxes, labels = self.load_mosaic(index) # p=0.3\n",
    "            else:\n",
    "                image, boxes, labels = self.load_image_and_boxes(index) # p=0.3\n",
    "\n",
    "            \n",
    "        target = {}\n",
    "        target['boxes'] = boxes\n",
    "        target['labels'] = labels\n",
    "        target['image_id'] = torch.tensor([index])\n",
    "        \n",
    "        # Multi Scale Training 의 실마리\n",
    "        target['img_size'] = torch.tensor([(512, 512)])\n",
    "        target['img_scale'] = torch.tensor([1.])\n",
    "        \n",
    "        if self.transforms:\n",
    "            for i in range(10):\n",
    "                sample = {\n",
    "                    'image': image,\n",
    "                    'bboxes': target['boxes'],\n",
    "                    'labels': target['labels']\n",
    "                }\n",
    "                sample = self.transforms(**sample)\n",
    "                if len(sample['bboxes']) > 0:\n",
    "                    image = sample['image']\n",
    "                    target['boxes'] = torch.stack(tuple(map(torch.tensor, zip(*sample['bboxes'])))).permute(1, 0)\n",
    "                    target['boxes'][:,[0,1,2,3]] = target['boxes'][:,[1,0,3,2]]  #yxyx: be warning\n",
    "                    target['labels'] = torch.tensor(sample['labels'])\n",
    "                    break\n",
    "        \n",
    "        return image, target, image_id\n",
    "    \n",
    "    def __len__(self) -> int:\n",
    "        return len(self.coco.getImgIds())\n",
    "    \n",
    "    def load_image_and_boxes(self, index):\n",
    "        image_id = self.coco.getImgIds(imgIds=index)\n",
    "        image_info = self.coco.loadImgs(image_id)[0]\n",
    "        \n",
    "        image = cv2.imread(os.path.join(self.data_dir, image_info['file_name']))\n",
    "        image = cv2.cvtColor(image, cv2.COLOR_BGR2RGB).astype(np.float32)\n",
    "        image = (image - IMAGENET_DEFAULT_MEAN) / IMAGENET_DEFAULT_STD\n",
    "\n",
    "        ann_ids = self.coco.getAnnIds(imgIds=image_info['id'])\n",
    "        anns = self.coco.loadAnns(ann_ids)\n",
    "\n",
    "        boxes = np.array([x['bbox'] for x in anns])\n",
    "        \n",
    "        labels = np.array([x['category_id'] for x in anns])\n",
    "        #labels = torch.as_tensor(labels, dtype=torch.int64)\n",
    "\n",
    "        # boxex (x_min, y_min, x_max, y_max)\n",
    "        boxes[:, 2] = boxes[:, 0] + boxes[:, 2]\n",
    "        boxes[:, 3] = boxes[:, 1] + boxes[:, 3]\n",
    "        return image, boxes, labels\n",
    "    \n",
    "    def load_mixup_image_and_boxes(self, index):\n",
    "        image, boxes, labels = self.load_image_and_boxes(index)\n",
    "        r_image, r_boxes, r_labels = self.load_image_and_boxes(random.randint(0, len(self.coco.getImgIds()) - 1))\n",
    "        lam = np.clip(np.random.beta(1.0, 1.0), 0.35, 0.65)\n",
    "        image = lam * image + (1 - lam) * r_image\n",
    "        return image, np.vstack((boxes, r_boxes)).astype(np.int32), np.concatenate((labels, r_labels))\n",
    "    \n",
    "    def load_mosaic(self, index):\n",
    "        # Modify -> Normal 1/4 image\n",
    "        boxes4 = []\n",
    "        labels4 = []\n",
    "        s = self.img_size\n",
    "        h = s\n",
    "        w = s\n",
    "        #xc, yc = [int(random.uniform(-x, 2*s+x)) for x in self.mosaic_border]\n",
    "        xc, yc = self.mosaic_border\n",
    "        indices = [index] + [random.randint(0, len(self.coco.getImgIds()) - 1) for _ in range(3)]\n",
    "        for i, index in enumerate(indices):\n",
    "            image, y, x = self.load_image_and_boxes(index)\n",
    "\n",
    "            boxes = y.copy()\n",
    "\n",
    "            if i==0: # top left\n",
    "                img4 = np.full((s*2,s*2, image.shape[2]), 114/255.0, dtype=np.float32)\n",
    "                x1a, y1a, x2a, y2a = max(xc-w,0), max(yc-h,0), xc, yc\n",
    "                x1b, y1b, x2b, y2b = w - (x2a-x1a), h-(y2a-y1a), w, h\n",
    "            elif i==1: # top right\n",
    "                x1a, y1a, x2a, y2a = xc, max(yc-h,0), min(xc+w, s*2), yc\n",
    "                x1b, y1b, x2b, y2b = 0, h - (y2a-y1a), min(w, x2a-x1a), h\n",
    "            elif i==2: # bottom left\n",
    "                x1a, y1a, x2a, y2a = max(xc - w, 0), yc, xc, min(s*2, yc+h)\n",
    "                x1b, y1b, x2b, y2b = w - (x2a - x1a), 0, max(xc, w), min(y2a-y1a, h)\n",
    "            elif i==3: # bottom right\n",
    "                x1a, y1a, x2a, y2a = xc, yc, min(xc+w, s*2), min(s*2,yc+h)\n",
    "                x1b, y1b, x2b, y2b = 0, 0, min(w,x2a-x1a), min(y2a-y1a,h)\n",
    "\n",
    "            img4[y1a:y2a, x1a:x2a]=image[y1b:y2b, x1b:x2b]\n",
    "            padw = x1a - x1b\n",
    "            padh = y1a - y1b\n",
    "\n",
    "            labels = x.copy()\n",
    "            boxes = y.copy()\n",
    "\n",
    "            if len(labels)>0:\n",
    "                boxes[:,0]=(y[:,0])+padw\n",
    "                boxes[:,1]=(y[:,1])+padh\n",
    "                boxes[:,2]=(y[:,2])+padw\n",
    "                boxes[:,3]=(y[:,3])+padh\n",
    "          \n",
    "            boxes4.append(boxes)\n",
    "            labels4.append(labels)\n",
    "      \n",
    "        labels4 = np.concatenate(labels4,0)\n",
    "        boxes4 = np.concatenate(boxes4,0)\n",
    "        np.clip(boxes4, 0, 2*s, out=boxes4)\n",
    "        indicies = []\n",
    "        for i, box in enumerate(boxes4):\n",
    "            if box[0] >= box[2] or box[1] >= box[3]:\n",
    "                indicies.append(i)\n",
    "\n",
    "        boxes4 = np.delete(boxes4,indicies, axis=0)\n",
    "        labels4 = np.delete(labels4, indicies, axis=0)\n",
    "\n",
    "        return img4, boxes4, labels4"
   ]
  },
  {
   "cell_type": "code",
   "execution_count": 10,
   "metadata": {
    "executionInfo": {
     "elapsed": 750,
     "status": "ok",
     "timestamp": 1620895796146,
     "user": {
      "displayName": "KM KIM",
      "photoUrl": "",
      "userId": "13177087664038437403"
     },
     "user_tz": -540
    },
    "id": "WF6C5ISbYrft"
   },
   "outputs": [],
   "source": [
    "def collate_fn(batch):\n",
    "    return tuple(zip(*batch))\n",
    "\n",
    "def get_train_transform():\n",
    "    return A.Compose([\n",
    "        A.OneOf([\n",
    "            A.RandomCrop(384,384,p=1),\n",
    "            A.RandomCrop(256,256,p=1),\n",
    "        ],p=0.3),\n",
    "        A.HorizontalFlip(p=0.5),\n",
    "        A.RandomRotate90(p=0.3),\n",
    "        A.VerticalFlip(p=0.4),\n",
    "        A.Resize(256,256),\n",
    "        ToTensorV2(p=1.0)\n",
    "    ], bbox_params=A.BboxParams(\n",
    "            format='pascal_voc',\n",
    "            min_area=0, \n",
    "            min_visibility=0,\n",
    "            label_fields=['labels'])\n",
    "    )\n",
    "\n",
    "def get_valid_transform():\n",
    "    return A.Compose([\n",
    "        A.Resize(256,256),\n",
    "        ToTensorV2(p=1.0)\n",
    "    ], bbox_params=A.BboxParams(\n",
    "            format='pascal_voc',\n",
    "            min_area=0, \n",
    "            min_visibility=0,\n",
    "            label_fields=['labels'])\n",
    "    )"
   ]
  },
  {
   "cell_type": "code",
   "execution_count": 11,
   "metadata": {
    "colab": {
     "base_uri": "https://localhost:8080/",
     "height": 315,
     "referenced_widgets": [
      "e1c8780748664bb299f579e066614790",
      "1af8095e7fcf477388fa198000c0a88e",
      "415ace3571cb4841bd49f6f765519e63",
      "014e93bc2b8448ab9766c7bf5fce027a",
      "f57f092d93794cf2a6bc992febe88808",
      "9f6c2828313b48ee87e2761df787a1b5",
      "6323f874053b4b9bb9eee3af3cd4f4da",
      "ebe5e5cf718f4cda80acbe9071978df9",
      "675294ef20a1473aa899cf6946fe78e4",
      "b14b8bc17d084e48934477b59f42d277",
      "9a88e37e052a49dabbe441ffb7bd8eaf",
      "fd94dcd5b7ce46259a0a99e1cac758b5",
      "79e9e25c52ab40efa01cedf98a5c1fa6",
      "9ed9c584172a419bbd081564feea18fc",
      "89f4335f1be843e39d02e100d367d799",
      "2e0126444f014196aac6ca5a9572df31"
     ]
    },
    "executionInfo": {
     "elapsed": 34185,
     "status": "ok",
     "timestamp": 1620896016509,
     "user": {
      "displayName": "KM KIM",
      "photoUrl": "",
      "userId": "13177087664038437403"
     },
     "user_tz": -540
    },
    "id": "501OF7NWYtUN",
    "outputId": "17de637f-3fa2-4c90-bd68-3be8fbb284c8"
   },
   "outputs": [
    {
     "name": "stdout",
     "output_type": "stream",
     "text": [
      "loading annotations into memory...\n"
     ]
    },
    {
     "name": "stderr",
     "output_type": "stream",
     "text": [
      " 36%|███▌      | 947/2617 [00:00<00:00, 9466.04it/s]"
     ]
    },
    {
     "name": "stdout",
     "output_type": "stream",
     "text": [
      "Done (t=4.06s)\n",
      "creating index...\n",
      "index created!\n"
     ]
    },
    {
     "name": "stderr",
     "output_type": "stream",
     "text": [
      "100%|██████████| 2617/2617 [00:00<00:00, 8868.53it/s]\n"
     ]
    },
    {
     "name": "stdout",
     "output_type": "stream",
     "text": [
      "loading annotations into memory...\n",
      "Done (t=1.41s)\n",
      "creating index...\n",
      "index created!\n"
     ]
    }
   ],
   "source": [
    "train_annotation = '../input/data/train.json'\n",
    "val_annotation = '../input/data/val.json'\n",
    "data_dir = '../input/data'\n",
    "train_dataset = CustomDataset(train_annotation, data_dir, False, get_train_transform())\n",
    "val_dataset = CustomDataset(val_annotation, data_dir, True, get_valid_transform())\n",
    "\n",
    "\n",
    "# weighted sampler\n",
    "counts = np.bincount(train_dataset.obj_label)\n",
    "labels_weights = 1. / counts\n",
    "weights = labels_weights[train_dataset.obj_label]\n",
    "weight_sampler=WeightedRandomSampler(weights, len(weights))\n",
    "\n",
    "train_data_loader=DataLoader(train_dataset,batch_size=batch_size,sampler=weight_sampler,collate_fn=collate_fn,num_workers=0)\n",
    "\n",
    "#train_data_loader=DataLoader(train_dataset,batch_size=batch_size,shuffle=True,collate_fn=collate_fn,num_workers=0)\n",
    "val_data_loader=DataLoader(val_dataset,batch_size=batch_size,shuffle=False,collate_fn=collate_fn,num_workers=0)"
   ]
  },
  {
   "cell_type": "code",
   "execution_count": 12,
   "metadata": {},
   "outputs": [],
   "source": [
    "def get_model():\n",
    "    #tf_efficientdet_d5_ap\n",
    "    config = get_efficientdet_config('tf_efficientdet_d4')\n",
    "    config.image_size = (256,256)\n",
    "    config.norm_kwargs=dict(eps=.001, momentum=.01)\n",
    "    net = EfficientDet(config, pretrained_backbone=True)\n",
    "    checkpoint = torch.load('./pretrained_weight/tf_efficientdet_d4_49-f56376d9.pth')\n",
    "    net.load_state_dict(checkpoint)\n",
    "\n",
    "    net.reset_head(num_classes=11)\n",
    "    net.class_net = HeadNet(config, num_outputs=11)\n",
    "    return DetBenchTrain(net, config)"
   ]
  },
  {
   "cell_type": "code",
   "execution_count": 13,
   "metadata": {
    "executionInfo": {
     "elapsed": 1294,
     "status": "ok",
     "timestamp": 1620896044753,
     "user": {
      "displayName": "KM KIM",
      "photoUrl": "",
      "userId": "13177087664038437403"
     },
     "user_tz": -540
    },
    "id": "3wk6-uMiZO9t"
   },
   "outputs": [],
   "source": [
    "class AverageMeter(object):\n",
    "    \"\"\"Computes and stores the average and current value\"\"\"\n",
    "    def __init__(self):\n",
    "        self.reset()\n",
    "\n",
    "    def reset(self):\n",
    "        self.val = 0\n",
    "        self.avg = 0\n",
    "        self.sum = 0\n",
    "        self.count = 0\n",
    "\n",
    "    def update(self, val, n=1):\n",
    "        self.val = val\n",
    "        self.sum += val * n\n",
    "        self.count += n\n",
    "        self.avg = self.sum / self.count"
   ]
  },
  {
   "cell_type": "code",
   "execution_count": 14,
   "metadata": {
    "executionInfo": {
     "elapsed": 777,
     "status": "ok",
     "timestamp": 1620896047013,
     "user": {
      "displayName": "KM KIM",
      "photoUrl": "",
      "userId": "13177087664038437403"
     },
     "user_tz": -540
    },
    "id": "xz-PjM2XZQpM"
   },
   "outputs": [],
   "source": [
    "class EarlyStopping:\n",
    "    def __init__(self, patience=100, verbose=False, delta=0, path=None):\n",
    "        self.patience = patience\n",
    "        self.verbose = verbose\n",
    "        self.counter = 0\n",
    "        self.best_score = None\n",
    "        self.early_stop = False\n",
    "        self.delta = delta\n",
    "        self.path = path\n",
    "\n",
    "    def __call__(self, val_mAP, model):\n",
    "        score = val_mAP\n",
    "        if self.best_score is None:\n",
    "            self.best_score = score\n",
    "            self.save_checkpoint(model)\n",
    "        elif score < self.best_score + self.delta:\n",
    "            self.counter += 1\n",
    "            if self.verbose:\n",
    "                print(f'EarlyStopping counter: {self.counter} out of {self.patience}')\n",
    "            if self.counter >= self.patience:\n",
    "                self.early_stop = True\n",
    "        else:\n",
    "            self.best_score = score\n",
    "            self.save_checkpoint(model)\n",
    "            self.counter = 0\n",
    "\n",
    "    def save_checkpoint(self, model):\n",
    "        model.eval()\n",
    "        torch.save(model.state_dict(), self.path)"
   ]
  },
  {
   "cell_type": "code",
   "execution_count": 15,
   "metadata": {},
   "outputs": [],
   "source": [
    "def freeze_backbone(m):\n",
    "    classname = m.__class__.__name__\n",
    "    for ntl in ['EfficientNet', 'BiFPN']:\n",
    "        if ntl in classname:\n",
    "            for param in m.parameters():\n",
    "                param.requires_grad = False\n",
    "\n",
    "def Unfreeze_backbone(m):\n",
    "    classname = m.__class__.__name__\n",
    "    for ntl in ['EfficientNet', 'BiFPN']:\n",
    "        if ntl in classname:\n",
    "            for param in m.parameters():\n",
    "                param.requires_grad = True"
   ]
  },
  {
   "cell_type": "code",
   "execution_count": 16,
   "metadata": {
    "executionInfo": {
     "elapsed": 779,
     "status": "ok",
     "timestamp": 1620896052812,
     "user": {
      "displayName": "KM KIM",
      "photoUrl": "",
      "userId": "13177087664038437403"
     },
     "user_tz": -540
    },
    "id": "OnM1UucqZk4t"
   },
   "outputs": [],
   "source": [
    "def train_fn(model, train_data_loader, val_data_loader, optimizer, scheduler, device):\n",
    "    model.apply(freeze_backbone)\n",
    "    model.train()\n",
    "    train_loss = AverageMeter()\n",
    "    train_cls_loss = AverageMeter()\n",
    "    train_box_loss = AverageMeter()\n",
    "    save_path = './saved/checkpoint.pth'\n",
    "    early_stop = EarlyStopping(path=save_path)\n",
    "    for epoch in range(num_epochs):\n",
    "        train_loss.reset()\n",
    "        train_cls_loss.reset()\n",
    "        train_box_loss.reset()\n",
    "        model.train()\n",
    "        if epoch == 30:\n",
    "            model.apply(Unfreeze_backbone)\n",
    "        for images, targets, image_ids in tqdm(train_data_loader):\n",
    "            # gpu 계산을 위해 image.to(device)\n",
    "            images = torch.stack(images)\n",
    "            images = images.to(device).float()\n",
    "            current_batch_size = images.shape[0]\n",
    "\n",
    "            targets2 = {}\n",
    "            targets2['bbox'] = [target['boxes'].to(device).float() for target in targets] # variable number of instances, so the entire structure can be forced to tensor\n",
    "            targets2['cls'] = [target['labels'].to(device).float() for target in targets]\n",
    "            targets2['image_id'] = torch.tensor([target['image_id'] for target in targets]).to(device).float()\n",
    "            targets2['img_scale'] = torch.tensor([target['img_scale'] for target in targets]).to(device).float()\n",
    "            targets2['img_size'] = torch.tensor([(256, 256) for target in targets]).to(device).float()\n",
    "\n",
    "            # calculate loss\n",
    "            losses, cls_loss, box_loss = model(images, targets2).values()\n",
    "\n",
    "            train_loss.update(losses.detach().item(), current_batch_size)\n",
    "            train_cls_loss.update(cls_loss.detach().item(), current_batch_size)\n",
    "            train_box_loss.update(box_loss.detach().item(), current_batch_size)\n",
    "\n",
    "            # backward\n",
    "            optimizer.zero_grad()\n",
    "            losses.backward()\n",
    "            torch.nn.utils.clip_grad_norm_(model.parameters(), 10.0)\n",
    "            optimizer.step()\n",
    "        \n",
    "        # Evaluation\n",
    "        val_loss, val_mAP = vali_fn(val_data_loader,model,device)\n",
    "        # Scheduler Step\n",
    "        scheduler.step(val_mAP)\n",
    "        \n",
    "        print(f\"\\nEpoch #{epoch+1} train loss: [{train_loss.avg}] train cls loss : [{train_cls_loss.avg}] train box loss : [{train_box_loss.avg}] validation mAP : [{val_mAP}] \\n\")\n",
    "        wandb.log({\"Train Loss\":train_loss.avg, \"Validation mAP@50\":val_mAP})\n",
    "        early_stop(val_mAP,model)\n",
    "        if early_stop.early_stop:\n",
    "            print('Stop Training.....')\n",
    "            break"
   ]
  },
  {
   "cell_type": "code",
   "execution_count": 17,
   "metadata": {
    "executionInfo": {
     "elapsed": 764,
     "status": "ok",
     "timestamp": 1620896059131,
     "user": {
      "displayName": "KM KIM",
      "photoUrl": "",
      "userId": "13177087664038437403"
     },
     "user_tz": -540
    },
    "id": "bw3NiLfQe9rc"
   },
   "outputs": [],
   "source": [
    "def vali_fn(val_data_loader, model, device):\n",
    "    model.eval()\n",
    "    vali_loss = AverageMeter()\n",
    "    vali_mAP = AverageMeter()\n",
    "    metric = gcv.metrics.VOCMApMetric(iou_thresh=0.5)\n",
    "    with torch.no_grad():\n",
    "        for images, targets, image_ids in tqdm(val_data_loader):\n",
    "            # gpu 계산을 위해 image.to(device)\n",
    "            images = torch.stack(images)\n",
    "            images = images.to(device).float()\n",
    "\n",
    "            current_batch_size = images.shape[0]\n",
    "\n",
    "            targets2 = {}\n",
    "            targets2['bbox'] = [target['boxes'].to(device).float() for target in targets] # variable number of instances, so the entire structure can be forced to tensor\n",
    "            targets2['cls'] = [target['labels'].to(device).float() for target in targets]\n",
    "            targets2['image_id'] = torch.tensor([target['image_id'] for target in targets]).to(device).float()\n",
    "            targets2['img_scale'] = torch.tensor([target['img_scale'] for target in targets]).to(device).float()\n",
    "            targets2['img_size'] = torch.tensor([(256, 256) for target in targets]).to(device).float()\n",
    "\n",
    "            outputs = model(images, targets2)\n",
    "\n",
    "            loss = outputs['loss']\n",
    "            det = outputs['detections']\n",
    "\n",
    "            # Calc Metric\n",
    "            for i in range(0, len(det)):\n",
    "                pred_scores=det[i, :, 4].cpu().unsqueeze_(0).numpy()\n",
    "                condition=(pred_scores > 0)[0]\n",
    "                gt_boxes=targets2['bbox'][i].cpu().unsqueeze_(0).numpy()[...,[1,0,3,2]] #move to PASCAL VOC from yxyx format\n",
    "                gt_labels=targets2['cls'][i].cpu().unsqueeze_(0).numpy()\n",
    "\n",
    "                pred_bboxes=det[i, :, 0:4].cpu().unsqueeze_(0).numpy()[:, condition, :]\n",
    "                pred_labels=det[i, :, 5].cpu().unsqueeze_(0).numpy()[:, condition]\n",
    "                pred_scores=pred_scores[:, condition]\n",
    "                metric.update(\n",
    "                  pred_bboxes=pred_bboxes,\n",
    "                  pred_labels=pred_labels,\n",
    "                  pred_scores=pred_scores,\n",
    "                  gt_bboxes=gt_boxes,\n",
    "                  gt_labels=gt_labels)\n",
    "\n",
    "            vali_mAP.update(metric.get()[1], current_batch_size)\n",
    "            vali_loss.update(loss.detach().item(), current_batch_size)\n",
    "    \n",
    "    # validation loss\n",
    "    return vali_loss.avg, vali_mAP.avg"
   ]
  },
  {
   "cell_type": "code",
   "execution_count": 18,
   "metadata": {
    "id": "0Jq-vRNpft_c"
   },
   "outputs": [
    {
     "data": {
      "text/plain": [
       "[<wandb.wandb_torch.TorchGraph at 0x7efd95233450>]"
      ]
     },
     "execution_count": 18,
     "metadata": {},
     "output_type": "execute_result"
    }
   ],
   "source": [
    "# Model\n",
    "model = get_model()\n",
    "model.to(device)\n",
    "model.eval()\n",
    "# setting\n",
    "#optimizer = torch.optim.Adam(model.parameters(),lr=learning_rate)\n",
    "params = [p for p in model.parameters() if p.requires_grad]\n",
    "#optimizer = torch.optim.SGD(params, lr=learning_rate, momentum=0.9, nesterov=True)\n",
    "optimizer = torch.optim.AdamW(params, lr=learning_rate)\n",
    "scheduler = torch.optim.lr_scheduler.ReduceLROnPlateau(optimizer, mode='max', factor=0.7, patience=3,threshold_mode='abs',min_lr=1e-7, verbose=True)\n",
    "wandb.watch(model)"
   ]
  },
  {
   "cell_type": "code",
   "execution_count": null,
   "metadata": {
    "id": "2J-T4b7a4crM"
   },
   "outputs": [
    {
     "name": "stderr",
     "output_type": "stream",
     "text": [
      "100%|██████████| 164/164 [02:59<00:00,  1.09s/it]\n",
      "100%|██████████| 41/41 [00:26<00:00,  1.52it/s]\n"
     ]
    },
    {
     "name": "stdout",
     "output_type": "stream",
     "text": [
      "\n",
      "Epoch #1 train loss: [33.58281755661481] train cls loss : [33.11349672186133] train box loss : [0.00938641691183971] validation mAP : [0.0013665021276880998] \n",
      "\n"
     ]
    },
    {
     "name": "stderr",
     "output_type": "stream",
     "text": [
      "100%|██████████| 164/164 [02:59<00:00,  1.09s/it]\n",
      "100%|██████████| 41/41 [00:28<00:00,  1.42it/s]\n"
     ]
    },
    {
     "name": "stdout",
     "output_type": "stream",
     "text": [
      "\n",
      "Epoch #2 train loss: [1.5335163019702869] train cls loss : [1.1191812148292783] train box loss : [0.008286701644855144] validation mAP : [0.011167019679788698] \n",
      "\n"
     ]
    },
    {
     "name": "stderr",
     "output_type": "stream",
     "text": [
      "100%|██████████| 164/164 [03:02<00:00,  1.11s/it]\n",
      "100%|██████████| 41/41 [00:28<00:00,  1.45it/s]\n"
     ]
    },
    {
     "name": "stdout",
     "output_type": "stream",
     "text": [
      "\n",
      "Epoch #3 train loss: [1.180535825372972] train cls loss : [0.7794676425578169] train box loss : [0.0080213636806876] validation mAP : [0.05130116126516122] \n",
      "\n"
     ]
    },
    {
     "name": "stderr",
     "output_type": "stream",
     "text": [
      "100%|██████████| 164/164 [03:01<00:00,  1.11s/it]\n",
      "100%|██████████| 41/41 [00:29<00:00,  1.40it/s]\n"
     ]
    },
    {
     "name": "stdout",
     "output_type": "stream",
     "text": [
      "\n",
      "Epoch #4 train loss: [1.0849937373643437] train cls loss : [0.6961517455607915] train box loss : [0.007776839898121257] validation mAP : [0.07066788334152727] \n",
      "\n"
     ]
    },
    {
     "name": "stderr",
     "output_type": "stream",
     "text": [
      "100%|██████████| 164/164 [03:00<00:00,  1.10s/it]\n",
      "100%|██████████| 41/41 [00:28<00:00,  1.44it/s]\n"
     ]
    },
    {
     "name": "stdout",
     "output_type": "stream",
     "text": [
      "\n",
      "Epoch #5 train loss: [1.040358073027206] train cls loss : [0.6555239591700547] train box loss : [0.007696682340645203] validation mAP : [0.08149361028692469] \n",
      "\n"
     ]
    },
    {
     "name": "stderr",
     "output_type": "stream",
     "text": [
      "100%|██████████| 164/164 [03:02<00:00,  1.11s/it]\n",
      "100%|██████████| 41/41 [00:28<00:00,  1.42it/s]\n"
     ]
    },
    {
     "name": "stdout",
     "output_type": "stream",
     "text": [
      "\n",
      "Epoch #6 train loss: [1.0053848868615307] train cls loss : [0.6256155298099656] train box loss : [0.007595387138682534] validation mAP : [0.10269624160621607] \n",
      "\n"
     ]
    },
    {
     "name": "stderr",
     "output_type": "stream",
     "text": [
      "100%|██████████| 164/164 [02:59<00:00,  1.09s/it]\n",
      "100%|██████████| 41/41 [00:28<00:00,  1.42it/s]\n"
     ]
    },
    {
     "name": "stdout",
     "output_type": "stream",
     "text": [
      "\n",
      "Epoch #7 train loss: [0.9936366168697417] train cls loss : [0.6148905253929631] train box loss : [0.007574921940055839] validation mAP : [0.10821831136543561] \n",
      "\n"
     ]
    },
    {
     "name": "stderr",
     "output_type": "stream",
     "text": [
      "100%|██████████| 164/164 [03:00<00:00,  1.10s/it]\n",
      "100%|██████████| 41/41 [00:29<00:00,  1.41it/s]\n"
     ]
    },
    {
     "name": "stdout",
     "output_type": "stream",
     "text": [
      "\n",
      "Epoch #8 train loss: [0.9836371118073979] train cls loss : [0.6055973624290288] train box loss : [0.007560794929986949] validation mAP : [0.11469695250150423] \n",
      "\n"
     ]
    },
    {
     "name": "stderr",
     "output_type": "stream",
     "text": [
      "100%|██████████| 164/164 [03:02<00:00,  1.11s/it]\n",
      "100%|██████████| 41/41 [00:28<00:00,  1.44it/s]\n"
     ]
    },
    {
     "name": "stdout",
     "output_type": "stream",
     "text": [
      "\n",
      "Epoch #9 train loss: [0.9616992689290482] train cls loss : [0.5895255484970918] train box loss : [0.007443474422048466] validation mAP : [0.11684122987084133] \n",
      "\n"
     ]
    },
    {
     "name": "stderr",
     "output_type": "stream",
     "text": [
      "100%|██████████| 164/164 [03:02<00:00,  1.11s/it]\n",
      "100%|██████████| 41/41 [00:27<00:00,  1.47it/s]\n"
     ]
    },
    {
     "name": "stdout",
     "output_type": "stream",
     "text": [
      "\n",
      "Epoch #10 train loss: [0.9574385982093622] train cls loss : [0.5852180773810116] train box loss : [0.0074444103186731584] validation mAP : [0.13309031979431615] \n",
      "\n"
     ]
    },
    {
     "name": "stderr",
     "output_type": "stream",
     "text": [
      "100%|██████████| 164/164 [02:57<00:00,  1.08s/it]\n",
      "100%|██████████| 41/41 [00:28<00:00,  1.45it/s]\n"
     ]
    },
    {
     "name": "stdout",
     "output_type": "stream",
     "text": [
      "\n",
      "Epoch #11 train loss: [0.9462243913920909] train cls loss : [0.5803653880025669] train box loss : [0.0073171800566872065] validation mAP : [0.13875869370575253] \n",
      "\n"
     ]
    },
    {
     "name": "stderr",
     "output_type": "stream",
     "text": [
      "100%|██████████| 164/164 [02:59<00:00,  1.10s/it]\n",
      "100%|██████████| 41/41 [00:29<00:00,  1.38it/s]\n",
      "  0%|          | 0/164 [00:00<?, ?it/s]"
     ]
    },
    {
     "name": "stdout",
     "output_type": "stream",
     "text": [
      "\n",
      "Epoch #12 train loss: [0.9432162174433298] train cls loss : [0.5749892668729526] train box loss : [0.007364538970111912] validation mAP : [0.1378178272329875] \n",
      "\n"
     ]
    },
    {
     "name": "stderr",
     "output_type": "stream",
     "text": [
      "100%|██████████| 164/164 [03:00<00:00,  1.10s/it]\n",
      "100%|██████████| 41/41 [00:28<00:00,  1.45it/s]\n"
     ]
    },
    {
     "name": "stdout",
     "output_type": "stream",
     "text": [
      "\n",
      "Epoch #13 train loss: [0.932815950746795] train cls loss : [0.5671021346604956] train box loss : [0.007314276337384449] validation mAP : [0.16319435699501145] \n",
      "\n"
     ]
    },
    {
     "name": "stderr",
     "output_type": "stream",
     "text": [
      "100%|██████████| 164/164 [02:59<00:00,  1.10s/it]\n",
      "100%|██████████| 41/41 [00:28<00:00,  1.44it/s]\n",
      "  0%|          | 0/164 [00:00<?, ?it/s]"
     ]
    },
    {
     "name": "stdout",
     "output_type": "stream",
     "text": [
      "\n",
      "Epoch #14 train loss: [0.9284091305541409] train cls loss : [0.5663589594652966] train box loss : [0.007241003485421416] validation mAP : [0.14035279041708038] \n",
      "\n"
     ]
    },
    {
     "name": "stderr",
     "output_type": "stream",
     "text": [
      "100%|██████████| 164/164 [02:58<00:00,  1.09s/it]\n",
      "100%|██████████| 41/41 [00:28<00:00,  1.43it/s]\n"
     ]
    },
    {
     "name": "stdout",
     "output_type": "stream",
     "text": [
      "\n",
      "Epoch #15 train loss: [0.9256153188682851] train cls loss : [0.5652077881762395] train box loss : [0.007208150621990427] validation mAP : [0.19067114619586087] \n",
      "\n"
     ]
    },
    {
     "name": "stderr",
     "output_type": "stream",
     "text": [
      "100%|██████████| 164/164 [02:58<00:00,  1.09s/it]\n",
      "100%|██████████| 41/41 [00:28<00:00,  1.41it/s]\n"
     ]
    },
    {
     "name": "stdout",
     "output_type": "stream",
     "text": [
      "\n",
      "Epoch #16 train loss: [0.9245681137723416] train cls loss : [0.5631636468836675] train box loss : [0.007228089368556593] validation mAP : [0.1990908581004485] \n",
      "\n"
     ]
    },
    {
     "name": "stderr",
     "output_type": "stream",
     "text": [
      "100%|██████████| 164/164 [02:58<00:00,  1.09s/it]\n",
      "100%|██████████| 41/41 [00:28<00:00,  1.42it/s]\n"
     ]
    },
    {
     "name": "stdout",
     "output_type": "stream",
     "text": [
      "\n",
      "Epoch #17 train loss: [0.9212565049443666] train cls loss : [0.559956204631559] train box loss : [0.007226006055295604] validation mAP : [0.22993377883611302] \n",
      "\n"
     ]
    },
    {
     "name": "stderr",
     "output_type": "stream",
     "text": [
      "100%|██████████| 164/164 [02:57<00:00,  1.08s/it]\n",
      "100%|██████████| 41/41 [00:28<00:00,  1.43it/s]\n",
      "  0%|          | 0/164 [00:00<?, ?it/s]"
     ]
    },
    {
     "name": "stdout",
     "output_type": "stream",
     "text": [
      "\n",
      "Epoch #18 train loss: [0.9157748651222095] train cls loss : [0.5542474384976563] train box loss : [0.007230548515494516] validation mAP : [0.16129641557760024] \n",
      "\n"
     ]
    },
    {
     "name": "stderr",
     "output_type": "stream",
     "text": [
      "100%|██████████| 164/164 [02:57<00:00,  1.08s/it]\n",
      "100%|██████████| 41/41 [00:28<00:00,  1.42it/s]\n",
      "  0%|          | 0/164 [00:00<?, ?it/s]"
     ]
    },
    {
     "name": "stdout",
     "output_type": "stream",
     "text": [
      "\n",
      "Epoch #19 train loss: [0.9119393800932987] train cls loss : [0.5555688399461375] train box loss : [0.007127410792352409] validation mAP : [0.15695911906687549] \n",
      "\n"
     ]
    },
    {
     "name": "stderr",
     "output_type": "stream",
     "text": [
      "100%|██████████| 164/164 [02:58<00:00,  1.09s/it]\n",
      "100%|██████████| 41/41 [00:28<00:00,  1.42it/s]\n",
      "  0%|          | 0/164 [00:00<?, ?it/s]"
     ]
    },
    {
     "name": "stdout",
     "output_type": "stream",
     "text": [
      "\n",
      "Epoch #20 train loss: [0.9103475630078373] train cls loss : [0.5525244220914757] train box loss : [0.0071564629128758675] validation mAP : [0.16967208883691912] \n",
      "\n"
     ]
    },
    {
     "name": "stderr",
     "output_type": "stream",
     "text": [
      "100%|██████████| 164/164 [02:57<00:00,  1.08s/it]\n",
      "100%|██████████| 41/41 [00:29<00:00,  1.41it/s]\n",
      "  0%|          | 0/164 [00:00<?, ?it/s]"
     ]
    },
    {
     "name": "stdout",
     "output_type": "stream",
     "text": [
      "Epoch    21: reducing learning rate of group 0 to 2.1000e-04.\n",
      "\n",
      "Epoch #21 train loss: [0.9023171699953572] train cls loss : [0.547749436580365] train box loss : [0.0070913546983071485] validation mAP : [0.17710435828316584] \n",
      "\n"
     ]
    },
    {
     "name": "stderr",
     "output_type": "stream",
     "text": [
      "100%|██████████| 164/164 [02:58<00:00,  1.09s/it]\n",
      "100%|██████████| 41/41 [00:29<00:00,  1.41it/s]\n",
      "  0%|          | 0/164 [00:00<?, ?it/s]"
     ]
    },
    {
     "name": "stdout",
     "output_type": "stream",
     "text": [
      "\n",
      "Epoch #22 train loss: [0.8996171547020944] train cls loss : [0.5446764158300649] train box loss : [0.007098814766508138] validation mAP : [0.19116583253153052] \n",
      "\n"
     ]
    },
    {
     "name": "stderr",
     "output_type": "stream",
     "text": [
      "100%|██████████| 164/164 [02:57<00:00,  1.08s/it]\n",
      "100%|██████████| 41/41 [00:29<00:00,  1.40it/s]\n"
     ]
    },
    {
     "name": "stdout",
     "output_type": "stream",
     "text": [
      "\n",
      "Epoch #23 train loss: [0.887934158014167] train cls loss : [0.539279213309698] train box loss : [0.006973098857270644] validation mAP : [0.24657912361226764] \n",
      "\n"
     ]
    },
    {
     "name": "stderr",
     "output_type": "stream",
     "text": [
      "100%|██████████| 164/164 [02:57<00:00,  1.08s/it]\n",
      "100%|██████████| 41/41 [00:29<00:00,  1.41it/s]\n"
     ]
    },
    {
     "name": "stdout",
     "output_type": "stream",
     "text": [
      "\n",
      "Epoch #24 train loss: [0.8870162534768408] train cls loss : [0.5383615058753889] train box loss : [0.006973094974506047] validation mAP : [0.25526931221779464] \n",
      "\n"
     ]
    },
    {
     "name": "stderr",
     "output_type": "stream",
     "text": [
      "100%|██████████| 164/164 [02:59<00:00,  1.09s/it]\n",
      "100%|██████████| 41/41 [00:29<00:00,  1.41it/s]\n",
      "  0%|          | 0/164 [00:00<?, ?it/s]"
     ]
    },
    {
     "name": "stdout",
     "output_type": "stream",
     "text": [
      "\n",
      "Epoch #25 train loss: [0.8907435445508567] train cls loss : [0.5368656070122155] train box loss : [0.0070775587171854224] validation mAP : [0.21962861288092186] \n",
      "\n"
     ]
    },
    {
     "name": "stderr",
     "output_type": "stream",
     "text": [
      "100%|██████████| 164/164 [03:02<00:00,  1.11s/it]\n",
      "100%|██████████| 41/41 [00:29<00:00,  1.40it/s]\n",
      "  0%|          | 0/164 [00:00<?, ?it/s]"
     ]
    },
    {
     "name": "stdout",
     "output_type": "stream",
     "text": [
      "\n",
      "Epoch #26 train loss: [0.8755292898833319] train cls loss : [0.5306524863487261] train box loss : [0.006897536055339706] validation mAP : [0.21452322594239118] \n",
      "\n"
     ]
    },
    {
     "name": "stderr",
     "output_type": "stream",
     "text": [
      "100%|██████████| 164/164 [03:01<00:00,  1.11s/it]\n",
      "100%|██████████| 41/41 [00:28<00:00,  1.44it/s]\n"
     ]
    },
    {
     "name": "stdout",
     "output_type": "stream",
     "text": [
      "\n",
      "Epoch #27 train loss: [0.8795973412125995] train cls loss : [0.533889167879117] train box loss : [0.006914163373637038] validation mAP : [0.25610865963559026] \n",
      "\n"
     ]
    },
    {
     "name": "stderr",
     "output_type": "stream",
     "text": [
      "100%|██████████| 164/164 [02:58<00:00,  1.09s/it]\n",
      "100%|██████████| 41/41 [00:29<00:00,  1.41it/s]\n",
      "  0%|          | 0/164 [00:00<?, ?it/s]"
     ]
    },
    {
     "name": "stdout",
     "output_type": "stream",
     "text": [
      "\n",
      "Epoch #28 train loss: [0.8742234967663218] train cls loss : [0.5285878748806279] train box loss : [0.006912712446731729] validation mAP : [0.17386596274507] \n",
      "\n"
     ]
    },
    {
     "name": "stderr",
     "output_type": "stream",
     "text": [
      "100%|██████████| 164/164 [02:59<00:00,  1.10s/it]\n",
      "100%|██████████| 41/41 [00:29<00:00,  1.41it/s]\n",
      "  0%|          | 0/164 [00:00<?, ?it/s]"
     ]
    },
    {
     "name": "stdout",
     "output_type": "stream",
     "text": [
      "\n",
      "Epoch #29 train loss: [0.8813331261544816] train cls loss : [0.5352360165023512] train box loss : [0.006921942172665256] validation mAP : [0.20697960503668833] \n",
      "\n"
     ]
    },
    {
     "name": "stderr",
     "output_type": "stream",
     "text": [
      "100%|██████████| 164/164 [02:58<00:00,  1.09s/it]\n",
      "100%|██████████| 41/41 [00:28<00:00,  1.42it/s]\n",
      "  0%|          | 0/164 [00:00<?, ?it/s]"
     ]
    },
    {
     "name": "stdout",
     "output_type": "stream",
     "text": [
      "\n",
      "Epoch #30 train loss: [0.8762003023249983] train cls loss : [0.5295504822638092] train box loss : [0.006932996398668607] validation mAP : [0.25593681144876207] \n",
      "\n"
     ]
    },
    {
     "name": "stderr",
     "output_type": "stream",
     "text": [
      "100%|██████████| 164/164 [03:17<00:00,  1.20s/it]\n",
      "100%|██████████| 41/41 [00:27<00:00,  1.51it/s]\n",
      "  0%|          | 0/164 [00:00<?, ?it/s]"
     ]
    },
    {
     "name": "stdout",
     "output_type": "stream",
     "text": [
      "Epoch    31: reducing learning rate of group 0 to 1.4700e-04.\n",
      "\n",
      "Epoch #31 train loss: [0.8727620162488305] train cls loss : [0.5263377098486903] train box loss : [0.006928486177462189] validation mAP : [0.21158377596830355] \n",
      "\n"
     ]
    },
    {
     "name": "stderr",
     "output_type": "stream",
     "text": [
      "100%|██████████| 164/164 [03:12<00:00,  1.17s/it]\n",
      "100%|██████████| 41/41 [00:26<00:00,  1.55it/s]\n",
      "  0%|          | 0/164 [00:00<?, ?it/s]"
     ]
    },
    {
     "name": "stdout",
     "output_type": "stream",
     "text": [
      "\n",
      "Epoch #32 train loss: [0.8587760138611872] train cls loss : [0.5185912944316682] train box loss : [0.006803694405344934] validation mAP : [0.22623718303130783] \n",
      "\n"
     ]
    },
    {
     "name": "stderr",
     "output_type": "stream",
     "text": [
      "100%|██████████| 164/164 [03:16<00:00,  1.20s/it]\n",
      "100%|██████████| 41/41 [00:28<00:00,  1.44it/s]\n",
      "  0%|          | 0/164 [00:00<?, ?it/s]"
     ]
    },
    {
     "name": "stdout",
     "output_type": "stream",
     "text": [
      "\n",
      "Epoch #33 train loss: [0.8480117219889214] train cls loss : [0.5121768172524291] train box loss : [0.00671669807894327] validation mAP : [0.24478281499249172] \n",
      "\n"
     ]
    },
    {
     "name": "stderr",
     "output_type": "stream",
     "text": [
      "100%|██████████| 164/164 [03:17<00:00,  1.20s/it]\n",
      "100%|██████████| 41/41 [00:27<00:00,  1.49it/s]\n"
     ]
    },
    {
     "name": "stdout",
     "output_type": "stream",
     "text": [
      "\n",
      "Epoch #34 train loss: [0.8425586905058532] train cls loss : [0.5120858224375721] train box loss : [0.006609457350319289] validation mAP : [0.2868382114795017] \n",
      "\n"
     ]
    },
    {
     "name": "stderr",
     "output_type": "stream",
     "text": [
      "100%|██████████| 164/164 [03:17<00:00,  1.20s/it]\n",
      "100%|██████████| 41/41 [00:28<00:00,  1.45it/s]\n",
      "  0%|          | 0/164 [00:00<?, ?it/s]"
     ]
    },
    {
     "name": "stdout",
     "output_type": "stream",
     "text": [
      "\n",
      "Epoch #35 train loss: [0.8422108020862642] train cls loss : [0.5090316776150641] train box loss : [0.006663582454455812] validation mAP : [0.2520579626134522] \n",
      "\n"
     ]
    },
    {
     "name": "stderr",
     "output_type": "stream",
     "text": [
      "100%|██████████| 164/164 [03:18<00:00,  1.21s/it]\n",
      "100%|██████████| 41/41 [00:28<00:00,  1.46it/s]\n"
     ]
    },
    {
     "name": "stdout",
     "output_type": "stream",
     "text": [
      "\n",
      "Epoch #36 train loss: [0.833785194748451] train cls loss : [0.5050471380187849] train box loss : [0.006574761172287511] validation mAP : [0.28919272601733725] \n",
      "\n"
     ]
    },
    {
     "name": "stderr",
     "output_type": "stream",
     "text": [
      "100%|██████████| 164/164 [03:16<00:00,  1.20s/it]\n",
      "100%|██████████| 41/41 [00:27<00:00,  1.49it/s]\n"
     ]
    },
    {
     "name": "stdout",
     "output_type": "stream",
     "text": [
      "\n",
      "Epoch #37 train loss: [0.825596433720791] train cls loss : [0.5008884435238435] train box loss : [0.006494159800102625] validation mAP : [0.29569228722087626] \n",
      "\n"
     ]
    },
    {
     "name": "stderr",
     "output_type": "stream",
     "text": [
      "100%|██████████| 164/164 [03:16<00:00,  1.20s/it]\n",
      "100%|██████████| 41/41 [00:29<00:00,  1.41it/s]\n",
      "  0%|          | 0/164 [00:00<?, ?it/s]"
     ]
    },
    {
     "name": "stdout",
     "output_type": "stream",
     "text": [
      "\n",
      "Epoch #38 train loss: [0.8257107340656349] train cls loss : [0.5001880074895699] train box loss : [0.006510454534282883] validation mAP : [0.26381084767850266] \n",
      "\n"
     ]
    },
    {
     "name": "stderr",
     "output_type": "stream",
     "text": [
      "100%|██████████| 164/164 [03:19<00:00,  1.21s/it]\n",
      "100%|██████████| 41/41 [00:27<00:00,  1.49it/s]\n",
      "  0%|          | 0/164 [00:00<?, ?it/s]"
     ]
    },
    {
     "name": "stdout",
     "output_type": "stream",
     "text": [
      "\n",
      "Epoch #39 train loss: [0.8164337604247207] train cls loss : [0.4950362981663982] train box loss : [0.006427949203522061] validation mAP : [0.2956179645054888] \n",
      "\n"
     ]
    },
    {
     "name": "stderr",
     "output_type": "stream",
     "text": [
      "100%|██████████| 164/164 [03:17<00:00,  1.21s/it]\n",
      "100%|██████████| 41/41 [00:27<00:00,  1.48it/s]\n",
      "  0%|          | 0/164 [00:00<?, ?it/s]"
     ]
    },
    {
     "name": "stdout",
     "output_type": "stream",
     "text": [
      "\n",
      "Epoch #40 train loss: [0.8154959184867442] train cls loss : [0.49337077225079096] train box loss : [0.006442502939580368] validation mAP : [0.2530324068903468] \n",
      "\n"
     ]
    },
    {
     "name": "stderr",
     "output_type": "stream",
     "text": [
      "100%|██████████| 164/164 [03:18<00:00,  1.21s/it]\n",
      "100%|██████████| 41/41 [00:28<00:00,  1.42it/s]\n"
     ]
    },
    {
     "name": "stdout",
     "output_type": "stream",
     "text": [
      "\n",
      "Epoch #41 train loss: [0.8114261761119815] train cls loss : [0.48799373653037975] train box loss : [0.00646864878259995] validation mAP : [0.30107387520521406] \n",
      "\n"
     ]
    },
    {
     "name": "stderr",
     "output_type": "stream",
     "text": [
      "100%|██████████| 164/164 [03:18<00:00,  1.21s/it]\n",
      "100%|██████████| 41/41 [00:28<00:00,  1.43it/s]\n",
      "  0%|          | 0/164 [00:00<?, ?it/s]"
     ]
    },
    {
     "name": "stdout",
     "output_type": "stream",
     "text": [
      "\n",
      "Epoch #42 train loss: [0.8103393466134631] train cls loss : [0.4893416037165941] train box loss : [0.0064199548864144265] validation mAP : [0.2650903990479524] \n",
      "\n"
     ]
    },
    {
     "name": "stderr",
     "output_type": "stream",
     "text": [
      "100%|██████████| 164/164 [03:20<00:00,  1.22s/it]\n",
      "100%|██████████| 41/41 [00:28<00:00,  1.42it/s]\n",
      "  0%|          | 0/164 [00:00<?, ?it/s]"
     ]
    },
    {
     "name": "stdout",
     "output_type": "stream",
     "text": [
      "\n",
      "Epoch #43 train loss: [0.7993391289891384] train cls loss : [0.4827476673377667] train box loss : [0.006331829247938559] validation mAP : [0.271333608210999] \n",
      "\n"
     ]
    },
    {
     "name": "stderr",
     "output_type": "stream",
     "text": [
      "100%|██████████| 164/164 [03:19<00:00,  1.22s/it]\n",
      "100%|██████████| 41/41 [00:29<00:00,  1.40it/s]\n",
      "  0%|          | 0/164 [00:00<?, ?it/s]"
     ]
    },
    {
     "name": "stdout",
     "output_type": "stream",
     "text": [
      "\n",
      "Epoch #44 train loss: [0.8018536027214843] train cls loss : [0.48456393556372557] train box loss : [0.006345793340080423] validation mAP : [0.26436921958059006] \n",
      "\n"
     ]
    },
    {
     "name": "stderr",
     "output_type": "stream",
     "text": [
      "100%|██████████| 164/164 [03:16<00:00,  1.20s/it]\n",
      "100%|██████████| 41/41 [00:28<00:00,  1.43it/s]\n",
      "  0%|          | 0/164 [00:00<?, ?it/s]"
     ]
    },
    {
     "name": "stdout",
     "output_type": "stream",
     "text": [
      "Epoch    45: reducing learning rate of group 0 to 1.0290e-04.\n",
      "\n",
      "Epoch #45 train loss: [0.7996470118279579] train cls loss : [0.48397537033021293] train box loss : [0.00631343279984795] validation mAP : [0.26371843580573606] \n",
      "\n"
     ]
    },
    {
     "name": "stderr",
     "output_type": "stream",
     "text": [
      "100%|██████████| 164/164 [03:19<00:00,  1.22s/it]\n",
      "100%|██████████| 41/41 [00:28<00:00,  1.43it/s]\n",
      "  0%|          | 0/164 [00:00<?, ?it/s]"
     ]
    },
    {
     "name": "stdout",
     "output_type": "stream",
     "text": [
      "\n",
      "Epoch #46 train loss: [0.7922362615964683] train cls loss : [0.4785357334593757] train box loss : [0.006274010474698595] validation mAP : [0.2806371536568364] \n",
      "\n"
     ]
    },
    {
     "name": "stderr",
     "output_type": "stream",
     "text": [
      "100%|██████████| 164/164 [03:17<00:00,  1.21s/it]\n",
      "100%|██████████| 41/41 [00:28<00:00,  1.43it/s]\n",
      "  0%|          | 0/164 [00:00<?, ?it/s]"
     ]
    },
    {
     "name": "stdout",
     "output_type": "stream",
     "text": [
      "\n",
      "Epoch #47 train loss: [0.7908473727718582] train cls loss : [0.47787530362082203] train box loss : [0.006259441383917526] validation mAP : [0.29524197056993257] \n",
      "\n"
     ]
    },
    {
     "name": "stderr",
     "output_type": "stream",
     "text": [
      "100%|██████████| 164/164 [03:17<00:00,  1.20s/it]\n",
      "100%|██████████| 41/41 [00:28<00:00,  1.43it/s]\n"
     ]
    },
    {
     "name": "stdout",
     "output_type": "stream",
     "text": [
      "\n",
      "Epoch #48 train loss: [0.7832294730088799] train cls loss : [0.4725401276593724] train box loss : [0.0062137869182073025] validation mAP : [0.33263223694848787] \n",
      "\n"
     ]
    },
    {
     "name": "stderr",
     "output_type": "stream",
     "text": [
      "100%|██████████| 164/164 [03:18<00:00,  1.21s/it]\n",
      "100%|██████████| 41/41 [00:28<00:00,  1.46it/s]\n",
      "  0%|          | 0/164 [00:00<?, ?it/s]"
     ]
    },
    {
     "name": "stdout",
     "output_type": "stream",
     "text": [
      "\n",
      "Epoch #49 train loss: [0.7761642418155517] train cls loss : [0.47021862118582164] train box loss : [0.006118912409946897] validation mAP : [0.2633587736720108] \n",
      "\n"
     ]
    },
    {
     "name": "stderr",
     "output_type": "stream",
     "text": [
      "100%|██████████| 164/164 [03:16<00:00,  1.20s/it]\n",
      "100%|██████████| 41/41 [00:28<00:00,  1.42it/s]\n",
      "  0%|          | 0/164 [00:00<?, ?it/s]"
     ]
    },
    {
     "name": "stdout",
     "output_type": "stream",
     "text": [
      "\n",
      "Epoch #50 train loss: [0.7703673007336107] train cls loss : [0.46648336767603704] train box loss : [0.006077678731429495] validation mAP : [0.2945811396046738] \n",
      "\n"
     ]
    },
    {
     "name": "stderr",
     "output_type": "stream",
     "text": [
      "100%|██████████| 164/164 [03:16<00:00,  1.20s/it]\n",
      "100%|██████████| 41/41 [00:27<00:00,  1.49it/s]\n"
     ]
    },
    {
     "name": "stdout",
     "output_type": "stream",
     "text": [
      "\n",
      "Epoch #51 train loss: [0.7684912723031807] train cls loss : [0.4644164639116928] train box loss : [0.006081496176043334] validation mAP : [0.33683263068269903] \n",
      "\n"
     ]
    },
    {
     "name": "stderr",
     "output_type": "stream",
     "text": [
      "100%|██████████| 164/164 [03:17<00:00,  1.20s/it]\n",
      "100%|██████████| 41/41 [00:29<00:00,  1.41it/s]\n"
     ]
    },
    {
     "name": "stdout",
     "output_type": "stream",
     "text": [
      "\n",
      "Epoch #52 train loss: [0.7816718306576063] train cls loss : [0.4717590516197531] train box loss : [0.00619825557369652] validation mAP : [0.34167008915228925] \n",
      "\n"
     ]
    },
    {
     "name": "stderr",
     "output_type": "stream",
     "text": [
      "100%|██████████| 164/164 [03:13<00:00,  1.18s/it]\n",
      "100%|██████████| 41/41 [00:28<00:00,  1.45it/s]\n",
      "  0%|          | 0/164 [00:00<?, ?it/s]"
     ]
    },
    {
     "name": "stdout",
     "output_type": "stream",
     "text": [
      "\n",
      "Epoch #53 train loss: [0.7735336299019093] train cls loss : [0.4655148486258376] train box loss : [0.00616037564026174] validation mAP : [0.3054765053780595] \n",
      "\n"
     ]
    },
    {
     "name": "stderr",
     "output_type": "stream",
     "text": [
      "100%|██████████| 164/164 [03:17<00:00,  1.21s/it]\n",
      "100%|██████████| 41/41 [00:28<00:00,  1.44it/s]\n"
     ]
    },
    {
     "name": "stdout",
     "output_type": "stream",
     "text": [
      "\n",
      "Epoch #54 train loss: [0.7588116852755213] train cls loss : [0.4580537525806711] train box loss : [0.00601515869699336] validation mAP : [0.3457817857043491] \n",
      "\n"
     ]
    },
    {
     "name": "stderr",
     "output_type": "stream",
     "text": [
      "100%|██████████| 164/164 [03:18<00:00,  1.21s/it]\n",
      "100%|██████████| 41/41 [00:28<00:00,  1.45it/s]\n",
      "  0%|          | 0/164 [00:00<?, ?it/s]"
     ]
    },
    {
     "name": "stdout",
     "output_type": "stream",
     "text": [
      "\n",
      "Epoch #55 train loss: [0.7600988126411482] train cls loss : [0.45677810537254804] train box loss : [0.006066414129371902] validation mAP : [0.3440570764843369] \n",
      "\n"
     ]
    },
    {
     "name": "stderr",
     "output_type": "stream",
     "text": [
      "100%|██████████| 164/164 [03:20<00:00,  1.22s/it]\n",
      "100%|██████████| 41/41 [00:28<00:00,  1.43it/s]\n"
     ]
    },
    {
     "name": "stdout",
     "output_type": "stream",
     "text": [
      "\n",
      "Epoch #56 train loss: [0.7625722222579633] train cls loss : [0.4578461108724261] train box loss : [0.006094522225461619] validation mAP : [0.34906738664162795] \n",
      "\n"
     ]
    },
    {
     "name": "stderr",
     "output_type": "stream",
     "text": [
      "100%|██████████| 164/164 [03:19<00:00,  1.22s/it]\n",
      "100%|██████████| 41/41 [00:28<00:00,  1.43it/s]\n",
      "  0%|          | 0/164 [00:00<?, ?it/s]"
     ]
    },
    {
     "name": "stdout",
     "output_type": "stream",
     "text": [
      "\n",
      "Epoch #57 train loss: [0.7554080426624635] train cls loss : [0.4552614734766818] train box loss : [0.006002931375900638] validation mAP : [0.34618372669310016] \n",
      "\n"
     ]
    },
    {
     "name": "stderr",
     "output_type": "stream",
     "text": [
      "100%|██████████| 164/164 [03:22<00:00,  1.23s/it]\n",
      "100%|██████████| 41/41 [00:28<00:00,  1.42it/s]\n",
      "  0%|          | 0/164 [00:00<?, ?it/s]"
     ]
    },
    {
     "name": "stdout",
     "output_type": "stream",
     "text": [
      "\n",
      "Epoch #58 train loss: [0.7523877511372492] train cls loss : [0.45283350772105146] train box loss : [0.005991084891719118] validation mAP : [0.3314746892958762] \n",
      "\n"
     ]
    },
    {
     "name": "stderr",
     "output_type": "stream",
     "text": [
      "100%|██████████| 164/164 [03:18<00:00,  1.21s/it]\n",
      "100%|██████████| 41/41 [00:28<00:00,  1.44it/s]\n",
      "  0%|          | 0/164 [00:00<?, ?it/s]"
     ]
    },
    {
     "name": "stdout",
     "output_type": "stream",
     "text": [
      "\n",
      "Epoch #59 train loss: [0.7529379623875528] train cls loss : [0.45256826067453676] train box loss : [0.006007394010331346] validation mAP : [0.34832445410967744] \n",
      "\n"
     ]
    },
    {
     "name": "stderr",
     "output_type": "stream",
     "text": [
      "100%|██████████| 164/164 [03:19<00:00,  1.22s/it]\n",
      "100%|██████████| 41/41 [00:28<00:00,  1.44it/s]\n",
      "  0%|          | 0/164 [00:00<?, ?it/s]"
     ]
    },
    {
     "name": "stdout",
     "output_type": "stream",
     "text": [
      "Epoch    60: reducing learning rate of group 0 to 7.2030e-05.\n",
      "\n",
      "Epoch #60 train loss: [0.74969794566184] train cls loss : [0.4504953757423821] train box loss : [0.005984051387940694] validation mAP : [0.32332895283659724] \n",
      "\n"
     ]
    },
    {
     "name": "stderr",
     "output_type": "stream",
     "text": [
      "100%|██████████| 164/164 [03:20<00:00,  1.22s/it]\n",
      "100%|██████████| 41/41 [00:27<00:00,  1.48it/s]\n",
      "  0%|          | 0/164 [00:00<?, ?it/s]"
     ]
    },
    {
     "name": "stdout",
     "output_type": "stream",
     "text": [
      "\n",
      "Epoch #61 train loss: [0.7496394611379779] train cls loss : [0.4504297318625277] train box loss : [0.005984194590263481] validation mAP : [0.34586034086449285] \n",
      "\n"
     ]
    },
    {
     "name": "stderr",
     "output_type": "stream",
     "text": [
      "100%|██████████| 164/164 [03:19<00:00,  1.22s/it]\n",
      "100%|██████████| 41/41 [00:29<00:00,  1.40it/s]\n"
     ]
    },
    {
     "name": "stdout",
     "output_type": "stream",
     "text": [
      "\n",
      "Epoch #62 train loss: [0.7400145596523161] train cls loss : [0.44520615012216624] train box loss : [0.005896168194225796] validation mAP : [0.3591946018388997] \n",
      "\n"
     ]
    },
    {
     "name": "stderr",
     "output_type": "stream",
     "text": [
      "100%|██████████| 164/164 [03:19<00:00,  1.21s/it]\n",
      "100%|██████████| 41/41 [00:29<00:00,  1.41it/s]\n",
      "  0%|          | 0/164 [00:00<?, ?it/s]"
     ]
    },
    {
     "name": "stdout",
     "output_type": "stream",
     "text": [
      "\n",
      "Epoch #63 train loss: [0.7378847265589724] train cls loss : [0.4436802742565047] train box loss : [0.0058840890340279275] validation mAP : [0.3591907754923801] \n",
      "\n"
     ]
    },
    {
     "name": "stderr",
     "output_type": "stream",
     "text": [
      "100%|██████████| 164/164 [03:24<00:00,  1.25s/it]\n",
      "100%|██████████| 41/41 [00:29<00:00,  1.41it/s]\n",
      "  0%|          | 0/164 [00:00<?, ?it/s]"
     ]
    },
    {
     "name": "stdout",
     "output_type": "stream",
     "text": [
      "\n",
      "Epoch #64 train loss: [0.7440400457036008] train cls loss : [0.4452071110961726] train box loss : [0.005976658735287624] validation mAP : [0.3357405922400749] \n",
      "\n"
     ]
    },
    {
     "name": "stderr",
     "output_type": "stream",
     "text": [
      "100%|██████████| 164/164 [03:20<00:00,  1.22s/it]\n",
      "100%|██████████| 41/41 [00:28<00:00,  1.43it/s]\n"
     ]
    },
    {
     "name": "stdout",
     "output_type": "stream",
     "text": [
      "\n",
      "Epoch #65 train loss: [0.7308949107744788] train cls loss : [0.4385172874817285] train box loss : [0.005847552486609583] validation mAP : [0.36445851476468927] \n",
      "\n"
     ]
    },
    {
     "name": "stderr",
     "output_type": "stream",
     "text": [
      "100%|██████████| 164/164 [03:21<00:00,  1.23s/it]\n",
      "100%|██████████| 41/41 [00:28<00:00,  1.43it/s]\n",
      "  0%|          | 0/164 [00:00<?, ?it/s]"
     ]
    },
    {
     "name": "stdout",
     "output_type": "stream",
     "text": [
      "\n",
      "Epoch #66 train loss: [0.7321411729952193] train cls loss : [0.43875831192488157] train box loss : [0.005867657277812803] validation mAP : [0.2924257867263599] \n",
      "\n"
     ]
    },
    {
     "name": "stderr",
     "output_type": "stream",
     "text": [
      "100%|██████████| 164/164 [03:20<00:00,  1.22s/it]\n",
      "100%|██████████| 41/41 [00:28<00:00,  1.43it/s]\n",
      "  0%|          | 0/164 [00:00<?, ?it/s]"
     ]
    },
    {
     "name": "stdout",
     "output_type": "stream",
     "text": [
      "\n",
      "Epoch #67 train loss: [0.7413547725043408] train cls loss : [0.44274290002253297] train box loss : [0.0059722375109034454] validation mAP : [0.2934052341482218] \n",
      "\n"
     ]
    },
    {
     "name": "stderr",
     "output_type": "stream",
     "text": [
      "100%|██████████| 164/164 [03:16<00:00,  1.20s/it]\n",
      "100%|██████████| 41/41 [00:28<00:00,  1.46it/s]\n",
      "  0%|          | 0/164 [00:00<?, ?it/s]"
     ]
    },
    {
     "name": "stdout",
     "output_type": "stream",
     "text": [
      "\n",
      "Epoch #68 train loss: [0.7330584228152668] train cls loss : [0.4417613641332933] train box loss : [0.005825941159966785] validation mAP : [0.32752226882311813] \n",
      "\n"
     ]
    },
    {
     "name": "stderr",
     "output_type": "stream",
     "text": [
      "100%|██████████| 164/164 [03:16<00:00,  1.20s/it]\n",
      "100%|██████████| 41/41 [00:28<00:00,  1.45it/s]\n",
      "  0%|          | 0/164 [00:00<?, ?it/s]"
     ]
    },
    {
     "name": "stdout",
     "output_type": "stream",
     "text": [
      "Epoch    69: reducing learning rate of group 0 to 5.0421e-05.\n",
      "\n",
      "Epoch #69 train loss: [0.7254031234266742] train cls loss : [0.4370812494357579] train box loss : [0.005766437505683258] validation mAP : [0.32229739306643335] \n",
      "\n"
     ]
    },
    {
     "name": "stderr",
     "output_type": "stream",
     "text": [
      "100%|██████████| 164/164 [03:16<00:00,  1.20s/it]\n",
      "100%|██████████| 41/41 [00:27<00:00,  1.47it/s]\n",
      "  0%|          | 0/164 [00:00<?, ?it/s]"
     ]
    },
    {
     "name": "stdout",
     "output_type": "stream",
     "text": [
      "\n",
      "Epoch #70 train loss: [0.7240008397051337] train cls loss : [0.434011470658842] train box loss : [0.00579978737703969] validation mAP : [0.31640032190968526] \n",
      "\n"
     ]
    },
    {
     "name": "stderr",
     "output_type": "stream",
     "text": [
      "100%|██████████| 164/164 [03:15<00:00,  1.19s/it]\n",
      "100%|██████████| 41/41 [00:28<00:00,  1.45it/s]\n",
      "  0%|          | 0/164 [00:00<?, ?it/s]"
     ]
    },
    {
     "name": "stdout",
     "output_type": "stream",
     "text": [
      "\n",
      "Epoch #71 train loss: [0.706377011699261] train cls loss : [0.4252171682910606] train box loss : [0.0056231969118368825] validation mAP : [0.30948746064181776] \n",
      "\n"
     ]
    },
    {
     "name": "stderr",
     "output_type": "stream",
     "text": [
      "100%|██████████| 164/164 [03:20<00:00,  1.22s/it]\n",
      "100%|██████████| 41/41 [00:28<00:00,  1.46it/s]\n",
      "  0%|          | 0/164 [00:00<?, ?it/s]"
     ]
    },
    {
     "name": "stdout",
     "output_type": "stream",
     "text": [
      "\n",
      "Epoch #72 train loss: [0.7292816669921817] train cls loss : [0.4369747271781939] train box loss : [0.005846138820080617] validation mAP : [0.3377388703341063] \n",
      "\n"
     ]
    },
    {
     "name": "stderr",
     "output_type": "stream",
     "text": [
      "100%|██████████| 164/164 [03:17<00:00,  1.20s/it]\n",
      "100%|██████████| 41/41 [00:28<00:00,  1.46it/s]\n",
      "  0%|          | 0/164 [00:00<?, ?it/s]"
     ]
    },
    {
     "name": "stdout",
     "output_type": "stream",
     "text": [
      "Epoch    73: reducing learning rate of group 0 to 3.5295e-05.\n",
      "\n",
      "Epoch #73 train loss: [0.7177057846338639] train cls loss : [0.43002729160575226] train box loss : [0.005753569872028496] validation mAP : [0.33357733549250485] \n",
      "\n"
     ]
    },
    {
     "name": "stderr",
     "output_type": "stream",
     "text": [
      "100%|██████████| 164/164 [03:19<00:00,  1.22s/it]\n",
      "100%|██████████| 41/41 [00:27<00:00,  1.48it/s]\n",
      "  0%|          | 0/164 [00:00<?, ?it/s]"
     ]
    },
    {
     "name": "stdout",
     "output_type": "stream",
     "text": [
      "\n",
      "Epoch #74 train loss: [0.7141589631458526] train cls loss : [0.42689312944942454] train box loss : [0.0057453167273167965] validation mAP : [0.3372165975423448] \n",
      "\n"
     ]
    },
    {
     "name": "stderr",
     "output_type": "stream",
     "text": [
      "100%|██████████| 164/164 [03:18<00:00,  1.21s/it]\n",
      "100%|██████████| 41/41 [00:28<00:00,  1.44it/s]\n",
      "  0%|          | 0/164 [00:00<?, ?it/s]"
     ]
    },
    {
     "name": "stdout",
     "output_type": "stream",
     "text": [
      "\n",
      "Epoch #75 train loss: [0.7073426208379481] train cls loss : [0.4224050238039551] train box loss : [0.005698751906779292] validation mAP : [0.33597612314853403] \n",
      "\n"
     ]
    },
    {
     "name": "stderr",
     "output_type": "stream",
     "text": [
      "100%|██████████| 164/164 [03:24<00:00,  1.25s/it]\n",
      "100%|██████████| 41/41 [00:29<00:00,  1.41it/s]\n",
      "  0%|          | 0/164 [00:00<?, ?it/s]"
     ]
    },
    {
     "name": "stdout",
     "output_type": "stream",
     "text": [
      "\n",
      "Epoch #76 train loss: [0.7120334665466457] train cls loss : [0.4270751244200975] train box loss : [0.005699166824865373] validation mAP : [0.32447304953200545] \n",
      "\n"
     ]
    },
    {
     "name": "stderr",
     "output_type": "stream",
     "text": [
      "100%|██████████| 164/164 [03:23<00:00,  1.24s/it]\n",
      "100%|██████████| 41/41 [00:29<00:00,  1.40it/s]\n"
     ]
    },
    {
     "name": "stdout",
     "output_type": "stream",
     "text": [
      "\n",
      "Epoch #77 train loss: [0.710315365507988] train cls loss : [0.42376825001616036] train box loss : [0.005730942317295676] validation mAP : [0.371248177448855] \n",
      "\n"
     ]
    },
    {
     "name": "stderr",
     "output_type": "stream",
     "text": [
      "100%|██████████| 164/164 [03:26<00:00,  1.26s/it]\n",
      "100%|██████████| 41/41 [00:29<00:00,  1.39it/s]\n",
      "  0%|          | 0/164 [00:00<?, ?it/s]"
     ]
    },
    {
     "name": "stdout",
     "output_type": "stream",
     "text": [
      "\n",
      "Epoch #78 train loss: [0.7018260899326206] train cls loss : [0.4217709111128775] train box loss : [0.005601103600850531] validation mAP : [0.3622216920254734] \n",
      "\n"
     ]
    },
    {
     "name": "stderr",
     "output_type": "stream",
     "text": [
      "100%|██████████| 164/164 [03:27<00:00,  1.26s/it]\n",
      "100%|██████████| 41/41 [00:28<00:00,  1.43it/s]\n",
      "  0%|          | 0/164 [00:00<?, ?it/s]"
     ]
    },
    {
     "name": "stdout",
     "output_type": "stream",
     "text": [
      "\n",
      "Epoch #79 train loss: [0.7063476782424513] train cls loss : [0.4222258064962773] train box loss : [0.005682437394716822] validation mAP : [0.30230474781196776] \n",
      "\n"
     ]
    },
    {
     "name": "stderr",
     "output_type": "stream",
     "text": [
      "100%|██████████| 164/164 [03:25<00:00,  1.25s/it]\n",
      "100%|██████████| 41/41 [00:29<00:00,  1.40it/s]\n",
      "  0%|          | 0/164 [00:00<?, ?it/s]"
     ]
    },
    {
     "name": "stdout",
     "output_type": "stream",
     "text": [
      "\n",
      "Epoch #80 train loss: [0.7096860684371878] train cls loss : [0.4235272259260345] train box loss : [0.00572317685536189] validation mAP : [0.32694523538143166] \n",
      "\n"
     ]
    },
    {
     "name": "stderr",
     "output_type": "stream",
     "text": [
      "100%|██████████| 164/164 [03:24<00:00,  1.25s/it]\n",
      "100%|██████████| 41/41 [00:29<00:00,  1.39it/s]\n",
      "  0%|          | 0/164 [00:00<?, ?it/s]"
     ]
    },
    {
     "name": "stdout",
     "output_type": "stream",
     "text": [
      "Epoch    81: reducing learning rate of group 0 to 2.4706e-05.\n",
      "\n",
      "Epoch #81 train loss: [0.7059405226264694] train cls loss : [0.4225286576622171] train box loss : [0.005668237329740753] validation mAP : [0.34058336154471514] \n",
      "\n"
     ]
    },
    {
     "name": "stderr",
     "output_type": "stream",
     "text": [
      "100%|██████████| 164/164 [03:26<00:00,  1.26s/it]\n",
      "100%|██████████| 41/41 [00:29<00:00,  1.38it/s]\n",
      "  0%|          | 0/164 [00:00<?, ?it/s]"
     ]
    },
    {
     "name": "stdout",
     "output_type": "stream",
     "text": [
      "\n",
      "Epoch #82 train loss: [0.6999536877968496] train cls loss : [0.41671157114415575] train box loss : [0.005664842324078732] validation mAP : [0.3350322076095634] \n",
      "\n"
     ]
    },
    {
     "name": "stderr",
     "output_type": "stream",
     "text": [
      "100%|██████████| 164/164 [03:26<00:00,  1.26s/it]\n",
      "100%|██████████| 41/41 [00:29<00:00,  1.38it/s]\n"
     ]
    },
    {
     "name": "stdout",
     "output_type": "stream",
     "text": [
      "\n",
      "Epoch #83 train loss: [0.6994809068292437] train cls loss : [0.4203628244680624] train box loss : [0.005582361609575702] validation mAP : [0.37163804351077306] \n",
      "\n"
     ]
    },
    {
     "name": "stderr",
     "output_type": "stream",
     "text": [
      "100%|██████████| 164/164 [03:24<00:00,  1.25s/it]\n",
      "100%|██████████| 41/41 [00:29<00:00,  1.40it/s]\n",
      "  0%|          | 0/164 [00:00<?, ?it/s]"
     ]
    },
    {
     "name": "stdout",
     "output_type": "stream",
     "text": [
      "\n",
      "Epoch #84 train loss: [0.6995907647490365] train cls loss : [0.41832172699816406] train box loss : [0.0056253807168321545] validation mAP : [0.35503659311442837] \n",
      "\n"
     ]
    },
    {
     "name": "stderr",
     "output_type": "stream",
     "text": [
      "100%|██████████| 164/164 [03:24<00:00,  1.25s/it]\n",
      "100%|██████████| 41/41 [00:29<00:00,  1.39it/s]\n",
      "  0%|          | 0/164 [00:00<?, ?it/s]"
     ]
    },
    {
     "name": "stdout",
     "output_type": "stream",
     "text": [
      "\n",
      "Epoch #85 train loss: [0.6965000253166458] train cls loss : [0.41818339272587635] train box loss : [0.005566332670569955] validation mAP : [0.36700263593926236] \n",
      "\n"
     ]
    },
    {
     "name": "stderr",
     "output_type": "stream",
     "text": [
      "100%|██████████| 164/164 [03:25<00:00,  1.25s/it]\n",
      "100%|██████████| 41/41 [00:29<00:00,  1.39it/s]\n",
      "  0%|          | 0/164 [00:00<?, ?it/s]"
     ]
    },
    {
     "name": "stdout",
     "output_type": "stream",
     "text": [
      "\n",
      "Epoch #86 train loss: [0.7025814582976304] train cls loss : [0.41929434247266534] train box loss : [0.005665742259801436] validation mAP : [0.3699395144341437] \n",
      "\n"
     ]
    },
    {
     "name": "stderr",
     "output_type": "stream",
     "text": [
      "100%|██████████| 164/164 [03:25<00:00,  1.25s/it]\n",
      "100%|██████████| 41/41 [00:29<00:00,  1.41it/s]\n",
      "  0%|          | 0/164 [00:00<?, ?it/s]"
     ]
    },
    {
     "name": "stdout",
     "output_type": "stream",
     "text": [
      "Epoch    87: reducing learning rate of group 0 to 1.7294e-05.\n",
      "\n",
      "Epoch #87 train loss: [0.6932459305067941] train cls loss : [0.4148355242652113] train box loss : [0.005568208122739115] validation mAP : [0.35956252680777906] \n",
      "\n"
     ]
    },
    {
     "name": "stderr",
     "output_type": "stream",
     "text": [
      "100%|██████████| 164/164 [03:24<00:00,  1.25s/it]\n",
      "100%|██████████| 41/41 [00:29<00:00,  1.38it/s]\n",
      "  0%|          | 0/164 [00:00<?, ?it/s]"
     ]
    },
    {
     "name": "stdout",
     "output_type": "stream",
     "text": [
      "\n",
      "Epoch #88 train loss: [0.6980710506985832] train cls loss : [0.4182813709411723] train box loss : [0.005595793548998461] validation mAP : [0.3687702014960042] \n",
      "\n"
     ]
    },
    {
     "name": "stderr",
     "output_type": "stream",
     "text": [
      "100%|██████████| 164/164 [03:25<00:00,  1.26s/it]\n",
      "100%|██████████| 41/41 [00:28<00:00,  1.45it/s]\n",
      "  0%|          | 0/164 [00:00<?, ?it/s]"
     ]
    },
    {
     "name": "stdout",
     "output_type": "stream",
     "text": [
      "\n",
      "Epoch #89 train loss: [0.6961241247182954] train cls loss : [0.41512393417320137] train box loss : [0.005620003809400094] validation mAP : [0.3633265257225719] \n",
      "\n"
     ]
    },
    {
     "name": "stderr",
     "output_type": "stream",
     "text": [
      "100%|██████████| 164/164 [03:23<00:00,  1.24s/it]\n",
      "100%|██████████| 41/41 [00:29<00:00,  1.41it/s]\n",
      "  0%|          | 0/164 [00:00<?, ?it/s]"
     ]
    },
    {
     "name": "stdout",
     "output_type": "stream",
     "text": [
      "\n",
      "Epoch #90 train loss: [0.6993553467410915] train cls loss : [0.4185054255297132] train box loss : [0.005616998468106844] validation mAP : [0.36502068274749244] \n",
      "\n"
     ]
    },
    {
     "name": "stderr",
     "output_type": "stream",
     "text": [
      "100%|██████████| 164/164 [03:23<00:00,  1.24s/it]\n",
      "100%|██████████| 41/41 [00:29<00:00,  1.40it/s]\n"
     ]
    },
    {
     "name": "stdout",
     "output_type": "stream",
     "text": [
      "\n",
      "Epoch #91 train loss: [0.6975784277159793] train cls loss : [0.4159202139410391] train box loss : [0.0056331642187368814] validation mAP : [0.3738048293386031] \n",
      "\n"
     ]
    },
    {
     "name": "stderr",
     "output_type": "stream",
     "text": [
      "100%|██████████| 164/164 [03:23<00:00,  1.24s/it]\n",
      "100%|██████████| 41/41 [00:29<00:00,  1.40it/s]\n",
      "  0%|          | 0/164 [00:00<?, ?it/s]"
     ]
    },
    {
     "name": "stdout",
     "output_type": "stream",
     "text": [
      "\n",
      "Epoch #92 train loss: [0.6915936323354661] train cls loss : [0.4137145357251304] train box loss : [0.005557581894085477] validation mAP : [0.3737475302805376] \n",
      "\n"
     ]
    },
    {
     "name": "stderr",
     "output_type": "stream",
     "text": [
      "100%|██████████| 164/164 [03:19<00:00,  1.22s/it]\n",
      "100%|██████████| 41/41 [00:29<00:00,  1.39it/s]\n",
      "  0%|          | 0/164 [00:00<?, ?it/s]"
     ]
    },
    {
     "name": "stdout",
     "output_type": "stream",
     "text": [
      "\n",
      "Epoch #93 train loss: [0.6855842379563448] train cls loss : [0.40967708094957267] train box loss : [0.005518143187160649] validation mAP : [0.36952507057982376] \n",
      "\n"
     ]
    },
    {
     "name": "stderr",
     "output_type": "stream",
     "text": [
      "100%|██████████| 164/164 [03:25<00:00,  1.25s/it]\n",
      "100%|██████████| 41/41 [00:28<00:00,  1.42it/s]\n",
      "  0%|          | 0/164 [00:00<?, ?it/s]"
     ]
    },
    {
     "name": "stdout",
     "output_type": "stream",
     "text": [
      "\n",
      "Epoch #94 train loss: [0.6986845078065644] train cls loss : [0.4156181656954441] train box loss : [0.005661326828336199] validation mAP : [0.3708487342966064] \n",
      "\n"
     ]
    },
    {
     "name": "stderr",
     "output_type": "stream",
     "text": [
      "100%|██████████| 164/164 [03:23<00:00,  1.24s/it]\n",
      "100%|██████████| 41/41 [00:29<00:00,  1.39it/s]\n",
      "  0%|          | 0/164 [00:00<?, ?it/s]"
     ]
    },
    {
     "name": "stdout",
     "output_type": "stream",
     "text": [
      "Epoch    95: reducing learning rate of group 0 to 1.2106e-05.\n",
      "\n",
      "Epoch #95 train loss: [0.6914728577919574] train cls loss : [0.41288062372096496] train box loss : [0.005571844629917748] validation mAP : [0.37026848255560735] \n",
      "\n"
     ]
    },
    {
     "name": "stderr",
     "output_type": "stream",
     "text": [
      "100%|██████████| 164/164 [03:22<00:00,  1.24s/it]\n",
      "100%|██████████| 41/41 [00:29<00:00,  1.41it/s]\n",
      "  0%|          | 0/164 [00:00<?, ?it/s]"
     ]
    },
    {
     "name": "stdout",
     "output_type": "stream",
     "text": [
      "\n",
      "Epoch #96 train loss: [0.6928294427439508] train cls loss : [0.4153728341505097] train box loss : [0.005549132193868961] validation mAP : [0.3684006160081265] \n",
      "\n"
     ]
    },
    {
     "name": "stderr",
     "output_type": "stream",
     "text": [
      "100%|██████████| 164/164 [03:23<00:00,  1.24s/it]\n",
      "100%|██████████| 41/41 [00:27<00:00,  1.48it/s]\n",
      "  0%|          | 0/164 [00:00<?, ?it/s]"
     ]
    },
    {
     "name": "stdout",
     "output_type": "stream",
     "text": [
      "\n",
      "Epoch #97 train loss: [0.6875634411613951] train cls loss : [0.41124195334198005] train box loss : [0.005526429773541434] validation mAP : [0.36635643207273344] \n",
      "\n"
     ]
    },
    {
     "name": "stderr",
     "output_type": "stream",
     "text": [
      "100%|██████████| 164/164 [03:17<00:00,  1.20s/it]\n",
      "100%|██████████| 41/41 [00:28<00:00,  1.42it/s]\n",
      "  0%|          | 0/164 [00:00<?, ?it/s]"
     ]
    },
    {
     "name": "stdout",
     "output_type": "stream",
     "text": [
      "\n",
      "Epoch #98 train loss: [0.6892090311567884] train cls loss : [0.41167915559789814] train box loss : [0.005550597446309071] validation mAP : [0.3733096557427826] \n",
      "\n"
     ]
    },
    {
     "name": "stderr",
     "output_type": "stream",
     "text": [
      "100%|██████████| 164/164 [03:21<00:00,  1.23s/it]\n",
      "100%|██████████| 41/41 [00:28<00:00,  1.43it/s]\n",
      "  0%|          | 0/164 [00:00<?, ?it/s]"
     ]
    },
    {
     "name": "stdout",
     "output_type": "stream",
     "text": [
      "Epoch    99: reducing learning rate of group 0 to 8.4743e-06.\n",
      "\n",
      "Epoch #99 train loss: [0.6957446686584712] train cls loss : [0.41572725121465676] train box loss : [0.005600348364968916] validation mAP : [0.36671359817670335] \n",
      "\n"
     ]
    },
    {
     "name": "stderr",
     "output_type": "stream",
     "text": [
      "100%|██████████| 164/164 [03:20<00:00,  1.23s/it]\n",
      "100%|██████████| 41/41 [00:28<00:00,  1.46it/s]\n",
      "  0%|          | 0/164 [00:00<?, ?it/s]"
     ]
    },
    {
     "name": "stdout",
     "output_type": "stream",
     "text": [
      "\n",
      "Epoch #100 train loss: [0.6919403141311075] train cls loss : [0.4129231395409861] train box loss : [0.005580343534713729] validation mAP : [0.3681111282140409] \n",
      "\n"
     ]
    },
    {
     "name": "stderr",
     "output_type": "stream",
     "text": [
      "100%|██████████| 164/164 [03:16<00:00,  1.20s/it]\n",
      "100%|██████████| 41/41 [00:28<00:00,  1.46it/s]\n",
      "  0%|          | 0/164 [00:00<?, ?it/s]"
     ]
    },
    {
     "name": "stdout",
     "output_type": "stream",
     "text": [
      "\n",
      "Epoch #101 train loss: [0.6782425148231089] train cls loss : [0.4044351162781094] train box loss : [0.0054761480179180795] validation mAP : [0.36898796780107107] \n",
      "\n"
     ]
    },
    {
     "name": "stderr",
     "output_type": "stream",
     "text": [
      "100%|██████████| 164/164 [03:15<00:00,  1.19s/it]\n",
      "100%|██████████| 41/41 [00:28<00:00,  1.46it/s]\n",
      "  0%|          | 0/164 [00:00<?, ?it/s]"
     ]
    },
    {
     "name": "stdout",
     "output_type": "stream",
     "text": [
      "\n",
      "Epoch #102 train loss: [0.6893501956817254] train cls loss : [0.4110038147703309] train box loss : [0.005566927626441465] validation mAP : [0.3704042314956555] \n",
      "\n"
     ]
    },
    {
     "name": "stderr",
     "output_type": "stream",
     "text": [
      "100%|██████████| 164/164 [03:19<00:00,  1.22s/it]\n",
      "100%|██████████| 41/41 [00:28<00:00,  1.41it/s]\n",
      "  0%|          | 0/164 [00:00<?, ?it/s]"
     ]
    },
    {
     "name": "stdout",
     "output_type": "stream",
     "text": [
      "Epoch   103: reducing learning rate of group 0 to 5.9320e-06.\n",
      "\n",
      "Epoch #103 train loss: [0.6851331633286117] train cls loss : [0.40849437345108275] train box loss : [0.005532775866063465] validation mAP : [0.3670553548054865] \n",
      "\n"
     ]
    },
    {
     "name": "stderr",
     "output_type": "stream",
     "text": [
      "100%|██████████| 164/164 [03:19<00:00,  1.22s/it]\n",
      "100%|██████████| 41/41 [00:27<00:00,  1.50it/s]\n",
      "  0%|          | 0/164 [00:00<?, ?it/s]"
     ]
    },
    {
     "name": "stdout",
     "output_type": "stream",
     "text": [
      "\n",
      "Epoch #104 train loss: [0.6867203392689128] train cls loss : [0.4097737276148696] train box loss : [0.005538932260063242] validation mAP : [0.36810806583136063] \n",
      "\n"
     ]
    },
    {
     "name": "stderr",
     "output_type": "stream",
     "text": [
      "100%|██████████| 164/164 [03:19<00:00,  1.22s/it]\n",
      "100%|██████████| 41/41 [00:28<00:00,  1.44it/s]\n",
      "  0%|          | 0/164 [00:00<?, ?it/s]"
     ]
    },
    {
     "name": "stdout",
     "output_type": "stream",
     "text": [
      "\n",
      "Epoch #105 train loss: [0.6729463837189578] train cls loss : [0.4035169612167899] train box loss : [0.005388588488335413] validation mAP : [0.36882381951398274] \n",
      "\n"
     ]
    },
    {
     "name": "stderr",
     "output_type": "stream",
     "text": [
      "100%|██████████| 164/164 [03:20<00:00,  1.23s/it]\n",
      "100%|██████████| 41/41 [00:29<00:00,  1.40it/s]\n",
      "  0%|          | 0/164 [00:00<?, ?it/s]"
     ]
    },
    {
     "name": "stdout",
     "output_type": "stream",
     "text": [
      "\n",
      "Epoch #106 train loss: [0.6871414981500584] train cls loss : [0.4092711182919722] train box loss : [0.005557407572883991] validation mAP : [0.3644713805668773] \n",
      "\n"
     ]
    },
    {
     "name": "stderr",
     "output_type": "stream",
     "text": [
      "100%|██████████| 164/164 [03:18<00:00,  1.21s/it]\n",
      "100%|██████████| 41/41 [00:28<00:00,  1.45it/s]\n",
      "  0%|          | 0/164 [00:00<?, ?it/s]"
     ]
    },
    {
     "name": "stdout",
     "output_type": "stream",
     "text": [
      "Epoch   107: reducing learning rate of group 0 to 4.1524e-06.\n",
      "\n",
      "Epoch #107 train loss: [0.6852489276427917] train cls loss : [0.40792044538280003] train box loss : [0.005546569601797425] validation mAP : [0.3680070607569007] \n",
      "\n"
     ]
    },
    {
     "name": "stderr",
     "output_type": "stream",
     "text": [
      "100%|██████████| 164/164 [03:16<00:00,  1.20s/it]\n",
      "100%|██████████| 41/41 [00:28<00:00,  1.45it/s]\n",
      "  0%|          | 0/164 [00:00<?, ?it/s]"
     ]
    },
    {
     "name": "stdout",
     "output_type": "stream",
     "text": [
      "\n",
      "Epoch #108 train loss: [0.678096064092733] train cls loss : [0.4046902611572687] train box loss : [0.0054681160479049485] validation mAP : [0.36678855668764343] \n",
      "\n"
     ]
    },
    {
     "name": "stderr",
     "output_type": "stream",
     "text": [
      "100%|██████████| 164/164 [03:19<00:00,  1.21s/it]\n",
      "100%|██████████| 41/41 [00:27<00:00,  1.48it/s]\n",
      "  0%|          | 0/164 [00:00<?, ?it/s]"
     ]
    },
    {
     "name": "stdout",
     "output_type": "stream",
     "text": [
      "\n",
      "Epoch #109 train loss: [0.6826547743666477] train cls loss : [0.40838050356018757] train box loss : [0.005485485455560056] validation mAP : [0.36979755831877453] \n",
      "\n"
     ]
    },
    {
     "name": "stderr",
     "output_type": "stream",
     "text": [
      "100%|██████████| 164/164 [03:22<00:00,  1.23s/it]\n",
      "100%|██████████| 41/41 [00:28<00:00,  1.45it/s]\n",
      "  0%|          | 0/164 [00:00<?, ?it/s]"
     ]
    },
    {
     "name": "stdout",
     "output_type": "stream",
     "text": [
      "\n",
      "Epoch #110 train loss: [0.6886304165964414] train cls loss : [0.4111665372726432] train box loss : [0.005549277595671753] validation mAP : [0.36586900493979585] \n",
      "\n"
     ]
    },
    {
     "name": "stderr",
     "output_type": "stream",
     "text": [
      "100%|██████████| 164/164 [03:18<00:00,  1.21s/it]\n",
      "100%|██████████| 41/41 [00:28<00:00,  1.42it/s]\n",
      "  0%|          | 0/164 [00:00<?, ?it/s]"
     ]
    },
    {
     "name": "stdout",
     "output_type": "stream",
     "text": [
      "Epoch   111: reducing learning rate of group 0 to 2.9067e-06.\n",
      "\n",
      "Epoch #111 train loss: [0.6797655153966925] train cls loss : [0.40555250669737375] train box loss : [0.0054842601884348635] validation mAP : [0.3683839742224044] \n",
      "\n"
     ]
    },
    {
     "name": "stderr",
     "output_type": "stream",
     "text": [
      "100%|██████████| 164/164 [03:17<00:00,  1.20s/it]\n",
      "100%|██████████| 41/41 [00:28<00:00,  1.45it/s]\n",
      "  0%|          | 0/164 [00:00<?, ?it/s]"
     ]
    },
    {
     "name": "stdout",
     "output_type": "stream",
     "text": [
      "\n",
      "Epoch #112 train loss: [0.6790318829802825] train cls loss : [0.40419562648943375] train box loss : [0.005496725151233481] validation mAP : [0.36889576551405656] \n",
      "\n"
     ]
    },
    {
     "name": "stderr",
     "output_type": "stream",
     "text": [
      "100%|██████████| 164/164 [03:18<00:00,  1.21s/it]\n",
      "100%|██████████| 41/41 [00:28<00:00,  1.45it/s]\n",
      "  0%|          | 0/164 [00:00<?, ?it/s]"
     ]
    },
    {
     "name": "stdout",
     "output_type": "stream",
     "text": [
      "\n",
      "Epoch #113 train loss: [0.6847034628080602] train cls loss : [0.40681464274876167] train box loss : [0.005557776458474587] validation mAP : [0.37129220898018456] \n",
      "\n"
     ]
    },
    {
     "name": "stderr",
     "output_type": "stream",
     "text": [
      "100%|██████████| 164/164 [03:19<00:00,  1.22s/it]\n",
      "100%|██████████| 41/41 [00:27<00:00,  1.47it/s]\n",
      "  0%|          | 0/164 [00:00<?, ?it/s]"
     ]
    },
    {
     "name": "stdout",
     "output_type": "stream",
     "text": [
      "\n",
      "Epoch #114 train loss: [0.6909598113700639] train cls loss : [0.41035790916249004] train box loss : [0.005612037984820145] validation mAP : [0.3707616784124749] \n",
      "\n"
     ]
    },
    {
     "name": "stderr",
     "output_type": "stream",
     "text": [
      "100%|██████████| 164/164 [03:18<00:00,  1.21s/it]\n",
      "100%|██████████| 41/41 [00:28<00:00,  1.43it/s]\n",
      "  0%|          | 0/164 [00:00<?, ?it/s]"
     ]
    },
    {
     "name": "stdout",
     "output_type": "stream",
     "text": [
      "Epoch   115: reducing learning rate of group 0 to 2.0347e-06.\n",
      "\n",
      "Epoch #115 train loss: [0.6856227691363961] train cls loss : [0.4096756862532696] train box loss : [0.0055189416708227535] validation mAP : [0.36517306007435524] \n",
      "\n"
     ]
    },
    {
     "name": "stderr",
     "output_type": "stream",
     "text": [
      "100%|██████████| 164/164 [03:18<00:00,  1.21s/it]\n",
      "100%|██████████| 41/41 [00:30<00:00,  1.35it/s]\n",
      "  0%|          | 0/164 [00:00<?, ?it/s]"
     ]
    },
    {
     "name": "stdout",
     "output_type": "stream",
     "text": [
      "\n",
      "Epoch #116 train loss: [0.6836948779233321] train cls loss : [0.40744512857578163] train box loss : [0.005524994973071919] validation mAP : [0.36663263786787254] \n",
      "\n"
     ]
    },
    {
     "name": "stderr",
     "output_type": "stream",
     "text": [
      "100%|██████████| 164/164 [03:25<00:00,  1.26s/it]\n",
      "100%|██████████| 41/41 [00:28<00:00,  1.45it/s]\n",
      "  0%|          | 0/164 [00:00<?, ?it/s]"
     ]
    },
    {
     "name": "stdout",
     "output_type": "stream",
     "text": [
      "\n",
      "Epoch #117 train loss: [0.6779871119494469] train cls loss : [0.4043812030455881] train box loss : [0.005472118051506986] validation mAP : [0.3707690231690748] \n",
      "\n"
     ]
    },
    {
     "name": "stderr",
     "output_type": "stream",
     "text": [
      "100%|██████████| 164/164 [03:17<00:00,  1.21s/it]\n",
      "100%|██████████| 41/41 [00:28<00:00,  1.42it/s]\n",
      "  0%|          | 0/164 [00:00<?, ?it/s]"
     ]
    },
    {
     "name": "stdout",
     "output_type": "stream",
     "text": [
      "\n",
      "Epoch #118 train loss: [0.6798778485149476] train cls loss : [0.4070298325755827] train box loss : [0.00545696031770544] validation mAP : [0.3652596786876839] \n",
      "\n"
     ]
    },
    {
     "name": "stderr",
     "output_type": "stream",
     "text": [
      "100%|██████████| 164/164 [03:19<00:00,  1.22s/it]\n",
      "100%|██████████| 41/41 [00:28<00:00,  1.43it/s]\n",
      "  0%|          | 0/164 [00:00<?, ?it/s]"
     ]
    },
    {
     "name": "stdout",
     "output_type": "stream",
     "text": [
      "Epoch   119: reducing learning rate of group 0 to 1.4243e-06.\n",
      "\n",
      "Epoch #119 train loss: [0.6863583401500336] train cls loss : [0.40832696134778984] train box loss : [0.005560627569617788] validation mAP : [0.3657721448403433] \n",
      "\n"
     ]
    },
    {
     "name": "stderr",
     "output_type": "stream",
     "text": [
      "100%|██████████| 164/164 [03:17<00:00,  1.20s/it]\n",
      "100%|██████████| 41/41 [00:26<00:00,  1.56it/s]\n",
      "  0%|          | 0/164 [00:00<?, ?it/s]"
     ]
    },
    {
     "name": "stdout",
     "output_type": "stream",
     "text": [
      "\n",
      "Epoch #120 train loss: [0.6790868534721124] train cls loss : [0.406388630917567] train box loss : [0.005453964472913109] validation mAP : [0.36568237661937825] \n",
      "\n"
     ]
    },
    {
     "name": "stderr",
     "output_type": "stream",
     "text": [
      "100%|██████████| 164/164 [03:16<00:00,  1.20s/it]\n",
      "100%|██████████| 41/41 [00:27<00:00,  1.48it/s]\n",
      "  0%|          | 0/164 [00:00<?, ?it/s]"
     ]
    },
    {
     "name": "stdout",
     "output_type": "stream",
     "text": [
      "\n",
      "Epoch #121 train loss: [0.672089883763689] train cls loss : [0.40141297598398956] train box loss : [0.005413538194483912] validation mAP : [0.3681426137813564] \n",
      "\n"
     ]
    },
    {
     "name": "stderr",
     "output_type": "stream",
     "text": [
      "100%|██████████| 164/164 [03:18<00:00,  1.21s/it]\n",
      "100%|██████████| 41/41 [00:28<00:00,  1.43it/s]\n",
      "  0%|          | 0/164 [00:00<?, ?it/s]"
     ]
    },
    {
     "name": "stdout",
     "output_type": "stream",
     "text": [
      "\n",
      "Epoch #122 train loss: [0.6895047401625736] train cls loss : [0.4102444089137738] train box loss : [0.005585206603509668] validation mAP : [0.36860648957632797] \n",
      "\n"
     ]
    },
    {
     "name": "stderr",
     "output_type": "stream",
     "text": [
      "100%|██████████| 164/164 [03:19<00:00,  1.21s/it]\n",
      "100%|██████████| 41/41 [00:28<00:00,  1.44it/s]\n",
      "  0%|          | 0/164 [00:00<?, ?it/s]"
     ]
    },
    {
     "name": "stdout",
     "output_type": "stream",
     "text": [
      "Epoch   123: reducing learning rate of group 0 to 9.9699e-07.\n",
      "\n",
      "Epoch #123 train loss: [0.6851784626308816] train cls loss : [0.4069658825654404] train box loss : [0.005564251589173516] validation mAP : [0.36937528106178286] \n",
      "\n"
     ]
    },
    {
     "name": "stderr",
     "output_type": "stream",
     "text": [
      "100%|██████████| 164/164 [03:16<00:00,  1.20s/it]\n",
      "100%|██████████| 41/41 [00:28<00:00,  1.46it/s]\n",
      "  0%|          | 0/164 [00:00<?, ?it/s]"
     ]
    },
    {
     "name": "stdout",
     "output_type": "stream",
     "text": [
      "\n",
      "Epoch #124 train loss: [0.6874475550870199] train cls loss : [0.41063057671396797] train box loss : [0.005536339566379182] validation mAP : [0.3736246819218897] \n",
      "\n"
     ]
    },
    {
     "name": "stderr",
     "output_type": "stream",
     "text": [
      "100%|██████████| 164/164 [03:16<00:00,  1.20s/it]\n",
      "100%|██████████| 41/41 [00:28<00:00,  1.45it/s]\n",
      "  0%|          | 0/164 [00:00<?, ?it/s]"
     ]
    },
    {
     "name": "stdout",
     "output_type": "stream",
     "text": [
      "\n",
      "Epoch #125 train loss: [0.6823686387277442] train cls loss : [0.406771273320533] train box loss : [0.005511947340066134] validation mAP : [0.366713670570119] \n",
      "\n"
     ]
    },
    {
     "name": "stderr",
     "output_type": "stream",
     "text": [
      "100%|██████████| 164/164 [03:18<00:00,  1.21s/it]\n",
      "100%|██████████| 41/41 [00:26<00:00,  1.54it/s]\n",
      "  0%|          | 0/164 [00:00<?, ?it/s]"
     ]
    },
    {
     "name": "stdout",
     "output_type": "stream",
     "text": [
      "\n",
      "Epoch #126 train loss: [0.6785578441200796] train cls loss : [0.4037682894855043] train box loss : [0.005495791116008378] validation mAP : [0.36679365941319764] \n",
      "\n"
     ]
    },
    {
     "name": "stderr",
     "output_type": "stream",
     "text": [
      "100%|██████████| 164/164 [03:16<00:00,  1.20s/it]\n",
      "100%|██████████| 41/41 [00:28<00:00,  1.44it/s]\n",
      "  0%|          | 0/164 [00:00<?, ?it/s]"
     ]
    },
    {
     "name": "stdout",
     "output_type": "stream",
     "text": [
      "Epoch   127: reducing learning rate of group 0 to 6.9789e-07.\n",
      "\n",
      "Epoch #127 train loss: [0.6886728041992872] train cls loss : [0.41098199609950337] train box loss : [0.005553816178800053] validation mAP : [0.36451423026422647] \n",
      "\n"
     ]
    },
    {
     "name": "stderr",
     "output_type": "stream",
     "text": [
      "100%|██████████| 164/164 [03:19<00:00,  1.21s/it]\n",
      "100%|██████████| 41/41 [00:28<00:00,  1.43it/s]\n",
      "  0%|          | 0/164 [00:00<?, ?it/s]"
     ]
    },
    {
     "name": "stdout",
     "output_type": "stream",
     "text": [
      "\n",
      "Epoch #128 train loss: [0.6834532391218725] train cls loss : [0.40652714681661806] train box loss : [0.0055385218702974125] validation mAP : [0.371902592655995] \n",
      "\n"
     ]
    },
    {
     "name": "stderr",
     "output_type": "stream",
     "text": [
      "100%|██████████| 164/164 [03:20<00:00,  1.22s/it]\n",
      "100%|██████████| 41/41 [00:28<00:00,  1.43it/s]\n",
      "  0%|          | 0/164 [00:00<?, ?it/s]"
     ]
    },
    {
     "name": "stdout",
     "output_type": "stream",
     "text": [
      "\n",
      "Epoch #129 train loss: [0.6806812488627334] train cls loss : [0.40470943119082237] train box loss : [0.005519436340299348] validation mAP : [0.37255395827560506] \n",
      "\n"
     ]
    },
    {
     "name": "stderr",
     "output_type": "stream",
     "text": [
      "100%|██████████| 164/164 [03:17<00:00,  1.21s/it]\n",
      "100%|██████████| 41/41 [00:27<00:00,  1.50it/s]\n",
      "  0%|          | 0/164 [00:00<?, ?it/s]"
     ]
    },
    {
     "name": "stdout",
     "output_type": "stream",
     "text": [
      "\n",
      "Epoch #130 train loss: [0.6743131159460631] train cls loss : [0.4027287598598263] train box loss : [0.0054316870954683434] validation mAP : [0.37123436943300064] \n",
      "\n"
     ]
    },
    {
     "name": "stderr",
     "output_type": "stream",
     "text": [
      "100%|██████████| 164/164 [03:18<00:00,  1.21s/it]\n",
      "100%|██████████| 41/41 [00:27<00:00,  1.51it/s]\n",
      "  0%|          | 0/164 [00:00<?, ?it/s]"
     ]
    },
    {
     "name": "stdout",
     "output_type": "stream",
     "text": [
      "Epoch   131: reducing learning rate of group 0 to 4.8852e-07.\n",
      "\n",
      "Epoch #131 train loss: [0.6773701925336016] train cls loss : [0.4046588656917801] train box loss : [0.005454226507654753] validation mAP : [0.3732352117524188] \n",
      "\n"
     ]
    },
    {
     "name": "stderr",
     "output_type": "stream",
     "text": [
      "100%|██████████| 164/164 [03:18<00:00,  1.21s/it]\n",
      "100%|██████████| 41/41 [00:28<00:00,  1.43it/s]\n",
      "  0%|          | 0/164 [00:00<?, ?it/s]"
     ]
    },
    {
     "name": "stdout",
     "output_type": "stream",
     "text": [
      "\n",
      "Epoch #132 train loss: [0.6738566879010811] train cls loss : [0.40184915470038385] train box loss : [0.005440150710007117] validation mAP : [0.3657947547115434] \n",
      "\n"
     ]
    },
    {
     "name": "stderr",
     "output_type": "stream",
     "text": [
      "100%|██████████| 164/164 [03:18<00:00,  1.21s/it]\n",
      "100%|██████████| 41/41 [00:27<00:00,  1.51it/s]\n",
      "  0%|          | 0/164 [00:00<?, ?it/s]"
     ]
    },
    {
     "name": "stdout",
     "output_type": "stream",
     "text": [
      "\n",
      "Epoch #133 train loss: [0.6770139364600409] train cls loss : [0.40455124496183736] train box loss : [0.00544925381877539] validation mAP : [0.3697783639842071] \n",
      "\n"
     ]
    },
    {
     "name": "stderr",
     "output_type": "stream",
     "text": [
      "100%|██████████| 164/164 [03:18<00:00,  1.21s/it]\n",
      "100%|██████████| 41/41 [00:27<00:00,  1.51it/s]\n",
      "  0%|          | 0/164 [00:00<?, ?it/s]"
     ]
    },
    {
     "name": "stdout",
     "output_type": "stream",
     "text": [
      "\n",
      "Epoch #134 train loss: [0.6818891478760077] train cls loss : [0.4063615011244181] train box loss : [0.005510552899992427] validation mAP : [0.3683564867416247] \n",
      "\n"
     ]
    },
    {
     "name": "stderr",
     "output_type": "stream",
     "text": [
      "100%|██████████| 164/164 [03:20<00:00,  1.22s/it]\n",
      "100%|██████████| 41/41 [00:28<00:00,  1.42it/s]\n",
      "  0%|          | 0/164 [00:00<?, ?it/s]"
     ]
    },
    {
     "name": "stdout",
     "output_type": "stream",
     "text": [
      "Epoch   135: reducing learning rate of group 0 to 3.4197e-07.\n",
      "\n",
      "Epoch #135 train loss: [0.6887841149965315] train cls loss : [0.41044099907361237] train box loss : [0.005566862290088097] validation mAP : [0.3674124635676372] \n",
      "\n"
     ]
    },
    {
     "name": "stderr",
     "output_type": "stream",
     "text": [
      "100%|██████████| 164/164 [03:18<00:00,  1.21s/it]\n",
      "100%|██████████| 41/41 [00:28<00:00,  1.45it/s]\n",
      "  0%|          | 0/164 [00:00<?, ?it/s]"
     ]
    },
    {
     "name": "stdout",
     "output_type": "stream",
     "text": [
      "\n",
      "Epoch #136 train loss: [0.6803221985452905] train cls loss : [0.4060328418305688] train box loss : [0.005485787115817449] validation mAP : [0.36874338491673225] \n",
      "\n"
     ]
    },
    {
     "name": "stderr",
     "output_type": "stream",
     "text": [
      "100%|██████████| 164/164 [03:18<00:00,  1.21s/it]\n",
      "100%|██████████| 41/41 [00:28<00:00,  1.45it/s]\n",
      "  0%|          | 0/164 [00:00<?, ?it/s]"
     ]
    },
    {
     "name": "stdout",
     "output_type": "stream",
     "text": [
      "\n",
      "Epoch #137 train loss: [0.6753898834653788] train cls loss : [0.4034265281250334] train box loss : [0.005439267153924642] validation mAP : [0.3708091153992345] \n",
      "\n"
     ]
    },
    {
     "name": "stderr",
     "output_type": "stream",
     "text": [
      "100%|██████████| 164/164 [03:18<00:00,  1.21s/it]\n",
      "100%|██████████| 41/41 [00:27<00:00,  1.47it/s]\n",
      "  0%|          | 0/164 [00:00<?, ?it/s]"
     ]
    },
    {
     "name": "stdout",
     "output_type": "stream",
     "text": [
      "\n",
      "Epoch #138 train loss: [0.6785456699226301] train cls loss : [0.4047668929837066] train box loss : [0.0054755755205505964] validation mAP : [0.364818971720401] \n",
      "\n"
     ]
    },
    {
     "name": "stderr",
     "output_type": "stream",
     "text": [
      "100%|██████████| 164/164 [03:22<00:00,  1.23s/it]\n",
      "100%|██████████| 41/41 [00:27<00:00,  1.50it/s]\n",
      "  0%|          | 0/164 [00:00<?, ?it/s]"
     ]
    },
    {
     "name": "stdout",
     "output_type": "stream",
     "text": [
      "Epoch   139: reducing learning rate of group 0 to 2.3938e-07.\n",
      "\n",
      "Epoch #139 train loss: [0.6902212519476237] train cls loss : [0.4126384657760317] train box loss : [0.005551655741211313] validation mAP : [0.36830968616342963] \n",
      "\n"
     ]
    },
    {
     "name": "stderr",
     "output_type": "stream",
     "text": [
      "100%|██████████| 164/164 [03:17<00:00,  1.20s/it]\n",
      "100%|██████████| 41/41 [00:28<00:00,  1.43it/s]\n",
      "  0%|          | 0/164 [00:00<?, ?it/s]"
     ]
    },
    {
     "name": "stdout",
     "output_type": "stream",
     "text": [
      "\n",
      "Epoch #140 train loss: [0.6820535243445788] train cls loss : [0.4067822661297805] train box loss : [0.005505425162808411] validation mAP : [0.3708266192975205] \n",
      "\n"
     ]
    },
    {
     "name": "stderr",
     "output_type": "stream",
     "text": [
      "100%|██████████| 164/164 [03:20<00:00,  1.22s/it]\n",
      "100%|██████████| 41/41 [00:28<00:00,  1.42it/s]\n",
      "  0%|          | 0/164 [00:00<?, ?it/s]"
     ]
    },
    {
     "name": "stdout",
     "output_type": "stream",
     "text": [
      "\n",
      "Epoch #141 train loss: [0.6874541982831871] train cls loss : [0.40945985482811337] train box loss : [0.0055598868247524426] validation mAP : [0.36383150373457224] \n",
      "\n"
     ]
    },
    {
     "name": "stderr",
     "output_type": "stream",
     "text": [
      "100%|██████████| 164/164 [03:19<00:00,  1.21s/it]\n",
      "100%|██████████| 41/41 [00:28<00:00,  1.45it/s]\n",
      "  0%|          | 0/164 [00:00<?, ?it/s]"
     ]
    },
    {
     "name": "stdout",
     "output_type": "stream",
     "text": [
      "\n",
      "Epoch #142 train loss: [0.6827790167297987] train cls loss : [0.40664895341785345] train box loss : [0.005522601271028971] validation mAP : [0.3668247100292253] \n",
      "\n"
     ]
    },
    {
     "name": "stderr",
     "output_type": "stream",
     "text": [
      "100%|██████████| 164/164 [03:19<00:00,  1.22s/it]\n",
      "100%|██████████| 41/41 [00:28<00:00,  1.44it/s]\n",
      "  0%|          | 0/164 [00:00<?, ?it/s]"
     ]
    },
    {
     "name": "stdout",
     "output_type": "stream",
     "text": [
      "Epoch   143: reducing learning rate of group 0 to 1.6756e-07.\n",
      "\n",
      "Epoch #143 train loss: [0.682627463937489] train cls loss : [0.4064097568580655] train box loss : [0.005524354142535095] validation mAP : [0.36689089790001755] \n",
      "\n"
     ]
    },
    {
     "name": "stderr",
     "output_type": "stream",
     "text": [
      "100%|██████████| 164/164 [03:19<00:00,  1.22s/it]\n",
      "100%|██████████| 41/41 [00:28<00:00,  1.45it/s]\n",
      "  0%|          | 0/164 [00:00<?, ?it/s]"
     ]
    },
    {
     "name": "stdout",
     "output_type": "stream",
     "text": [
      "\n",
      "Epoch #144 train loss: [0.679448257751669] train cls loss : [0.40423251990831033] train box loss : [0.005504314759749752] validation mAP : [0.368424720201965] \n",
      "\n"
     ]
    },
    {
     "name": "stderr",
     "output_type": "stream",
     "text": [
      "100%|██████████| 164/164 [03:19<00:00,  1.21s/it]\n",
      "100%|██████████| 41/41 [00:29<00:00,  1.41it/s]\n",
      "  0%|          | 0/164 [00:00<?, ?it/s]"
     ]
    },
    {
     "name": "stdout",
     "output_type": "stream",
     "text": [
      "\n",
      "Epoch #145 train loss: [0.6780607422481387] train cls loss : [0.4037828038656215] train box loss : [0.00548555884000667] validation mAP : [0.36825581415507824] \n",
      "\n"
     ]
    },
    {
     "name": "stderr",
     "output_type": "stream",
     "text": [
      "100%|██████████| 164/164 [03:21<00:00,  1.23s/it]\n",
      "100%|██████████| 41/41 [00:28<00:00,  1.43it/s]\n",
      "  0%|          | 0/164 [00:00<?, ?it/s]"
     ]
    },
    {
     "name": "stdout",
     "output_type": "stream",
     "text": [
      "\n",
      "Epoch #146 train loss: [0.6883162341593421] train cls loss : [0.4118336453823174] train box loss : [0.005529651752316148] validation mAP : [0.3673849568623868] \n",
      "\n"
     ]
    },
    {
     "name": "stderr",
     "output_type": "stream",
     "text": [
      "100%|██████████| 164/164 [03:20<00:00,  1.22s/it]\n",
      "100%|██████████| 41/41 [00:28<00:00,  1.44it/s]\n",
      "  0%|          | 0/164 [00:00<?, ?it/s]"
     ]
    },
    {
     "name": "stdout",
     "output_type": "stream",
     "text": [
      "Epoch   147: reducing learning rate of group 0 to 1.1729e-07.\n",
      "\n",
      "Epoch #147 train loss: [0.6785094253790028] train cls loss : [0.4036383093838296] train box loss : [0.005497422311661418] validation mAP : [0.36633629514867544] \n",
      "\n"
     ]
    },
    {
     "name": "stderr",
     "output_type": "stream",
     "text": [
      "100%|██████████| 164/164 [03:19<00:00,  1.22s/it]\n",
      "100%|██████████| 41/41 [00:29<00:00,  1.41it/s]\n",
      "  0%|          | 0/164 [00:00<?, ?it/s]"
     ]
    },
    {
     "name": "stdout",
     "output_type": "stream",
     "text": [
      "\n",
      "Epoch #148 train loss: [0.6806817302209164] train cls loss : [0.4078247569925602] train box loss : [0.005457139470431929] validation mAP : [0.3707235316734576] \n",
      "\n"
     ]
    },
    {
     "name": "stderr",
     "output_type": "stream",
     "text": [
      "100%|██████████| 164/164 [03:19<00:00,  1.22s/it]\n",
      "100%|██████████| 41/41 [00:28<00:00,  1.43it/s]\n",
      "  0%|          | 0/164 [00:00<?, ?it/s]"
     ]
    },
    {
     "name": "stdout",
     "output_type": "stream",
     "text": [
      "\n",
      "Epoch #149 train loss: [0.6777128630983588] train cls loss : [0.4042572510871078] train box loss : [0.005469112220530946] validation mAP : [0.3698998507956143] \n",
      "\n"
     ]
    },
    {
     "name": "stderr",
     "output_type": "stream",
     "text": [
      "100%|██████████| 164/164 [03:20<00:00,  1.22s/it]\n",
      "100%|██████████| 41/41 [00:28<00:00,  1.45it/s]\n",
      "  0%|          | 0/164 [00:00<?, ?it/s]"
     ]
    },
    {
     "name": "stdout",
     "output_type": "stream",
     "text": [
      "\n",
      "Epoch #150 train loss: [0.6787301570256794] train cls loss : [0.4064047531882087] train box loss : [0.00544650808267116] validation mAP : [0.3714882581479078] \n",
      "\n"
     ]
    },
    {
     "name": "stderr",
     "output_type": "stream",
     "text": [
      "100%|██████████| 164/164 [03:18<00:00,  1.21s/it]\n",
      "100%|██████████| 41/41 [00:28<00:00,  1.42it/s]\n",
      "  0%|          | 0/164 [00:00<?, ?it/s]"
     ]
    },
    {
     "name": "stdout",
     "output_type": "stream",
     "text": [
      "Epoch   151: reducing learning rate of group 0 to 1.0000e-07.\n",
      "\n",
      "Epoch #151 train loss: [0.6805663094249079] train cls loss : [0.40734075062776914] train box loss : [0.005464511214234831] validation mAP : [0.3638339615717992] \n",
      "\n"
     ]
    },
    {
     "name": "stderr",
     "output_type": "stream",
     "text": [
      "100%|██████████| 164/164 [03:18<00:00,  1.21s/it]\n",
      "100%|██████████| 41/41 [00:27<00:00,  1.47it/s]\n",
      "  0%|          | 0/164 [00:00<?, ?it/s]"
     ]
    },
    {
     "name": "stdout",
     "output_type": "stream",
     "text": [
      "\n",
      "Epoch #152 train loss: [0.6738284998464821] train cls loss : [0.4039558396568998] train box loss : [0.005397453143826857] validation mAP : [0.37200186490583476] \n",
      "\n"
     ]
    },
    {
     "name": "stderr",
     "output_type": "stream",
     "text": [
      " 43%|████▎     | 71/164 [01:26<01:49,  1.18s/it]"
     ]
    }
   ],
   "source": [
    "train_fn(model, train_data_loader, val_data_loader, optimizer, scheduler, device)"
   ]
  },
  {
   "cell_type": "code",
   "execution_count": null,
   "metadata": {},
   "outputs": [],
   "source": []
  }
 ],
 "metadata": {
  "accelerator": "GPU",
  "colab": {
   "machine_shape": "hm",
   "name": "efficientdet_train.ipynb",
   "provenance": [
    {
     "file_id": "1Qojr-LHsIJ_PONNDedlcfYjCTKcLD91H",
     "timestamp": 1620609859704
    }
   ],
   "toc_visible": true
  },
  "kernelspec": {
   "display_name": "Python 3",
   "language": "python",
   "name": "python3"
  },
  "language_info": {
   "codemirror_mode": {
    "name": "ipython",
    "version": 3
   },
   "file_extension": ".py",
   "mimetype": "text/x-python",
   "name": "python",
   "nbconvert_exporter": "python",
   "pygments_lexer": "ipython3",
   "version": "3.7.7"
  },
  "widgets": {
   "application/vnd.jupyter.widget-state+json": {
    "014e93bc2b8448ab9766c7bf5fce027a": {
     "model_module": "@jupyter-widgets/controls",
     "model_name": "HTMLModel",
     "state": {
      "_dom_classes": [],
      "_model_module": "@jupyter-widgets/controls",
      "_model_module_version": "1.5.0",
      "_model_name": "HTMLModel",
      "_view_count": null,
      "_view_module": "@jupyter-widgets/controls",
      "_view_module_version": "1.5.0",
      "_view_name": "HTMLView",
      "description": "",
      "description_tooltip": null,
      "layout": "IPY_MODEL_ebe5e5cf718f4cda80acbe9071978df9",
      "placeholder": "​",
      "style": "IPY_MODEL_6323f874053b4b9bb9eee3af3cd4f4da",
      "value": " 2617/2617 [00:00&lt;00:00, 5990.38it/s]"
     }
    },
    "1af8095e7fcf477388fa198000c0a88e": {
     "model_module": "@jupyter-widgets/base",
     "model_name": "LayoutModel",
     "state": {
      "_model_module": "@jupyter-widgets/base",
      "_model_module_version": "1.2.0",
      "_model_name": "LayoutModel",
      "_view_count": null,
      "_view_module": "@jupyter-widgets/base",
      "_view_module_version": "1.2.0",
      "_view_name": "LayoutView",
      "align_content": null,
      "align_items": null,
      "align_self": null,
      "border": null,
      "bottom": null,
      "display": null,
      "flex": null,
      "flex_flow": null,
      "grid_area": null,
      "grid_auto_columns": null,
      "grid_auto_flow": null,
      "grid_auto_rows": null,
      "grid_column": null,
      "grid_gap": null,
      "grid_row": null,
      "grid_template_areas": null,
      "grid_template_columns": null,
      "grid_template_rows": null,
      "height": null,
      "justify_content": null,
      "justify_items": null,
      "left": null,
      "margin": null,
      "max_height": null,
      "max_width": null,
      "min_height": null,
      "min_width": null,
      "object_fit": null,
      "object_position": null,
      "order": null,
      "overflow": null,
      "overflow_x": null,
      "overflow_y": null,
      "padding": null,
      "right": null,
      "top": null,
      "visibility": null,
      "width": null
     }
    },
    "2e0126444f014196aac6ca5a9572df31": {
     "model_module": "@jupyter-widgets/base",
     "model_name": "LayoutModel",
     "state": {
      "_model_module": "@jupyter-widgets/base",
      "_model_module_version": "1.2.0",
      "_model_name": "LayoutModel",
      "_view_count": null,
      "_view_module": "@jupyter-widgets/base",
      "_view_module_version": "1.2.0",
      "_view_name": "LayoutView",
      "align_content": null,
      "align_items": null,
      "align_self": null,
      "border": null,
      "bottom": null,
      "display": null,
      "flex": null,
      "flex_flow": null,
      "grid_area": null,
      "grid_auto_columns": null,
      "grid_auto_flow": null,
      "grid_auto_rows": null,
      "grid_column": null,
      "grid_gap": null,
      "grid_row": null,
      "grid_template_areas": null,
      "grid_template_columns": null,
      "grid_template_rows": null,
      "height": null,
      "justify_content": null,
      "justify_items": null,
      "left": null,
      "margin": null,
      "max_height": null,
      "max_width": null,
      "min_height": null,
      "min_width": null,
      "object_fit": null,
      "object_position": null,
      "order": null,
      "overflow": null,
      "overflow_x": null,
      "overflow_y": null,
      "padding": null,
      "right": null,
      "top": null,
      "visibility": null,
      "width": null
     }
    },
    "415ace3571cb4841bd49f6f765519e63": {
     "model_module": "@jupyter-widgets/controls",
     "model_name": "FloatProgressModel",
     "state": {
      "_dom_classes": [],
      "_model_module": "@jupyter-widgets/controls",
      "_model_module_version": "1.5.0",
      "_model_name": "FloatProgressModel",
      "_view_count": null,
      "_view_module": "@jupyter-widgets/controls",
      "_view_module_version": "1.5.0",
      "_view_name": "ProgressView",
      "bar_style": "success",
      "description": "100%",
      "description_tooltip": null,
      "layout": "IPY_MODEL_9f6c2828313b48ee87e2761df787a1b5",
      "max": 2617,
      "min": 0,
      "orientation": "horizontal",
      "style": "IPY_MODEL_f57f092d93794cf2a6bc992febe88808",
      "value": 2617
     }
    },
    "6323f874053b4b9bb9eee3af3cd4f4da": {
     "model_module": "@jupyter-widgets/controls",
     "model_name": "DescriptionStyleModel",
     "state": {
      "_model_module": "@jupyter-widgets/controls",
      "_model_module_version": "1.5.0",
      "_model_name": "DescriptionStyleModel",
      "_view_count": null,
      "_view_module": "@jupyter-widgets/base",
      "_view_module_version": "1.2.0",
      "_view_name": "StyleView",
      "description_width": ""
     }
    },
    "675294ef20a1473aa899cf6946fe78e4": {
     "model_module": "@jupyter-widgets/controls",
     "model_name": "HBoxModel",
     "state": {
      "_dom_classes": [],
      "_model_module": "@jupyter-widgets/controls",
      "_model_module_version": "1.5.0",
      "_model_name": "HBoxModel",
      "_view_count": null,
      "_view_module": "@jupyter-widgets/controls",
      "_view_module_version": "1.5.0",
      "_view_name": "HBoxView",
      "box_style": "",
      "children": [
       "IPY_MODEL_9a88e37e052a49dabbe441ffb7bd8eaf",
       "IPY_MODEL_fd94dcd5b7ce46259a0a99e1cac758b5"
      ],
      "layout": "IPY_MODEL_b14b8bc17d084e48934477b59f42d277"
     }
    },
    "79e9e25c52ab40efa01cedf98a5c1fa6": {
     "model_module": "@jupyter-widgets/controls",
     "model_name": "ProgressStyleModel",
     "state": {
      "_model_module": "@jupyter-widgets/controls",
      "_model_module_version": "1.5.0",
      "_model_name": "ProgressStyleModel",
      "_view_count": null,
      "_view_module": "@jupyter-widgets/base",
      "_view_module_version": "1.2.0",
      "_view_name": "StyleView",
      "bar_color": null,
      "description_width": "initial"
     }
    },
    "89f4335f1be843e39d02e100d367d799": {
     "model_module": "@jupyter-widgets/controls",
     "model_name": "DescriptionStyleModel",
     "state": {
      "_model_module": "@jupyter-widgets/controls",
      "_model_module_version": "1.5.0",
      "_model_name": "DescriptionStyleModel",
      "_view_count": null,
      "_view_module": "@jupyter-widgets/base",
      "_view_module_version": "1.2.0",
      "_view_name": "StyleView",
      "description_width": ""
     }
    },
    "9a88e37e052a49dabbe441ffb7bd8eaf": {
     "model_module": "@jupyter-widgets/controls",
     "model_name": "FloatProgressModel",
     "state": {
      "_dom_classes": [],
      "_model_module": "@jupyter-widgets/controls",
      "_model_module_version": "1.5.0",
      "_model_name": "FloatProgressModel",
      "_view_count": null,
      "_view_module": "@jupyter-widgets/controls",
      "_view_module_version": "1.5.0",
      "_view_name": "ProgressView",
      "bar_style": "success",
      "description": "100%",
      "description_tooltip": null,
      "layout": "IPY_MODEL_9ed9c584172a419bbd081564feea18fc",
      "max": 2617,
      "min": 0,
      "orientation": "horizontal",
      "style": "IPY_MODEL_79e9e25c52ab40efa01cedf98a5c1fa6",
      "value": 2617
     }
    },
    "9ed9c584172a419bbd081564feea18fc": {
     "model_module": "@jupyter-widgets/base",
     "model_name": "LayoutModel",
     "state": {
      "_model_module": "@jupyter-widgets/base",
      "_model_module_version": "1.2.0",
      "_model_name": "LayoutModel",
      "_view_count": null,
      "_view_module": "@jupyter-widgets/base",
      "_view_module_version": "1.2.0",
      "_view_name": "LayoutView",
      "align_content": null,
      "align_items": null,
      "align_self": null,
      "border": null,
      "bottom": null,
      "display": null,
      "flex": null,
      "flex_flow": null,
      "grid_area": null,
      "grid_auto_columns": null,
      "grid_auto_flow": null,
      "grid_auto_rows": null,
      "grid_column": null,
      "grid_gap": null,
      "grid_row": null,
      "grid_template_areas": null,
      "grid_template_columns": null,
      "grid_template_rows": null,
      "height": null,
      "justify_content": null,
      "justify_items": null,
      "left": null,
      "margin": null,
      "max_height": null,
      "max_width": null,
      "min_height": null,
      "min_width": null,
      "object_fit": null,
      "object_position": null,
      "order": null,
      "overflow": null,
      "overflow_x": null,
      "overflow_y": null,
      "padding": null,
      "right": null,
      "top": null,
      "visibility": null,
      "width": null
     }
    },
    "9f6c2828313b48ee87e2761df787a1b5": {
     "model_module": "@jupyter-widgets/base",
     "model_name": "LayoutModel",
     "state": {
      "_model_module": "@jupyter-widgets/base",
      "_model_module_version": "1.2.0",
      "_model_name": "LayoutModel",
      "_view_count": null,
      "_view_module": "@jupyter-widgets/base",
      "_view_module_version": "1.2.0",
      "_view_name": "LayoutView",
      "align_content": null,
      "align_items": null,
      "align_self": null,
      "border": null,
      "bottom": null,
      "display": null,
      "flex": null,
      "flex_flow": null,
      "grid_area": null,
      "grid_auto_columns": null,
      "grid_auto_flow": null,
      "grid_auto_rows": null,
      "grid_column": null,
      "grid_gap": null,
      "grid_row": null,
      "grid_template_areas": null,
      "grid_template_columns": null,
      "grid_template_rows": null,
      "height": null,
      "justify_content": null,
      "justify_items": null,
      "left": null,
      "margin": null,
      "max_height": null,
      "max_width": null,
      "min_height": null,
      "min_width": null,
      "object_fit": null,
      "object_position": null,
      "order": null,
      "overflow": null,
      "overflow_x": null,
      "overflow_y": null,
      "padding": null,
      "right": null,
      "top": null,
      "visibility": null,
      "width": null
     }
    },
    "b14b8bc17d084e48934477b59f42d277": {
     "model_module": "@jupyter-widgets/base",
     "model_name": "LayoutModel",
     "state": {
      "_model_module": "@jupyter-widgets/base",
      "_model_module_version": "1.2.0",
      "_model_name": "LayoutModel",
      "_view_count": null,
      "_view_module": "@jupyter-widgets/base",
      "_view_module_version": "1.2.0",
      "_view_name": "LayoutView",
      "align_content": null,
      "align_items": null,
      "align_self": null,
      "border": null,
      "bottom": null,
      "display": null,
      "flex": null,
      "flex_flow": null,
      "grid_area": null,
      "grid_auto_columns": null,
      "grid_auto_flow": null,
      "grid_auto_rows": null,
      "grid_column": null,
      "grid_gap": null,
      "grid_row": null,
      "grid_template_areas": null,
      "grid_template_columns": null,
      "grid_template_rows": null,
      "height": null,
      "justify_content": null,
      "justify_items": null,
      "left": null,
      "margin": null,
      "max_height": null,
      "max_width": null,
      "min_height": null,
      "min_width": null,
      "object_fit": null,
      "object_position": null,
      "order": null,
      "overflow": null,
      "overflow_x": null,
      "overflow_y": null,
      "padding": null,
      "right": null,
      "top": null,
      "visibility": null,
      "width": null
     }
    },
    "e1c8780748664bb299f579e066614790": {
     "model_module": "@jupyter-widgets/controls",
     "model_name": "HBoxModel",
     "state": {
      "_dom_classes": [],
      "_model_module": "@jupyter-widgets/controls",
      "_model_module_version": "1.5.0",
      "_model_name": "HBoxModel",
      "_view_count": null,
      "_view_module": "@jupyter-widgets/controls",
      "_view_module_version": "1.5.0",
      "_view_name": "HBoxView",
      "box_style": "",
      "children": [
       "IPY_MODEL_415ace3571cb4841bd49f6f765519e63",
       "IPY_MODEL_014e93bc2b8448ab9766c7bf5fce027a"
      ],
      "layout": "IPY_MODEL_1af8095e7fcf477388fa198000c0a88e"
     }
    },
    "ebe5e5cf718f4cda80acbe9071978df9": {
     "model_module": "@jupyter-widgets/base",
     "model_name": "LayoutModel",
     "state": {
      "_model_module": "@jupyter-widgets/base",
      "_model_module_version": "1.2.0",
      "_model_name": "LayoutModel",
      "_view_count": null,
      "_view_module": "@jupyter-widgets/base",
      "_view_module_version": "1.2.0",
      "_view_name": "LayoutView",
      "align_content": null,
      "align_items": null,
      "align_self": null,
      "border": null,
      "bottom": null,
      "display": null,
      "flex": null,
      "flex_flow": null,
      "grid_area": null,
      "grid_auto_columns": null,
      "grid_auto_flow": null,
      "grid_auto_rows": null,
      "grid_column": null,
      "grid_gap": null,
      "grid_row": null,
      "grid_template_areas": null,
      "grid_template_columns": null,
      "grid_template_rows": null,
      "height": null,
      "justify_content": null,
      "justify_items": null,
      "left": null,
      "margin": null,
      "max_height": null,
      "max_width": null,
      "min_height": null,
      "min_width": null,
      "object_fit": null,
      "object_position": null,
      "order": null,
      "overflow": null,
      "overflow_x": null,
      "overflow_y": null,
      "padding": null,
      "right": null,
      "top": null,
      "visibility": null,
      "width": null
     }
    },
    "f57f092d93794cf2a6bc992febe88808": {
     "model_module": "@jupyter-widgets/controls",
     "model_name": "ProgressStyleModel",
     "state": {
      "_model_module": "@jupyter-widgets/controls",
      "_model_module_version": "1.5.0",
      "_model_name": "ProgressStyleModel",
      "_view_count": null,
      "_view_module": "@jupyter-widgets/base",
      "_view_module_version": "1.2.0",
      "_view_name": "StyleView",
      "bar_color": null,
      "description_width": "initial"
     }
    },
    "fd94dcd5b7ce46259a0a99e1cac758b5": {
     "model_module": "@jupyter-widgets/controls",
     "model_name": "HTMLModel",
     "state": {
      "_dom_classes": [],
      "_model_module": "@jupyter-widgets/controls",
      "_model_module_version": "1.5.0",
      "_model_name": "HTMLModel",
      "_view_count": null,
      "_view_module": "@jupyter-widgets/controls",
      "_view_module_version": "1.5.0",
      "_view_name": "HTMLView",
      "description": "",
      "description_tooltip": null,
      "layout": "IPY_MODEL_2e0126444f014196aac6ca5a9572df31",
      "placeholder": "​",
      "style": "IPY_MODEL_89f4335f1be843e39d02e100d367d799",
      "value": " 2617/2617 [02:06&lt;00:00, 20.77it/s]"
     }
    }
   }
  }
 },
 "nbformat": 4,
 "nbformat_minor": 4
}
