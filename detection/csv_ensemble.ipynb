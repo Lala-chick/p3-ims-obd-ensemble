{
 "cells": [
  {
   "cell_type": "code",
   "execution_count": 1,
   "id": "cd8db732-a22e-4aa4-95ca-f84531b25a51",
   "metadata": {
    "id": "cd8db732-a22e-4aa4-95ca-f84531b25a51"
   },
   "outputs": [],
   "source": [
    "import pandas as pd\n",
    "import numpy as np\n",
    "from ensemble_boxes import *\n",
    "from tqdm import tqdm"
   ]
  },
  {
   "cell_type": "code",
   "execution_count": 2,
   "id": "250b8c0e-f993-440e-babb-e32d93897b6d",
   "metadata": {},
   "outputs": [],
   "source": [
    "# image_id : image id\n",
    "# PredictionString : label, score, x(min), y(min), x(max), y(max)\n",
    "sample=pd.read_csv('/opt/ml/myfolder/UniverseNet-master/submissions/universe101_fold0_5759.csv')\n",
    "image_list=sample['image_id']"
   ]
  },
  {
   "cell_type": "code",
   "execution_count": 3,
   "id": "44129c8c-26a6-41e8-82b8-b74a76b1959e",
   "metadata": {
    "id": "44129c8c-26a6-41e8-82b8-b74a76b1959e"
   },
   "outputs": [],
   "source": [
    "df_preds=[\n",
    "    pd.read_csv(\"/opt/ml/myfolder/UniverseNet-master/work_dirs/all_csv/DetectoRS.csv\"),\n",
    "    pd.read_csv(\"/opt/ml/myfolder/UniverseNet-master/work_dirs/all_csv/Nuree_swin_fold0.csv\"),\n",
    "    pd.read_csv(\"/opt/ml/myfolder/UniverseNet-master/work_dirs/all_csv/Nuree_swin_fold1.csv\"),\n",
    "    pd.read_csv(\"/opt/ml/myfolder/UniverseNet-master/work_dirs/all_csv/Nuree_swin_fold2.csv\"),\n",
    "    pd.read_csv(\"/opt/ml/myfolder/UniverseNet-master/work_dirs/all_csv/Nuree_swin_fold3.csv\"),\n",
    "    pd.read_csv(\"/opt/ml/myfolder/UniverseNet-master/work_dirs/all_csv/Nuree_swin_fold4.csv\"),\n",
    "    pd.read_csv(\"/opt/ml/myfolder/UniverseNet-master/work_dirs/all_csv/swin_s_basic_fold0.csv\"),\n",
    "    pd.read_csv(\"/opt/ml/myfolder/UniverseNet-master/work_dirs/all_csv/swins_6013_all_data.csv\"),\n",
    "    pd.read_csv(\"/opt/ml/myfolder/UniverseNet-master/work_dirs/all_csv/swint_allcustomdata_5712.csv\"),\n",
    "    pd.read_csv(\"/opt/ml/myfolder/UniverseNet-master/work_dirs/all_csv/SwinT_epoch50_resize512_LB5543.csv\"),\n",
    "    pd.read_csv(\"/opt/ml/myfolder/UniverseNet-master/work_dirs/all_csv/swint_kfold_5732.csv\"),\n",
    "    pd.read_csv(\"/opt/ml/myfolder/UniverseNet-master/work_dirs/all_csv/universe101_fold2_5559.csv\"),\n",
    "    pd.read_csv(\"/opt/ml/myfolder/UniverseNet-master/work_dirs/all_csv/universe101_swa_fold0_5769.csv\"),\n",
    "    pd.read_csv(\"/opt/ml/myfolder/UniverseNet-master/work_dirs/all_csv/universe101_swa_fold1_5726.csv\"),\n",
    "    pd.read_csv(\"/opt/ml/myfolder/UniverseNet-master/work_dirs/all_csv/universe101_swa_fold3_5727.csv\"),\n",
    "    pd.read_csv(\"/opt/ml/myfolder/UniverseNet-master/work_dirs/all_csv/universe101_swa_fold4_5767.csv\"),\n",
    "    pd.read_csv(\"/opt/ml/myfolder/UniverseNet-master/work_dirs/all_csv/universe101_swa_kfold_0.6102.csv\"),\n",
    "    pd.read_csv(\"/opt/ml/myfolder/UniverseNet-master/work_dirs/all_csv/universe50_5472.csv\"),\n",
    "    pd.read_csv(\"/opt/ml/myfolder/UniverseNet-master/work_dirs/all_csv/vfnetx_alldata_swa_5558.csv\"),\n",
    "]\n",
    "model_count = len(df_preds)"
   ]
  },
  {
   "cell_type": "code",
   "execution_count": 4,
   "id": "6f6b74b4-87c7-4cb2-ae35-e1937cc791ac",
   "metadata": {
    "id": "6f6b74b4-87c7-4cb2-ae35-e1937cc791ac"
   },
   "outputs": [],
   "source": [
    "def get_model_pred(df_pred):\n",
    "    pred_list = df_pred['PredictionString'].tolist()\n",
    "    result=[]\n",
    "    for image_pred in pred_list:\n",
    "        pred_line=image_pred.split(' ')[:-1]\n",
    "        pred_line=np.array(pred_line).reshape(-1,6).transpose()\n",
    "        boxes_count=pred_line.shape[1]\n",
    "        labels=pred_line[0].astype(np.int32)\n",
    "        scores=pred_line[1].astype(np.float32)\n",
    "        boxes=[]\n",
    "        for idx in range(boxes_count):\n",
    "            pred_boxes=[]\n",
    "            for loc in range(2,6):\n",
    "                pred_boxes.append(float(pred_line[loc][idx]))\n",
    "            boxes.append(pred_boxes)\n",
    "\n",
    "        boxes = np.array(boxes)/512.\n",
    "\n",
    "        result.append({\n",
    "                    'boxes': boxes,\n",
    "                    'scores': scores,\n",
    "                    'labels': labels,})\n",
    "    return result"
   ]
  },
  {
   "cell_type": "code",
   "execution_count": 5,
   "id": "ef43e499-5a95-4439-826c-9337cc71ab5e",
   "metadata": {
    "id": "ef43e499-5a95-4439-826c-9337cc71ab5e"
   },
   "outputs": [],
   "source": [
    "model_prediction=[]\n",
    "for df_pred in df_preds:\n",
    "    model_prediction.append(get_model_pred(df_pred))"
   ]
  },
  {
   "cell_type": "code",
   "execution_count": 6,
   "id": "6ffb9262-e41e-4d1d-8d0e-120def3b1b18",
   "metadata": {
    "id": "6ffb9262-e41e-4d1d-8d0e-120def3b1b18"
   },
   "outputs": [],
   "source": [
    "def run_wbf(prediction, model_count, image_index, iou_thr=0.5, skip_box_thr=0.05, weights=None):\n",
    "    boxes = [prediction[model_idx][image_index]['boxes'].tolist() for model_idx in range(0,model_count)]\n",
    "    scores = [prediction[model_idx][image_index]['scores'].tolist() for model_idx in range(0,model_count)]\n",
    "    labels = [prediction[model_idx][image_index]['labels'].tolist() for model_idx in range(0,model_count)]\n",
    "    boxes, scores, labels = weighted_boxes_fusion(boxes, scores, labels, weights=None, iou_thr=iou_thr, skip_box_thr=skip_box_thr)\n",
    "    boxes = boxes*512.\n",
    "    return boxes, scores, labels"
   ]
  },
  {
   "cell_type": "code",
   "execution_count": 7,
   "id": "1ca82cb6-b3ae-4399-8d5a-13fe8d22a311",
   "metadata": {
    "id": "1ca82cb6-b3ae-4399-8d5a-13fe8d22a311",
    "outputId": "d8a7bbe9-8bd1-48cc-b9db-88a17f7b590b"
   },
   "outputs": [
    {
     "name": "stderr",
     "output_type": "stream",
     "text": [
      "  1%|          | 9/837 [00:01<02:46,  4.96it/s]/opt/conda/lib/python3.7/site-packages/ensemble_boxes/ensemble_boxes_wbf.py:85: UserWarning: Y2 > 1 in box. Set it to 1. Check that you normalize boxes in [0, 1] range.\n",
      "  warnings.warn('Y2 > 1 in box. Set it to 1. Check that you normalize boxes in [0, 1] range.')\n",
      "  6%|▌         | 47/837 [00:02<00:33, 23.61it/s]/opt/conda/lib/python3.7/site-packages/ensemble_boxes/ensemble_boxes_wbf.py:73: UserWarning: X2 > 1 in box. Set it to 1. Check that you normalize boxes in [0, 1] range.\n",
      "  warnings.warn('X2 > 1 in box. Set it to 1. Check that you normalize boxes in [0, 1] range.')\n",
      "100%|██████████| 837/837 [01:00<00:00, 13.83it/s]\n"
     ]
    }
   ],
   "source": [
    "prediction_strings = []\n",
    "file_names = []\n",
    "for index, image_id in enumerate(tqdm(image_list)):\n",
    "    boxes, scores, labels = run_wbf(model_prediction,model_count,index, iou_thr=0.6, skip_box_thr=0.125, weights=[0.35, 0.35, 0.3])\n",
    "    \n",
    "    prediction_string = ''\n",
    "    for box, score, label in zip(boxes, scores, labels):\n",
    "        prediction_string += str(int(label)) + ' ' + str(score) + ' ' + str(box[0]) + ' ' + str(\n",
    "            box[1]) + ' ' + str(box[2]) + ' ' + str(box[3]) + ' '\n",
    "    prediction_strings.append(prediction_string)\n",
    "    file_names.append(image_id)"
   ]
  },
  {
   "cell_type": "code",
   "execution_count": 8,
   "id": "f144d3c7-0f7d-4368-b7f9-cce315867e47",
   "metadata": {
    "id": "f144d3c7-0f7d-4368-b7f9-cce315867e47",
    "outputId": "87ac74f1-8566-4a1a-81e7-77f8a0f9b03d"
   },
   "outputs": [
    {
     "name": "stdout",
     "output_type": "stream",
     "text": [
      "               image_id                                   PredictionString\n",
      "0  batch_01_vt/0021.jpg  8 0.9937610030174255 173.1389617919922 234.696...\n",
      "1  batch_01_vt/0028.jpg  8 0.9615394473075867 158.9316864013672 56.0507...\n",
      "2  batch_01_vt/0031.jpg  1 0.9413436055183411 71.09355163574219 168.804...\n",
      "3  batch_01_vt/0032.jpg  8 0.9201588034629822 43.006370544433594 124.55...\n",
      "4  batch_01_vt/0070.jpg  8 0.9809255003929138 159.8540496826172 348.970...\n"
     ]
    }
   ],
   "source": [
    "submission = pd.DataFrame()\n",
    "submission['image_id'] = file_names\n",
    "submission['PredictionString'] = prediction_strings\n",
    "submission.to_csv(f'/opt/ml/myfolder/UniverseNet-master/work_dirs/all_csv/my_Ensemble.csv', index=None)\n",
    "print(submission.head())"
   ]
  },
  {
   "cell_type": "code",
   "execution_count": null,
   "id": "052eb5fe-c5e2-441c-b24d-137531d7c729",
   "metadata": {
    "id": "052eb5fe-c5e2-441c-b24d-137531d7c729"
   },
   "outputs": [],
   "source": []
  }
 ],
 "metadata": {
  "colab": {
   "name": "csv_ensemble.ipynb",
   "provenance": []
  },
  "kernelspec": {
   "display_name": "Python 3",
   "language": "python",
   "name": "python3"
  },
  "language_info": {
   "codemirror_mode": {
    "name": "ipython",
    "version": 3
   },
   "file_extension": ".py",
   "mimetype": "text/x-python",
   "name": "python",
   "nbconvert_exporter": "python",
   "pygments_lexer": "ipython3",
   "version": "3.7.7"
  }
 },
 "nbformat": 4,
 "nbformat_minor": 5
}
