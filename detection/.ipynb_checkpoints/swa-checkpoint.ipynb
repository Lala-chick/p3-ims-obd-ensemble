{
 "cells": [
  {
   "cell_type": "code",
   "execution_count": 6,
   "metadata": {},
   "outputs": [],
   "source": [
    "import os\n",
    "\n",
    "import torch"
   ]
  },
  {
   "cell_type": "code",
   "execution_count": 7,
   "metadata": {},
   "outputs": [],
   "source": [
    "model_dirs = ['/opt/ml/myfolder/UniverseNet-master/work_dirs/swin/_swa_epoch_5.pth',\n",
    "             '/opt/ml/myfolder/UniverseNet-master/work_dirs/swin/_swa_epoch_6.pth',\n",
    "             '/opt/ml/myfolder/UniverseNet-master/work_dirs/swin/_swa_epoch_7.pth',\n",
    "             '/opt/ml/myfolder/UniverseNet-master/work_dirs/swin/_swa_epoch_9.pth',\n",
    "             '/opt/ml/myfolder/UniverseNet-master/work_dirs/swin/_swa_epoch_10.pth',\n",
    "             '/opt/ml/myfolder/UniverseNet-master/work_dirs/swin/_swa_epoch_11.pth']\n",
    "\n",
    "models = [torch.load(model_dir) for model_dir in model_dirs]"
   ]
  },
  {
   "cell_type": "code",
   "execution_count": 8,
   "metadata": {},
   "outputs": [],
   "source": [
    "model_num = len(models)"
   ]
  },
  {
   "cell_type": "code",
   "execution_count": 9,
   "metadata": {},
   "outputs": [],
   "source": [
    "model_keys = models[-1]['state_dict'].keys()\n",
    "state_dict = models[-1]['state_dict']\n",
    "new_state_dict = state_dict.copy()\n",
    "ref_model = models[-1]"
   ]
  },
  {
   "cell_type": "code",
   "execution_count": 10,
   "metadata": {},
   "outputs": [],
   "source": [
    "for key in model_keys:\n",
    "    sum_weight = 0.0\n",
    "    for m in models:\n",
    "        sum_weight += m['state_dict'][key]\n",
    "    avg_weight = sum_weight / model_num\n",
    "    new_state_dict[key] = avg_weight"
   ]
  },
  {
   "cell_type": "code",
   "execution_count": 11,
   "metadata": {},
   "outputs": [],
   "source": [
    "ref_model['state_dict'] = new_state_dict\n",
    "torch.save(ref_model, '/opt/ml/myfolder/UniverseNet-master/work_dirs/swin/swa_.pth')"
   ]
  },
  {
   "cell_type": "code",
   "execution_count": null,
   "metadata": {},
   "outputs": [],
   "source": []
  }
 ],
 "metadata": {
  "kernelspec": {
   "display_name": "Python 3",
   "language": "python",
   "name": "python3"
  },
  "language_info": {
   "codemirror_mode": {
    "name": "ipython",
    "version": 3
   },
   "file_extension": ".py",
   "mimetype": "text/x-python",
   "name": "python",
   "nbconvert_exporter": "python",
   "pygments_lexer": "ipython3",
   "version": "3.8.5"
  }
 },
 "nbformat": 4,
 "nbformat_minor": 5
}
