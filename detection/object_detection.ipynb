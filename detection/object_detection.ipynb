{
  "nbformat": 4,
  "nbformat_minor": 0,
  "metadata": {
    "accelerator": "GPU",
    "colab": {
      "name": "object_detection.ipynb",
      "provenance": [],
      "collapsed_sections": [],
      "toc_visible": true,
      "machine_shape": "hm"
    },
    "kernelspec": {
      "display_name": "Python 3",
      "language": "python",
      "name": "python3"
    },
    "language_info": {
      "codemirror_mode": {
        "name": "ipython",
        "version": 3
      },
      "file_extension": ".py",
      "mimetype": "text/x-python",
      "name": "python",
      "nbconvert_exporter": "python",
      "pygments_lexer": "ipython3",
      "version": "3.7.7"
    },
    "pycharm": {
      "stem_cell": {
        "cell_type": "raw",
        "metadata": {
          "collapsed": false
        },
        "source": []
      }
    }
  },
  "cells": [
    {
      "cell_type": "code",
      "metadata": {
        "colab": {
          "base_uri": "https://localhost:8080/"
        },
        "id": "YWzCfz8wkzSb",
        "outputId": "3f1a34a9-ae21-491b-e334-3d2e2f0af0c2"
      },
      "source": [
        "!nvidia-smi"
      ],
      "execution_count": null,
      "outputs": [
        {
          "output_type": "stream",
          "text": [
            "Wed May 19 10:24:56 2021       \n",
            "+-----------------------------------------------------------------------------+\n",
            "| NVIDIA-SMI 465.19.01    Driver Version: 460.32.03    CUDA Version: 11.2     |\n",
            "|-------------------------------+----------------------+----------------------+\n",
            "| GPU  Name        Persistence-M| Bus-Id        Disp.A | Volatile Uncorr. ECC |\n",
            "| Fan  Temp  Perf  Pwr:Usage/Cap|         Memory-Usage | GPU-Util  Compute M. |\n",
            "|                               |                      |               MIG M. |\n",
            "|===============================+======================+======================|\n",
            "|   0  Tesla V100-SXM2...  Off  | 00000000:00:04.0 Off |                    0 |\n",
            "| N/A   34C    P0    23W / 300W |      0MiB / 16160MiB |      0%      Default |\n",
            "|                               |                      |                  N/A |\n",
            "+-------------------------------+----------------------+----------------------+\n",
            "                                                                               \n",
            "+-----------------------------------------------------------------------------+\n",
            "| Processes:                                                                  |\n",
            "|  GPU   GI   CI        PID   Type   Process name                  GPU Memory |\n",
            "|        ID   ID                                                   Usage      |\n",
            "|=============================================================================|\n",
            "|  No running processes found                                                 |\n",
            "+-----------------------------------------------------------------------------+\n"
          ],
          "name": "stdout"
        }
      ]
    },
    {
      "cell_type": "code",
      "metadata": {
        "id": "HfQEQc78j9gb"
      },
      "source": [
        "!pip3 install torch==1.8.1+cu102 torchvision==0.9.1+cu102 torchaudio===0.8.1 -f https://download.pytorch.org/whl/torch_stable.html\n",
        "!pip install mmcv-full -f https://download.openmmlab.com/mmcv/dist/cu102/torch1.8.1/index.html"
      ],
      "execution_count": null,
      "outputs": []
    },
    {
      "cell_type": "code",
      "metadata": {
        "id": "BEa1JQC9j9Vl"
      },
      "source": [
        "%cd /content\n",
        "!git clone https://github.com/NVIDIA/apex\n",
        "%cd apex\n",
        "!pip install -v --disable-pip-version-check --no-cache-dir ./"
      ],
      "execution_count": null,
      "outputs": []
    },
    {
      "cell_type": "code",
      "metadata": {
        "id": "8oAd5h9qj9RJ"
      },
      "source": [
        "!pip install timm\n",
        "!pip install albumentations==0.4.6"
      ],
      "execution_count": null,
      "outputs": []
    },
    {
      "cell_type": "code",
      "metadata": {
        "colab": {
          "base_uri": "https://localhost:8080/"
        },
        "id": "pqYb63v9j8v4",
        "outputId": "fc2fc02a-0103-4484-ea56-e6a6373ba45c"
      },
      "source": [
        "from google.colab import drive\n",
        "drive.mount('/content/drive')"
      ],
      "execution_count": null,
      "outputs": [
        {
          "output_type": "stream",
          "text": [
            "Mounted at /content/drive\n"
          ],
          "name": "stdout"
        }
      ]
    },
    {
      "cell_type": "markdown",
      "metadata": {
        "id": "E-Ud9WROAvgn"
      },
      "source": [
        "# Train"
      ]
    },
    {
      "cell_type": "code",
      "metadata": {
        "colab": {
          "base_uri": "https://localhost:8080/"
        },
        "id": "boYAxBN-7obt",
        "outputId": "c353a58a-d9c4-45d1-a943-9e9edfdd29cf"
      },
      "source": [
        "%cd /content/drive/MyDrive/Stage3_Detection/code/Swin-Transformer-Object-Detection-master"
      ],
      "execution_count": null,
      "outputs": [
        {
          "output_type": "stream",
          "text": [
            "/content/drive/MyDrive/Stage3_Detection/code/Swin-Transformer-Object-Detection-master\n"
          ],
          "name": "stdout"
        }
      ]
    },
    {
      "cell_type": "code",
      "metadata": {
        "id": "k50nOSix2VUq"
      },
      "source": [
        "!pip install -r ./requirements.txt"
      ],
      "execution_count": null,
      "outputs": []
    },
    {
      "cell_type": "code",
      "metadata": {
        "id": "1vXc5R2fj1aN"
      },
      "source": [
        "# For train\n",
        "from mmcv import Config\n",
        "from mmdet.datasets import build_dataset\n",
        "from mmdet.models import build_detector\n",
        "from mmdet.apis import train_detector\n",
        "from mmdet.datasets import (build_dataloader, build_dataset,\n",
        "                            replace_ImageToTensor)\n",
        "\n",
        "import torch\n",
        "import gc\n",
        "\n",
        "# For inferecne\n",
        "import os\n",
        "from mmdet.apis import single_gpu_test\n",
        "from mmcv.runner import load_checkpoint\n",
        "from mmcv.parallel import MMDataParallel\n",
        "\n",
        "import pandas as pd\n",
        "from pandas import DataFrame\n",
        "from pycocotools.coco import COCO\n",
        "import numpy as np"
      ],
      "execution_count": null,
      "outputs": []
    },
    {
      "cell_type": "code",
      "metadata": {
        "id": "FmEz8eZgj1aN"
      },
      "source": [
        "classes = (\"UNKNOWN\", \"General trash\", \"Paper\", \"Paper pack\", \"Metal\", \"Glass\", \n",
        "           \"Plastic\", \"Styrofoam\", \"Plastic bag\", \"Battery\", \"Clothing\")\n",
        "\n",
        "# config file 들고오기\n",
        "cfg = Config.fromfile('./configs/swin/JC_cascade_mask_rcnn_swin_tiny_patch4_window7_mstrain_480-800_giou_4conv1f_adamw_3x_coco.py')\n",
        "\n",
        "PREFIX = '../../input/data/'\n",
        "\n",
        "# dataset 바꾸기\n",
        "cfg.data.train.classes = classes\n",
        "cfg.data.train.img_prefix = PREFIX\n",
        "cfg.data.train.ann_file = PREFIX + 'train.json'\n",
        "# cfg.data.train.ann_file = PREFIX + 'train.json'\n",
        "# cfg.data.train.seg_prefix = PREFIX  # for applying HTC\n",
        "\n",
        "cfg.data.val.classes = classes\n",
        "cfg.data.val.img_prefix = PREFIX\n",
        "cfg.data.val.ann_file = PREFIX + 'valid.json'\n",
        "# cfg.data.val.ann_file = PREFIX + 'val.json'\n",
        "# cfg.data.val.pipeline[1]['img_scale'] = (512, 512)\n",
        "\n",
        "cfg.data.test.classes = classes\n",
        "cfg.data.test.img_prefix = PREFIX\n",
        "cfg.data.test.ann_file = PREFIX + 'test.json'\n",
        "cfg.data.test.pipeline[1]['img_scale'] = [(512, 512),(576, 576),(640, 640),(704, 704),(768, 768),\n",
        "                                          (832, 832),(896, 896),(960, 960),(1024, 1024)]\n",
        "cfg.data.test.pipeline[1]['flip'] = True\n",
        "\n",
        "\n",
        "cfg.data.samples_per_gpu = 4  # batch_size\n",
        "\n",
        "cfg.seed = 31\n",
        "cfg.gpu_ids = [0]\n",
        "cfg.work_dir = './work_dirs/cascade'\n",
        "\n",
        "cfg.model.roi_head.bbox_head[0]['num_classes'] = 11\n",
        "cfg.model.roi_head.bbox_head[1]['num_classes'] = 11\n",
        "cfg.model.roi_head.bbox_head[2]['num_classes'] = 11\n",
        "cfg.model.roi_head.mask_head.num_classes = 11\n",
        "\n",
        "cfg.model.roi_head.bbox_head[0]['norm_cfg']['type'] = 'BN'\n",
        "cfg.model.roi_head.bbox_head[1]['norm_cfg']['type'] = 'BN'\n",
        "cfg.model.roi_head.bbox_head[2]['norm_cfg']['type'] = 'BN'\n",
        "\n",
        "cfg.optimizer_config.grad_clip = dict(max_norm=35, norm_type=2)\n",
        "\n",
        "cfg.runner.max_epochs = 50\n",
        "cfg.log_config.interval = 300\n",
        "cfg.checkpoint_config = dict(type='CheckpointHook', interval=1, max_keep_ckpts=20)\n",
        "\n",
        "cfg.evaluation.metric = ['bbox']"
      ],
      "execution_count": null,
      "outputs": []
    },
    {
      "cell_type": "code",
      "metadata": {
        "id": "DlrqpUHXR_ko"
      },
      "source": [
        "cfg.albu_train_transforms"
      ],
      "execution_count": null,
      "outputs": []
    },
    {
      "cell_type": "code",
      "metadata": {
        "id": "ACKQTTqZNE8p"
      },
      "source": [
        "cfg.train_pipeline[3]  # AutoAugment"
      ],
      "execution_count": null,
      "outputs": []
    },
    {
      "cell_type": "code",
      "metadata": {
        "id": "UIEY2sYXHs5U"
      },
      "source": [
        "cfg.lr_config"
      ],
      "execution_count": null,
      "outputs": []
    },
    {
      "cell_type": "code",
      "metadata": {
        "id": "R2gWfPwlj1aO"
      },
      "source": [
        "model = build_detector(cfg.model)"
      ],
      "execution_count": null,
      "outputs": []
    },
    {
      "cell_type": "code",
      "metadata": {
        "colab": {
          "base_uri": "https://localhost:8080/"
        },
        "id": "CqDnepPyj1aP",
        "outputId": "2da595ce-7aab-4743-96fc-4fc672e8fcde"
      },
      "source": [
        "datasets = [build_dataset(cfg.data.train)]"
      ],
      "execution_count": null,
      "outputs": [
        {
          "output_type": "stream",
          "text": [
            "loading annotations into memory...\n",
            "Done (t=11.16s)\n",
            "creating index...\n",
            "index created!\n"
          ],
          "name": "stdout"
        }
      ]
    },
    {
      "cell_type": "code",
      "metadata": {
        "colab": {
          "base_uri": "https://localhost:8080/",
          "height": 1000
        },
        "id": "n9ZrCUfsj1aP",
        "outputId": "49638668-8ebc-4301-db65-4276ce156441"
      },
      "source": [
        "train_detector(model, datasets[0], cfg, distributed=False, validate=True)"
      ],
      "execution_count": null,
      "outputs": [
        {
          "output_type": "stream",
          "text": [
            "Selected optimization level O1:  Insert automatic casts around Pytorch functions and Tensor methods.\n",
            "\n",
            "Defaults for this optimization level are:\n",
            "enabled                : True\n",
            "opt_level              : O1\n",
            "cast_model_type        : None\n",
            "patch_torch_functions  : True\n",
            "keep_batchnorm_fp32    : None\n",
            "master_weights         : None\n",
            "loss_scale             : dynamic\n",
            "Processing user overrides (additional kwargs that are not None)...\n",
            "After processing overrides, optimization options are:\n",
            "enabled                : True\n",
            "opt_level              : O1\n",
            "cast_model_type        : None\n",
            "patch_torch_functions  : True\n",
            "keep_batchnorm_fp32    : None\n",
            "master_weights         : None\n",
            "loss_scale             : dynamic\n",
            "Warning:  multi_tensor_applier fused unscale kernel is unavailable, possibly because apex was installed without --cuda_ext --cpp_ext. Using Python fallback.  Original ImportError was: ModuleNotFoundError(\"No module named 'amp_C'\")\n",
            "loading annotations into memory...\n"
          ],
          "name": "stdout"
        },
        {
          "output_type": "stream",
          "text": [
            "2021-05-19 10:55:18,788 - mmdet - INFO - load checkpoint from ../../input/data/pth/cascade_mask_rcnn_swin_tiny_patch4_window7.pth\n",
            "2021-05-19 10:55:18,791 - mmdet - INFO - Use load_from_local loader\n"
          ],
          "name": "stderr"
        },
        {
          "output_type": "stream",
          "text": [
            "Done (t=4.01s)\n",
            "creating index...\n",
            "index created!\n"
          ],
          "name": "stdout"
        },
        {
          "output_type": "stream",
          "text": [
            "2021-05-19 10:55:26,182 - mmdet - WARNING - The model and loaded state dict do not match exactly\n",
            "\n",
            "size mismatch for roi_head.bbox_head.0.fc_cls.weight: copying a param with shape torch.Size([81, 1024]) from checkpoint, the shape in current model is torch.Size([12, 1024]).\n",
            "size mismatch for roi_head.bbox_head.0.fc_cls.bias: copying a param with shape torch.Size([81]) from checkpoint, the shape in current model is torch.Size([12]).\n",
            "size mismatch for roi_head.bbox_head.0.fc_reg.weight: copying a param with shape torch.Size([320, 1024]) from checkpoint, the shape in current model is torch.Size([44, 1024]).\n",
            "size mismatch for roi_head.bbox_head.0.fc_reg.bias: copying a param with shape torch.Size([320]) from checkpoint, the shape in current model is torch.Size([44]).\n",
            "size mismatch for roi_head.bbox_head.1.fc_cls.weight: copying a param with shape torch.Size([81, 1024]) from checkpoint, the shape in current model is torch.Size([12, 1024]).\n",
            "size mismatch for roi_head.bbox_head.1.fc_cls.bias: copying a param with shape torch.Size([81]) from checkpoint, the shape in current model is torch.Size([12]).\n",
            "size mismatch for roi_head.bbox_head.1.fc_reg.weight: copying a param with shape torch.Size([320, 1024]) from checkpoint, the shape in current model is torch.Size([44, 1024]).\n",
            "size mismatch for roi_head.bbox_head.1.fc_reg.bias: copying a param with shape torch.Size([320]) from checkpoint, the shape in current model is torch.Size([44]).\n",
            "size mismatch for roi_head.bbox_head.2.fc_cls.weight: copying a param with shape torch.Size([81, 1024]) from checkpoint, the shape in current model is torch.Size([12, 1024]).\n",
            "size mismatch for roi_head.bbox_head.2.fc_cls.bias: copying a param with shape torch.Size([81]) from checkpoint, the shape in current model is torch.Size([12]).\n",
            "size mismatch for roi_head.bbox_head.2.fc_reg.weight: copying a param with shape torch.Size([320, 1024]) from checkpoint, the shape in current model is torch.Size([44, 1024]).\n",
            "size mismatch for roi_head.bbox_head.2.fc_reg.bias: copying a param with shape torch.Size([320]) from checkpoint, the shape in current model is torch.Size([44]).\n",
            "size mismatch for roi_head.mask_head.0.conv_logits.weight: copying a param with shape torch.Size([80, 256, 1, 1]) from checkpoint, the shape in current model is torch.Size([11, 256, 1, 1]).\n",
            "size mismatch for roi_head.mask_head.0.conv_logits.bias: copying a param with shape torch.Size([80]) from checkpoint, the shape in current model is torch.Size([11]).\n",
            "size mismatch for roi_head.mask_head.1.conv_logits.weight: copying a param with shape torch.Size([80, 256, 1, 1]) from checkpoint, the shape in current model is torch.Size([11, 256, 1, 1]).\n",
            "size mismatch for roi_head.mask_head.1.conv_logits.bias: copying a param with shape torch.Size([80]) from checkpoint, the shape in current model is torch.Size([11]).\n",
            "size mismatch for roi_head.mask_head.2.conv_logits.weight: copying a param with shape torch.Size([80, 256, 1, 1]) from checkpoint, the shape in current model is torch.Size([11, 256, 1, 1]).\n",
            "size mismatch for roi_head.mask_head.2.conv_logits.bias: copying a param with shape torch.Size([80]) from checkpoint, the shape in current model is torch.Size([11]).\n",
            "2021-05-19 10:55:26,200 - mmdet - INFO - Start running, host: root@33d303396d34, work_dir: /content/drive/MyDrive/Stage3_Detection/code/Swin-Transformer-Object-Detection-master/work_dirs/cascade\n",
            "2021-05-19 10:55:26,202 - mmdet - INFO - workflow: [('train', 1)], max: 60 epochs\n"
          ],
          "name": "stderr"
        },
        {
          "output_type": "stream",
          "text": [
            "Gradient overflow.  Skipping step, loss scaler 0 reducing loss scale to 32768.0\n",
            "Gradient overflow.  Skipping step, loss scaler 0 reducing loss scale to 16384.0\n",
            "Gradient overflow.  Skipping step, loss scaler 0 reducing loss scale to 8192.0\n",
            "Gradient overflow.  Skipping step, loss scaler 0 reducing loss scale to 4096.0\n"
          ],
          "name": "stdout"
        },
        {
          "output_type": "stream",
          "text": [
            "2021-05-19 11:00:55,570 - mmdet - INFO - Epoch [1][300/655]\tlr: 5.984e-05, eta: 11:53:36, time: 1.098, data_time: 0.330, memory: 12645, loss_rpn_cls: 0.0945, loss_rpn_bbox: 0.0362, s0.loss_cls: 0.9184, s0.acc: 75.3792, s0.loss_bbox: 0.4430, s0.loss_mask: 0.8947, s1.loss_cls: 0.4589, s1.acc: 74.5543, s1.loss_bbox: 0.1075, s1.loss_mask: 0.5413, s2.loss_cls: 0.1861, s2.acc: 83.1507, s2.loss_bbox: 0.0214, s2.loss_mask: 0.2683, loss: 3.9702\n",
            "2021-05-19 11:06:16,348 - mmdet - INFO - Epoch [1][600/655]\tlr: 1.000e-04, eta: 11:38:53, time: 1.069, data_time: 0.261, memory: 13079, loss_rpn_cls: 0.0593, loss_rpn_bbox: 0.0320, s0.loss_cls: 0.3499, s0.acc: 89.9261, s0.loss_bbox: 0.2942, s0.loss_mask: 0.3230, s1.loss_cls: 0.1733, s1.acc: 89.9121, s1.loss_bbox: 0.1148, s1.loss_mask: 0.1479, s2.loss_cls: 0.0809, s2.acc: 90.6146, s2.loss_bbox: 0.0391, s2.loss_mask: 0.0652, loss: 1.6795\n"
          ],
          "name": "stderr"
        },
        {
          "output_type": "stream",
          "text": [
            "[>>>>>>>>>>>>>>>>>>>>>>>>>>>>>] 655/655, 4.7 task/s, elapsed: 139s, ETA:     0s"
          ],
          "name": "stdout"
        },
        {
          "output_type": "stream",
          "text": [
            "2021-05-19 11:09:36,447 - mmdet - INFO - Evaluating bbox...\n"
          ],
          "name": "stderr"
        },
        {
          "output_type": "stream",
          "text": [
            "Loading and preparing results...\n",
            "DONE (t=0.11s)\n",
            "creating index...\n",
            "index created!\n",
            "Running per image evaluation...\n",
            "Evaluate annotation type *bbox*\n",
            "DONE (t=5.39s).\n",
            "Accumulating evaluation results...\n"
          ],
          "name": "stdout"
        },
        {
          "output_type": "stream",
          "text": [
            "2021-05-19 11:09:42,894 - mmdet - INFO - Saving checkpoint at 1 epochs\n"
          ],
          "name": "stderr"
        },
        {
          "output_type": "stream",
          "text": [
            "DONE (t=0.86s).\n",
            "Average Precision  (AP) @[ IoU=0.50:0.95 | area=   all | maxDets=100 ] = 0.169\n",
            "Average Precision  (AP) @[ IoU=0.50      | area=   all | maxDets=1000 ] = 0.239\n",
            "Average Precision  (AP) @[ IoU=0.75      | area=   all | maxDets=1000 ] = 0.173\n",
            "Average Precision  (AP) @[ IoU=0.50:0.95 | area= small | maxDets=1000 ] = 0.067\n",
            "Average Precision  (AP) @[ IoU=0.50:0.95 | area=medium | maxDets=1000 ] = 0.176\n",
            "Average Precision  (AP) @[ IoU=0.50:0.95 | area= large | maxDets=1000 ] = 0.291\n",
            "Average Recall     (AR) @[ IoU=0.50:0.95 | area=   all | maxDets=100 ] = 0.344\n",
            "Average Recall     (AR) @[ IoU=0.50:0.95 | area=   all | maxDets=300 ] = 0.344\n",
            "Average Recall     (AR) @[ IoU=0.50:0.95 | area=   all | maxDets=1000 ] = 0.344\n",
            "Average Recall     (AR) @[ IoU=0.50:0.95 | area= small | maxDets=1000 ] = 0.164\n",
            "Average Recall     (AR) @[ IoU=0.50:0.95 | area=medium | maxDets=1000 ] = 0.349\n",
            "Average Recall     (AR) @[ IoU=0.50:0.95 | area= large | maxDets=1000 ] = 0.546\n"
          ],
          "name": "stdout"
        },
        {
          "output_type": "stream",
          "text": [
            "2021-05-19 11:09:47,176 - mmdet - INFO - Epoch(val) [1][655]\tbbox_mAP: 0.1690, bbox_mAP_50: 0.2390, bbox_mAP_75: 0.1730, bbox_mAP_s: 0.0670, bbox_mAP_m: 0.1760, bbox_mAP_l: 0.2910, bbox_mAP_copypaste: 0.169 0.239 0.173 0.067 0.176 0.291\n",
            "2021-05-19 11:14:16,797 - mmdet - INFO - Epoch [2][300/655]\tlr: 1.000e-04, eta: 10:15:28, time: 0.899, data_time: 0.091, memory: 13113, loss_rpn_cls: 0.0532, loss_rpn_bbox: 0.0325, s0.loss_cls: 0.3069, s0.acc: 90.8341, s0.loss_bbox: 0.2741, s0.loss_mask: 0.2870, s1.loss_cls: 0.1528, s1.acc: 90.7743, s1.loss_bbox: 0.1076, s1.loss_mask: 0.1286, s2.loss_cls: 0.0735, s2.acc: 91.0823, s2.loss_bbox: 0.0383, s2.loss_mask: 0.0572, loss: 1.5117\n",
            "2021-05-19 11:18:45,840 - mmdet - INFO - Epoch [2][600/655]\tlr: 1.000e-04, eta: 10:00:37, time: 0.897, data_time: 0.081, memory: 13143, loss_rpn_cls: 0.0536, loss_rpn_bbox: 0.0310, s0.loss_cls: 0.3115, s0.acc: 90.6462, s0.loss_bbox: 0.2795, s0.loss_mask: 0.2860, s1.loss_cls: 0.1542, s1.acc: 90.6775, s1.loss_bbox: 0.1081, s1.loss_mask: 0.1271, s2.loss_cls: 0.0732, s2.acc: 91.1165, s2.loss_bbox: 0.0382, s2.loss_mask: 0.0563, loss: 1.5186\n"
          ],
          "name": "stderr"
        },
        {
          "output_type": "stream",
          "text": [
            "[>>>>>>>>>>>>>>>>>>>>>>>>>>>>>>] 655/655, 7.6 task/s, elapsed: 86s, ETA:     0s"
          ],
          "name": "stdout"
        },
        {
          "output_type": "stream",
          "text": [
            "2021-05-19 11:21:03,153 - mmdet - INFO - Evaluating bbox...\n"
          ],
          "name": "stderr"
        },
        {
          "output_type": "stream",
          "text": [
            "Loading and preparing results...\n",
            "DONE (t=0.66s)\n",
            "creating index...\n",
            "index created!\n",
            "Running per image evaluation...\n",
            "Evaluate annotation type *bbox*\n",
            "DONE (t=4.68s).\n",
            "Accumulating evaluation results...\n"
          ],
          "name": "stdout"
        },
        {
          "output_type": "stream",
          "text": [
            "2021-05-19 11:21:09,413 - mmdet - INFO - Saving checkpoint at 2 epochs\n"
          ],
          "name": "stderr"
        },
        {
          "output_type": "stream",
          "text": [
            "DONE (t=0.82s).\n",
            "Average Precision  (AP) @[ IoU=0.50:0.95 | area=   all | maxDets=100 ] = 0.192\n",
            "Average Precision  (AP) @[ IoU=0.50      | area=   all | maxDets=1000 ] = 0.268\n",
            "Average Precision  (AP) @[ IoU=0.75      | area=   all | maxDets=1000 ] = 0.198\n",
            "Average Precision  (AP) @[ IoU=0.50:0.95 | area= small | maxDets=1000 ] = 0.087\n",
            "Average Precision  (AP) @[ IoU=0.50:0.95 | area=medium | maxDets=1000 ] = 0.221\n",
            "Average Precision  (AP) @[ IoU=0.50:0.95 | area= large | maxDets=1000 ] = 0.298\n",
            "Average Recall     (AR) @[ IoU=0.50:0.95 | area=   all | maxDets=100 ] = 0.356\n",
            "Average Recall     (AR) @[ IoU=0.50:0.95 | area=   all | maxDets=300 ] = 0.356\n",
            "Average Recall     (AR) @[ IoU=0.50:0.95 | area=   all | maxDets=1000 ] = 0.356\n",
            "Average Recall     (AR) @[ IoU=0.50:0.95 | area= small | maxDets=1000 ] = 0.176\n",
            "Average Recall     (AR) @[ IoU=0.50:0.95 | area=medium | maxDets=1000 ] = 0.369\n",
            "Average Recall     (AR) @[ IoU=0.50:0.95 | area= large | maxDets=1000 ] = 0.552\n"
          ],
          "name": "stdout"
        },
        {
          "output_type": "stream",
          "text": [
            "2021-05-19 11:21:13,676 - mmdet - INFO - Epoch(val) [2][655]\tbbox_mAP: 0.1920, bbox_mAP_50: 0.2680, bbox_mAP_75: 0.1980, bbox_mAP_s: 0.0870, bbox_mAP_m: 0.2210, bbox_mAP_l: 0.2980, bbox_mAP_copypaste: 0.192 0.268 0.198 0.087 0.221 0.298\n",
            "2021-05-19 11:25:45,555 - mmdet - INFO - Epoch [3][300/655]\tlr: 1.000e-04, eta: 9:29:53, time: 0.906, data_time: 0.094, memory: 13143, loss_rpn_cls: 0.0523, loss_rpn_bbox: 0.0333, s0.loss_cls: 0.3010, s0.acc: 90.7104, s0.loss_bbox: 0.2779, s0.loss_mask: 0.2808, s1.loss_cls: 0.1508, s1.acc: 90.5885, s1.loss_bbox: 0.1090, s1.loss_mask: 0.1234, s2.loss_cls: 0.0727, s2.acc: 90.7789, s2.loss_bbox: 0.0391, s2.loss_mask: 0.0554, loss: 1.4958\n",
            "2021-05-19 11:30:14,752 - mmdet - INFO - Epoch [3][600/655]\tlr: 1.000e-04, eta: 9:24:22, time: 0.897, data_time: 0.082, memory: 13531, loss_rpn_cls: 0.0486, loss_rpn_bbox: 0.0295, s0.loss_cls: 0.2855, s0.acc: 91.2191, s0.loss_bbox: 0.2671, s0.loss_mask: 0.2687, s1.loss_cls: 0.1426, s1.acc: 91.1827, s1.loss_bbox: 0.1050, s1.loss_mask: 0.1190, s2.loss_cls: 0.0692, s2.acc: 91.3091, s2.loss_bbox: 0.0378, s2.loss_mask: 0.0528, loss: 1.4258\n"
          ],
          "name": "stderr"
        },
        {
          "output_type": "stream",
          "text": [
            "[>>>>>>>>>>>>>>>>>>>>>>>>>>>>>>] 655/655, 7.0 task/s, elapsed: 94s, ETA:     0s"
          ],
          "name": "stdout"
        },
        {
          "output_type": "stream",
          "text": [
            "2021-05-19 11:32:39,843 - mmdet - INFO - Evaluating bbox...\n"
          ],
          "name": "stderr"
        },
        {
          "output_type": "stream",
          "text": [
            "Loading and preparing results...\n",
            "DONE (t=0.72s)\n",
            "creating index...\n",
            "index created!\n",
            "Running per image evaluation...\n",
            "Evaluate annotation type *bbox*\n",
            "DONE (t=5.13s).\n",
            "Accumulating evaluation results...\n"
          ],
          "name": "stdout"
        },
        {
          "output_type": "stream",
          "text": [
            "2021-05-19 11:32:46,776 - mmdet - INFO - Saving checkpoint at 3 epochs\n"
          ],
          "name": "stderr"
        },
        {
          "output_type": "stream",
          "text": [
            "DONE (t=0.97s).\n",
            "Average Precision  (AP) @[ IoU=0.50:0.95 | area=   all | maxDets=100 ] = 0.241\n",
            "Average Precision  (AP) @[ IoU=0.50      | area=   all | maxDets=1000 ] = 0.333\n",
            "Average Precision  (AP) @[ IoU=0.75      | area=   all | maxDets=1000 ] = 0.244\n",
            "Average Precision  (AP) @[ IoU=0.50:0.95 | area= small | maxDets=1000 ] = 0.106\n",
            "Average Precision  (AP) @[ IoU=0.50:0.95 | area=medium | maxDets=1000 ] = 0.232\n",
            "Average Precision  (AP) @[ IoU=0.50:0.95 | area= large | maxDets=1000 ] = 0.377\n",
            "Average Recall     (AR) @[ IoU=0.50:0.95 | area=   all | maxDets=100 ] = 0.442\n",
            "Average Recall     (AR) @[ IoU=0.50:0.95 | area=   all | maxDets=300 ] = 0.442\n",
            "Average Recall     (AR) @[ IoU=0.50:0.95 | area=   all | maxDets=1000 ] = 0.442\n",
            "Average Recall     (AR) @[ IoU=0.50:0.95 | area= small | maxDets=1000 ] = 0.239\n",
            "Average Recall     (AR) @[ IoU=0.50:0.95 | area=medium | maxDets=1000 ] = 0.424\n",
            "Average Recall     (AR) @[ IoU=0.50:0.95 | area= large | maxDets=1000 ] = 0.619\n"
          ],
          "name": "stdout"
        },
        {
          "output_type": "stream",
          "text": [
            "2021-05-19 11:32:51,195 - mmdet - INFO - Epoch(val) [3][655]\tbbox_mAP: 0.2410, bbox_mAP_50: 0.3330, bbox_mAP_75: 0.2440, bbox_mAP_s: 0.1060, bbox_mAP_m: 0.2320, bbox_mAP_l: 0.3770, bbox_mAP_copypaste: 0.241 0.333 0.244 0.106 0.232 0.377\n",
            "2021-05-19 11:37:20,734 - mmdet - INFO - Epoch [4][300/655]\tlr: 1.000e-04, eta: 9:04:51, time: 0.898, data_time: 0.090, memory: 13531, loss_rpn_cls: 0.0486, loss_rpn_bbox: 0.0322, s0.loss_cls: 0.2795, s0.acc: 91.2526, s0.loss_bbox: 0.2707, s0.loss_mask: 0.2712, s1.loss_cls: 0.1386, s1.acc: 91.2545, s1.loss_bbox: 0.1064, s1.loss_mask: 0.1195, s2.loss_cls: 0.0670, s2.acc: 91.4805, s2.loss_bbox: 0.0386, s2.loss_mask: 0.0535, loss: 1.4260\n",
            "2021-05-19 11:41:49,340 - mmdet - INFO - Epoch [4][600/655]\tlr: 1.000e-04, eta: 9:01:20, time: 0.895, data_time: 0.084, memory: 13531, loss_rpn_cls: 0.0509, loss_rpn_bbox: 0.0310, s0.loss_cls: 0.2838, s0.acc: 91.3288, s0.loss_bbox: 0.2687, s0.loss_mask: 0.2689, s1.loss_cls: 0.1409, s1.acc: 91.3136, s1.loss_bbox: 0.1059, s1.loss_mask: 0.1190, s2.loss_cls: 0.0681, s2.acc: 91.5286, s2.loss_bbox: 0.0385, s2.loss_mask: 0.0525, loss: 1.4283\n"
          ],
          "name": "stderr"
        },
        {
          "output_type": "stream",
          "text": [
            "[>>>>>>>>>>>>>>>>>>>>>>>>>>>>>>] 655/655, 7.1 task/s, elapsed: 92s, ETA:     0s"
          ],
          "name": "stdout"
        },
        {
          "output_type": "stream",
          "text": [
            "2021-05-19 11:44:13,034 - mmdet - INFO - Evaluating bbox...\n"
          ],
          "name": "stderr"
        },
        {
          "output_type": "stream",
          "text": [
            "Loading and preparing results...\n",
            "DONE (t=0.12s)\n",
            "creating index...\n",
            "index created!\n",
            "Running per image evaluation...\n",
            "Evaluate annotation type *bbox*\n",
            "DONE (t=5.50s).\n",
            "Accumulating evaluation results...\n"
          ],
          "name": "stdout"
        },
        {
          "output_type": "stream",
          "text": [
            "2021-05-19 11:44:19,752 - mmdet - INFO - Saving checkpoint at 4 epochs\n"
          ],
          "name": "stderr"
        },
        {
          "output_type": "stream",
          "text": [
            "DONE (t=0.99s).\n",
            "Average Precision  (AP) @[ IoU=0.50:0.95 | area=   all | maxDets=100 ] = 0.259\n",
            "Average Precision  (AP) @[ IoU=0.50      | area=   all | maxDets=1000 ] = 0.344\n",
            "Average Precision  (AP) @[ IoU=0.75      | area=   all | maxDets=1000 ] = 0.274\n",
            "Average Precision  (AP) @[ IoU=0.50:0.95 | area= small | maxDets=1000 ] = 0.093\n",
            "Average Precision  (AP) @[ IoU=0.50:0.95 | area=medium | maxDets=1000 ] = 0.227\n",
            "Average Precision  (AP) @[ IoU=0.50:0.95 | area= large | maxDets=1000 ] = 0.495\n",
            "Average Recall     (AR) @[ IoU=0.50:0.95 | area=   all | maxDets=100 ] = 0.460\n",
            "Average Recall     (AR) @[ IoU=0.50:0.95 | area=   all | maxDets=300 ] = 0.460\n",
            "Average Recall     (AR) @[ IoU=0.50:0.95 | area=   all | maxDets=1000 ] = 0.460\n",
            "Average Recall     (AR) @[ IoU=0.50:0.95 | area= small | maxDets=1000 ] = 0.223\n",
            "Average Recall     (AR) @[ IoU=0.50:0.95 | area=medium | maxDets=1000 ] = 0.428\n",
            "Average Recall     (AR) @[ IoU=0.50:0.95 | area= large | maxDets=1000 ] = 0.696\n"
          ],
          "name": "stdout"
        },
        {
          "output_type": "stream",
          "text": [
            "2021-05-19 11:44:24,224 - mmdet - INFO - Epoch(val) [4][655]\tbbox_mAP: 0.2590, bbox_mAP_50: 0.3440, bbox_mAP_75: 0.2740, bbox_mAP_s: 0.0930, bbox_mAP_m: 0.2270, bbox_mAP_l: 0.4950, bbox_mAP_copypaste: 0.259 0.344 0.274 0.093 0.227 0.495\n",
            "2021-05-19 11:48:58,148 - mmdet - INFO - Epoch [5][300/655]\tlr: 1.000e-04, eta: 8:47:48, time: 0.913, data_time: 0.099, memory: 13531, loss_rpn_cls: 0.0517, loss_rpn_bbox: 0.0329, s0.loss_cls: 0.2818, s0.acc: 91.2515, s0.loss_bbox: 0.2737, s0.loss_mask: 0.2631, s1.loss_cls: 0.1386, s1.acc: 91.2968, s1.loss_bbox: 0.1085, s1.loss_mask: 0.1176, s2.loss_cls: 0.0675, s2.acc: 91.4032, s2.loss_bbox: 0.0397, s2.loss_mask: 0.0525, loss: 1.4277\n",
            "2021-05-19 11:53:26,324 - mmdet - INFO - Epoch [5][600/655]\tlr: 1.000e-04, eta: 8:44:46, time: 0.894, data_time: 0.081, memory: 13531, loss_rpn_cls: 0.0454, loss_rpn_bbox: 0.0298, s0.loss_cls: 0.2721, s0.acc: 91.6107, s0.loss_bbox: 0.2606, s0.loss_mask: 0.2627, s1.loss_cls: 0.1350, s1.acc: 91.6089, s1.loss_bbox: 0.1024, s1.loss_mask: 0.1149, s2.loss_cls: 0.0651, s2.acc: 91.7992, s2.loss_bbox: 0.0369, s2.loss_mask: 0.0510, loss: 1.3758\n"
          ],
          "name": "stderr"
        },
        {
          "output_type": "stream",
          "text": [
            "[>>>>>>>>>>>>>>>>>>>>>>>>>>>>>>] 655/655, 7.3 task/s, elapsed: 90s, ETA:     0s"
          ],
          "name": "stdout"
        },
        {
          "output_type": "stream",
          "text": [
            "2021-05-19 11:55:47,570 - mmdet - INFO - Evaluating bbox...\n"
          ],
          "name": "stderr"
        },
        {
          "output_type": "stream",
          "text": [
            "Loading and preparing results...\n",
            "DONE (t=0.12s)\n",
            "creating index...\n",
            "index created!\n",
            "Running per image evaluation...\n",
            "Evaluate annotation type *bbox*\n",
            "DONE (t=5.39s).\n",
            "Accumulating evaluation results...\n"
          ],
          "name": "stdout"
        },
        {
          "output_type": "stream",
          "text": [
            "2021-05-19 11:55:54,132 - mmdet - INFO - Saving checkpoint at 5 epochs\n"
          ],
          "name": "stderr"
        },
        {
          "output_type": "stream",
          "text": [
            "DONE (t=0.94s).\n",
            "Average Precision  (AP) @[ IoU=0.50:0.95 | area=   all | maxDets=100 ] = 0.272\n",
            "Average Precision  (AP) @[ IoU=0.50      | area=   all | maxDets=1000 ] = 0.375\n",
            "Average Precision  (AP) @[ IoU=0.75      | area=   all | maxDets=1000 ] = 0.278\n",
            "Average Precision  (AP) @[ IoU=0.50:0.95 | area= small | maxDets=1000 ] = 0.091\n",
            "Average Precision  (AP) @[ IoU=0.50:0.95 | area=medium | maxDets=1000 ] = 0.274\n",
            "Average Precision  (AP) @[ IoU=0.50:0.95 | area= large | maxDets=1000 ] = 0.399\n",
            "Average Recall     (AR) @[ IoU=0.50:0.95 | area=   all | maxDets=100 ] = 0.469\n",
            "Average Recall     (AR) @[ IoU=0.50:0.95 | area=   all | maxDets=300 ] = 0.469\n",
            "Average Recall     (AR) @[ IoU=0.50:0.95 | area=   all | maxDets=1000 ] = 0.469\n",
            "Average Recall     (AR) @[ IoU=0.50:0.95 | area= small | maxDets=1000 ] = 0.231\n",
            "Average Recall     (AR) @[ IoU=0.50:0.95 | area=medium | maxDets=1000 ] = 0.459\n",
            "Average Recall     (AR) @[ IoU=0.50:0.95 | area= large | maxDets=1000 ] = 0.627\n"
          ],
          "name": "stdout"
        },
        {
          "output_type": "stream",
          "text": [
            "2021-05-19 11:55:58,715 - mmdet - INFO - Epoch(val) [5][655]\tbbox_mAP: 0.2720, bbox_mAP_50: 0.3750, bbox_mAP_75: 0.2780, bbox_mAP_s: 0.0910, bbox_mAP_m: 0.2740, bbox_mAP_l: 0.3990, bbox_mAP_copypaste: 0.272 0.375 0.278 0.091 0.274 0.399\n",
            "2021-05-19 12:00:28,052 - mmdet - INFO - Epoch [6][300/655]\tlr: 1.000e-04, eta: 8:32:51, time: 0.898, data_time: 0.090, memory: 13531, loss_rpn_cls: 0.0450, loss_rpn_bbox: 0.0301, s0.loss_cls: 0.2624, s0.acc: 91.7637, s0.loss_bbox: 0.2605, s0.loss_mask: 0.2553, s1.loss_cls: 0.1292, s1.acc: 91.8085, s1.loss_bbox: 0.1033, s1.loss_mask: 0.1113, s2.loss_cls: 0.0628, s2.acc: 91.9775, s2.loss_bbox: 0.0378, s2.loss_mask: 0.0493, loss: 1.3470\n",
            "2021-05-19 12:04:57,754 - mmdet - INFO - Epoch [6][600/655]\tlr: 1.000e-04, eta: 8:30:16, time: 0.899, data_time: 0.085, memory: 13531, loss_rpn_cls: 0.0484, loss_rpn_bbox: 0.0314, s0.loss_cls: 0.2762, s0.acc: 91.4072, s0.loss_bbox: 0.2670, s0.loss_mask: 0.2608, s1.loss_cls: 0.1368, s1.acc: 91.4141, s1.loss_bbox: 0.1047, s1.loss_mask: 0.1143, s2.loss_cls: 0.0661, s2.acc: 91.5621, s2.loss_bbox: 0.0386, s2.loss_mask: 0.0509, loss: 1.3951\n"
          ],
          "name": "stderr"
        },
        {
          "output_type": "stream",
          "text": [
            "[>>>>>>>>>>>>>>>>>>>>>>>>>>>>>>] 655/655, 7.9 task/s, elapsed: 83s, ETA:     0s"
          ],
          "name": "stdout"
        },
        {
          "output_type": "stream",
          "text": [
            "2021-05-19 12:07:12,629 - mmdet - INFO - Evaluating bbox...\n"
          ],
          "name": "stderr"
        },
        {
          "output_type": "stream",
          "text": [
            "Loading and preparing results...\n",
            "DONE (t=0.09s)\n",
            "creating index...\n",
            "index created!\n",
            "Running per image evaluation...\n",
            "Evaluate annotation type *bbox*\n",
            "DONE (t=4.84s).\n",
            "Accumulating evaluation results...\n"
          ],
          "name": "stdout"
        },
        {
          "output_type": "stream",
          "text": [
            "2021-05-19 12:07:18,361 - mmdet - INFO - Saving checkpoint at 6 epochs\n"
          ],
          "name": "stderr"
        },
        {
          "output_type": "stream",
          "text": [
            "DONE (t=0.71s).\n",
            "Average Precision  (AP) @[ IoU=0.50:0.95 | area=   all | maxDets=100 ] = 0.274\n",
            "Average Precision  (AP) @[ IoU=0.50      | area=   all | maxDets=1000 ] = 0.376\n",
            "Average Precision  (AP) @[ IoU=0.75      | area=   all | maxDets=1000 ] = 0.284\n",
            "Average Precision  (AP) @[ IoU=0.50:0.95 | area= small | maxDets=1000 ] = 0.086\n",
            "Average Precision  (AP) @[ IoU=0.50:0.95 | area=medium | maxDets=1000 ] = 0.264\n",
            "Average Precision  (AP) @[ IoU=0.50:0.95 | area= large | maxDets=1000 ] = 0.418\n",
            "Average Recall     (AR) @[ IoU=0.50:0.95 | area=   all | maxDets=100 ] = 0.426\n",
            "Average Recall     (AR) @[ IoU=0.50:0.95 | area=   all | maxDets=300 ] = 0.426\n",
            "Average Recall     (AR) @[ IoU=0.50:0.95 | area=   all | maxDets=1000 ] = 0.426\n",
            "Average Recall     (AR) @[ IoU=0.50:0.95 | area= small | maxDets=1000 ] = 0.182\n",
            "Average Recall     (AR) @[ IoU=0.50:0.95 | area=medium | maxDets=1000 ] = 0.406\n",
            "Average Recall     (AR) @[ IoU=0.50:0.95 | area= large | maxDets=1000 ] = 0.624\n"
          ],
          "name": "stdout"
        },
        {
          "output_type": "stream",
          "text": [
            "2021-05-19 12:07:22,936 - mmdet - INFO - Epoch(val) [6][655]\tbbox_mAP: 0.2740, bbox_mAP_50: 0.3760, bbox_mAP_75: 0.2840, bbox_mAP_s: 0.0860, bbox_mAP_m: 0.2640, bbox_mAP_l: 0.4180, bbox_mAP_copypaste: 0.274 0.376 0.284 0.086 0.264 0.418\n",
            "2021-05-19 12:11:50,555 - mmdet - INFO - Epoch [7][300/655]\tlr: 1.000e-04, eta: 8:19:44, time: 0.892, data_time: 0.088, memory: 13531, loss_rpn_cls: 0.0443, loss_rpn_bbox: 0.0296, s0.loss_cls: 0.2510, s0.acc: 92.1484, s0.loss_bbox: 0.2503, s0.loss_mask: 0.2547, s1.loss_cls: 0.1243, s1.acc: 92.1526, s1.loss_bbox: 0.0998, s1.loss_mask: 0.1109, s2.loss_cls: 0.0601, s2.acc: 92.2991, s2.loss_bbox: 0.0365, s2.loss_mask: 0.0494, loss: 1.3110\n",
            "2021-05-19 12:16:21,782 - mmdet - INFO - Epoch [7][600/655]\tlr: 1.000e-04, eta: 8:17:21, time: 0.904, data_time: 0.089, memory: 13531, loss_rpn_cls: 0.0502, loss_rpn_bbox: 0.0340, s0.loss_cls: 0.2724, s0.acc: 91.5348, s0.loss_bbox: 0.2724, s0.loss_mask: 0.2605, s1.loss_cls: 0.1337, s1.acc: 91.6888, s1.loss_bbox: 0.1063, s1.loss_mask: 0.1139, s2.loss_cls: 0.0642, s2.acc: 91.9532, s2.loss_bbox: 0.0386, s2.loss_mask: 0.0504, loss: 1.3967\n"
          ],
          "name": "stderr"
        },
        {
          "output_type": "stream",
          "text": [
            "[>>>>>>>>>>>>>>>>>>>>>>>>>>>>>>] 655/655, 7.7 task/s, elapsed: 85s, ETA:     0s"
          ],
          "name": "stdout"
        },
        {
          "output_type": "stream",
          "text": [
            "2021-05-19 12:18:37,381 - mmdet - INFO - Evaluating bbox...\n"
          ],
          "name": "stderr"
        },
        {
          "output_type": "stream",
          "text": [
            "Loading and preparing results...\n",
            "DONE (t=0.09s)\n",
            "creating index...\n",
            "index created!\n",
            "Running per image evaluation...\n",
            "Evaluate annotation type *bbox*\n",
            "DONE (t=4.84s).\n",
            "Accumulating evaluation results...\n"
          ],
          "name": "stdout"
        },
        {
          "output_type": "stream",
          "text": [
            "2021-05-19 12:18:43,159 - mmdet - INFO - Saving checkpoint at 7 epochs\n"
          ],
          "name": "stderr"
        },
        {
          "output_type": "stream",
          "text": [
            "DONE (t=0.75s).\n",
            "Average Precision  (AP) @[ IoU=0.50:0.95 | area=   all | maxDets=100 ] = 0.285\n",
            "Average Precision  (AP) @[ IoU=0.50      | area=   all | maxDets=1000 ] = 0.395\n",
            "Average Precision  (AP) @[ IoU=0.75      | area=   all | maxDets=1000 ] = 0.298\n",
            "Average Precision  (AP) @[ IoU=0.50:0.95 | area= small | maxDets=1000 ] = 0.096\n",
            "Average Precision  (AP) @[ IoU=0.50:0.95 | area=medium | maxDets=1000 ] = 0.271\n",
            "Average Precision  (AP) @[ IoU=0.50:0.95 | area= large | maxDets=1000 ] = 0.516\n",
            "Average Recall     (AR) @[ IoU=0.50:0.95 | area=   all | maxDets=100 ] = 0.446\n",
            "Average Recall     (AR) @[ IoU=0.50:0.95 | area=   all | maxDets=300 ] = 0.446\n",
            "Average Recall     (AR) @[ IoU=0.50:0.95 | area=   all | maxDets=1000 ] = 0.446\n",
            "Average Recall     (AR) @[ IoU=0.50:0.95 | area= small | maxDets=1000 ] = 0.185\n",
            "Average Recall     (AR) @[ IoU=0.50:0.95 | area=medium | maxDets=1000 ] = 0.435\n",
            "Average Recall     (AR) @[ IoU=0.50:0.95 | area= large | maxDets=1000 ] = 0.687\n"
          ],
          "name": "stdout"
        },
        {
          "output_type": "stream",
          "text": [
            "2021-05-19 12:18:48,642 - mmdet - INFO - Epoch(val) [7][655]\tbbox_mAP: 0.2850, bbox_mAP_50: 0.3950, bbox_mAP_75: 0.2980, bbox_mAP_s: 0.0960, bbox_mAP_m: 0.2710, bbox_mAP_l: 0.5160, bbox_mAP_copypaste: 0.285 0.395 0.298 0.096 0.271 0.516\n"
          ],
          "name": "stderr"
        },
        {
          "output_type": "stream",
          "text": [
            "Gradient overflow.  Skipping step, loss scaler 0 reducing loss scale to 8192.0\n"
          ],
          "name": "stdout"
        },
        {
          "output_type": "stream",
          "text": [
            "2021-05-19 12:23:21,091 - mmdet - INFO - Epoch [8][300/655]\tlr: 1.000e-04, eta: 8:08:29, time: 0.908, data_time: 0.094, memory: 13531, loss_rpn_cls: 0.0487, loss_rpn_bbox: 0.0334, s0.loss_cls: 0.2641, s0.acc: 91.7054, s0.loss_bbox: 0.2694, s0.loss_mask: 0.2557, s1.loss_cls: 0.1281, s1.acc: 91.9252, s1.loss_bbox: 0.1062, s1.loss_mask: 0.1116, s2.loss_cls: 0.0616, s2.acc: 92.1542, s2.loss_bbox: 0.0386, s2.loss_mask: 0.0498, loss: 1.3672\n",
            "2021-05-19 12:27:47,754 - mmdet - INFO - Epoch [8][600/655]\tlr: 1.000e-04, eta: 8:05:27, time: 0.889, data_time: 0.080, memory: 13531, loss_rpn_cls: 0.0444, loss_rpn_bbox: 0.0294, s0.loss_cls: 0.2487, s0.acc: 92.1686, s0.loss_bbox: 0.2536, s0.loss_mask: 0.2445, s1.loss_cls: 0.1216, s1.acc: 92.3422, s1.loss_bbox: 0.1003, s1.loss_mask: 0.1085, s2.loss_cls: 0.0586, s2.acc: 92.5144, s2.loss_bbox: 0.0370, s2.loss_mask: 0.0485, loss: 1.2951\n"
          ],
          "name": "stderr"
        },
        {
          "output_type": "stream",
          "text": [
            "[>>>>>>>>>>>>>>>>>>>>>>>>>>>>>>] 655/655, 7.5 task/s, elapsed: 88s, ETA:     0s"
          ],
          "name": "stdout"
        },
        {
          "output_type": "stream",
          "text": [
            "2021-05-19 12:30:05,700 - mmdet - INFO - Evaluating bbox...\n"
          ],
          "name": "stderr"
        },
        {
          "output_type": "stream",
          "text": [
            "Loading and preparing results...\n",
            "DONE (t=0.13s)\n",
            "creating index...\n",
            "index created!\n",
            "Running per image evaluation...\n",
            "Evaluate annotation type *bbox*\n",
            "DONE (t=5.33s).\n",
            "Accumulating evaluation results...\n"
          ],
          "name": "stdout"
        },
        {
          "output_type": "stream",
          "text": [
            "2021-05-19 12:30:12,127 - mmdet - INFO - Saving checkpoint at 8 epochs\n"
          ],
          "name": "stderr"
        },
        {
          "output_type": "stream",
          "text": [
            "DONE (t=0.86s).\n",
            "Average Precision  (AP) @[ IoU=0.50:0.95 | area=   all | maxDets=100 ] = 0.291\n",
            "Average Precision  (AP) @[ IoU=0.50      | area=   all | maxDets=1000 ] = 0.398\n",
            "Average Precision  (AP) @[ IoU=0.75      | area=   all | maxDets=1000 ] = 0.304\n",
            "Average Precision  (AP) @[ IoU=0.50:0.95 | area= small | maxDets=1000 ] = 0.107\n",
            "Average Precision  (AP) @[ IoU=0.50:0.95 | area=medium | maxDets=1000 ] = 0.284\n",
            "Average Precision  (AP) @[ IoU=0.50:0.95 | area= large | maxDets=1000 ] = 0.495\n",
            "Average Recall     (AR) @[ IoU=0.50:0.95 | area=   all | maxDets=100 ] = 0.477\n",
            "Average Recall     (AR) @[ IoU=0.50:0.95 | area=   all | maxDets=300 ] = 0.477\n",
            "Average Recall     (AR) @[ IoU=0.50:0.95 | area=   all | maxDets=1000 ] = 0.477\n",
            "Average Recall     (AR) @[ IoU=0.50:0.95 | area= small | maxDets=1000 ] = 0.234\n",
            "Average Recall     (AR) @[ IoU=0.50:0.95 | area=medium | maxDets=1000 ] = 0.470\n",
            "Average Recall     (AR) @[ IoU=0.50:0.95 | area= large | maxDets=1000 ] = 0.690\n"
          ],
          "name": "stdout"
        },
        {
          "output_type": "stream",
          "text": [
            "2021-05-19 12:30:16,746 - mmdet - INFO - Epoch(val) [8][655]\tbbox_mAP: 0.2910, bbox_mAP_50: 0.3980, bbox_mAP_75: 0.3040, bbox_mAP_s: 0.1070, bbox_mAP_m: 0.2840, bbox_mAP_l: 0.4950, bbox_mAP_copypaste: 0.291 0.398 0.304 0.107 0.284 0.495\n",
            "2021-05-19 12:34:47,363 - mmdet - INFO - Epoch [9][300/655]\tlr: 1.000e-04, eta: 7:57:06, time: 0.902, data_time: 0.093, memory: 13531, loss_rpn_cls: 0.0456, loss_rpn_bbox: 0.0306, s0.loss_cls: 0.2469, s0.acc: 92.2235, s0.loss_bbox: 0.2558, s0.loss_mask: 0.2461, s1.loss_cls: 0.1209, s1.acc: 92.2652, s1.loss_bbox: 0.1014, s1.loss_mask: 0.1088, s2.loss_cls: 0.0585, s2.acc: 92.4087, s2.loss_bbox: 0.0375, s2.loss_mask: 0.0483, loss: 1.3004\n",
            "2021-05-19 12:39:17,787 - mmdet - INFO - Epoch [9][600/655]\tlr: 1.000e-04, eta: 7:54:23, time: 0.901, data_time: 0.086, memory: 13531, loss_rpn_cls: 0.0434, loss_rpn_bbox: 0.0324, s0.loss_cls: 0.2556, s0.acc: 91.9609, s0.loss_bbox: 0.2638, s0.loss_mask: 0.2539, s1.loss_cls: 0.1241, s1.acc: 92.1752, s1.loss_bbox: 0.1044, s1.loss_mask: 0.1106, s2.loss_cls: 0.0597, s2.acc: 92.3364, s2.loss_bbox: 0.0386, s2.loss_mask: 0.0492, loss: 1.3358\n"
          ],
          "name": "stderr"
        },
        {
          "output_type": "stream",
          "text": [
            "[>>>>>>>>>>>>>>>>>>>>>>>>>>>>>>] 655/655, 7.4 task/s, elapsed: 89s, ETA:     0s"
          ],
          "name": "stdout"
        },
        {
          "output_type": "stream",
          "text": [
            "2021-05-19 12:41:37,964 - mmdet - INFO - Evaluating bbox...\n"
          ],
          "name": "stderr"
        },
        {
          "output_type": "stream",
          "text": [
            "Loading and preparing results...\n",
            "DONE (t=0.11s)\n",
            "creating index...\n",
            "index created!\n",
            "Running per image evaluation...\n",
            "Evaluate annotation type *bbox*\n",
            "DONE (t=5.37s).\n",
            "Accumulating evaluation results...\n"
          ],
          "name": "stdout"
        },
        {
          "output_type": "stream",
          "text": [
            "2021-05-19 12:41:44,445 - mmdet - INFO - Saving checkpoint at 9 epochs\n"
          ],
          "name": "stderr"
        },
        {
          "output_type": "stream",
          "text": [
            "DONE (t=0.88s).\n",
            "Average Precision  (AP) @[ IoU=0.50:0.95 | area=   all | maxDets=100 ] = 0.262\n",
            "Average Precision  (AP) @[ IoU=0.50      | area=   all | maxDets=1000 ] = 0.365\n",
            "Average Precision  (AP) @[ IoU=0.75      | area=   all | maxDets=1000 ] = 0.267\n",
            "Average Precision  (AP) @[ IoU=0.50:0.95 | area= small | maxDets=1000 ] = 0.098\n",
            "Average Precision  (AP) @[ IoU=0.50:0.95 | area=medium | maxDets=1000 ] = 0.244\n",
            "Average Precision  (AP) @[ IoU=0.50:0.95 | area= large | maxDets=1000 ] = 0.488\n",
            "Average Recall     (AR) @[ IoU=0.50:0.95 | area=   all | maxDets=100 ] = 0.437\n",
            "Average Recall     (AR) @[ IoU=0.50:0.95 | area=   all | maxDets=300 ] = 0.437\n",
            "Average Recall     (AR) @[ IoU=0.50:0.95 | area=   all | maxDets=1000 ] = 0.437\n",
            "Average Recall     (AR) @[ IoU=0.50:0.95 | area= small | maxDets=1000 ] = 0.239\n",
            "Average Recall     (AR) @[ IoU=0.50:0.95 | area=medium | maxDets=1000 ] = 0.416\n",
            "Average Recall     (AR) @[ IoU=0.50:0.95 | area= large | maxDets=1000 ] = 0.661\n"
          ],
          "name": "stdout"
        },
        {
          "output_type": "stream",
          "text": [
            "2021-05-19 12:41:49,193 - mmdet - INFO - Epoch(val) [9][655]\tbbox_mAP: 0.2620, bbox_mAP_50: 0.3650, bbox_mAP_75: 0.2670, bbox_mAP_s: 0.0980, bbox_mAP_m: 0.2440, bbox_mAP_l: 0.4880, bbox_mAP_copypaste: 0.262 0.365 0.267 0.098 0.244 0.488\n",
            "2021-05-19 12:46:20,956 - mmdet - INFO - Epoch [10][300/655]\tlr: 1.000e-04, eta: 7:46:39, time: 0.906, data_time: 0.094, memory: 13531, loss_rpn_cls: 0.0426, loss_rpn_bbox: 0.0291, s0.loss_cls: 0.2516, s0.acc: 92.0913, s0.loss_bbox: 0.2566, s0.loss_mask: 0.2391, s1.loss_cls: 0.1231, s1.acc: 92.2573, s1.loss_bbox: 0.1025, s1.loss_mask: 0.1047, s2.loss_cls: 0.0599, s2.acc: 92.3480, s2.loss_bbox: 0.0387, s2.loss_mask: 0.0471, loss: 1.2949\n",
            "2021-05-19 12:50:51,802 - mmdet - INFO - Epoch [10][600/655]\tlr: 1.000e-04, eta: 7:43:52, time: 0.903, data_time: 0.088, memory: 13531, loss_rpn_cls: 0.0455, loss_rpn_bbox: 0.0319, s0.loss_cls: 0.2539, s0.acc: 92.0075, s0.loss_bbox: 0.2599, s0.loss_mask: 0.2475, s1.loss_cls: 0.1231, s1.acc: 92.1649, s1.loss_bbox: 0.1033, s1.loss_mask: 0.1089, s2.loss_cls: 0.0595, s2.acc: 92.3662, s2.loss_bbox: 0.0383, s2.loss_mask: 0.0486, loss: 1.3204\n"
          ],
          "name": "stderr"
        },
        {
          "output_type": "stream",
          "text": [
            "[>>>>>>>>>>>>>>>>>>>>>>>>>>>>>>] 655/655, 7.2 task/s, elapsed: 91s, ETA:     0s"
          ],
          "name": "stdout"
        },
        {
          "output_type": "stream",
          "text": [
            "2021-05-19 12:53:14,657 - mmdet - INFO - Evaluating bbox...\n"
          ],
          "name": "stderr"
        },
        {
          "output_type": "stream",
          "text": [
            "Loading and preparing results...\n",
            "DONE (t=0.68s)\n",
            "creating index...\n",
            "index created!\n",
            "Running per image evaluation...\n",
            "Evaluate annotation type *bbox*\n",
            "DONE (t=5.75s).\n",
            "Accumulating evaluation results...\n"
          ],
          "name": "stdout"
        },
        {
          "output_type": "stream",
          "text": [
            "2021-05-19 12:53:22,148 - mmdet - INFO - Saving checkpoint at 10 epochs\n"
          ],
          "name": "stderr"
        },
        {
          "output_type": "stream",
          "text": [
            "DONE (t=0.94s).\n",
            "Average Precision  (AP) @[ IoU=0.50:0.95 | area=   all | maxDets=100 ] = 0.300\n",
            "Average Precision  (AP) @[ IoU=0.50      | area=   all | maxDets=1000 ] = 0.409\n",
            "Average Precision  (AP) @[ IoU=0.75      | area=   all | maxDets=1000 ] = 0.309\n",
            "Average Precision  (AP) @[ IoU=0.50:0.95 | area= small | maxDets=1000 ] = 0.106\n",
            "Average Precision  (AP) @[ IoU=0.50:0.95 | area=medium | maxDets=1000 ] = 0.283\n",
            "Average Precision  (AP) @[ IoU=0.50:0.95 | area= large | maxDets=1000 ] = 0.529\n",
            "Average Recall     (AR) @[ IoU=0.50:0.95 | area=   all | maxDets=100 ] = 0.477\n",
            "Average Recall     (AR) @[ IoU=0.50:0.95 | area=   all | maxDets=300 ] = 0.477\n",
            "Average Recall     (AR) @[ IoU=0.50:0.95 | area=   all | maxDets=1000 ] = 0.477\n",
            "Average Recall     (AR) @[ IoU=0.50:0.95 | area= small | maxDets=1000 ] = 0.236\n",
            "Average Recall     (AR) @[ IoU=0.50:0.95 | area=medium | maxDets=1000 ] = 0.453\n",
            "Average Recall     (AR) @[ IoU=0.50:0.95 | area= large | maxDets=1000 ] = 0.721\n"
          ],
          "name": "stdout"
        },
        {
          "output_type": "stream",
          "text": [
            "2021-05-19 12:53:26,654 - mmdet - INFO - Epoch(val) [10][655]\tbbox_mAP: 0.3000, bbox_mAP_50: 0.4090, bbox_mAP_75: 0.3090, bbox_mAP_s: 0.1060, bbox_mAP_m: 0.2830, bbox_mAP_l: 0.5290, bbox_mAP_copypaste: 0.300 0.409 0.309 0.106 0.283 0.529\n",
            "2021-05-19 12:57:57,613 - mmdet - INFO - Epoch [11][300/655]\tlr: 1.000e-04, eta: 7:36:28, time: 0.903, data_time: 0.095, memory: 13531, loss_rpn_cls: 0.0447, loss_rpn_bbox: 0.0311, s0.loss_cls: 0.2403, s0.acc: 92.3312, s0.loss_bbox: 0.2552, s0.loss_mask: 0.2455, s1.loss_cls: 0.1160, s1.acc: 92.5306, s1.loss_bbox: 0.1005, s1.loss_mask: 0.1081, s2.loss_cls: 0.0564, s2.acc: 92.6752, s2.loss_bbox: 0.0368, s2.loss_mask: 0.0479, loss: 1.2826\n",
            "2021-05-19 13:02:28,203 - mmdet - INFO - Epoch [11][600/655]\tlr: 1.000e-04, eta: 7:33:33, time: 0.902, data_time: 0.084, memory: 13531, loss_rpn_cls: 0.0423, loss_rpn_bbox: 0.0304, s0.loss_cls: 0.2378, s0.acc: 92.4007, s0.loss_bbox: 0.2486, s0.loss_mask: 0.2402, s1.loss_cls: 0.1138, s1.acc: 92.7542, s1.loss_bbox: 0.0985, s1.loss_mask: 0.1054, s2.loss_cls: 0.0548, s2.acc: 92.8825, s2.loss_bbox: 0.0369, s2.loss_mask: 0.0471, loss: 1.2559\n"
          ],
          "name": "stderr"
        },
        {
          "output_type": "stream",
          "text": [
            "[>>>>>>>>>>>>>>>>>>>>>>>>>>>>>>] 655/655, 7.5 task/s, elapsed: 88s, ETA:     0s"
          ],
          "name": "stdout"
        },
        {
          "output_type": "stream",
          "text": [
            "2021-05-19 13:04:47,866 - mmdet - INFO - Evaluating bbox...\n"
          ],
          "name": "stderr"
        },
        {
          "output_type": "stream",
          "text": [
            "Loading and preparing results...\n",
            "DONE (t=0.66s)\n",
            "creating index...\n",
            "index created!\n",
            "Running per image evaluation...\n",
            "Evaluate annotation type *bbox*\n",
            "DONE (t=5.21s).\n",
            "Accumulating evaluation results...\n"
          ],
          "name": "stdout"
        },
        {
          "output_type": "stream",
          "text": [
            "2021-05-19 13:04:54,677 - mmdet - INFO - Saving checkpoint at 11 epochs\n"
          ],
          "name": "stderr"
        },
        {
          "output_type": "stream",
          "text": [
            "DONE (t=0.83s).\n",
            "Average Precision  (AP) @[ IoU=0.50:0.95 | area=   all | maxDets=100 ] = 0.283\n",
            "Average Precision  (AP) @[ IoU=0.50      | area=   all | maxDets=1000 ] = 0.382\n",
            "Average Precision  (AP) @[ IoU=0.75      | area=   all | maxDets=1000 ] = 0.290\n",
            "Average Precision  (AP) @[ IoU=0.50:0.95 | area= small | maxDets=1000 ] = 0.093\n",
            "Average Precision  (AP) @[ IoU=0.50:0.95 | area=medium | maxDets=1000 ] = 0.273\n",
            "Average Precision  (AP) @[ IoU=0.50:0.95 | area= large | maxDets=1000 ] = 0.444\n",
            "Average Recall     (AR) @[ IoU=0.50:0.95 | area=   all | maxDets=100 ] = 0.450\n",
            "Average Recall     (AR) @[ IoU=0.50:0.95 | area=   all | maxDets=300 ] = 0.450\n",
            "Average Recall     (AR) @[ IoU=0.50:0.95 | area=   all | maxDets=1000 ] = 0.450\n",
            "Average Recall     (AR) @[ IoU=0.50:0.95 | area= small | maxDets=1000 ] = 0.223\n",
            "Average Recall     (AR) @[ IoU=0.50:0.95 | area=medium | maxDets=1000 ] = 0.439\n",
            "Average Recall     (AR) @[ IoU=0.50:0.95 | area= large | maxDets=1000 ] = 0.621\n"
          ],
          "name": "stdout"
        },
        {
          "output_type": "stream",
          "text": [
            "2021-05-19 13:04:59,866 - mmdet - INFO - Epoch(val) [11][655]\tbbox_mAP: 0.2830, bbox_mAP_50: 0.3820, bbox_mAP_75: 0.2900, bbox_mAP_s: 0.0930, bbox_mAP_m: 0.2730, bbox_mAP_l: 0.4440, bbox_mAP_copypaste: 0.283 0.382 0.290 0.093 0.273 0.444\n",
            "2021-05-19 13:09:33,657 - mmdet - INFO - Epoch [12][300/655]\tlr: 1.000e-04, eta: 7:26:39, time: 0.913, data_time: 0.097, memory: 13531, loss_rpn_cls: 0.0436, loss_rpn_bbox: 0.0319, s0.loss_cls: 0.2483, s0.acc: 92.0942, s0.loss_bbox: 0.2622, s0.loss_mask: 0.2481, s1.loss_cls: 0.1198, s1.acc: 92.3654, s1.loss_bbox: 0.1039, s1.loss_mask: 0.1094, s2.loss_cls: 0.0577, s2.acc: 92.5986, s2.loss_bbox: 0.0387, s2.loss_mask: 0.0483, loss: 1.3119\n",
            "2021-05-19 13:14:02,752 - mmdet - INFO - Epoch [12][600/655]\tlr: 1.000e-04, eta: 7:23:31, time: 0.897, data_time: 0.084, memory: 13531, loss_rpn_cls: 0.0425, loss_rpn_bbox: 0.0298, s0.loss_cls: 0.2404, s0.acc: 92.3880, s0.loss_bbox: 0.2526, s0.loss_mask: 0.2396, s1.loss_cls: 0.1168, s1.acc: 92.5899, s1.loss_bbox: 0.1006, s1.loss_mask: 0.1043, s2.loss_cls: 0.0564, s2.acc: 92.7530, s2.loss_bbox: 0.0378, s2.loss_mask: 0.0466, loss: 1.2673\n"
          ],
          "name": "stderr"
        },
        {
          "output_type": "stream",
          "text": [
            "[>>>>>>>>>>>>>>>>>>>>>>>>>>>>>>] 655/655, 7.6 task/s, elapsed: 87s, ETA:     0s"
          ],
          "name": "stdout"
        },
        {
          "output_type": "stream",
          "text": [
            "2021-05-19 13:16:19,888 - mmdet - INFO - Evaluating bbox...\n"
          ],
          "name": "stderr"
        },
        {
          "output_type": "stream",
          "text": [
            "Loading and preparing results...\n",
            "DONE (t=0.65s)\n",
            "creating index...\n",
            "index created!\n",
            "Running per image evaluation...\n",
            "Evaluate annotation type *bbox*\n",
            "DONE (t=5.17s).\n",
            "Accumulating evaluation results...\n"
          ],
          "name": "stdout"
        },
        {
          "output_type": "stream",
          "text": [
            "2021-05-19 13:16:26,586 - mmdet - INFO - Saving checkpoint at 12 epochs\n"
          ],
          "name": "stderr"
        },
        {
          "output_type": "stream",
          "text": [
            "DONE (t=0.78s).\n",
            "Average Precision  (AP) @[ IoU=0.50:0.95 | area=   all | maxDets=100 ] = 0.306\n",
            "Average Precision  (AP) @[ IoU=0.50      | area=   all | maxDets=1000 ] = 0.416\n",
            "Average Precision  (AP) @[ IoU=0.75      | area=   all | maxDets=1000 ] = 0.320\n",
            "Average Precision  (AP) @[ IoU=0.50:0.95 | area= small | maxDets=1000 ] = 0.087\n",
            "Average Precision  (AP) @[ IoU=0.50:0.95 | area=medium | maxDets=1000 ] = 0.288\n",
            "Average Precision  (AP) @[ IoU=0.50:0.95 | area= large | maxDets=1000 ] = 0.541\n",
            "Average Recall     (AR) @[ IoU=0.50:0.95 | area=   all | maxDets=100 ] = 0.468\n",
            "Average Recall     (AR) @[ IoU=0.50:0.95 | area=   all | maxDets=300 ] = 0.468\n",
            "Average Recall     (AR) @[ IoU=0.50:0.95 | area=   all | maxDets=1000 ] = 0.468\n",
            "Average Recall     (AR) @[ IoU=0.50:0.95 | area= small | maxDets=1000 ] = 0.208\n",
            "Average Recall     (AR) @[ IoU=0.50:0.95 | area=medium | maxDets=1000 ] = 0.452\n",
            "Average Recall     (AR) @[ IoU=0.50:0.95 | area= large | maxDets=1000 ] = 0.701\n"
          ],
          "name": "stdout"
        },
        {
          "output_type": "stream",
          "text": [
            "2021-05-19 13:16:31,215 - mmdet - INFO - Epoch(val) [12][655]\tbbox_mAP: 0.3060, bbox_mAP_50: 0.4160, bbox_mAP_75: 0.3200, bbox_mAP_s: 0.0870, bbox_mAP_m: 0.2880, bbox_mAP_l: 0.5410, bbox_mAP_copypaste: 0.306 0.416 0.320 0.087 0.288 0.541\n",
            "2021-05-19 13:21:03,776 - mmdet - INFO - Epoch [13][300/655]\tlr: 1.000e-04, eta: 7:16:47, time: 0.908, data_time: 0.095, memory: 13531, loss_rpn_cls: 0.0406, loss_rpn_bbox: 0.0301, s0.loss_cls: 0.2361, s0.acc: 92.4749, s0.loss_bbox: 0.2524, s0.loss_mask: 0.2362, s1.loss_cls: 0.1142, s1.acc: 92.6668, s1.loss_bbox: 0.1004, s1.loss_mask: 0.1032, s2.loss_cls: 0.0550, s2.acc: 92.7844, s2.loss_bbox: 0.0376, s2.loss_mask: 0.0460, loss: 1.2518\n",
            "2021-05-19 13:25:37,094 - mmdet - INFO - Epoch [13][600/655]\tlr: 1.000e-04, eta: 7:13:50, time: 0.911, data_time: 0.087, memory: 13531, loss_rpn_cls: 0.0422, loss_rpn_bbox: 0.0319, s0.loss_cls: 0.2432, s0.acc: 92.2204, s0.loss_bbox: 0.2617, s0.loss_mask: 0.2469, s1.loss_cls: 0.1165, s1.acc: 92.5695, s1.loss_bbox: 0.1036, s1.loss_mask: 0.1079, s2.loss_cls: 0.0560, s2.acc: 92.7908, s2.loss_bbox: 0.0385, s2.loss_mask: 0.0480, loss: 1.2963\n"
          ],
          "name": "stderr"
        },
        {
          "output_type": "stream",
          "text": [
            "[>>>>>>>>>>>>>>>>>>>>>>>>>>>>>>] 655/655, 7.4 task/s, elapsed: 89s, ETA:     0s"
          ],
          "name": "stdout"
        },
        {
          "output_type": "stream",
          "text": [
            "2021-05-19 13:27:56,446 - mmdet - INFO - Evaluating bbox...\n"
          ],
          "name": "stderr"
        },
        {
          "output_type": "stream",
          "text": [
            "Loading and preparing results...\n",
            "DONE (t=0.66s)\n",
            "creating index...\n",
            "index created!\n",
            "Running per image evaluation...\n",
            "Evaluate annotation type *bbox*\n",
            "DONE (t=5.64s).\n",
            "Accumulating evaluation results...\n"
          ],
          "name": "stdout"
        },
        {
          "output_type": "stream",
          "text": [
            "2021-05-19 13:28:03,713 - mmdet - INFO - Saving checkpoint at 13 epochs\n"
          ],
          "name": "stderr"
        },
        {
          "output_type": "stream",
          "text": [
            "DONE (t=0.87s).\n",
            "Average Precision  (AP) @[ IoU=0.50:0.95 | area=   all | maxDets=100 ] = 0.302\n",
            "Average Precision  (AP) @[ IoU=0.50      | area=   all | maxDets=1000 ] = 0.406\n",
            "Average Precision  (AP) @[ IoU=0.75      | area=   all | maxDets=1000 ] = 0.311\n",
            "Average Precision  (AP) @[ IoU=0.50:0.95 | area= small | maxDets=1000 ] = 0.096\n",
            "Average Precision  (AP) @[ IoU=0.50:0.95 | area=medium | maxDets=1000 ] = 0.276\n",
            "Average Precision  (AP) @[ IoU=0.50:0.95 | area= large | maxDets=1000 ] = 0.538\n",
            "Average Recall     (AR) @[ IoU=0.50:0.95 | area=   all | maxDets=100 ] = 0.467\n",
            "Average Recall     (AR) @[ IoU=0.50:0.95 | area=   all | maxDets=300 ] = 0.467\n",
            "Average Recall     (AR) @[ IoU=0.50:0.95 | area=   all | maxDets=1000 ] = 0.467\n",
            "Average Recall     (AR) @[ IoU=0.50:0.95 | area= small | maxDets=1000 ] = 0.225\n",
            "Average Recall     (AR) @[ IoU=0.50:0.95 | area=medium | maxDets=1000 ] = 0.449\n",
            "Average Recall     (AR) @[ IoU=0.50:0.95 | area= large | maxDets=1000 ] = 0.703\n"
          ],
          "name": "stdout"
        },
        {
          "output_type": "stream",
          "text": [
            "2021-05-19 13:28:08,481 - mmdet - INFO - Epoch(val) [13][655]\tbbox_mAP: 0.3020, bbox_mAP_50: 0.4060, bbox_mAP_75: 0.3110, bbox_mAP_s: 0.0960, bbox_mAP_m: 0.2760, bbox_mAP_l: 0.5380, bbox_mAP_copypaste: 0.302 0.406 0.311 0.096 0.276 0.538\n"
          ],
          "name": "stderr"
        },
        {
          "output_type": "stream",
          "text": [
            "Gradient overflow.  Skipping step, loss scaler 0 reducing loss scale to 8192.0\n"
          ],
          "name": "stdout"
        },
        {
          "output_type": "stream",
          "text": [
            "2021-05-19 13:32:42,913 - mmdet - INFO - Epoch [14][300/655]\tlr: 1.000e-04, eta: 7:07:23, time: 0.915, data_time: 0.098, memory: 13531, loss_rpn_cls: 0.0395, loss_rpn_bbox: 0.0300, s0.loss_cls: 0.2379, s0.acc: 92.3810, s0.loss_bbox: 0.2535, s0.loss_mask: 0.2359, s1.loss_cls: 0.1145, s1.acc: 92.6102, s1.loss_bbox: 0.1013, s1.loss_mask: 0.1023, s2.loss_cls: 0.0559, s2.acc: 92.6542, s2.loss_bbox: 0.0384, s2.loss_mask: 0.0456, loss: 1.2546\n",
            "2021-05-19 13:37:15,807 - mmdet - INFO - Epoch [14][600/655]\tlr: 1.000e-04, eta: 7:04:19, time: 0.910, data_time: 0.086, memory: 13531, loss_rpn_cls: 0.0425, loss_rpn_bbox: 0.0304, s0.loss_cls: 0.2374, s0.acc: 92.4535, s0.loss_bbox: 0.2531, s0.loss_mask: 0.2397, s1.loss_cls: 0.1146, s1.acc: 92.6868, s1.loss_bbox: 0.1011, s1.loss_mask: 0.1060, s2.loss_cls: 0.0552, s2.acc: 92.8888, s2.loss_bbox: 0.0382, s2.loss_mask: 0.0470, loss: 1.2652\n"
          ],
          "name": "stderr"
        },
        {
          "output_type": "stream",
          "text": [
            "[>>>>>>>>>>>>>>>>>>>>>>>>>>>>>>] 655/655, 7.2 task/s, elapsed: 91s, ETA:     0s"
          ],
          "name": "stdout"
        },
        {
          "output_type": "stream",
          "text": [
            "2021-05-19 13:39:39,150 - mmdet - INFO - Evaluating bbox...\n"
          ],
          "name": "stderr"
        },
        {
          "output_type": "stream",
          "text": [
            "Loading and preparing results...\n",
            "DONE (t=0.12s)\n",
            "creating index...\n",
            "index created!\n",
            "Running per image evaluation...\n",
            "Evaluate annotation type *bbox*\n",
            "DONE (t=5.65s).\n",
            "Accumulating evaluation results...\n"
          ],
          "name": "stdout"
        },
        {
          "output_type": "stream",
          "text": [
            "2021-05-19 13:39:45,959 - mmdet - INFO - Saving checkpoint at 14 epochs\n"
          ],
          "name": "stderr"
        },
        {
          "output_type": "stream",
          "text": [
            "DONE (t=0.94s).\n",
            "Average Precision  (AP) @[ IoU=0.50:0.95 | area=   all | maxDets=100 ] = 0.307\n",
            "Average Precision  (AP) @[ IoU=0.50      | area=   all | maxDets=1000 ] = 0.408\n",
            "Average Precision  (AP) @[ IoU=0.75      | area=   all | maxDets=1000 ] = 0.318\n",
            "Average Precision  (AP) @[ IoU=0.50:0.95 | area= small | maxDets=1000 ] = 0.097\n",
            "Average Precision  (AP) @[ IoU=0.50:0.95 | area=medium | maxDets=1000 ] = 0.285\n",
            "Average Precision  (AP) @[ IoU=0.50:0.95 | area= large | maxDets=1000 ] = 0.498\n",
            "Average Recall     (AR) @[ IoU=0.50:0.95 | area=   all | maxDets=100 ] = 0.484\n",
            "Average Recall     (AR) @[ IoU=0.50:0.95 | area=   all | maxDets=300 ] = 0.484\n",
            "Average Recall     (AR) @[ IoU=0.50:0.95 | area=   all | maxDets=1000 ] = 0.484\n",
            "Average Recall     (AR) @[ IoU=0.50:0.95 | area= small | maxDets=1000 ] = 0.236\n",
            "Average Recall     (AR) @[ IoU=0.50:0.95 | area=medium | maxDets=1000 ] = 0.458\n",
            "Average Recall     (AR) @[ IoU=0.50:0.95 | area= large | maxDets=1000 ] = 0.725\n"
          ],
          "name": "stdout"
        },
        {
          "output_type": "stream",
          "text": [
            "2021-05-19 13:39:50,670 - mmdet - INFO - Epoch(val) [14][655]\tbbox_mAP: 0.3070, bbox_mAP_50: 0.4080, bbox_mAP_75: 0.3180, bbox_mAP_s: 0.0970, bbox_mAP_m: 0.2850, bbox_mAP_l: 0.4980, bbox_mAP_copypaste: 0.307 0.408 0.318 0.097 0.285 0.498\n",
            "2021-05-19 13:44:25,865 - mmdet - INFO - Epoch [15][300/655]\tlr: 1.000e-04, eta: 6:58:03, time: 0.917, data_time: 0.097, memory: 13531, loss_rpn_cls: 0.0416, loss_rpn_bbox: 0.0306, s0.loss_cls: 0.2285, s0.acc: 92.6310, s0.loss_bbox: 0.2511, s0.loss_mask: 0.2383, s1.loss_cls: 0.1091, s1.acc: 92.9519, s1.loss_bbox: 0.0997, s1.loss_mask: 0.1037, s2.loss_cls: 0.0527, s2.acc: 93.0302, s2.loss_bbox: 0.0373, s2.loss_mask: 0.0464, loss: 1.2391\n",
            "2021-05-19 13:48:59,185 - mmdet - INFO - Epoch [15][600/655]\tlr: 1.000e-04, eta: 6:54:55, time: 0.911, data_time: 0.087, memory: 13531, loss_rpn_cls: 0.0397, loss_rpn_bbox: 0.0306, s0.loss_cls: 0.2320, s0.acc: 92.4499, s0.loss_bbox: 0.2549, s0.loss_mask: 0.2292, s1.loss_cls: 0.1114, s1.acc: 92.7152, s1.loss_bbox: 0.1026, s1.loss_mask: 0.1000, s2.loss_cls: 0.0545, s2.acc: 92.6876, s2.loss_bbox: 0.0384, s2.loss_mask: 0.0444, loss: 1.2376\n"
          ],
          "name": "stderr"
        },
        {
          "output_type": "stream",
          "text": [
            "[>>>>>>>>>>>>>>>>>>>>>>>>>>>>>>] 655/655, 7.2 task/s, elapsed: 91s, ETA:     0s"
          ],
          "name": "stdout"
        },
        {
          "output_type": "stream",
          "text": [
            "2021-05-19 13:51:22,755 - mmdet - INFO - Evaluating bbox...\n"
          ],
          "name": "stderr"
        },
        {
          "output_type": "stream",
          "text": [
            "Loading and preparing results...\n",
            "DONE (t=0.13s)\n",
            "creating index...\n",
            "index created!\n",
            "Running per image evaluation...\n",
            "Evaluate annotation type *bbox*\n",
            "DONE (t=5.71s).\n",
            "Accumulating evaluation results...\n"
          ],
          "name": "stdout"
        },
        {
          "output_type": "stream",
          "text": [
            "2021-05-19 13:51:29,616 - mmdet - INFO - Saving checkpoint at 15 epochs\n"
          ],
          "name": "stderr"
        },
        {
          "output_type": "stream",
          "text": [
            "DONE (t=0.92s).\n",
            "Average Precision  (AP) @[ IoU=0.50:0.95 | area=   all | maxDets=100 ] = 0.319\n",
            "Average Precision  (AP) @[ IoU=0.50      | area=   all | maxDets=1000 ] = 0.420\n",
            "Average Precision  (AP) @[ IoU=0.75      | area=   all | maxDets=1000 ] = 0.331\n",
            "Average Precision  (AP) @[ IoU=0.50:0.95 | area= small | maxDets=1000 ] = 0.090\n",
            "Average Precision  (AP) @[ IoU=0.50:0.95 | area=medium | maxDets=1000 ] = 0.311\n",
            "Average Precision  (AP) @[ IoU=0.50:0.95 | area= large | maxDets=1000 ] = 0.561\n",
            "Average Recall     (AR) @[ IoU=0.50:0.95 | area=   all | maxDets=100 ] = 0.494\n",
            "Average Recall     (AR) @[ IoU=0.50:0.95 | area=   all | maxDets=300 ] = 0.494\n",
            "Average Recall     (AR) @[ IoU=0.50:0.95 | area=   all | maxDets=1000 ] = 0.494\n",
            "Average Recall     (AR) @[ IoU=0.50:0.95 | area= small | maxDets=1000 ] = 0.220\n",
            "Average Recall     (AR) @[ IoU=0.50:0.95 | area=medium | maxDets=1000 ] = 0.485\n",
            "Average Recall     (AR) @[ IoU=0.50:0.95 | area= large | maxDets=1000 ] = 0.731\n"
          ],
          "name": "stdout"
        },
        {
          "output_type": "stream",
          "text": [
            "2021-05-19 13:51:34,787 - mmdet - INFO - Epoch(val) [15][655]\tbbox_mAP: 0.3190, bbox_mAP_50: 0.4200, bbox_mAP_75: 0.3310, bbox_mAP_s: 0.0900, bbox_mAP_m: 0.3110, bbox_mAP_l: 0.5610, bbox_mAP_copypaste: 0.319 0.420 0.331 0.090 0.311 0.561\n",
            "2021-05-19 13:56:12,481 - mmdet - INFO - Epoch [16][300/655]\tlr: 1.000e-04, eta: 6:48:53, time: 0.926, data_time: 0.098, memory: 13531, loss_rpn_cls: 0.0372, loss_rpn_bbox: 0.0289, s0.loss_cls: 0.2251, s0.acc: 92.7812, s0.loss_bbox: 0.2461, s0.loss_mask: 0.2288, s1.loss_cls: 0.1084, s1.acc: 93.0442, s1.loss_bbox: 0.0999, s1.loss_mask: 0.0998, s2.loss_cls: 0.0530, s2.acc: 93.0454, s2.loss_bbox: 0.0385, s2.loss_mask: 0.0448, loss: 1.2104\n",
            "2021-05-19 14:00:49,175 - mmdet - INFO - Epoch [16][600/655]\tlr: 1.000e-04, eta: 6:45:48, time: 0.922, data_time: 0.093, memory: 13531, loss_rpn_cls: 0.0428, loss_rpn_bbox: 0.0320, s0.loss_cls: 0.2370, s0.acc: 92.4328, s0.loss_bbox: 0.2548, s0.loss_mask: 0.2342, s1.loss_cls: 0.1138, s1.acc: 92.6423, s1.loss_bbox: 0.1013, s1.loss_mask: 0.1030, s2.loss_cls: 0.0558, s2.acc: 92.7063, s2.loss_bbox: 0.0380, s2.loss_mask: 0.0459, loss: 1.2585\n"
          ],
          "name": "stderr"
        },
        {
          "output_type": "stream",
          "text": [
            "[>>>>>>>>>>>>>>>>>>>>>>>>>>>>>>] 655/655, 7.4 task/s, elapsed: 88s, ETA:     0s"
          ],
          "name": "stdout"
        },
        {
          "output_type": "stream",
          "text": [
            "2021-05-19 14:03:09,265 - mmdet - INFO - Evaluating bbox...\n"
          ],
          "name": "stderr"
        },
        {
          "output_type": "stream",
          "text": [
            "Loading and preparing results...\n",
            "DONE (t=0.64s)\n",
            "creating index...\n",
            "index created!\n",
            "Running per image evaluation...\n",
            "Evaluate annotation type *bbox*\n",
            "DONE (t=5.27s).\n",
            "Accumulating evaluation results...\n"
          ],
          "name": "stdout"
        },
        {
          "output_type": "stream",
          "text": [
            "2021-05-19 14:03:16,041 - mmdet - INFO - Saving checkpoint at 16 epochs\n"
          ],
          "name": "stderr"
        },
        {
          "output_type": "stream",
          "text": [
            "DONE (t=0.78s).\n",
            "Average Precision  (AP) @[ IoU=0.50:0.95 | area=   all | maxDets=100 ] = 0.326\n",
            "Average Precision  (AP) @[ IoU=0.50      | area=   all | maxDets=1000 ] = 0.432\n",
            "Average Precision  (AP) @[ IoU=0.75      | area=   all | maxDets=1000 ] = 0.343\n",
            "Average Precision  (AP) @[ IoU=0.50:0.95 | area= small | maxDets=1000 ] = 0.111\n",
            "Average Precision  (AP) @[ IoU=0.50:0.95 | area=medium | maxDets=1000 ] = 0.311\n",
            "Average Precision  (AP) @[ IoU=0.50:0.95 | area= large | maxDets=1000 ] = 0.484\n",
            "Average Recall     (AR) @[ IoU=0.50:0.95 | area=   all | maxDets=100 ] = 0.473\n",
            "Average Recall     (AR) @[ IoU=0.50:0.95 | area=   all | maxDets=300 ] = 0.473\n",
            "Average Recall     (AR) @[ IoU=0.50:0.95 | area=   all | maxDets=1000 ] = 0.473\n",
            "Average Recall     (AR) @[ IoU=0.50:0.95 | area= small | maxDets=1000 ] = 0.220\n",
            "Average Recall     (AR) @[ IoU=0.50:0.95 | area=medium | maxDets=1000 ] = 0.469\n",
            "Average Recall     (AR) @[ IoU=0.50:0.95 | area= large | maxDets=1000 ] = 0.637\n"
          ],
          "name": "stdout"
        },
        {
          "output_type": "stream",
          "text": [
            "2021-05-19 14:03:20,987 - mmdet - INFO - Epoch(val) [16][655]\tbbox_mAP: 0.3260, bbox_mAP_50: 0.4320, bbox_mAP_75: 0.3430, bbox_mAP_s: 0.1110, bbox_mAP_m: 0.3110, bbox_mAP_l: 0.4840, bbox_mAP_copypaste: 0.326 0.432 0.343 0.111 0.311 0.484\n",
            "2021-05-19 14:07:58,991 - mmdet - INFO - Epoch [17][300/655]\tlr: 1.000e-04, eta: 6:39:52, time: 0.927, data_time: 0.099, memory: 13531, loss_rpn_cls: 0.0390, loss_rpn_bbox: 0.0312, s0.loss_cls: 0.2217, s0.acc: 92.8494, s0.loss_bbox: 0.2493, s0.loss_mask: 0.2285, s1.loss_cls: 0.1066, s1.acc: 93.0912, s1.loss_bbox: 0.1005, s1.loss_mask: 0.1007, s2.loss_cls: 0.0518, s2.acc: 93.1870, s2.loss_bbox: 0.0383, s2.loss_mask: 0.0449, loss: 1.2124\n",
            "2021-05-19 14:12:33,948 - mmdet - INFO - Epoch [17][600/655]\tlr: 1.000e-04, eta: 6:36:38, time: 0.917, data_time: 0.088, memory: 13531, loss_rpn_cls: 0.0393, loss_rpn_bbox: 0.0309, s0.loss_cls: 0.2224, s0.acc: 92.7775, s0.loss_bbox: 0.2458, s0.loss_mask: 0.2308, s1.loss_cls: 0.1076, s1.acc: 92.9918, s1.loss_bbox: 0.0991, s1.loss_mask: 0.1022, s2.loss_cls: 0.0523, s2.acc: 93.0222, s2.loss_bbox: 0.0375, s2.loss_mask: 0.0457, loss: 1.2137\n"
          ],
          "name": "stderr"
        },
        {
          "output_type": "stream",
          "text": [
            "[>>>>>>>>>>>>>>>>>>>>>>>>>>>>>>] 655/655, 7.5 task/s, elapsed: 87s, ETA:     0s"
          ],
          "name": "stdout"
        },
        {
          "output_type": "stream",
          "text": [
            "2021-05-19 14:14:54,058 - mmdet - INFO - Evaluating bbox...\n"
          ],
          "name": "stderr"
        },
        {
          "output_type": "stream",
          "text": [
            "Loading and preparing results...\n",
            "DONE (t=0.68s)\n",
            "creating index...\n",
            "index created!\n",
            "Running per image evaluation...\n",
            "Evaluate annotation type *bbox*\n",
            "DONE (t=4.53s).\n",
            "Accumulating evaluation results...\n"
          ],
          "name": "stdout"
        },
        {
          "output_type": "stream",
          "text": [
            "2021-05-19 14:15:00,133 - mmdet - INFO - Saving checkpoint at 17 epochs\n"
          ],
          "name": "stderr"
        },
        {
          "output_type": "stream",
          "text": [
            "DONE (t=0.77s).\n",
            "Average Precision  (AP) @[ IoU=0.50:0.95 | area=   all | maxDets=100 ] = 0.320\n",
            "Average Precision  (AP) @[ IoU=0.50      | area=   all | maxDets=1000 ] = 0.432\n",
            "Average Precision  (AP) @[ IoU=0.75      | area=   all | maxDets=1000 ] = 0.332\n",
            "Average Precision  (AP) @[ IoU=0.50:0.95 | area= small | maxDets=1000 ] = 0.105\n",
            "Average Precision  (AP) @[ IoU=0.50:0.95 | area=medium | maxDets=1000 ] = 0.298\n",
            "Average Precision  (AP) @[ IoU=0.50:0.95 | area= large | maxDets=1000 ] = 0.563\n",
            "Average Recall     (AR) @[ IoU=0.50:0.95 | area=   all | maxDets=100 ] = 0.467\n",
            "Average Recall     (AR) @[ IoU=0.50:0.95 | area=   all | maxDets=300 ] = 0.467\n",
            "Average Recall     (AR) @[ IoU=0.50:0.95 | area=   all | maxDets=1000 ] = 0.467\n",
            "Average Recall     (AR) @[ IoU=0.50:0.95 | area= small | maxDets=1000 ] = 0.217\n",
            "Average Recall     (AR) @[ IoU=0.50:0.95 | area=medium | maxDets=1000 ] = 0.448\n",
            "Average Recall     (AR) @[ IoU=0.50:0.95 | area= large | maxDets=1000 ] = 0.718\n"
          ],
          "name": "stdout"
        },
        {
          "output_type": "stream",
          "text": [
            "2021-05-19 14:15:05,411 - mmdet - INFO - Epoch(val) [17][655]\tbbox_mAP: 0.3200, bbox_mAP_50: 0.4320, bbox_mAP_75: 0.3320, bbox_mAP_s: 0.1050, bbox_mAP_m: 0.2980, bbox_mAP_l: 0.5630, bbox_mAP_copypaste: 0.320 0.432 0.332 0.105 0.298 0.563\n",
            "2021-05-19 14:19:41,893 - mmdet - INFO - Epoch [18][300/655]\tlr: 1.000e-04, eta: 6:30:42, time: 0.922, data_time: 0.099, memory: 13531, loss_rpn_cls: 0.0398, loss_rpn_bbox: 0.0297, s0.loss_cls: 0.2144, s0.acc: 93.0415, s0.loss_bbox: 0.2451, s0.loss_mask: 0.2286, s1.loss_cls: 0.1015, s1.acc: 93.4071, s1.loss_bbox: 0.0983, s1.loss_mask: 0.1014, s2.loss_cls: 0.0491, s2.acc: 93.5209, s2.loss_bbox: 0.0372, s2.loss_mask: 0.0456, loss: 1.1906\n",
            "2021-05-19 14:24:17,494 - mmdet - INFO - Epoch [18][600/655]\tlr: 1.000e-04, eta: 6:27:24, time: 0.919, data_time: 0.088, memory: 13531, loss_rpn_cls: 0.0392, loss_rpn_bbox: 0.0319, s0.loss_cls: 0.2289, s0.acc: 92.6284, s0.loss_bbox: 0.2535, s0.loss_mask: 0.2357, s1.loss_cls: 0.1085, s1.acc: 93.0079, s1.loss_bbox: 0.1013, s1.loss_mask: 0.1015, s2.loss_cls: 0.0527, s2.acc: 93.0184, s2.loss_bbox: 0.0382, s2.loss_mask: 0.0452, loss: 1.2367\n"
          ],
          "name": "stderr"
        },
        {
          "output_type": "stream",
          "text": [
            "[>>>>>>>>>>>>>>>>>>>>>>>>>>>>>>] 655/655, 7.2 task/s, elapsed: 90s, ETA:     0s"
          ],
          "name": "stdout"
        },
        {
          "output_type": "stream",
          "text": [
            "2021-05-19 14:26:40,236 - mmdet - INFO - Evaluating bbox...\n"
          ],
          "name": "stderr"
        },
        {
          "output_type": "stream",
          "text": [
            "Loading and preparing results...\n",
            "DONE (t=0.67s)\n",
            "creating index...\n",
            "index created!\n",
            "Running per image evaluation...\n",
            "Evaluate annotation type *bbox*\n",
            "DONE (t=5.43s).\n",
            "Accumulating evaluation results...\n"
          ],
          "name": "stdout"
        },
        {
          "output_type": "stream",
          "text": [
            "2021-05-19 14:26:47,304 - mmdet - INFO - Saving checkpoint at 18 epochs\n"
          ],
          "name": "stderr"
        },
        {
          "output_type": "stream",
          "text": [
            "DONE (t=0.87s).\n",
            "Average Precision  (AP) @[ IoU=0.50:0.95 | area=   all | maxDets=100 ] = 0.328\n",
            "Average Precision  (AP) @[ IoU=0.50      | area=   all | maxDets=1000 ] = 0.449\n",
            "Average Precision  (AP) @[ IoU=0.75      | area=   all | maxDets=1000 ] = 0.334\n",
            "Average Precision  (AP) @[ IoU=0.50:0.95 | area= small | maxDets=1000 ] = 0.116\n",
            "Average Precision  (AP) @[ IoU=0.50:0.95 | area=medium | maxDets=1000 ] = 0.300\n",
            "Average Precision  (AP) @[ IoU=0.50:0.95 | area= large | maxDets=1000 ] = 0.538\n",
            "Average Recall     (AR) @[ IoU=0.50:0.95 | area=   all | maxDets=100 ] = 0.491\n",
            "Average Recall     (AR) @[ IoU=0.50:0.95 | area=   all | maxDets=300 ] = 0.491\n",
            "Average Recall     (AR) @[ IoU=0.50:0.95 | area=   all | maxDets=1000 ] = 0.491\n",
            "Average Recall     (AR) @[ IoU=0.50:0.95 | area= small | maxDets=1000 ] = 0.266\n",
            "Average Recall     (AR) @[ IoU=0.50:0.95 | area=medium | maxDets=1000 ] = 0.467\n",
            "Average Recall     (AR) @[ IoU=0.50:0.95 | area= large | maxDets=1000 ] = 0.701\n"
          ],
          "name": "stdout"
        },
        {
          "output_type": "stream",
          "text": [
            "2021-05-19 14:26:52,402 - mmdet - INFO - Epoch(val) [18][655]\tbbox_mAP: 0.3280, bbox_mAP_50: 0.4490, bbox_mAP_75: 0.3340, bbox_mAP_s: 0.1160, bbox_mAP_m: 0.3000, bbox_mAP_l: 0.5380, bbox_mAP_copypaste: 0.328 0.449 0.334 0.116 0.300 0.538\n"
          ],
          "name": "stderr"
        },
        {
          "output_type": "stream",
          "text": [
            "Gradient overflow.  Skipping step, loss scaler 0 reducing loss scale to 8192.0\n"
          ],
          "name": "stdout"
        },
        {
          "output_type": "stream",
          "text": [
            "2021-05-19 14:31:30,171 - mmdet - INFO - Epoch [19][300/655]\tlr: 1.000e-04, eta: 6:21:36, time: 0.926, data_time: 0.100, memory: 13531, loss_rpn_cls: 0.0382, loss_rpn_bbox: 0.0301, s0.loss_cls: 0.2190, s0.acc: 92.8807, s0.loss_bbox: 0.2514, s0.loss_mask: 0.2261, s1.loss_cls: 0.1029, s1.acc: 93.2878, s1.loss_bbox: 0.1014, s1.loss_mask: 0.0991, s2.loss_cls: 0.0505, s2.acc: 93.3453, s2.loss_bbox: 0.0389, s2.loss_mask: 0.0446, loss: 1.2022\n",
            "2021-05-19 14:36:05,349 - mmdet - INFO - Epoch [19][600/655]\tlr: 1.000e-04, eta: 6:18:13, time: 0.917, data_time: 0.089, memory: 13531, loss_rpn_cls: 0.0387, loss_rpn_bbox: 0.0300, s0.loss_cls: 0.2264, s0.acc: 92.6807, s0.loss_bbox: 0.2449, s0.loss_mask: 0.2273, s1.loss_cls: 0.1084, s1.acc: 92.9436, s1.loss_bbox: 0.0988, s1.loss_mask: 0.0992, s2.loss_cls: 0.0524, s2.acc: 93.0704, s2.loss_bbox: 0.0373, s2.loss_mask: 0.0444, loss: 1.2078\n"
          ],
          "name": "stderr"
        },
        {
          "output_type": "stream",
          "text": [
            "[>>>>>>>>>>>>>>>>>>>>>>>>>>>>>>] 655/655, 7.3 task/s, elapsed: 90s, ETA:     0s"
          ],
          "name": "stdout"
        },
        {
          "output_type": "stream",
          "text": [
            "2021-05-19 14:38:27,111 - mmdet - INFO - Evaluating bbox...\n"
          ],
          "name": "stderr"
        },
        {
          "output_type": "stream",
          "text": [
            "Loading and preparing results...\n",
            "DONE (t=0.68s)\n",
            "creating index...\n",
            "index created!\n",
            "Running per image evaluation...\n",
            "Evaluate annotation type *bbox*\n",
            "DONE (t=5.21s).\n",
            "Accumulating evaluation results...\n"
          ],
          "name": "stdout"
        },
        {
          "output_type": "stream",
          "text": [
            "2021-05-19 14:38:33,961 - mmdet - INFO - Saving checkpoint at 19 epochs\n"
          ],
          "name": "stderr"
        },
        {
          "output_type": "stream",
          "text": [
            "DONE (t=0.86s).\n",
            "Average Precision  (AP) @[ IoU=0.50:0.95 | area=   all | maxDets=100 ] = 0.305\n",
            "Average Precision  (AP) @[ IoU=0.50      | area=   all | maxDets=1000 ] = 0.418\n",
            "Average Precision  (AP) @[ IoU=0.75      | area=   all | maxDets=1000 ] = 0.313\n",
            "Average Precision  (AP) @[ IoU=0.50:0.95 | area= small | maxDets=1000 ] = 0.099\n",
            "Average Precision  (AP) @[ IoU=0.50:0.95 | area=medium | maxDets=1000 ] = 0.304\n",
            "Average Precision  (AP) @[ IoU=0.50:0.95 | area= large | maxDets=1000 ] = 0.528\n",
            "Average Recall     (AR) @[ IoU=0.50:0.95 | area=   all | maxDets=100 ] = 0.469\n",
            "Average Recall     (AR) @[ IoU=0.50:0.95 | area=   all | maxDets=300 ] = 0.469\n",
            "Average Recall     (AR) @[ IoU=0.50:0.95 | area=   all | maxDets=1000 ] = 0.469\n",
            "Average Recall     (AR) @[ IoU=0.50:0.95 | area= small | maxDets=1000 ] = 0.217\n",
            "Average Recall     (AR) @[ IoU=0.50:0.95 | area=medium | maxDets=1000 ] = 0.463\n",
            "Average Recall     (AR) @[ IoU=0.50:0.95 | area= large | maxDets=1000 ] = 0.714\n"
          ],
          "name": "stdout"
        },
        {
          "output_type": "stream",
          "text": [
            "2021-05-19 14:38:39,782 - mmdet - INFO - Epoch(val) [19][655]\tbbox_mAP: 0.3050, bbox_mAP_50: 0.4180, bbox_mAP_75: 0.3130, bbox_mAP_s: 0.0990, bbox_mAP_m: 0.3040, bbox_mAP_l: 0.5280, bbox_mAP_copypaste: 0.305 0.418 0.313 0.099 0.304 0.528\n",
            "2021-05-19 14:43:14,391 - mmdet - INFO - Epoch [20][300/655]\tlr: 1.000e-04, eta: 6:12:22, time: 0.915, data_time: 0.094, memory: 13531, loss_rpn_cls: 0.0396, loss_rpn_bbox: 0.0310, s0.loss_cls: 0.2097, s0.acc: 93.1219, s0.loss_bbox: 0.2425, s0.loss_mask: 0.2252, s1.loss_cls: 0.0993, s1.acc: 93.4381, s1.loss_bbox: 0.0975, s1.loss_mask: 0.0984, s2.loss_cls: 0.0476, s2.acc: 93.6437, s2.loss_bbox: 0.0368, s2.loss_mask: 0.0438, loss: 1.1715\n",
            "2021-05-19 14:47:50,919 - mmdet - INFO - Epoch [20][600/655]\tlr: 1.000e-04, eta: 6:08:58, time: 0.922, data_time: 0.093, memory: 13531, loss_rpn_cls: 0.0403, loss_rpn_bbox: 0.0308, s0.loss_cls: 0.2248, s0.acc: 92.6615, s0.loss_bbox: 0.2525, s0.loss_mask: 0.2330, s1.loss_cls: 0.1071, s1.acc: 92.9970, s1.loss_bbox: 0.1017, s1.loss_mask: 0.1025, s2.loss_cls: 0.0516, s2.acc: 93.1356, s2.loss_bbox: 0.0383, s2.loss_mask: 0.0458, loss: 1.2284\n"
          ],
          "name": "stderr"
        },
        {
          "output_type": "stream",
          "text": [
            "[>>>>>>>>>>>>>>>>>>>>>>>>>>>>>>] 655/655, 7.3 task/s, elapsed: 90s, ETA:     0s"
          ],
          "name": "stdout"
        },
        {
          "output_type": "stream",
          "text": [
            "2021-05-19 14:50:12,599 - mmdet - INFO - Evaluating bbox...\n"
          ],
          "name": "stderr"
        },
        {
          "output_type": "stream",
          "text": [
            "Loading and preparing results...\n",
            "DONE (t=0.67s)\n",
            "creating index...\n",
            "index created!\n",
            "Running per image evaluation...\n",
            "Evaluate annotation type *bbox*\n",
            "DONE (t=5.28s).\n",
            "Accumulating evaluation results...\n"
          ],
          "name": "stdout"
        },
        {
          "output_type": "stream",
          "text": [
            "2021-05-19 14:50:19,532 - mmdet - INFO - Saving checkpoint at 20 epochs\n"
          ],
          "name": "stderr"
        },
        {
          "output_type": "stream",
          "text": [
            "DONE (t=0.88s).\n",
            "Average Precision  (AP) @[ IoU=0.50:0.95 | area=   all | maxDets=100 ] = 0.338\n",
            "Average Precision  (AP) @[ IoU=0.50      | area=   all | maxDets=1000 ] = 0.464\n",
            "Average Precision  (AP) @[ IoU=0.75      | area=   all | maxDets=1000 ] = 0.341\n",
            "Average Precision  (AP) @[ IoU=0.50:0.95 | area= small | maxDets=1000 ] = 0.121\n",
            "Average Precision  (AP) @[ IoU=0.50:0.95 | area=medium | maxDets=1000 ] = 0.316\n",
            "Average Precision  (AP) @[ IoU=0.50:0.95 | area= large | maxDets=1000 ] = 0.543\n",
            "Average Recall     (AR) @[ IoU=0.50:0.95 | area=   all | maxDets=100 ] = 0.508\n",
            "Average Recall     (AR) @[ IoU=0.50:0.95 | area=   all | maxDets=300 ] = 0.508\n",
            "Average Recall     (AR) @[ IoU=0.50:0.95 | area=   all | maxDets=1000 ] = 0.508\n",
            "Average Recall     (AR) @[ IoU=0.50:0.95 | area= small | maxDets=1000 ] = 0.254\n",
            "Average Recall     (AR) @[ IoU=0.50:0.95 | area=medium | maxDets=1000 ] = 0.496\n",
            "Average Recall     (AR) @[ IoU=0.50:0.95 | area= large | maxDets=1000 ] = 0.724\n"
          ],
          "name": "stdout"
        },
        {
          "output_type": "stream",
          "text": [
            "2021-05-19 14:50:24,756 - mmdet - INFO - Epoch(val) [20][655]\tbbox_mAP: 0.3380, bbox_mAP_50: 0.4640, bbox_mAP_75: 0.3410, bbox_mAP_s: 0.1210, bbox_mAP_m: 0.3160, bbox_mAP_l: 0.5430, bbox_mAP_copypaste: 0.338 0.464 0.341 0.121 0.316 0.543\n",
            "2021-05-19 14:55:01,677 - mmdet - INFO - Epoch [21][300/655]\tlr: 1.000e-04, eta: 6:03:16, time: 0.923, data_time: 0.100, memory: 13531, loss_rpn_cls: 0.0380, loss_rpn_bbox: 0.0300, s0.loss_cls: 0.2127, s0.acc: 93.0555, s0.loss_bbox: 0.2468, s0.loss_mask: 0.2298, s1.loss_cls: 0.1005, s1.acc: 93.3893, s1.loss_bbox: 0.0994, s1.loss_mask: 0.0995, s2.loss_cls: 0.0489, s2.acc: 93.4879, s2.loss_bbox: 0.0375, s2.loss_mask: 0.0444, loss: 1.1875\n",
            "2021-05-19 14:59:36,323 - mmdet - INFO - Epoch [21][600/655]\tlr: 1.000e-04, eta: 5:59:45, time: 0.915, data_time: 0.089, memory: 13531, loss_rpn_cls: 0.0360, loss_rpn_bbox: 0.0296, s0.loss_cls: 0.2117, s0.acc: 93.1281, s0.loss_bbox: 0.2413, s0.loss_mask: 0.2197, s1.loss_cls: 0.1003, s1.acc: 93.4794, s1.loss_bbox: 0.0964, s1.loss_mask: 0.0961, s2.loss_cls: 0.0488, s2.acc: 93.6472, s2.loss_bbox: 0.0367, s2.loss_mask: 0.0432, loss: 1.1597\n"
          ],
          "name": "stderr"
        },
        {
          "output_type": "stream",
          "text": [
            "[>>>>>>>>>>>>>>>>>>>>>>>>>>>>>>] 655/655, 7.4 task/s, elapsed: 88s, ETA:     0s"
          ],
          "name": "stdout"
        },
        {
          "output_type": "stream",
          "text": [
            "2021-05-19 15:01:57,189 - mmdet - INFO - Evaluating bbox...\n"
          ],
          "name": "stderr"
        },
        {
          "output_type": "stream",
          "text": [
            "Loading and preparing results...\n",
            "DONE (t=0.64s)\n",
            "creating index...\n",
            "index created!\n",
            "Running per image evaluation...\n",
            "Evaluate annotation type *bbox*\n",
            "DONE (t=4.22s).\n",
            "Accumulating evaluation results...\n"
          ],
          "name": "stdout"
        },
        {
          "output_type": "stream",
          "text": [
            "2021-05-19 15:02:02,944 - mmdet - INFO - Saving checkpoint at 21 epochs\n"
          ],
          "name": "stderr"
        },
        {
          "output_type": "stream",
          "text": [
            "DONE (t=0.80s).\n",
            "Average Precision  (AP) @[ IoU=0.50:0.95 | area=   all | maxDets=100 ] = 0.324\n",
            "Average Precision  (AP) @[ IoU=0.50      | area=   all | maxDets=1000 ] = 0.432\n",
            "Average Precision  (AP) @[ IoU=0.75      | area=   all | maxDets=1000 ] = 0.339\n",
            "Average Precision  (AP) @[ IoU=0.50:0.95 | area= small | maxDets=1000 ] = 0.101\n",
            "Average Precision  (AP) @[ IoU=0.50:0.95 | area=medium | maxDets=1000 ] = 0.308\n",
            "Average Precision  (AP) @[ IoU=0.50:0.95 | area= large | maxDets=1000 ] = 0.558\n",
            "Average Recall     (AR) @[ IoU=0.50:0.95 | area=   all | maxDets=100 ] = 0.468\n",
            "Average Recall     (AR) @[ IoU=0.50:0.95 | area=   all | maxDets=300 ] = 0.468\n",
            "Average Recall     (AR) @[ IoU=0.50:0.95 | area=   all | maxDets=1000 ] = 0.468\n",
            "Average Recall     (AR) @[ IoU=0.50:0.95 | area= small | maxDets=1000 ] = 0.214\n",
            "Average Recall     (AR) @[ IoU=0.50:0.95 | area=medium | maxDets=1000 ] = 0.466\n",
            "Average Recall     (AR) @[ IoU=0.50:0.95 | area= large | maxDets=1000 ] = 0.690\n"
          ],
          "name": "stdout"
        },
        {
          "output_type": "stream",
          "text": [
            "2021-05-19 15:02:08,581 - mmdet - INFO - Epoch(val) [21][655]\tbbox_mAP: 0.3240, bbox_mAP_50: 0.4320, bbox_mAP_75: 0.3390, bbox_mAP_s: 0.1010, bbox_mAP_m: 0.3080, bbox_mAP_l: 0.5580, bbox_mAP_copypaste: 0.324 0.432 0.339 0.101 0.308 0.558\n",
            "2021-05-19 15:06:47,341 - mmdet - INFO - Epoch [22][300/655]\tlr: 1.000e-04, eta: 5:54:08, time: 0.929, data_time: 0.102, memory: 13531, loss_rpn_cls: 0.0380, loss_rpn_bbox: 0.0312, s0.loss_cls: 0.2126, s0.acc: 93.0636, s0.loss_bbox: 0.2511, s0.loss_mask: 0.2250, s1.loss_cls: 0.1011, s1.acc: 93.3590, s1.loss_bbox: 0.1011, s1.loss_mask: 0.0982, s2.loss_cls: 0.0494, s2.acc: 93.4553, s2.loss_bbox: 0.0387, s2.loss_mask: 0.0440, loss: 1.1904\n",
            "2021-05-19 15:11:21,675 - mmdet - INFO - Epoch [22][600/655]\tlr: 1.000e-04, eta: 5:50:34, time: 0.914, data_time: 0.088, memory: 13531, loss_rpn_cls: 0.0355, loss_rpn_bbox: 0.0288, s0.loss_cls: 0.2151, s0.acc: 93.0597, s0.loss_bbox: 0.2438, s0.loss_mask: 0.2219, s1.loss_cls: 0.1012, s1.acc: 93.3868, s1.loss_bbox: 0.0978, s1.loss_mask: 0.0978, s2.loss_cls: 0.0491, s2.acc: 93.4710, s2.loss_bbox: 0.0374, s2.loss_mask: 0.0439, loss: 1.1723\n"
          ],
          "name": "stderr"
        },
        {
          "output_type": "stream",
          "text": [
            "[>>>>>>>>>>>>>>>>>>>>>>>>>>>>>>] 655/655, 7.4 task/s, elapsed: 89s, ETA:     0s"
          ],
          "name": "stdout"
        },
        {
          "output_type": "stream",
          "text": [
            "2021-05-19 15:13:41,973 - mmdet - INFO - Evaluating bbox...\n"
          ],
          "name": "stderr"
        },
        {
          "output_type": "stream",
          "text": [
            "Loading and preparing results...\n",
            "DONE (t=0.11s)\n",
            "creating index...\n",
            "index created!\n",
            "Running per image evaluation...\n",
            "Evaluate annotation type *bbox*\n",
            "DONE (t=5.18s).\n",
            "Accumulating evaluation results...\n"
          ],
          "name": "stdout"
        },
        {
          "output_type": "stream",
          "text": [
            "2021-05-19 15:13:48,138 - mmdet - INFO - Saving checkpoint at 22 epochs\n"
          ],
          "name": "stderr"
        },
        {
          "output_type": "stream",
          "text": [
            "DONE (t=0.78s).\n",
            "Average Precision  (AP) @[ IoU=0.50:0.95 | area=   all | maxDets=100 ] = 0.306\n",
            "Average Precision  (AP) @[ IoU=0.50      | area=   all | maxDets=1000 ] = 0.411\n",
            "Average Precision  (AP) @[ IoU=0.75      | area=   all | maxDets=1000 ] = 0.324\n",
            "Average Precision  (AP) @[ IoU=0.50:0.95 | area= small | maxDets=1000 ] = 0.085\n",
            "Average Precision  (AP) @[ IoU=0.50:0.95 | area=medium | maxDets=1000 ] = 0.282\n",
            "Average Precision  (AP) @[ IoU=0.50:0.95 | area= large | maxDets=1000 ] = 0.538\n",
            "Average Recall     (AR) @[ IoU=0.50:0.95 | area=   all | maxDets=100 ] = 0.446\n",
            "Average Recall     (AR) @[ IoU=0.50:0.95 | area=   all | maxDets=300 ] = 0.446\n",
            "Average Recall     (AR) @[ IoU=0.50:0.95 | area=   all | maxDets=1000 ] = 0.446\n",
            "Average Recall     (AR) @[ IoU=0.50:0.95 | area= small | maxDets=1000 ] = 0.210\n",
            "Average Recall     (AR) @[ IoU=0.50:0.95 | area=medium | maxDets=1000 ] = 0.416\n",
            "Average Recall     (AR) @[ IoU=0.50:0.95 | area= large | maxDets=1000 ] = 0.678\n"
          ],
          "name": "stdout"
        },
        {
          "output_type": "stream",
          "text": [
            "2021-05-19 15:13:53,328 - mmdet - INFO - Epoch(val) [22][655]\tbbox_mAP: 0.3060, bbox_mAP_50: 0.4110, bbox_mAP_75: 0.3240, bbox_mAP_s: 0.0850, bbox_mAP_m: 0.2820, bbox_mAP_l: 0.5380, bbox_mAP_copypaste: 0.306 0.411 0.324 0.085 0.282 0.538\n",
            "2021-05-19 15:18:30,260 - mmdet - INFO - Epoch [23][300/655]\tlr: 1.000e-04, eta: 5:44:57, time: 0.923, data_time: 0.097, memory: 13531, loss_rpn_cls: 0.0364, loss_rpn_bbox: 0.0289, s0.loss_cls: 0.2107, s0.acc: 93.0646, s0.loss_bbox: 0.2439, s0.loss_mask: 0.2167, s1.loss_cls: 0.0992, s1.acc: 93.4384, s1.loss_bbox: 0.0986, s1.loss_mask: 0.0948, s2.loss_cls: 0.0483, s2.acc: 93.4988, s2.loss_bbox: 0.0381, s2.loss_mask: 0.0430, loss: 1.1585\n",
            "2021-05-19 15:23:06,894 - mmdet - INFO - Epoch [23][600/655]\tlr: 1.000e-04, eta: 5:41:23, time: 0.922, data_time: 0.094, memory: 13531, loss_rpn_cls: 0.0368, loss_rpn_bbox: 0.0298, s0.loss_cls: 0.2142, s0.acc: 93.0392, s0.loss_bbox: 0.2468, s0.loss_mask: 0.2266, s1.loss_cls: 0.1014, s1.acc: 93.3343, s1.loss_bbox: 0.0991, s1.loss_mask: 0.0982, s2.loss_cls: 0.0492, s2.acc: 93.4608, s2.loss_bbox: 0.0378, s2.loss_mask: 0.0440, loss: 1.1840\n"
          ],
          "name": "stderr"
        },
        {
          "output_type": "stream",
          "text": [
            "[>>>>>>>>>>>>>>>>>>>>>>>>>>>>>>] 655/655, 7.2 task/s, elapsed: 91s, ETA:     0s"
          ],
          "name": "stdout"
        },
        {
          "output_type": "stream",
          "text": [
            "2021-05-19 15:25:29,677 - mmdet - INFO - Evaluating bbox...\n"
          ],
          "name": "stderr"
        },
        {
          "output_type": "stream",
          "text": [
            "Loading and preparing results...\n",
            "DONE (t=0.68s)\n",
            "creating index...\n",
            "index created!\n",
            "Running per image evaluation...\n",
            "Evaluate annotation type *bbox*\n",
            "DONE (t=5.71s).\n",
            "Accumulating evaluation results...\n"
          ],
          "name": "stdout"
        },
        {
          "output_type": "stream",
          "text": [
            "2021-05-19 15:25:37,051 - mmdet - INFO - Saving checkpoint at 23 epochs\n"
          ],
          "name": "stderr"
        },
        {
          "output_type": "stream",
          "text": [
            "DONE (t=0.88s).\n",
            "Average Precision  (AP) @[ IoU=0.50:0.95 | area=   all | maxDets=100 ] = 0.323\n",
            "Average Precision  (AP) @[ IoU=0.50      | area=   all | maxDets=1000 ] = 0.434\n",
            "Average Precision  (AP) @[ IoU=0.75      | area=   all | maxDets=1000 ] = 0.334\n",
            "Average Precision  (AP) @[ IoU=0.50:0.95 | area= small | maxDets=1000 ] = 0.102\n",
            "Average Precision  (AP) @[ IoU=0.50:0.95 | area=medium | maxDets=1000 ] = 0.312\n",
            "Average Precision  (AP) @[ IoU=0.50:0.95 | area= large | maxDets=1000 ] = 0.531\n",
            "Average Recall     (AR) @[ IoU=0.50:0.95 | area=   all | maxDets=100 ] = 0.468\n",
            "Average Recall     (AR) @[ IoU=0.50:0.95 | area=   all | maxDets=300 ] = 0.468\n",
            "Average Recall     (AR) @[ IoU=0.50:0.95 | area=   all | maxDets=1000 ] = 0.468\n",
            "Average Recall     (AR) @[ IoU=0.50:0.95 | area= small | maxDets=1000 ] = 0.214\n",
            "Average Recall     (AR) @[ IoU=0.50:0.95 | area=medium | maxDets=1000 ] = 0.463\n",
            "Average Recall     (AR) @[ IoU=0.50:0.95 | area= large | maxDets=1000 ] = 0.664\n"
          ],
          "name": "stdout"
        },
        {
          "output_type": "stream",
          "text": [
            "2021-05-19 15:25:42,250 - mmdet - INFO - Epoch(val) [23][655]\tbbox_mAP: 0.3230, bbox_mAP_50: 0.4340, bbox_mAP_75: 0.3340, bbox_mAP_s: 0.1020, bbox_mAP_m: 0.3120, bbox_mAP_l: 0.5310, bbox_mAP_copypaste: 0.323 0.434 0.334 0.102 0.312 0.531\n",
            "2021-05-19 15:30:19,070 - mmdet - INFO - Epoch [24][300/655]\tlr: 1.000e-04, eta: 5:35:49, time: 0.923, data_time: 0.100, memory: 13531, loss_rpn_cls: 0.0369, loss_rpn_bbox: 0.0300, s0.loss_cls: 0.2100, s0.acc: 93.1279, s0.loss_bbox: 0.2464, s0.loss_mask: 0.2195, s1.loss_cls: 0.0983, s1.acc: 93.6367, s1.loss_bbox: 0.1006, s1.loss_mask: 0.0966, s2.loss_cls: 0.0476, s2.acc: 93.6833, s2.loss_bbox: 0.0385, s2.loss_mask: 0.0435, loss: 1.1680\n",
            "2021-05-19 15:34:53,733 - mmdet - INFO - Epoch [24][600/655]\tlr: 1.000e-04, eta: 5:32:10, time: 0.916, data_time: 0.091, memory: 13531, loss_rpn_cls: 0.0372, loss_rpn_bbox: 0.0288, s0.loss_cls: 0.2163, s0.acc: 93.0072, s0.loss_bbox: 0.2439, s0.loss_mask: 0.2198, s1.loss_cls: 0.1025, s1.acc: 93.4229, s1.loss_bbox: 0.0989, s1.loss_mask: 0.0968, s2.loss_cls: 0.0493, s2.acc: 93.5017, s2.loss_bbox: 0.0383, s2.loss_mask: 0.0434, loss: 1.1751\n"
          ],
          "name": "stderr"
        },
        {
          "output_type": "stream",
          "text": [
            "[>>>>>>>>>>>>>>>>>>>>>>>>>>>>>>] 655/655, 7.5 task/s, elapsed: 88s, ETA:     0s"
          ],
          "name": "stdout"
        },
        {
          "output_type": "stream",
          "text": [
            "2021-05-19 15:37:13,726 - mmdet - INFO - Evaluating bbox...\n"
          ],
          "name": "stderr"
        },
        {
          "output_type": "stream",
          "text": [
            "Loading and preparing results...\n",
            "DONE (t=0.10s)\n",
            "creating index...\n",
            "index created!\n",
            "Running per image evaluation...\n",
            "Evaluate annotation type *bbox*\n",
            "DONE (t=5.24s).\n",
            "Accumulating evaluation results...\n"
          ],
          "name": "stdout"
        },
        {
          "output_type": "stream",
          "text": [
            "2021-05-19 15:37:19,963 - mmdet - INFO - Saving checkpoint at 24 epochs\n"
          ],
          "name": "stderr"
        },
        {
          "output_type": "stream",
          "text": [
            "DONE (t=0.79s).\n",
            "Average Precision  (AP) @[ IoU=0.50:0.95 | area=   all | maxDets=100 ] = 0.326\n",
            "Average Precision  (AP) @[ IoU=0.50      | area=   all | maxDets=1000 ] = 0.439\n",
            "Average Precision  (AP) @[ IoU=0.75      | area=   all | maxDets=1000 ] = 0.342\n",
            "Average Precision  (AP) @[ IoU=0.50:0.95 | area= small | maxDets=1000 ] = 0.097\n",
            "Average Precision  (AP) @[ IoU=0.50:0.95 | area=medium | maxDets=1000 ] = 0.316\n",
            "Average Precision  (AP) @[ IoU=0.50:0.95 | area= large | maxDets=1000 ] = 0.556\n",
            "Average Recall     (AR) @[ IoU=0.50:0.95 | area=   all | maxDets=100 ] = 0.477\n",
            "Average Recall     (AR) @[ IoU=0.50:0.95 | area=   all | maxDets=300 ] = 0.477\n",
            "Average Recall     (AR) @[ IoU=0.50:0.95 | area=   all | maxDets=1000 ] = 0.477\n",
            "Average Recall     (AR) @[ IoU=0.50:0.95 | area= small | maxDets=1000 ] = 0.209\n",
            "Average Recall     (AR) @[ IoU=0.50:0.95 | area=medium | maxDets=1000 ] = 0.473\n",
            "Average Recall     (AR) @[ IoU=0.50:0.95 | area= large | maxDets=1000 ] = 0.703\n"
          ],
          "name": "stdout"
        },
        {
          "output_type": "stream",
          "text": [
            "2021-05-19 15:37:25,509 - mmdet - INFO - Epoch(val) [24][655]\tbbox_mAP: 0.3260, bbox_mAP_50: 0.4390, bbox_mAP_75: 0.3420, bbox_mAP_s: 0.0970, bbox_mAP_m: 0.3160, bbox_mAP_l: 0.5560, bbox_mAP_copypaste: 0.326 0.439 0.342 0.097 0.316 0.556\n",
            "2021-05-19 15:42:00,584 - mmdet - INFO - Epoch [25][300/655]\tlr: 1.000e-04, eta: 5:26:35, time: 0.917, data_time: 0.097, memory: 13531, loss_rpn_cls: 0.0355, loss_rpn_bbox: 0.0289, s0.loss_cls: 0.2006, s0.acc: 93.3672, s0.loss_bbox: 0.2379, s0.loss_mask: 0.2206, s1.loss_cls: 0.0938, s1.acc: 93.8002, s1.loss_bbox: 0.0963, s1.loss_mask: 0.0960, s2.loss_cls: 0.0455, s2.acc: 93.9310, s2.loss_bbox: 0.0372, s2.loss_mask: 0.0431, loss: 1.1354\n"
          ],
          "name": "stderr"
        },
        {
          "output_type": "stream",
          "text": [
            "Gradient overflow.  Skipping step, loss scaler 0 reducing loss scale to 16384.0\n"
          ],
          "name": "stdout"
        },
        {
          "output_type": "stream",
          "text": [
            "2021-05-19 15:46:36,253 - mmdet - INFO - Epoch [25][600/655]\tlr: 1.000e-04, eta: 5:22:55, time: 0.919, data_time: 0.091, memory: 13531, loss_rpn_cls: 0.0367, loss_rpn_bbox: 0.0303, s0.loss_cls: 0.2131, s0.acc: 93.0050, s0.loss_bbox: 0.2501, s0.loss_mask: 0.2228, s1.loss_cls: 0.1004, s1.acc: 93.3992, s1.loss_bbox: 0.1020, s1.loss_mask: 0.0975, s2.loss_cls: 0.0488, s2.acc: 93.4266, s2.loss_bbox: 0.0392, s2.loss_mask: 0.0437, loss: 1.1846\n"
          ],
          "name": "stderr"
        },
        {
          "output_type": "stream",
          "text": [
            "[>>>>>>>>>>>>>>>>>>>>>>>>>>>>>>] 655/655, 7.5 task/s, elapsed: 87s, ETA:     0s"
          ],
          "name": "stdout"
        },
        {
          "output_type": "stream",
          "text": [
            "2021-05-19 15:48:55,078 - mmdet - INFO - Evaluating bbox...\n"
          ],
          "name": "stderr"
        },
        {
          "output_type": "stream",
          "text": [
            "Loading and preparing results...\n",
            "DONE (t=0.67s)\n",
            "creating index...\n",
            "index created!\n",
            "Running per image evaluation...\n",
            "Evaluate annotation type *bbox*\n",
            "DONE (t=4.26s).\n",
            "Accumulating evaluation results...\n"
          ],
          "name": "stdout"
        },
        {
          "output_type": "stream",
          "text": [
            "2021-05-19 15:49:00,913 - mmdet - INFO - Saving checkpoint at 25 epochs\n"
          ],
          "name": "stderr"
        },
        {
          "output_type": "stream",
          "text": [
            "DONE (t=0.81s).\n",
            "Average Precision  (AP) @[ IoU=0.50:0.95 | area=   all | maxDets=100 ] = 0.313\n",
            "Average Precision  (AP) @[ IoU=0.50      | area=   all | maxDets=1000 ] = 0.421\n",
            "Average Precision  (AP) @[ IoU=0.75      | area=   all | maxDets=1000 ] = 0.328\n",
            "Average Precision  (AP) @[ IoU=0.50:0.95 | area= small | maxDets=1000 ] = 0.091\n",
            "Average Precision  (AP) @[ IoU=0.50:0.95 | area=medium | maxDets=1000 ] = 0.308\n",
            "Average Precision  (AP) @[ IoU=0.50:0.95 | area= large | maxDets=1000 ] = 0.517\n",
            "Average Recall     (AR) @[ IoU=0.50:0.95 | area=   all | maxDets=100 ] = 0.474\n",
            "Average Recall     (AR) @[ IoU=0.50:0.95 | area=   all | maxDets=300 ] = 0.474\n",
            "Average Recall     (AR) @[ IoU=0.50:0.95 | area=   all | maxDets=1000 ] = 0.474\n",
            "Average Recall     (AR) @[ IoU=0.50:0.95 | area= small | maxDets=1000 ] = 0.234\n",
            "Average Recall     (AR) @[ IoU=0.50:0.95 | area=medium | maxDets=1000 ] = 0.461\n",
            "Average Recall     (AR) @[ IoU=0.50:0.95 | area= large | maxDets=1000 ] = 0.672\n"
          ],
          "name": "stdout"
        },
        {
          "output_type": "stream",
          "text": [
            "2021-05-19 15:49:06,519 - mmdet - INFO - Epoch(val) [25][655]\tbbox_mAP: 0.3130, bbox_mAP_50: 0.4210, bbox_mAP_75: 0.3280, bbox_mAP_s: 0.0910, bbox_mAP_m: 0.3080, bbox_mAP_l: 0.5170, bbox_mAP_copypaste: 0.313 0.421 0.328 0.091 0.308 0.517\n",
            "2021-05-19 15:53:43,042 - mmdet - INFO - Epoch [26][300/655]\tlr: 1.000e-04, eta: 5:17:25, time: 0.922, data_time: 0.098, memory: 13531, loss_rpn_cls: 0.0372, loss_rpn_bbox: 0.0287, s0.loss_cls: 0.2042, s0.acc: 93.2995, s0.loss_bbox: 0.2410, s0.loss_mask: 0.2181, s1.loss_cls: 0.0950, s1.acc: 93.7614, s1.loss_bbox: 0.0978, s1.loss_mask: 0.0946, s2.loss_cls: 0.0461, s2.acc: 93.8034, s2.loss_bbox: 0.0379, s2.loss_mask: 0.0423, loss: 1.1430\n",
            "2021-05-19 15:58:17,943 - mmdet - INFO - Epoch [26][600/655]\tlr: 1.000e-04, eta: 5:13:42, time: 0.916, data_time: 0.090, memory: 13531, loss_rpn_cls: 0.0369, loss_rpn_bbox: 0.0297, s0.loss_cls: 0.2054, s0.acc: 93.2231, s0.loss_bbox: 0.2420, s0.loss_mask: 0.2158, s1.loss_cls: 0.0965, s1.acc: 93.6012, s1.loss_bbox: 0.0978, s1.loss_mask: 0.0937, s2.loss_cls: 0.0470, s2.acc: 93.7003, s2.loss_bbox: 0.0376, s2.loss_mask: 0.0420, loss: 1.1445\n"
          ],
          "name": "stderr"
        },
        {
          "output_type": "stream",
          "text": [
            "[>>>>>>>>>>>>>>>>>>>>>>>>>>>>>>] 655/655, 7.3 task/s, elapsed: 89s, ETA:     0s"
          ],
          "name": "stdout"
        },
        {
          "output_type": "stream",
          "text": [
            "2021-05-19 16:00:39,329 - mmdet - INFO - Evaluating bbox...\n"
          ],
          "name": "stderr"
        },
        {
          "output_type": "stream",
          "text": [
            "Loading and preparing results...\n",
            "DONE (t=0.10s)\n",
            "creating index...\n",
            "index created!\n",
            "Running per image evaluation...\n",
            "Evaluate annotation type *bbox*\n",
            "DONE (t=5.23s).\n",
            "Accumulating evaluation results...\n"
          ],
          "name": "stdout"
        },
        {
          "output_type": "stream",
          "text": [
            "2021-05-19 16:00:45,580 - mmdet - INFO - Saving checkpoint at 26 epochs\n"
          ],
          "name": "stderr"
        },
        {
          "output_type": "stream",
          "text": [
            "DONE (t=0.82s).\n",
            "Average Precision  (AP) @[ IoU=0.50:0.95 | area=   all | maxDets=100 ] = 0.296\n",
            "Average Precision  (AP) @[ IoU=0.50      | area=   all | maxDets=1000 ] = 0.393\n",
            "Average Precision  (AP) @[ IoU=0.75      | area=   all | maxDets=1000 ] = 0.311\n",
            "Average Precision  (AP) @[ IoU=0.50:0.95 | area= small | maxDets=1000 ] = 0.094\n",
            "Average Precision  (AP) @[ IoU=0.50:0.95 | area=medium | maxDets=1000 ] = 0.283\n",
            "Average Precision  (AP) @[ IoU=0.50:0.95 | area= large | maxDets=1000 ] = 0.531\n",
            "Average Recall     (AR) @[ IoU=0.50:0.95 | area=   all | maxDets=100 ] = 0.439\n",
            "Average Recall     (AR) @[ IoU=0.50:0.95 | area=   all | maxDets=300 ] = 0.439\n",
            "Average Recall     (AR) @[ IoU=0.50:0.95 | area=   all | maxDets=1000 ] = 0.439\n",
            "Average Recall     (AR) @[ IoU=0.50:0.95 | area= small | maxDets=1000 ] = 0.209\n",
            "Average Recall     (AR) @[ IoU=0.50:0.95 | area=medium | maxDets=1000 ] = 0.425\n",
            "Average Recall     (AR) @[ IoU=0.50:0.95 | area= large | maxDets=1000 ] = 0.678\n"
          ],
          "name": "stdout"
        },
        {
          "output_type": "stream",
          "text": [
            "2021-05-19 16:00:50,566 - mmdet - INFO - Epoch(val) [26][655]\tbbox_mAP: 0.2960, bbox_mAP_50: 0.3930, bbox_mAP_75: 0.3110, bbox_mAP_s: 0.0940, bbox_mAP_m: 0.2830, bbox_mAP_l: 0.5310, bbox_mAP_copypaste: 0.296 0.393 0.311 0.094 0.283 0.531\n",
            "2021-05-19 16:05:25,357 - mmdet - INFO - Epoch [27][300/655]\tlr: 1.000e-04, eta: 5:08:11, time: 0.916, data_time: 0.097, memory: 13531, loss_rpn_cls: 0.0355, loss_rpn_bbox: 0.0291, s0.loss_cls: 0.2022, s0.acc: 93.3672, s0.loss_bbox: 0.2422, s0.loss_mask: 0.2142, s1.loss_cls: 0.0946, s1.acc: 93.8265, s1.loss_bbox: 0.0990, s1.loss_mask: 0.0937, s2.loss_cls: 0.0458, s2.acc: 93.9093, s2.loss_bbox: 0.0382, s2.loss_mask: 0.0420, loss: 1.1365\n",
            "2021-05-19 16:10:00,997 - mmdet - INFO - Epoch [27][600/655]\tlr: 1.000e-04, eta: 5:04:27, time: 0.919, data_time: 0.090, memory: 13531, loss_rpn_cls: 0.0373, loss_rpn_bbox: 0.0284, s0.loss_cls: 0.2087, s0.acc: 93.1053, s0.loss_bbox: 0.2470, s0.loss_mask: 0.2164, s1.loss_cls: 0.0980, s1.acc: 93.5041, s1.loss_bbox: 0.0998, s1.loss_mask: 0.0947, s2.loss_cls: 0.0476, s2.acc: 93.6378, s2.loss_bbox: 0.0384, s2.loss_mask: 0.0423, loss: 1.1585\n"
          ],
          "name": "stderr"
        },
        {
          "output_type": "stream",
          "text": [
            "[>>>>>>>>>>>>>>>>>>>>>>>>>>>>>>] 655/655, 7.4 task/s, elapsed: 89s, ETA:     0s"
          ],
          "name": "stdout"
        },
        {
          "output_type": "stream",
          "text": [
            "2021-05-19 16:12:21,839 - mmdet - INFO - Evaluating bbox...\n"
          ],
          "name": "stderr"
        },
        {
          "output_type": "stream",
          "text": [
            "Loading and preparing results...\n",
            "DONE (t=0.70s)\n",
            "creating index...\n",
            "index created!\n",
            "Running per image evaluation...\n",
            "Evaluate annotation type *bbox*\n",
            "DONE (t=4.41s).\n",
            "Accumulating evaluation results...\n"
          ],
          "name": "stdout"
        },
        {
          "output_type": "stream",
          "text": [
            "2021-05-19 16:12:27,925 - mmdet - INFO - Saving checkpoint at 27 epochs\n"
          ],
          "name": "stderr"
        },
        {
          "output_type": "stream",
          "text": [
            "DONE (t=0.87s).\n",
            "Average Precision  (AP) @[ IoU=0.50:0.95 | area=   all | maxDets=100 ] = 0.273\n",
            "Average Precision  (AP) @[ IoU=0.50      | area=   all | maxDets=1000 ] = 0.370\n",
            "Average Precision  (AP) @[ IoU=0.75      | area=   all | maxDets=1000 ] = 0.282\n",
            "Average Precision  (AP) @[ IoU=0.50:0.95 | area= small | maxDets=1000 ] = 0.085\n",
            "Average Precision  (AP) @[ IoU=0.50:0.95 | area=medium | maxDets=1000 ] = 0.262\n",
            "Average Precision  (AP) @[ IoU=0.50:0.95 | area= large | maxDets=1000 ] = 0.511\n",
            "Average Recall     (AR) @[ IoU=0.50:0.95 | area=   all | maxDets=100 ] = 0.420\n",
            "Average Recall     (AR) @[ IoU=0.50:0.95 | area=   all | maxDets=300 ] = 0.420\n",
            "Average Recall     (AR) @[ IoU=0.50:0.95 | area=   all | maxDets=1000 ] = 0.420\n",
            "Average Recall     (AR) @[ IoU=0.50:0.95 | area= small | maxDets=1000 ] = 0.201\n",
            "Average Recall     (AR) @[ IoU=0.50:0.95 | area=medium | maxDets=1000 ] = 0.401\n",
            "Average Recall     (AR) @[ IoU=0.50:0.95 | area= large | maxDets=1000 ] = 0.666\n"
          ],
          "name": "stdout"
        },
        {
          "output_type": "stream",
          "text": [
            "2021-05-19 16:12:33,899 - mmdet - INFO - Epoch(val) [27][655]\tbbox_mAP: 0.2730, bbox_mAP_50: 0.3700, bbox_mAP_75: 0.2820, bbox_mAP_s: 0.0850, bbox_mAP_m: 0.2620, bbox_mAP_l: 0.5110, bbox_mAP_copypaste: 0.273 0.370 0.282 0.085 0.262 0.511\n",
            "2021-05-19 16:17:11,805 - mmdet - INFO - Epoch [28][300/655]\tlr: 1.000e-05, eta: 4:59:03, time: 0.926, data_time: 0.099, memory: 13531, loss_rpn_cls: 0.0336, loss_rpn_bbox: 0.0289, s0.loss_cls: 0.1946, s0.acc: 93.4982, s0.loss_bbox: 0.2375, s0.loss_mask: 0.2108, s1.loss_cls: 0.0914, s1.acc: 93.8763, s1.loss_bbox: 0.0975, s1.loss_mask: 0.0927, s2.loss_cls: 0.0446, s2.acc: 93.9106, s2.loss_bbox: 0.0378, s2.loss_mask: 0.0416, loss: 1.1110\n"
          ],
          "name": "stderr"
        },
        {
          "output_type": "stream",
          "text": [
            "Gradient overflow.  Skipping step, loss scaler 0 reducing loss scale to 16384.0\n"
          ],
          "name": "stdout"
        },
        {
          "output_type": "stream",
          "text": [
            "2021-05-19 16:21:46,612 - mmdet - INFO - Epoch [28][600/655]\tlr: 1.000e-05, eta: 4:55:16, time: 0.916, data_time: 0.090, memory: 13531, loss_rpn_cls: 0.0319, loss_rpn_bbox: 0.0277, s0.loss_cls: 0.1780, s0.acc: 94.0332, s0.loss_bbox: 0.2305, s0.loss_mask: 0.1961, s1.loss_cls: 0.0808, s1.acc: 94.6179, s1.loss_bbox: 0.0947, s1.loss_mask: 0.0860, s2.loss_cls: 0.0397, s2.acc: 94.6652, s2.loss_bbox: 0.0371, s2.loss_mask: 0.0387, loss: 1.0412\n"
          ],
          "name": "stderr"
        },
        {
          "output_type": "stream",
          "text": [
            "[>>>>>>>>>>>>>>>>>>>>>>>>>>>>>>] 655/655, 7.7 task/s, elapsed: 85s, ETA:     0s"
          ],
          "name": "stdout"
        },
        {
          "output_type": "stream",
          "text": [
            "2021-05-19 16:24:03,392 - mmdet - INFO - Evaluating bbox...\n"
          ],
          "name": "stderr"
        },
        {
          "output_type": "stream",
          "text": [
            "Loading and preparing results...\n",
            "DONE (t=0.65s)\n",
            "creating index...\n",
            "index created!\n",
            "Running per image evaluation...\n",
            "Evaluate annotation type *bbox*\n",
            "DONE (t=4.19s).\n",
            "Accumulating evaluation results...\n"
          ],
          "name": "stdout"
        },
        {
          "output_type": "stream",
          "text": [
            "2021-05-19 16:24:09,038 - mmdet - INFO - Saving checkpoint at 28 epochs\n"
          ],
          "name": "stderr"
        },
        {
          "output_type": "stream",
          "text": [
            "DONE (t=0.71s).\n",
            "Average Precision  (AP) @[ IoU=0.50:0.95 | area=   all | maxDets=100 ] = 0.335\n",
            "Average Precision  (AP) @[ IoU=0.50      | area=   all | maxDets=1000 ] = 0.446\n",
            "Average Precision  (AP) @[ IoU=0.75      | area=   all | maxDets=1000 ] = 0.350\n",
            "Average Precision  (AP) @[ IoU=0.50:0.95 | area= small | maxDets=1000 ] = 0.121\n",
            "Average Precision  (AP) @[ IoU=0.50:0.95 | area=medium | maxDets=1000 ] = 0.321\n",
            "Average Precision  (AP) @[ IoU=0.50:0.95 | area= large | maxDets=1000 ] = 0.584\n",
            "Average Recall     (AR) @[ IoU=0.50:0.95 | area=   all | maxDets=100 ] = 0.473\n",
            "Average Recall     (AR) @[ IoU=0.50:0.95 | area=   all | maxDets=300 ] = 0.473\n",
            "Average Recall     (AR) @[ IoU=0.50:0.95 | area=   all | maxDets=1000 ] = 0.473\n",
            "Average Recall     (AR) @[ IoU=0.50:0.95 | area= small | maxDets=1000 ] = 0.229\n",
            "Average Recall     (AR) @[ IoU=0.50:0.95 | area=medium | maxDets=1000 ] = 0.455\n",
            "Average Recall     (AR) @[ IoU=0.50:0.95 | area= large | maxDets=1000 ] = 0.720\n"
          ],
          "name": "stdout"
        },
        {
          "output_type": "stream",
          "text": [
            "2021-05-19 16:24:14,113 - mmdet - INFO - Epoch(val) [28][655]\tbbox_mAP: 0.3350, bbox_mAP_50: 0.4460, bbox_mAP_75: 0.3500, bbox_mAP_s: 0.1210, bbox_mAP_m: 0.3210, bbox_mAP_l: 0.5840, bbox_mAP_copypaste: 0.335 0.446 0.350 0.121 0.321 0.584\n",
            "2021-05-19 16:28:49,646 - mmdet - INFO - Epoch [29][300/655]\tlr: 1.000e-05, eta: 4:49:50, time: 0.918, data_time: 0.098, memory: 13531, loss_rpn_cls: 0.0308, loss_rpn_bbox: 0.0265, s0.loss_cls: 0.1789, s0.acc: 93.9910, s0.loss_bbox: 0.2293, s0.loss_mask: 0.2007, s1.loss_cls: 0.0818, s1.acc: 94.4822, s1.loss_bbox: 0.0940, s1.loss_mask: 0.0880, s2.loss_cls: 0.0399, s2.acc: 94.5656, s2.loss_bbox: 0.0370, s2.loss_mask: 0.0399, loss: 1.0467\n",
            "2021-05-19 16:33:23,761 - mmdet - INFO - Epoch [29][600/655]\tlr: 1.000e-05, eta: 4:46:01, time: 0.914, data_time: 0.089, memory: 13531, loss_rpn_cls: 0.0313, loss_rpn_bbox: 0.0259, s0.loss_cls: 0.1710, s0.acc: 94.2414, s0.loss_bbox: 0.2226, s0.loss_mask: 0.1945, s1.loss_cls: 0.0768, s1.acc: 94.8239, s1.loss_bbox: 0.0914, s1.loss_mask: 0.0857, s2.loss_cls: 0.0374, s2.acc: 94.9380, s2.loss_bbox: 0.0364, s2.loss_mask: 0.0388, loss: 1.0118\n"
          ],
          "name": "stderr"
        },
        {
          "output_type": "stream",
          "text": [
            "[>>>>>>>>>>>>>>>>>>>>>>>>>>>>>>] 655/655, 7.8 task/s, elapsed: 84s, ETA:     0s"
          ],
          "name": "stdout"
        },
        {
          "output_type": "stream",
          "text": [
            "2021-05-19 16:35:38,951 - mmdet - INFO - Evaluating bbox...\n"
          ],
          "name": "stderr"
        },
        {
          "output_type": "stream",
          "text": [
            "Loading and preparing results...\n",
            "DONE (t=0.64s)\n",
            "creating index...\n",
            "index created!\n",
            "Running per image evaluation...\n",
            "Evaluate annotation type *bbox*\n",
            "DONE (t=3.90s).\n",
            "Accumulating evaluation results...\n"
          ],
          "name": "stdout"
        },
        {
          "output_type": "stream",
          "text": [
            "2021-05-19 16:35:44,207 - mmdet - INFO - Saving checkpoint at 29 epochs\n"
          ],
          "name": "stderr"
        },
        {
          "output_type": "stream",
          "text": [
            "DONE (t=0.63s).\n",
            "Average Precision  (AP) @[ IoU=0.50:0.95 | area=   all | maxDets=100 ] = 0.337\n",
            "Average Precision  (AP) @[ IoU=0.50      | area=   all | maxDets=1000 ] = 0.445\n",
            "Average Precision  (AP) @[ IoU=0.75      | area=   all | maxDets=1000 ] = 0.343\n",
            "Average Precision  (AP) @[ IoU=0.50:0.95 | area= small | maxDets=1000 ] = 0.120\n",
            "Average Precision  (AP) @[ IoU=0.50:0.95 | area=medium | maxDets=1000 ] = 0.322\n",
            "Average Precision  (AP) @[ IoU=0.50:0.95 | area= large | maxDets=1000 ] = 0.590\n",
            "Average Recall     (AR) @[ IoU=0.50:0.95 | area=   all | maxDets=100 ] = 0.464\n",
            "Average Recall     (AR) @[ IoU=0.50:0.95 | area=   all | maxDets=300 ] = 0.464\n",
            "Average Recall     (AR) @[ IoU=0.50:0.95 | area=   all | maxDets=1000 ] = 0.464\n",
            "Average Recall     (AR) @[ IoU=0.50:0.95 | area= small | maxDets=1000 ] = 0.217\n",
            "Average Recall     (AR) @[ IoU=0.50:0.95 | area=medium | maxDets=1000 ] = 0.451\n",
            "Average Recall     (AR) @[ IoU=0.50:0.95 | area= large | maxDets=1000 ] = 0.715\n"
          ],
          "name": "stdout"
        },
        {
          "output_type": "stream",
          "text": [
            "2021-05-19 16:35:49,974 - mmdet - INFO - Epoch(val) [29][655]\tbbox_mAP: 0.3370, bbox_mAP_50: 0.4450, bbox_mAP_75: 0.3430, bbox_mAP_s: 0.1200, bbox_mAP_m: 0.3220, bbox_mAP_l: 0.5900, bbox_mAP_copypaste: 0.337 0.445 0.343 0.120 0.322 0.590\n",
            "2021-05-19 16:40:27,556 - mmdet - INFO - Epoch [30][300/655]\tlr: 1.000e-05, eta: 4:40:39, time: 0.925, data_time: 0.102, memory: 13531, loss_rpn_cls: 0.0312, loss_rpn_bbox: 0.0285, s0.loss_cls: 0.1736, s0.acc: 94.0422, s0.loss_bbox: 0.2329, s0.loss_mask: 0.1979, s1.loss_cls: 0.0790, s1.acc: 94.6004, s1.loss_bbox: 0.0953, s1.loss_mask: 0.0871, s2.loss_cls: 0.0383, s2.acc: 94.6757, s2.loss_bbox: 0.0372, s2.loss_mask: 0.0393, loss: 1.0401\n",
            "2021-05-19 16:45:00,496 - mmdet - INFO - Epoch [30][600/655]\tlr: 1.000e-05, eta: 4:36:47, time: 0.910, data_time: 0.086, memory: 13531, loss_rpn_cls: 0.0291, loss_rpn_bbox: 0.0254, s0.loss_cls: 0.1637, s0.acc: 94.4837, s0.loss_bbox: 0.2173, s0.loss_mask: 0.1890, s1.loss_cls: 0.0739, s1.acc: 95.0164, s1.loss_bbox: 0.0893, s1.loss_mask: 0.0831, s2.loss_cls: 0.0358, s2.acc: 95.1076, s2.loss_bbox: 0.0356, s2.loss_mask: 0.0378, loss: 0.9799\n"
          ],
          "name": "stderr"
        },
        {
          "output_type": "stream",
          "text": [
            "[>>>>>>>>>>>>>>>>>>>>>>>>>>>>>>] 655/655, 8.0 task/s, elapsed: 82s, ETA:     0s"
          ],
          "name": "stdout"
        },
        {
          "output_type": "stream",
          "text": [
            "2021-05-19 16:47:14,844 - mmdet - INFO - Evaluating bbox...\n"
          ],
          "name": "stderr"
        },
        {
          "output_type": "stream",
          "text": [
            "Loading and preparing results...\n",
            "DONE (t=0.07s)\n",
            "creating index...\n",
            "index created!\n",
            "Running per image evaluation...\n",
            "Evaluate annotation type *bbox*\n",
            "DONE (t=4.37s).\n",
            "Accumulating evaluation results...\n"
          ],
          "name": "stdout"
        },
        {
          "output_type": "stream",
          "text": [
            "2021-05-19 16:47:19,994 - mmdet - INFO - Saving checkpoint at 30 epochs\n"
          ],
          "name": "stderr"
        },
        {
          "output_type": "stream",
          "text": [
            "DONE (t=0.63s).\n",
            "Average Precision  (AP) @[ IoU=0.50:0.95 | area=   all | maxDets=100 ] = 0.342\n",
            "Average Precision  (AP) @[ IoU=0.50      | area=   all | maxDets=1000 ] = 0.450\n",
            "Average Precision  (AP) @[ IoU=0.75      | area=   all | maxDets=1000 ] = 0.359\n",
            "Average Precision  (AP) @[ IoU=0.50:0.95 | area= small | maxDets=1000 ] = 0.113\n",
            "Average Precision  (AP) @[ IoU=0.50:0.95 | area=medium | maxDets=1000 ] = 0.327\n",
            "Average Precision  (AP) @[ IoU=0.50:0.95 | area= large | maxDets=1000 ] = 0.594\n",
            "Average Recall     (AR) @[ IoU=0.50:0.95 | area=   all | maxDets=100 ] = 0.464\n",
            "Average Recall     (AR) @[ IoU=0.50:0.95 | area=   all | maxDets=300 ] = 0.464\n",
            "Average Recall     (AR) @[ IoU=0.50:0.95 | area=   all | maxDets=1000 ] = 0.464\n",
            "Average Recall     (AR) @[ IoU=0.50:0.95 | area= small | maxDets=1000 ] = 0.212\n",
            "Average Recall     (AR) @[ IoU=0.50:0.95 | area=medium | maxDets=1000 ] = 0.457\n",
            "Average Recall     (AR) @[ IoU=0.50:0.95 | area= large | maxDets=1000 ] = 0.713\n"
          ],
          "name": "stdout"
        },
        {
          "output_type": "stream",
          "text": [
            "2021-05-19 16:47:25,321 - mmdet - INFO - Epoch(val) [30][655]\tbbox_mAP: 0.3420, bbox_mAP_50: 0.4500, bbox_mAP_75: 0.3590, bbox_mAP_s: 0.1130, bbox_mAP_m: 0.3270, bbox_mAP_l: 0.5940, bbox_mAP_copypaste: 0.342 0.450 0.359 0.113 0.327 0.594\n",
            "2021-05-19 16:52:00,578 - mmdet - INFO - Epoch [31][300/655]\tlr: 1.000e-05, eta: 4:31:25, time: 0.917, data_time: 0.096, memory: 13531, loss_rpn_cls: 0.0284, loss_rpn_bbox: 0.0253, s0.loss_cls: 0.1591, s0.acc: 94.5850, s0.loss_bbox: 0.2163, s0.loss_mask: 0.1896, s1.loss_cls: 0.0720, s1.acc: 95.1226, s1.loss_bbox: 0.0892, s1.loss_mask: 0.0831, s2.loss_cls: 0.0350, s2.acc: 95.1728, s2.loss_bbox: 0.0352, s2.loss_mask: 0.0372, loss: 0.9704\n"
          ],
          "name": "stderr"
        },
        {
          "output_type": "stream",
          "text": [
            "Gradient overflow.  Skipping step, loss scaler 0 reducing loss scale to 16384.0\n"
          ],
          "name": "stdout"
        },
        {
          "output_type": "stream",
          "text": [
            "2021-05-19 16:56:37,303 - mmdet - INFO - Epoch [31][600/655]\tlr: 1.000e-05, eta: 4:27:35, time: 0.922, data_time: 0.094, memory: 13531, loss_rpn_cls: 0.0303, loss_rpn_bbox: 0.0276, s0.loss_cls: 0.1737, s0.acc: 94.1411, s0.loss_bbox: 0.2321, s0.loss_mask: 0.1964, s1.loss_cls: 0.0785, s1.acc: 94.7042, s1.loss_bbox: 0.0949, s1.loss_mask: 0.0859, s2.loss_cls: 0.0384, s2.acc: 94.7425, s2.loss_bbox: 0.0376, s2.loss_mask: 0.0389, loss: 1.0343\n"
          ],
          "name": "stderr"
        },
        {
          "output_type": "stream",
          "text": [
            "[>>>>>>>>>>>>>>>>>>>>>>>>>>>>>>] 655/655, 7.7 task/s, elapsed: 85s, ETA:     0s"
          ],
          "name": "stdout"
        },
        {
          "output_type": "stream",
          "text": [
            "2021-05-19 16:58:53,995 - mmdet - INFO - Evaluating bbox...\n"
          ],
          "name": "stderr"
        },
        {
          "output_type": "stream",
          "text": [
            "Loading and preparing results...\n",
            "DONE (t=0.08s)\n",
            "creating index...\n",
            "index created!\n",
            "Running per image evaluation...\n",
            "Evaluate annotation type *bbox*\n",
            "DONE (t=4.77s).\n",
            "Accumulating evaluation results...\n"
          ],
          "name": "stdout"
        },
        {
          "output_type": "stream",
          "text": [
            "2021-05-19 16:58:59,613 - mmdet - INFO - Saving checkpoint at 31 epochs\n"
          ],
          "name": "stderr"
        },
        {
          "output_type": "stream",
          "text": [
            "DONE (t=0.68s).\n",
            "Average Precision  (AP) @[ IoU=0.50:0.95 | area=   all | maxDets=100 ] = 0.340\n",
            "Average Precision  (AP) @[ IoU=0.50      | area=   all | maxDets=1000 ] = 0.445\n",
            "Average Precision  (AP) @[ IoU=0.75      | area=   all | maxDets=1000 ] = 0.350\n",
            "Average Precision  (AP) @[ IoU=0.50:0.95 | area= small | maxDets=1000 ] = 0.114\n",
            "Average Precision  (AP) @[ IoU=0.50:0.95 | area=medium | maxDets=1000 ] = 0.325\n",
            "Average Precision  (AP) @[ IoU=0.50:0.95 | area= large | maxDets=1000 ] = 0.593\n",
            "Average Recall     (AR) @[ IoU=0.50:0.95 | area=   all | maxDets=100 ] = 0.465\n",
            "Average Recall     (AR) @[ IoU=0.50:0.95 | area=   all | maxDets=300 ] = 0.465\n",
            "Average Recall     (AR) @[ IoU=0.50:0.95 | area=   all | maxDets=1000 ] = 0.465\n",
            "Average Recall     (AR) @[ IoU=0.50:0.95 | area= small | maxDets=1000 ] = 0.229\n",
            "Average Recall     (AR) @[ IoU=0.50:0.95 | area=medium | maxDets=1000 ] = 0.455\n",
            "Average Recall     (AR) @[ IoU=0.50:0.95 | area= large | maxDets=1000 ] = 0.708\n"
          ],
          "name": "stdout"
        },
        {
          "output_type": "stream",
          "text": [
            "2021-05-19 16:59:04,916 - mmdet - INFO - Epoch(val) [31][655]\tbbox_mAP: 0.3400, bbox_mAP_50: 0.4450, bbox_mAP_75: 0.3500, bbox_mAP_s: 0.1140, bbox_mAP_m: 0.3250, bbox_mAP_l: 0.5930, bbox_mAP_copypaste: 0.340 0.445 0.350 0.114 0.325 0.593\n"
          ],
          "name": "stderr"
        },
        {
          "output_type": "stream",
          "text": [
            "Gradient overflow.  Skipping step, loss scaler 0 reducing loss scale to 8192.0\n"
          ],
          "name": "stdout"
        },
        {
          "output_type": "stream",
          "text": [
            "2021-05-19 17:03:42,236 - mmdet - INFO - Epoch [32][300/655]\tlr: 1.000e-05, eta: 4:22:16, time: 0.924, data_time: 0.100, memory: 13531, loss_rpn_cls: 0.0293, loss_rpn_bbox: 0.0258, s0.loss_cls: 0.1643, s0.acc: 94.4551, s0.loss_bbox: 0.2214, s0.loss_mask: 0.1927, s1.loss_cls: 0.0737, s1.acc: 95.0293, s1.loss_bbox: 0.0907, s1.loss_mask: 0.0839, s2.loss_cls: 0.0360, s2.acc: 95.0064, s2.loss_bbox: 0.0359, s2.loss_mask: 0.0380, loss: 0.9917\n",
            "2021-05-19 17:08:18,078 - mmdet - INFO - Epoch [32][600/655]\tlr: 1.000e-05, eta: 4:18:24, time: 0.919, data_time: 0.091, memory: 13531, loss_rpn_cls: 0.0274, loss_rpn_bbox: 0.0249, s0.loss_cls: 0.1602, s0.acc: 94.5111, s0.loss_bbox: 0.2192, s0.loss_mask: 0.1891, s1.loss_cls: 0.0721, s1.acc: 95.0633, s1.loss_bbox: 0.0903, s1.loss_mask: 0.0838, s2.loss_cls: 0.0353, s2.acc: 95.1035, s2.loss_bbox: 0.0359, s2.loss_mask: 0.0381, loss: 0.9763\n"
          ],
          "name": "stderr"
        },
        {
          "output_type": "stream",
          "text": [
            "[>>>>>>>>>>>>>>>>>>>>>>>>>>>>>>] 655/655, 7.8 task/s, elapsed: 83s, ETA:     0s"
          ],
          "name": "stdout"
        },
        {
          "output_type": "stream",
          "text": [
            "2021-05-19 17:10:33,803 - mmdet - INFO - Evaluating bbox...\n"
          ],
          "name": "stderr"
        },
        {
          "output_type": "stream",
          "text": [
            "Loading and preparing results...\n",
            "DONE (t=0.07s)\n",
            "creating index...\n",
            "index created!\n",
            "Running per image evaluation...\n",
            "Evaluate annotation type *bbox*\n",
            "DONE (t=4.46s).\n",
            "Accumulating evaluation results...\n"
          ],
          "name": "stdout"
        },
        {
          "output_type": "stream",
          "text": [
            "2021-05-19 17:10:39,043 - mmdet - INFO - Saving checkpoint at 32 epochs\n"
          ],
          "name": "stderr"
        },
        {
          "output_type": "stream",
          "text": [
            "DONE (t=0.64s).\n",
            "Average Precision  (AP) @[ IoU=0.50:0.95 | area=   all | maxDets=100 ] = 0.343\n",
            "Average Precision  (AP) @[ IoU=0.50      | area=   all | maxDets=1000 ] = 0.444\n",
            "Average Precision  (AP) @[ IoU=0.75      | area=   all | maxDets=1000 ] = 0.359\n",
            "Average Precision  (AP) @[ IoU=0.50:0.95 | area= small | maxDets=1000 ] = 0.106\n",
            "Average Precision  (AP) @[ IoU=0.50:0.95 | area=medium | maxDets=1000 ] = 0.333\n",
            "Average Precision  (AP) @[ IoU=0.50:0.95 | area= large | maxDets=1000 ] = 0.596\n",
            "Average Recall     (AR) @[ IoU=0.50:0.95 | area=   all | maxDets=100 ] = 0.465\n",
            "Average Recall     (AR) @[ IoU=0.50:0.95 | area=   all | maxDets=300 ] = 0.465\n",
            "Average Recall     (AR) @[ IoU=0.50:0.95 | area=   all | maxDets=1000 ] = 0.465\n",
            "Average Recall     (AR) @[ IoU=0.50:0.95 | area= small | maxDets=1000 ] = 0.203\n",
            "Average Recall     (AR) @[ IoU=0.50:0.95 | area=medium | maxDets=1000 ] = 0.465\n",
            "Average Recall     (AR) @[ IoU=0.50:0.95 | area= large | maxDets=1000 ] = 0.711\n"
          ],
          "name": "stdout"
        },
        {
          "output_type": "stream",
          "text": [
            "2021-05-19 17:10:44,079 - mmdet - INFO - Epoch(val) [32][655]\tbbox_mAP: 0.3430, bbox_mAP_50: 0.4440, bbox_mAP_75: 0.3590, bbox_mAP_s: 0.1060, bbox_mAP_m: 0.3330, bbox_mAP_l: 0.5960, bbox_mAP_copypaste: 0.343 0.444 0.359 0.106 0.333 0.596\n",
            "2021-05-19 17:15:21,016 - mmdet - INFO - Epoch [33][300/655]\tlr: 1.000e-05, eta: 4:13:06, time: 0.923, data_time: 0.098, memory: 13531, loss_rpn_cls: 0.0283, loss_rpn_bbox: 0.0245, s0.loss_cls: 0.1618, s0.acc: 94.4886, s0.loss_bbox: 0.2239, s0.loss_mask: 0.1899, s1.loss_cls: 0.0715, s1.acc: 95.1983, s1.loss_bbox: 0.0922, s1.loss_mask: 0.0833, s2.loss_cls: 0.0345, s2.acc: 95.2485, s2.loss_bbox: 0.0366, s2.loss_mask: 0.0377, loss: 0.9842\n",
            "2021-05-19 17:19:54,957 - mmdet - INFO - Epoch [33][600/655]\tlr: 1.000e-05, eta: 4:09:11, time: 0.913, data_time: 0.089, memory: 13531, loss_rpn_cls: 0.0274, loss_rpn_bbox: 0.0249, s0.loss_cls: 0.1555, s0.acc: 94.6937, s0.loss_bbox: 0.2132, s0.loss_mask: 0.1817, s1.loss_cls: 0.0693, s1.acc: 95.3634, s1.loss_bbox: 0.0883, s1.loss_mask: 0.0801, s2.loss_cls: 0.0335, s2.acc: 95.4660, s2.loss_bbox: 0.0350, s2.loss_mask: 0.0365, loss: 0.9455\n"
          ],
          "name": "stderr"
        },
        {
          "output_type": "stream",
          "text": [
            "[>>>>>>>>>>>>>>>>>>>>>>>>>>>>>>] 655/655, 7.7 task/s, elapsed: 85s, ETA:     0s"
          ],
          "name": "stdout"
        },
        {
          "output_type": "stream",
          "text": [
            "2021-05-19 17:22:12,604 - mmdet - INFO - Evaluating bbox...\n"
          ],
          "name": "stderr"
        },
        {
          "output_type": "stream",
          "text": [
            "Loading and preparing results...\n",
            "DONE (t=0.08s)\n",
            "creating index...\n",
            "index created!\n",
            "Running per image evaluation...\n",
            "Evaluate annotation type *bbox*\n",
            "DONE (t=4.69s).\n",
            "Accumulating evaluation results...\n"
          ],
          "name": "stdout"
        },
        {
          "output_type": "stream",
          "text": [
            "2021-05-19 17:22:18,117 - mmdet - INFO - Saving checkpoint at 33 epochs\n"
          ],
          "name": "stderr"
        },
        {
          "output_type": "stream",
          "text": [
            "DONE (t=0.66s).\n",
            "Average Precision  (AP) @[ IoU=0.50:0.95 | area=   all | maxDets=100 ] = 0.344\n",
            "Average Precision  (AP) @[ IoU=0.50      | area=   all | maxDets=1000 ] = 0.450\n",
            "Average Precision  (AP) @[ IoU=0.75      | area=   all | maxDets=1000 ] = 0.352\n",
            "Average Precision  (AP) @[ IoU=0.50:0.95 | area= small | maxDets=1000 ] = 0.110\n",
            "Average Precision  (AP) @[ IoU=0.50:0.95 | area=medium | maxDets=1000 ] = 0.331\n",
            "Average Precision  (AP) @[ IoU=0.50:0.95 | area= large | maxDets=1000 ] = 0.596\n",
            "Average Recall     (AR) @[ IoU=0.50:0.95 | area=   all | maxDets=100 ] = 0.470\n",
            "Average Recall     (AR) @[ IoU=0.50:0.95 | area=   all | maxDets=300 ] = 0.470\n",
            "Average Recall     (AR) @[ IoU=0.50:0.95 | area=   all | maxDets=1000 ] = 0.470\n",
            "Average Recall     (AR) @[ IoU=0.50:0.95 | area= small | maxDets=1000 ] = 0.216\n",
            "Average Recall     (AR) @[ IoU=0.50:0.95 | area=medium | maxDets=1000 ] = 0.465\n",
            "Average Recall     (AR) @[ IoU=0.50:0.95 | area= large | maxDets=1000 ] = 0.716\n"
          ],
          "name": "stdout"
        },
        {
          "output_type": "stream",
          "text": [
            "2021-05-19 17:22:22,970 - mmdet - INFO - Epoch(val) [33][655]\tbbox_mAP: 0.3440, bbox_mAP_50: 0.4500, bbox_mAP_75: 0.3520, bbox_mAP_s: 0.1100, bbox_mAP_m: 0.3310, bbox_mAP_l: 0.5960, bbox_mAP_copypaste: 0.344 0.450 0.352 0.110 0.331 0.596\n",
            "2021-05-19 17:26:58,976 - mmdet - INFO - Epoch [34][300/655]\tlr: 1.000e-06, eta: 4:03:53, time: 0.920, data_time: 0.098, memory: 13531, loss_rpn_cls: 0.0279, loss_rpn_bbox: 0.0253, s0.loss_cls: 0.1576, s0.acc: 94.6393, s0.loss_bbox: 0.2145, s0.loss_mask: 0.1866, s1.loss_cls: 0.0703, s1.acc: 95.2759, s1.loss_bbox: 0.0887, s1.loss_mask: 0.0824, s2.loss_cls: 0.0340, s2.acc: 95.3470, s2.loss_bbox: 0.0352, s2.loss_mask: 0.0375, loss: 0.9599\n",
            "2021-05-19 17:31:34,769 - mmdet - INFO - Epoch [34][600/655]\tlr: 1.000e-06, eta: 3:59:59, time: 0.919, data_time: 0.090, memory: 13531, loss_rpn_cls: 0.0276, loss_rpn_bbox: 0.0263, s0.loss_cls: 0.1610, s0.acc: 94.5111, s0.loss_bbox: 0.2255, s0.loss_mask: 0.1920, s1.loss_cls: 0.0713, s1.acc: 95.1022, s1.loss_bbox: 0.0926, s1.loss_mask: 0.0840, s2.loss_cls: 0.0346, s2.acc: 95.2470, s2.loss_bbox: 0.0366, s2.loss_mask: 0.0378, loss: 0.9892\n"
          ],
          "name": "stderr"
        },
        {
          "output_type": "stream",
          "text": [
            "[>>>>>>>>>>>>>>>>>>>>>>>>>>>>>>] 655/655, 7.9 task/s, elapsed: 83s, ETA:     0s"
          ],
          "name": "stdout"
        },
        {
          "output_type": "stream",
          "text": [
            "2021-05-19 17:33:50,335 - mmdet - INFO - Evaluating bbox...\n"
          ],
          "name": "stderr"
        },
        {
          "output_type": "stream",
          "text": [
            "Loading and preparing results...\n",
            "DONE (t=0.08s)\n",
            "creating index...\n",
            "index created!\n",
            "Running per image evaluation...\n",
            "Evaluate annotation type *bbox*\n",
            "DONE (t=4.47s).\n",
            "Accumulating evaluation results...\n"
          ],
          "name": "stdout"
        },
        {
          "output_type": "stream",
          "text": [
            "2021-05-19 17:33:55,582 - mmdet - INFO - Saving checkpoint at 34 epochs\n"
          ],
          "name": "stderr"
        },
        {
          "output_type": "stream",
          "text": [
            "DONE (t=0.62s).\n",
            "Average Precision  (AP) @[ IoU=0.50:0.95 | area=   all | maxDets=100 ] = 0.347\n",
            "Average Precision  (AP) @[ IoU=0.50      | area=   all | maxDets=1000 ] = 0.450\n",
            "Average Precision  (AP) @[ IoU=0.75      | area=   all | maxDets=1000 ] = 0.354\n",
            "Average Precision  (AP) @[ IoU=0.50:0.95 | area= small | maxDets=1000 ] = 0.109\n",
            "Average Precision  (AP) @[ IoU=0.50:0.95 | area=medium | maxDets=1000 ] = 0.334\n",
            "Average Precision  (AP) @[ IoU=0.50:0.95 | area= large | maxDets=1000 ] = 0.598\n",
            "Average Recall     (AR) @[ IoU=0.50:0.95 | area=   all | maxDets=100 ] = 0.468\n",
            "Average Recall     (AR) @[ IoU=0.50:0.95 | area=   all | maxDets=300 ] = 0.468\n",
            "Average Recall     (AR) @[ IoU=0.50:0.95 | area=   all | maxDets=1000 ] = 0.468\n",
            "Average Recall     (AR) @[ IoU=0.50:0.95 | area= small | maxDets=1000 ] = 0.206\n",
            "Average Recall     (AR) @[ IoU=0.50:0.95 | area=medium | maxDets=1000 ] = 0.467\n",
            "Average Recall     (AR) @[ IoU=0.50:0.95 | area= large | maxDets=1000 ] = 0.715\n"
          ],
          "name": "stdout"
        },
        {
          "output_type": "stream",
          "text": [
            "2021-05-19 17:34:00,623 - mmdet - INFO - Epoch(val) [34][655]\tbbox_mAP: 0.3470, bbox_mAP_50: 0.4500, bbox_mAP_75: 0.3540, bbox_mAP_s: 0.1090, bbox_mAP_m: 0.3340, bbox_mAP_l: 0.5980, bbox_mAP_copypaste: 0.347 0.450 0.354 0.109 0.334 0.598\n",
            "2021-05-19 17:38:38,142 - mmdet - INFO - Epoch [35][300/655]\tlr: 1.000e-06, eta: 3:54:43, time: 0.923, data_time: 0.100, memory: 13531, loss_rpn_cls: 0.0283, loss_rpn_bbox: 0.0256, s0.loss_cls: 0.1576, s0.acc: 94.6064, s0.loss_bbox: 0.2178, s0.loss_mask: 0.1889, s1.loss_cls: 0.0699, s1.acc: 95.2611, s1.loss_bbox: 0.0893, s1.loss_mask: 0.0830, s2.loss_cls: 0.0339, s2.acc: 95.3275, s2.loss_bbox: 0.0353, s2.loss_mask: 0.0373, loss: 0.9670\n",
            "2021-05-19 17:43:12,008 - mmdet - INFO - Epoch [35][600/655]\tlr: 1.000e-06, eta: 3:50:46, time: 0.913, data_time: 0.088, memory: 13531, loss_rpn_cls: 0.0271, loss_rpn_bbox: 0.0250, s0.loss_cls: 0.1546, s0.acc: 94.6766, s0.loss_bbox: 0.2179, s0.loss_mask: 0.1883, s1.loss_cls: 0.0682, s1.acc: 95.3218, s1.loss_bbox: 0.0898, s1.loss_mask: 0.0825, s2.loss_cls: 0.0332, s2.acc: 95.4744, s2.loss_bbox: 0.0353, s2.loss_mask: 0.0370, loss: 0.9589\n"
          ],
          "name": "stderr"
        },
        {
          "output_type": "stream",
          "text": [
            "[>>>>>>>>>>>>>>>>>>>>>>>>>>>>>>] 655/655, 7.8 task/s, elapsed: 84s, ETA:     0s"
          ],
          "name": "stdout"
        },
        {
          "output_type": "stream",
          "text": [
            "2021-05-19 17:45:28,471 - mmdet - INFO - Evaluating bbox...\n"
          ],
          "name": "stderr"
        },
        {
          "output_type": "stream",
          "text": [
            "Loading and preparing results...\n",
            "DONE (t=0.63s)\n",
            "creating index...\n",
            "index created!\n",
            "Running per image evaluation...\n",
            "Evaluate annotation type *bbox*\n",
            "DONE (t=3.87s).\n",
            "Accumulating evaluation results...\n"
          ],
          "name": "stdout"
        },
        {
          "output_type": "stream",
          "text": [
            "2021-05-19 17:45:33,696 - mmdet - INFO - Saving checkpoint at 35 epochs\n"
          ],
          "name": "stderr"
        },
        {
          "output_type": "stream",
          "text": [
            "DONE (t=0.64s).\n",
            "Average Precision  (AP) @[ IoU=0.50:0.95 | area=   all | maxDets=100 ] = 0.352\n",
            "Average Precision  (AP) @[ IoU=0.50      | area=   all | maxDets=1000 ] = 0.455\n",
            "Average Precision  (AP) @[ IoU=0.75      | area=   all | maxDets=1000 ] = 0.359\n",
            "Average Precision  (AP) @[ IoU=0.50:0.95 | area= small | maxDets=1000 ] = 0.108\n",
            "Average Precision  (AP) @[ IoU=0.50:0.95 | area=medium | maxDets=1000 ] = 0.338\n",
            "Average Precision  (AP) @[ IoU=0.50:0.95 | area= large | maxDets=1000 ] = 0.600\n",
            "Average Recall     (AR) @[ IoU=0.50:0.95 | area=   all | maxDets=100 ] = 0.475\n",
            "Average Recall     (AR) @[ IoU=0.50:0.95 | area=   all | maxDets=300 ] = 0.475\n",
            "Average Recall     (AR) @[ IoU=0.50:0.95 | area=   all | maxDets=1000 ] = 0.475\n",
            "Average Recall     (AR) @[ IoU=0.50:0.95 | area= small | maxDets=1000 ] = 0.209\n",
            "Average Recall     (AR) @[ IoU=0.50:0.95 | area=medium | maxDets=1000 ] = 0.473\n",
            "Average Recall     (AR) @[ IoU=0.50:0.95 | area= large | maxDets=1000 ] = 0.715\n"
          ],
          "name": "stdout"
        },
        {
          "output_type": "stream",
          "text": [
            "2021-05-19 17:45:39,553 - mmdet - INFO - Epoch(val) [35][655]\tbbox_mAP: 0.3520, bbox_mAP_50: 0.4550, bbox_mAP_75: 0.3590, bbox_mAP_s: 0.1080, bbox_mAP_m: 0.3380, bbox_mAP_l: 0.6000, bbox_mAP_copypaste: 0.352 0.455 0.359 0.108 0.338 0.600\n",
            "2021-05-19 17:50:18,374 - mmdet - INFO - Epoch [36][300/655]\tlr: 1.000e-06, eta: 3:45:32, time: 0.929, data_time: 0.104, memory: 13531, loss_rpn_cls: 0.0273, loss_rpn_bbox: 0.0262, s0.loss_cls: 0.1609, s0.acc: 94.5197, s0.loss_bbox: 0.2233, s0.loss_mask: 0.1875, s1.loss_cls: 0.0717, s1.acc: 95.1054, s1.loss_bbox: 0.0910, s1.loss_mask: 0.0820, s2.loss_cls: 0.0349, s2.acc: 95.1577, s2.loss_bbox: 0.0356, s2.loss_mask: 0.0369, loss: 0.9773\n",
            "2021-05-19 17:54:52,964 - mmdet - INFO - Epoch [36][600/655]\tlr: 1.000e-06, eta: 3:41:35, time: 0.915, data_time: 0.091, memory: 13531, loss_rpn_cls: 0.0265, loss_rpn_bbox: 0.0252, s0.loss_cls: 0.1549, s0.acc: 94.7153, s0.loss_bbox: 0.2152, s0.loss_mask: 0.1856, s1.loss_cls: 0.0684, s1.acc: 95.2816, s1.loss_bbox: 0.0883, s1.loss_mask: 0.0822, s2.loss_cls: 0.0333, s2.acc: 95.4240, s2.loss_bbox: 0.0350, s2.loss_mask: 0.0372, loss: 0.9516\n"
          ],
          "name": "stderr"
        },
        {
          "output_type": "stream",
          "text": [
            "[>>>>>>>>>>>>>>>>>>>>>>>>>>>>>>] 655/655, 7.7 task/s, elapsed: 85s, ETA:     0s"
          ],
          "name": "stdout"
        },
        {
          "output_type": "stream",
          "text": [
            "2021-05-19 17:57:09,046 - mmdet - INFO - Evaluating bbox...\n"
          ],
          "name": "stderr"
        },
        {
          "output_type": "stream",
          "text": [
            "Loading and preparing results...\n",
            "DONE (t=0.67s)\n",
            "creating index...\n",
            "index created!\n",
            "Running per image evaluation...\n",
            "Evaluate annotation type *bbox*\n",
            "DONE (t=3.79s).\n",
            "Accumulating evaluation results...\n"
          ],
          "name": "stdout"
        },
        {
          "output_type": "stream",
          "text": [
            "2021-05-19 17:57:14,130 - mmdet - INFO - Saving checkpoint at 36 epochs\n"
          ],
          "name": "stderr"
        },
        {
          "output_type": "stream",
          "text": [
            "DONE (t=0.55s).\n",
            "Average Precision  (AP) @[ IoU=0.50:0.95 | area=   all | maxDets=100 ] = 0.352\n",
            "Average Precision  (AP) @[ IoU=0.50      | area=   all | maxDets=1000 ] = 0.455\n",
            "Average Precision  (AP) @[ IoU=0.75      | area=   all | maxDets=1000 ] = 0.358\n",
            "Average Precision  (AP) @[ IoU=0.50:0.95 | area= small | maxDets=1000 ] = 0.106\n",
            "Average Precision  (AP) @[ IoU=0.50:0.95 | area=medium | maxDets=1000 ] = 0.338\n",
            "Average Precision  (AP) @[ IoU=0.50:0.95 | area= large | maxDets=1000 ] = 0.600\n",
            "Average Recall     (AR) @[ IoU=0.50:0.95 | area=   all | maxDets=100 ] = 0.473\n",
            "Average Recall     (AR) @[ IoU=0.50:0.95 | area=   all | maxDets=300 ] = 0.473\n",
            "Average Recall     (AR) @[ IoU=0.50:0.95 | area=   all | maxDets=1000 ] = 0.473\n",
            "Average Recall     (AR) @[ IoU=0.50:0.95 | area= small | maxDets=1000 ] = 0.208\n",
            "Average Recall     (AR) @[ IoU=0.50:0.95 | area=medium | maxDets=1000 ] = 0.473\n",
            "Average Recall     (AR) @[ IoU=0.50:0.95 | area= large | maxDets=1000 ] = 0.711\n"
          ],
          "name": "stdout"
        },
        {
          "output_type": "stream",
          "text": [
            "2021-05-19 17:57:19,376 - mmdet - INFO - Epoch(val) [36][655]\tbbox_mAP: 0.3520, bbox_mAP_50: 0.4550, bbox_mAP_75: 0.3580, bbox_mAP_s: 0.1060, bbox_mAP_m: 0.3380, bbox_mAP_l: 0.6000, bbox_mAP_copypaste: 0.352 0.455 0.358 0.106 0.338 0.600\n",
            "2021-05-19 18:01:57,099 - mmdet - INFO - Epoch [37][300/655]\tlr: 1.000e-06, eta: 3:36:21, time: 0.926, data_time: 0.101, memory: 13531, loss_rpn_cls: 0.0269, loss_rpn_bbox: 0.0260, s0.loss_cls: 0.1588, s0.acc: 94.5802, s0.loss_bbox: 0.2233, s0.loss_mask: 0.1926, s1.loss_cls: 0.0708, s1.acc: 95.2362, s1.loss_bbox: 0.0915, s1.loss_mask: 0.0848, s2.loss_cls: 0.0347, s2.acc: 95.2407, s2.loss_bbox: 0.0358, s2.loss_mask: 0.0380, loss: 0.9831\n",
            "2021-05-19 18:06:32,176 - mmdet - INFO - Epoch [37][600/655]\tlr: 1.000e-06, eta: 3:32:23, time: 0.917, data_time: 0.089, memory: 13531, loss_rpn_cls: 0.0264, loss_rpn_bbox: 0.0251, s0.loss_cls: 0.1558, s0.acc: 94.7150, s0.loss_bbox: 0.2148, s0.loss_mask: 0.1830, s1.loss_cls: 0.0696, s1.acc: 95.2989, s1.loss_bbox: 0.0880, s1.loss_mask: 0.0801, s2.loss_cls: 0.0340, s2.acc: 95.2824, s2.loss_bbox: 0.0351, s2.loss_mask: 0.0363, loss: 0.9482\n"
          ],
          "name": "stderr"
        },
        {
          "output_type": "stream",
          "text": [
            "[>>>>>>>>>>>>>>>>>>>>>>>>>>>>>>] 655/655, 7.9 task/s, elapsed: 83s, ETA:     0s"
          ],
          "name": "stdout"
        },
        {
          "output_type": "stream",
          "text": [
            "2021-05-19 18:08:48,109 - mmdet - INFO - Evaluating bbox...\n"
          ],
          "name": "stderr"
        },
        {
          "output_type": "stream",
          "text": [
            "Loading and preparing results...\n",
            "DONE (t=0.08s)\n",
            "creating index...\n",
            "index created!\n",
            "Running per image evaluation...\n",
            "Evaluate annotation type *bbox*\n",
            "DONE (t=4.49s).\n",
            "Accumulating evaluation results...\n"
          ],
          "name": "stdout"
        },
        {
          "output_type": "stream",
          "text": [
            "2021-05-19 18:08:53,409 - mmdet - INFO - Saving checkpoint at 37 epochs\n"
          ],
          "name": "stderr"
        },
        {
          "output_type": "stream",
          "text": [
            "DONE (t=0.65s).\n",
            "Average Precision  (AP) @[ IoU=0.50:0.95 | area=   all | maxDets=100 ] = 0.348\n",
            "Average Precision  (AP) @[ IoU=0.50      | area=   all | maxDets=1000 ] = 0.452\n",
            "Average Precision  (AP) @[ IoU=0.75      | area=   all | maxDets=1000 ] = 0.356\n",
            "Average Precision  (AP) @[ IoU=0.50:0.95 | area= small | maxDets=1000 ] = 0.108\n",
            "Average Precision  (AP) @[ IoU=0.50:0.95 | area=medium | maxDets=1000 ] = 0.335\n",
            "Average Precision  (AP) @[ IoU=0.50:0.95 | area= large | maxDets=1000 ] = 0.596\n",
            "Average Recall     (AR) @[ IoU=0.50:0.95 | area=   all | maxDets=100 ] = 0.468\n",
            "Average Recall     (AR) @[ IoU=0.50:0.95 | area=   all | maxDets=300 ] = 0.468\n",
            "Average Recall     (AR) @[ IoU=0.50:0.95 | area=   all | maxDets=1000 ] = 0.468\n",
            "Average Recall     (AR) @[ IoU=0.50:0.95 | area= small | maxDets=1000 ] = 0.213\n",
            "Average Recall     (AR) @[ IoU=0.50:0.95 | area=medium | maxDets=1000 ] = 0.468\n",
            "Average Recall     (AR) @[ IoU=0.50:0.95 | area= large | maxDets=1000 ] = 0.712\n"
          ],
          "name": "stdout"
        },
        {
          "output_type": "stream",
          "text": [
            "2021-05-19 18:08:58,655 - mmdet - INFO - Epoch(val) [37][655]\tbbox_mAP: 0.3480, bbox_mAP_50: 0.4520, bbox_mAP_75: 0.3560, bbox_mAP_s: 0.1080, bbox_mAP_m: 0.3350, bbox_mAP_l: 0.5960, bbox_mAP_copypaste: 0.348 0.452 0.356 0.108 0.335 0.596\n",
            "2021-05-19 18:13:33,497 - mmdet - INFO - Epoch [38][300/655]\tlr: 1.000e-06, eta: 3:27:09, time: 0.916, data_time: 0.096, memory: 13531, loss_rpn_cls: 0.0273, loss_rpn_bbox: 0.0250, s0.loss_cls: 0.1562, s0.acc: 94.6649, s0.loss_bbox: 0.2152, s0.loss_mask: 0.1850, s1.loss_cls: 0.0695, s1.acc: 95.3180, s1.loss_bbox: 0.0885, s1.loss_mask: 0.0818, s2.loss_cls: 0.0337, s2.acc: 95.3623, s2.loss_bbox: 0.0349, s2.loss_mask: 0.0368, loss: 0.9538\n"
          ],
          "name": "stderr"
        },
        {
          "output_type": "stream",
          "text": [
            "Gradient overflow.  Skipping step, loss scaler 0 reducing loss scale to 16384.0\n"
          ],
          "name": "stdout"
        },
        {
          "output_type": "stream",
          "text": [
            "2021-05-19 18:18:08,158 - mmdet - INFO - Epoch [38][600/655]\tlr: 1.000e-06, eta: 3:23:09, time: 0.916, data_time: 0.091, memory: 13531, loss_rpn_cls: 0.0283, loss_rpn_bbox: 0.0260, s0.loss_cls: 0.1599, s0.acc: 94.5456, s0.loss_bbox: 0.2225, s0.loss_mask: 0.1893, s1.loss_cls: 0.0723, s1.acc: 95.0800, s1.loss_bbox: 0.0918, s1.loss_mask: 0.0827, s2.loss_cls: 0.0355, s2.acc: 95.0296, s2.loss_bbox: 0.0363, s2.loss_mask: 0.0375, loss: 0.9819\n"
          ],
          "name": "stderr"
        },
        {
          "output_type": "stream",
          "text": [
            "[>>>>>>>>>>>>>>>>>>>>>>>>>>>>>>] 655/655, 7.8 task/s, elapsed: 84s, ETA:     0s"
          ],
          "name": "stdout"
        },
        {
          "output_type": "stream",
          "text": [
            "2021-05-19 18:20:24,239 - mmdet - INFO - Evaluating bbox...\n"
          ],
          "name": "stderr"
        },
        {
          "output_type": "stream",
          "text": [
            "Loading and preparing results...\n",
            "DONE (t=0.08s)\n",
            "creating index...\n",
            "index created!\n",
            "Running per image evaluation...\n",
            "Evaluate annotation type *bbox*\n",
            "DONE (t=4.54s).\n",
            "Accumulating evaluation results...\n"
          ],
          "name": "stdout"
        },
        {
          "output_type": "stream",
          "text": [
            "2021-05-19 18:20:29,602 - mmdet - INFO - Saving checkpoint at 38 epochs\n"
          ],
          "name": "stderr"
        },
        {
          "output_type": "stream",
          "text": [
            "DONE (t=0.65s).\n",
            "Average Precision  (AP) @[ IoU=0.50:0.95 | area=   all | maxDets=100 ] = 0.349\n",
            "Average Precision  (AP) @[ IoU=0.50      | area=   all | maxDets=1000 ] = 0.453\n",
            "Average Precision  (AP) @[ IoU=0.75      | area=   all | maxDets=1000 ] = 0.358\n",
            "Average Precision  (AP) @[ IoU=0.50:0.95 | area= small | maxDets=1000 ] = 0.107\n",
            "Average Precision  (AP) @[ IoU=0.50:0.95 | area=medium | maxDets=1000 ] = 0.335\n",
            "Average Precision  (AP) @[ IoU=0.50:0.95 | area= large | maxDets=1000 ] = 0.599\n",
            "Average Recall     (AR) @[ IoU=0.50:0.95 | area=   all | maxDets=100 ] = 0.468\n",
            "Average Recall     (AR) @[ IoU=0.50:0.95 | area=   all | maxDets=300 ] = 0.468\n",
            "Average Recall     (AR) @[ IoU=0.50:0.95 | area=   all | maxDets=1000 ] = 0.468\n",
            "Average Recall     (AR) @[ IoU=0.50:0.95 | area= small | maxDets=1000 ] = 0.213\n",
            "Average Recall     (AR) @[ IoU=0.50:0.95 | area=medium | maxDets=1000 ] = 0.465\n",
            "Average Recall     (AR) @[ IoU=0.50:0.95 | area= large | maxDets=1000 ] = 0.713\n"
          ],
          "name": "stdout"
        },
        {
          "output_type": "stream",
          "text": [
            "2021-05-19 18:20:34,975 - mmdet - INFO - Epoch(val) [38][655]\tbbox_mAP: 0.3490, bbox_mAP_50: 0.4530, bbox_mAP_75: 0.3580, bbox_mAP_s: 0.1070, bbox_mAP_m: 0.3350, bbox_mAP_l: 0.5990, bbox_mAP_copypaste: 0.349 0.453 0.358 0.107 0.335 0.599\n"
          ],
          "name": "stderr"
        },
        {
          "output_type": "stream",
          "text": [
            "Gradient overflow.  Skipping step, loss scaler 0 reducing loss scale to 8192.0\n"
          ],
          "name": "stdout"
        },
        {
          "output_type": "stream",
          "text": [
            "2021-05-19 18:25:08,572 - mmdet - INFO - Epoch [39][300/655]\tlr: 1.000e-06, eta: 3:17:56, time: 0.912, data_time: 0.095, memory: 13531, loss_rpn_cls: 0.0271, loss_rpn_bbox: 0.0261, s0.loss_cls: 0.1526, s0.acc: 94.8125, s0.loss_bbox: 0.2127, s0.loss_mask: 0.1861, s1.loss_cls: 0.0681, s1.acc: 95.4175, s1.loss_bbox: 0.0881, s1.loss_mask: 0.0824, s2.loss_cls: 0.0330, s2.acc: 95.5038, s2.loss_bbox: 0.0349, s2.loss_mask: 0.0372, loss: 0.9483\n",
            "2021-05-19 18:29:45,955 - mmdet - INFO - Epoch [39][600/655]\tlr: 1.000e-06, eta: 3:13:57, time: 0.925, data_time: 0.095, memory: 13531, loss_rpn_cls: 0.0268, loss_rpn_bbox: 0.0251, s0.loss_cls: 0.1654, s0.acc: 94.4027, s0.loss_bbox: 0.2247, s0.loss_mask: 0.1893, s1.loss_cls: 0.0743, s1.acc: 94.9569, s1.loss_bbox: 0.0928, s1.loss_mask: 0.0827, s2.loss_cls: 0.0361, s2.acc: 94.9748, s2.loss_bbox: 0.0360, s2.loss_mask: 0.0372, loss: 0.9905\n"
          ],
          "name": "stderr"
        },
        {
          "output_type": "stream",
          "text": [
            "[>>>>>>>>>>>>>>>>>>>>>>>>>>>>>>] 655/655, 7.8 task/s, elapsed: 84s, ETA:     0s"
          ],
          "name": "stdout"
        },
        {
          "output_type": "stream",
          "text": [
            "2021-05-19 18:32:02,353 - mmdet - INFO - Evaluating bbox...\n"
          ],
          "name": "stderr"
        },
        {
          "output_type": "stream",
          "text": [
            "Loading and preparing results...\n",
            "DONE (t=0.08s)\n",
            "creating index...\n",
            "index created!\n",
            "Running per image evaluation...\n",
            "Evaluate annotation type *bbox*\n",
            "DONE (t=4.47s).\n",
            "Accumulating evaluation results...\n"
          ],
          "name": "stdout"
        },
        {
          "output_type": "stream",
          "text": [
            "2021-05-19 18:32:07,619 - mmdet - INFO - Saving checkpoint at 39 epochs\n"
          ],
          "name": "stderr"
        },
        {
          "output_type": "stream",
          "text": [
            "DONE (t=0.64s).\n",
            "Average Precision  (AP) @[ IoU=0.50:0.95 | area=   all | maxDets=100 ] = 0.349\n",
            "Average Precision  (AP) @[ IoU=0.50      | area=   all | maxDets=1000 ] = 0.452\n",
            "Average Precision  (AP) @[ IoU=0.75      | area=   all | maxDets=1000 ] = 0.357\n",
            "Average Precision  (AP) @[ IoU=0.50:0.95 | area= small | maxDets=1000 ] = 0.107\n",
            "Average Precision  (AP) @[ IoU=0.50:0.95 | area=medium | maxDets=1000 ] = 0.337\n",
            "Average Precision  (AP) @[ IoU=0.50:0.95 | area= large | maxDets=1000 ] = 0.599\n",
            "Average Recall     (AR) @[ IoU=0.50:0.95 | area=   all | maxDets=100 ] = 0.469\n",
            "Average Recall     (AR) @[ IoU=0.50:0.95 | area=   all | maxDets=300 ] = 0.469\n",
            "Average Recall     (AR) @[ IoU=0.50:0.95 | area=   all | maxDets=1000 ] = 0.469\n",
            "Average Recall     (AR) @[ IoU=0.50:0.95 | area= small | maxDets=1000 ] = 0.211\n",
            "Average Recall     (AR) @[ IoU=0.50:0.95 | area=medium | maxDets=1000 ] = 0.467\n",
            "Average Recall     (AR) @[ IoU=0.50:0.95 | area= large | maxDets=1000 ] = 0.715\n"
          ],
          "name": "stdout"
        },
        {
          "output_type": "stream",
          "text": [
            "2021-05-19 18:32:12,896 - mmdet - INFO - Epoch(val) [39][655]\tbbox_mAP: 0.3490, bbox_mAP_50: 0.4520, bbox_mAP_75: 0.3570, bbox_mAP_s: 0.1070, bbox_mAP_m: 0.3370, bbox_mAP_l: 0.5990, bbox_mAP_copypaste: 0.349 0.452 0.357 0.107 0.337 0.599\n",
            "2021-05-19 18:36:49,326 - mmdet - INFO - Epoch [40][300/655]\tlr: 1.000e-06, eta: 3:08:46, time: 0.921, data_time: 0.099, memory: 13531, loss_rpn_cls: 0.0275, loss_rpn_bbox: 0.0259, s0.loss_cls: 0.1577, s0.acc: 94.5731, s0.loss_bbox: 0.2227, s0.loss_mask: 0.1902, s1.loss_cls: 0.0699, s1.acc: 95.2162, s1.loss_bbox: 0.0917, s1.loss_mask: 0.0836, s2.loss_cls: 0.0340, s2.acc: 95.2698, s2.loss_bbox: 0.0362, s2.loss_mask: 0.0377, loss: 0.9770\n",
            "2021-05-19 18:41:20,973 - mmdet - INFO - Epoch [40][600/655]\tlr: 1.000e-06, eta: 3:04:43, time: 0.905, data_time: 0.090, memory: 13531, loss_rpn_cls: 0.0265, loss_rpn_bbox: 0.0254, s0.loss_cls: 0.1532, s0.acc: 94.7661, s0.loss_bbox: 0.2148, s0.loss_mask: 0.1845, s1.loss_cls: 0.0679, s1.acc: 95.3317, s1.loss_bbox: 0.0883, s1.loss_mask: 0.0810, s2.loss_cls: 0.0331, s2.acc: 95.4311, s2.loss_bbox: 0.0346, s2.loss_mask: 0.0366, loss: 0.9459\n"
          ],
          "name": "stderr"
        },
        {
          "output_type": "stream",
          "text": [
            "[>>>>>>>>>>>>>>>>>>>>>>>>>>>>>>] 655/655, 7.9 task/s, elapsed: 83s, ETA:     0s"
          ],
          "name": "stdout"
        },
        {
          "output_type": "stream",
          "text": [
            "2021-05-19 18:43:36,116 - mmdet - INFO - Evaluating bbox...\n"
          ],
          "name": "stderr"
        },
        {
          "output_type": "stream",
          "text": [
            "Loading and preparing results...\n",
            "DONE (t=0.07s)\n",
            "creating index...\n",
            "index created!\n",
            "Running per image evaluation...\n",
            "Evaluate annotation type *bbox*\n",
            "DONE (t=4.49s).\n",
            "Accumulating evaluation results...\n"
          ],
          "name": "stdout"
        },
        {
          "output_type": "stream",
          "text": [
            "2021-05-19 18:43:41,381 - mmdet - INFO - Saving checkpoint at 40 epochs\n"
          ],
          "name": "stderr"
        },
        {
          "output_type": "stream",
          "text": [
            "DONE (t=0.63s).\n",
            "Average Precision  (AP) @[ IoU=0.50:0.95 | area=   all | maxDets=100 ] = 0.351\n",
            "Average Precision  (AP) @[ IoU=0.50      | area=   all | maxDets=1000 ] = 0.452\n",
            "Average Precision  (AP) @[ IoU=0.75      | area=   all | maxDets=1000 ] = 0.358\n",
            "Average Precision  (AP) @[ IoU=0.50:0.95 | area= small | maxDets=1000 ] = 0.105\n",
            "Average Precision  (AP) @[ IoU=0.50:0.95 | area=medium | maxDets=1000 ] = 0.340\n",
            "Average Precision  (AP) @[ IoU=0.50:0.95 | area= large | maxDets=1000 ] = 0.597\n",
            "Average Recall     (AR) @[ IoU=0.50:0.95 | area=   all | maxDets=100 ] = 0.472\n",
            "Average Recall     (AR) @[ IoU=0.50:0.95 | area=   all | maxDets=300 ] = 0.472\n",
            "Average Recall     (AR) @[ IoU=0.50:0.95 | area=   all | maxDets=1000 ] = 0.472\n",
            "Average Recall     (AR) @[ IoU=0.50:0.95 | area= small | maxDets=1000 ] = 0.205\n",
            "Average Recall     (AR) @[ IoU=0.50:0.95 | area=medium | maxDets=1000 ] = 0.473\n",
            "Average Recall     (AR) @[ IoU=0.50:0.95 | area= large | maxDets=1000 ] = 0.711\n"
          ],
          "name": "stdout"
        },
        {
          "output_type": "stream",
          "text": [
            "2021-05-19 18:43:46,578 - mmdet - INFO - Epoch(val) [40][655]\tbbox_mAP: 0.3510, bbox_mAP_50: 0.4520, bbox_mAP_75: 0.3580, bbox_mAP_s: 0.1050, bbox_mAP_m: 0.3400, bbox_mAP_l: 0.5970, bbox_mAP_copypaste: 0.351 0.452 0.358 0.105 0.340 0.597\n",
            "2021-05-19 18:48:22,150 - mmdet - INFO - Epoch [41][300/655]\tlr: 1.000e-06, eta: 2:59:32, time: 0.918, data_time: 0.099, memory: 13531, loss_rpn_cls: 0.0260, loss_rpn_bbox: 0.0247, s0.loss_cls: 0.1551, s0.acc: 94.7051, s0.loss_bbox: 0.2125, s0.loss_mask: 0.1860, s1.loss_cls: 0.0686, s1.acc: 95.3762, s1.loss_bbox: 0.0877, s1.loss_mask: 0.0815, s2.loss_cls: 0.0336, s2.acc: 95.3594, s2.loss_bbox: 0.0348, s2.loss_mask: 0.0368, loss: 0.9472\n",
            "2021-05-19 18:52:54,277 - mmdet - INFO - Epoch [41][600/655]\tlr: 1.000e-06, eta: 2:55:29, time: 0.907, data_time: 0.089, memory: 13531, loss_rpn_cls: 0.0294, loss_rpn_bbox: 0.0254, s0.loss_cls: 0.1571, s0.acc: 94.6392, s0.loss_bbox: 0.2210, s0.loss_mask: 0.1896, s1.loss_cls: 0.0698, s1.acc: 95.2073, s1.loss_bbox: 0.0915, s1.loss_mask: 0.0837, s2.loss_cls: 0.0341, s2.acc: 95.2781, s2.loss_bbox: 0.0361, s2.loss_mask: 0.0378, loss: 0.9755\n"
          ],
          "name": "stderr"
        },
        {
          "output_type": "stream",
          "text": [
            "[>>>>>>>>>>>>>>>>>>>>>>>>>>>>>>] 655/655, 8.0 task/s, elapsed: 82s, ETA:     0s"
          ],
          "name": "stdout"
        },
        {
          "output_type": "stream",
          "text": [
            "2021-05-19 18:55:07,918 - mmdet - INFO - Evaluating bbox...\n"
          ],
          "name": "stderr"
        },
        {
          "output_type": "stream",
          "text": [
            "Loading and preparing results...\n",
            "DONE (t=0.08s)\n",
            "creating index...\n",
            "index created!\n",
            "Running per image evaluation...\n",
            "Evaluate annotation type *bbox*\n",
            "DONE (t=4.42s).\n",
            "Accumulating evaluation results...\n"
          ],
          "name": "stdout"
        },
        {
          "output_type": "stream",
          "text": [
            "2021-05-19 18:55:13,095 - mmdet - INFO - Saving checkpoint at 41 epochs\n"
          ],
          "name": "stderr"
        },
        {
          "output_type": "stream",
          "text": [
            "DONE (t=0.59s).\n",
            "Average Precision  (AP) @[ IoU=0.50:0.95 | area=   all | maxDets=100 ] = 0.353\n",
            "Average Precision  (AP) @[ IoU=0.50      | area=   all | maxDets=1000 ] = 0.457\n",
            "Average Precision  (AP) @[ IoU=0.75      | area=   all | maxDets=1000 ] = 0.360\n",
            "Average Precision  (AP) @[ IoU=0.50:0.95 | area= small | maxDets=1000 ] = 0.108\n",
            "Average Precision  (AP) @[ IoU=0.50:0.95 | area=medium | maxDets=1000 ] = 0.341\n",
            "Average Precision  (AP) @[ IoU=0.50:0.95 | area= large | maxDets=1000 ] = 0.600\n",
            "Average Recall     (AR) @[ IoU=0.50:0.95 | area=   all | maxDets=100 ] = 0.475\n",
            "Average Recall     (AR) @[ IoU=0.50:0.95 | area=   all | maxDets=300 ] = 0.475\n",
            "Average Recall     (AR) @[ IoU=0.50:0.95 | area=   all | maxDets=1000 ] = 0.475\n",
            "Average Recall     (AR) @[ IoU=0.50:0.95 | area= small | maxDets=1000 ] = 0.212\n",
            "Average Recall     (AR) @[ IoU=0.50:0.95 | area=medium | maxDets=1000 ] = 0.476\n",
            "Average Recall     (AR) @[ IoU=0.50:0.95 | area= large | maxDets=1000 ] = 0.713\n"
          ],
          "name": "stdout"
        },
        {
          "output_type": "stream",
          "text": [
            "2021-05-19 18:55:18,200 - mmdet - INFO - Epoch(val) [41][655]\tbbox_mAP: 0.3530, bbox_mAP_50: 0.4570, bbox_mAP_75: 0.3600, bbox_mAP_s: 0.1080, bbox_mAP_m: 0.3410, bbox_mAP_l: 0.6000, bbox_mAP_copypaste: 0.353 0.457 0.360 0.108 0.341 0.600\n",
            "2021-05-19 18:59:51,841 - mmdet - INFO - Epoch [42][300/655]\tlr: 1.000e-06, eta: 2:50:19, time: 0.912, data_time: 0.098, memory: 13531, loss_rpn_cls: 0.0282, loss_rpn_bbox: 0.0254, s0.loss_cls: 0.1571, s0.acc: 94.5788, s0.loss_bbox: 0.2209, s0.loss_mask: 0.1879, s1.loss_cls: 0.0706, s1.acc: 95.2015, s1.loss_bbox: 0.0913, s1.loss_mask: 0.0826, s2.loss_cls: 0.0345, s2.acc: 95.2111, s2.loss_bbox: 0.0360, s2.loss_mask: 0.0374, loss: 0.9719\n",
            "2021-05-19 19:04:22,409 - mmdet - INFO - Epoch [42][600/655]\tlr: 1.000e-06, eta: 2:46:14, time: 0.902, data_time: 0.087, memory: 13531, loss_rpn_cls: 0.0275, loss_rpn_bbox: 0.0247, s0.loss_cls: 0.1551, s0.acc: 94.7222, s0.loss_bbox: 0.2146, s0.loss_mask: 0.1861, s1.loss_cls: 0.0690, s1.acc: 95.3275, s1.loss_bbox: 0.0887, s1.loss_mask: 0.0817, s2.loss_cls: 0.0334, s2.acc: 95.4024, s2.loss_bbox: 0.0352, s2.loss_mask: 0.0367, loss: 0.9526\n"
          ],
          "name": "stderr"
        },
        {
          "output_type": "stream",
          "text": [
            "[>>>>>>>>>>>>>>>>>>>>>>>>>>>>>>] 655/655, 7.8 task/s, elapsed: 84s, ETA:     0s"
          ],
          "name": "stdout"
        },
        {
          "output_type": "stream",
          "text": [
            "2021-05-19 19:06:37,616 - mmdet - INFO - Evaluating bbox...\n"
          ],
          "name": "stderr"
        },
        {
          "output_type": "stream",
          "text": [
            "Loading and preparing results...\n",
            "DONE (t=0.63s)\n",
            "creating index...\n",
            "index created!\n",
            "Running per image evaluation...\n",
            "Evaluate annotation type *bbox*\n",
            "DONE (t=3.89s).\n",
            "Accumulating evaluation results...\n"
          ],
          "name": "stdout"
        },
        {
          "output_type": "stream",
          "text": [
            "2021-05-19 19:06:42,845 - mmdet - INFO - Saving checkpoint at 42 epochs\n"
          ],
          "name": "stderr"
        },
        {
          "output_type": "stream",
          "text": [
            "DONE (t=0.63s).\n",
            "Average Precision  (AP) @[ IoU=0.50:0.95 | area=   all | maxDets=100 ] = 0.351\n",
            "Average Precision  (AP) @[ IoU=0.50      | area=   all | maxDets=1000 ] = 0.451\n",
            "Average Precision  (AP) @[ IoU=0.75      | area=   all | maxDets=1000 ] = 0.363\n",
            "Average Precision  (AP) @[ IoU=0.50:0.95 | area= small | maxDets=1000 ] = 0.107\n",
            "Average Precision  (AP) @[ IoU=0.50:0.95 | area=medium | maxDets=1000 ] = 0.337\n",
            "Average Precision  (AP) @[ IoU=0.50:0.95 | area= large | maxDets=1000 ] = 0.598\n",
            "Average Recall     (AR) @[ IoU=0.50:0.95 | area=   all | maxDets=100 ] = 0.472\n",
            "Average Recall     (AR) @[ IoU=0.50:0.95 | area=   all | maxDets=300 ] = 0.472\n",
            "Average Recall     (AR) @[ IoU=0.50:0.95 | area=   all | maxDets=1000 ] = 0.472\n",
            "Average Recall     (AR) @[ IoU=0.50:0.95 | area= small | maxDets=1000 ] = 0.212\n",
            "Average Recall     (AR) @[ IoU=0.50:0.95 | area=medium | maxDets=1000 ] = 0.470\n",
            "Average Recall     (AR) @[ IoU=0.50:0.95 | area= large | maxDets=1000 ] = 0.710\n"
          ],
          "name": "stdout"
        },
        {
          "output_type": "stream",
          "text": [
            "2021-05-19 19:06:48,404 - mmdet - INFO - Epoch(val) [42][655]\tbbox_mAP: 0.3510, bbox_mAP_50: 0.4510, bbox_mAP_75: 0.3630, bbox_mAP_s: 0.1070, bbox_mAP_m: 0.3370, bbox_mAP_l: 0.5980, bbox_mAP_copypaste: 0.351 0.451 0.363 0.107 0.337 0.598\n"
          ],
          "name": "stderr"
        },
        {
          "output_type": "stream",
          "text": [
            "Gradient overflow.  Skipping step, loss scaler 0 reducing loss scale to 8192.0\n"
          ],
          "name": "stdout"
        },
        {
          "output_type": "stream",
          "text": [
            "2021-05-19 19:11:24,550 - mmdet - INFO - Epoch [43][300/655]\tlr: 1.000e-06, eta: 2:41:06, time: 0.920, data_time: 0.102, memory: 13531, loss_rpn_cls: 0.0275, loss_rpn_bbox: 0.0258, s0.loss_cls: 0.1553, s0.acc: 94.6815, s0.loss_bbox: 0.2170, s0.loss_mask: 0.1894, s1.loss_cls: 0.0695, s1.acc: 95.2757, s1.loss_bbox: 0.0901, s1.loss_mask: 0.0836, s2.loss_cls: 0.0338, s2.acc: 95.3093, s2.loss_bbox: 0.0355, s2.loss_mask: 0.0377, loss: 0.9652\n",
            "2021-05-19 19:15:59,288 - mmdet - INFO - Epoch [43][600/655]\tlr: 1.000e-06, eta: 2:37:02, time: 0.916, data_time: 0.090, memory: 13531, loss_rpn_cls: 0.0262, loss_rpn_bbox: 0.0247, s0.loss_cls: 0.1551, s0.acc: 94.6979, s0.loss_bbox: 0.2188, s0.loss_mask: 0.1890, s1.loss_cls: 0.0687, s1.acc: 95.3059, s1.loss_bbox: 0.0902, s1.loss_mask: 0.0829, s2.loss_cls: 0.0337, s2.acc: 95.3261, s2.loss_bbox: 0.0356, s2.loss_mask: 0.0372, loss: 0.9622\n"
          ],
          "name": "stderr"
        },
        {
          "output_type": "stream",
          "text": [
            "[>>>>>>>>>>>>>>>>>>>>>>>>>>>>>>] 655/655, 7.8 task/s, elapsed: 84s, ETA:     0s"
          ],
          "name": "stdout"
        },
        {
          "output_type": "stream",
          "text": [
            "2021-05-19 19:18:15,087 - mmdet - INFO - Evaluating bbox...\n"
          ],
          "name": "stderr"
        },
        {
          "output_type": "stream",
          "text": [
            "Loading and preparing results...\n",
            "DONE (t=0.65s)\n",
            "creating index...\n",
            "index created!\n",
            "Running per image evaluation...\n",
            "Evaluate annotation type *bbox*\n",
            "DONE (t=3.97s).\n",
            "Accumulating evaluation results...\n"
          ],
          "name": "stdout"
        },
        {
          "output_type": "stream",
          "text": [
            "2021-05-19 19:18:20,446 - mmdet - INFO - Saving checkpoint at 43 epochs\n"
          ],
          "name": "stderr"
        },
        {
          "output_type": "stream",
          "text": [
            "DONE (t=0.65s).\n",
            "Average Precision  (AP) @[ IoU=0.50:0.95 | area=   all | maxDets=100 ] = 0.351\n",
            "Average Precision  (AP) @[ IoU=0.50      | area=   all | maxDets=1000 ] = 0.451\n",
            "Average Precision  (AP) @[ IoU=0.75      | area=   all | maxDets=1000 ] = 0.357\n",
            "Average Precision  (AP) @[ IoU=0.50:0.95 | area= small | maxDets=1000 ] = 0.106\n",
            "Average Precision  (AP) @[ IoU=0.50:0.95 | area=medium | maxDets=1000 ] = 0.341\n",
            "Average Precision  (AP) @[ IoU=0.50:0.95 | area= large | maxDets=1000 ] = 0.598\n",
            "Average Recall     (AR) @[ IoU=0.50:0.95 | area=   all | maxDets=100 ] = 0.473\n",
            "Average Recall     (AR) @[ IoU=0.50:0.95 | area=   all | maxDets=300 ] = 0.473\n",
            "Average Recall     (AR) @[ IoU=0.50:0.95 | area=   all | maxDets=1000 ] = 0.473\n",
            "Average Recall     (AR) @[ IoU=0.50:0.95 | area= small | maxDets=1000 ] = 0.210\n",
            "Average Recall     (AR) @[ IoU=0.50:0.95 | area=medium | maxDets=1000 ] = 0.473\n",
            "Average Recall     (AR) @[ IoU=0.50:0.95 | area= large | maxDets=1000 ] = 0.713\n"
          ],
          "name": "stdout"
        },
        {
          "output_type": "stream",
          "text": [
            "2021-05-19 19:18:26,079 - mmdet - INFO - Epoch(val) [43][655]\tbbox_mAP: 0.3510, bbox_mAP_50: 0.4510, bbox_mAP_75: 0.3570, bbox_mAP_s: 0.1060, bbox_mAP_m: 0.3410, bbox_mAP_l: 0.5980, bbox_mAP_copypaste: 0.351 0.451 0.357 0.106 0.341 0.598\n",
            "2021-05-19 19:23:03,092 - mmdet - INFO - Epoch [44][300/655]\tlr: 1.000e-06, eta: 2:31:55, time: 0.923, data_time: 0.101, memory: 13531, loss_rpn_cls: 0.0253, loss_rpn_bbox: 0.0250, s0.loss_cls: 0.1559, s0.acc: 94.6506, s0.loss_bbox: 0.2188, s0.loss_mask: 0.1888, s1.loss_cls: 0.0693, s1.acc: 95.2434, s1.loss_bbox: 0.0910, s1.loss_mask: 0.0829, s2.loss_cls: 0.0338, s2.acc: 95.2753, s2.loss_bbox: 0.0367, s2.loss_mask: 0.0375, loss: 0.9649\n",
            "2021-05-19 19:27:34,473 - mmdet - INFO - Epoch [44][600/655]\tlr: 1.000e-06, eta: 2:27:50, time: 0.905, data_time: 0.089, memory: 13531, loss_rpn_cls: 0.0284, loss_rpn_bbox: 0.0258, s0.loss_cls: 0.1567, s0.acc: 94.6715, s0.loss_bbox: 0.2162, s0.loss_mask: 0.1874, s1.loss_cls: 0.0698, s1.acc: 95.2620, s1.loss_bbox: 0.0883, s1.loss_mask: 0.0816, s2.loss_cls: 0.0339, s2.acc: 95.2864, s2.loss_bbox: 0.0348, s2.loss_mask: 0.0366, loss: 0.9595\n"
          ],
          "name": "stderr"
        },
        {
          "output_type": "stream",
          "text": [
            "[>>>>>>>>>>>>>>>>>>>>>>>>>>>>>>] 655/655, 8.0 task/s, elapsed: 82s, ETA:     0s"
          ],
          "name": "stdout"
        },
        {
          "output_type": "stream",
          "text": [
            "2021-05-19 19:29:48,473 - mmdet - INFO - Evaluating bbox...\n"
          ],
          "name": "stderr"
        },
        {
          "output_type": "stream",
          "text": [
            "Loading and preparing results...\n",
            "DONE (t=0.08s)\n",
            "creating index...\n",
            "index created!\n",
            "Running per image evaluation...\n",
            "Evaluate annotation type *bbox*\n",
            "DONE (t=4.45s).\n",
            "Accumulating evaluation results...\n"
          ],
          "name": "stdout"
        },
        {
          "output_type": "stream",
          "text": [
            "2021-05-19 19:29:53,726 - mmdet - INFO - Saving checkpoint at 44 epochs\n"
          ],
          "name": "stderr"
        },
        {
          "output_type": "stream",
          "text": [
            "DONE (t=0.65s).\n",
            "Average Precision  (AP) @[ IoU=0.50:0.95 | area=   all | maxDets=100 ] = 0.353\n",
            "Average Precision  (AP) @[ IoU=0.50      | area=   all | maxDets=1000 ] = 0.457\n",
            "Average Precision  (AP) @[ IoU=0.75      | area=   all | maxDets=1000 ] = 0.360\n",
            "Average Precision  (AP) @[ IoU=0.50:0.95 | area= small | maxDets=1000 ] = 0.107\n",
            "Average Precision  (AP) @[ IoU=0.50:0.95 | area=medium | maxDets=1000 ] = 0.343\n",
            "Average Precision  (AP) @[ IoU=0.50:0.95 | area= large | maxDets=1000 ] = 0.599\n",
            "Average Recall     (AR) @[ IoU=0.50:0.95 | area=   all | maxDets=100 ] = 0.474\n",
            "Average Recall     (AR) @[ IoU=0.50:0.95 | area=   all | maxDets=300 ] = 0.474\n",
            "Average Recall     (AR) @[ IoU=0.50:0.95 | area=   all | maxDets=1000 ] = 0.474\n",
            "Average Recall     (AR) @[ IoU=0.50:0.95 | area= small | maxDets=1000 ] = 0.210\n",
            "Average Recall     (AR) @[ IoU=0.50:0.95 | area=medium | maxDets=1000 ] = 0.475\n",
            "Average Recall     (AR) @[ IoU=0.50:0.95 | area= large | maxDets=1000 ] = 0.712\n"
          ],
          "name": "stdout"
        },
        {
          "output_type": "stream",
          "text": [
            "2021-05-19 19:29:58,969 - mmdet - INFO - Epoch(val) [44][655]\tbbox_mAP: 0.3530, bbox_mAP_50: 0.4570, bbox_mAP_75: 0.3600, bbox_mAP_s: 0.1070, bbox_mAP_m: 0.3430, bbox_mAP_l: 0.5990, bbox_mAP_copypaste: 0.353 0.457 0.360 0.107 0.343 0.599\n",
            "2021-05-19 19:34:33,482 - mmdet - INFO - Epoch [45][300/655]\tlr: 1.000e-06, eta: 2:22:42, time: 0.915, data_time: 0.099, memory: 13531, loss_rpn_cls: 0.0280, loss_rpn_bbox: 0.0254, s0.loss_cls: 0.1597, s0.acc: 94.5640, s0.loss_bbox: 0.2194, s0.loss_mask: 0.1874, s1.loss_cls: 0.0709, s1.acc: 95.2620, s1.loss_bbox: 0.0905, s1.loss_mask: 0.0825, s2.loss_cls: 0.0345, s2.acc: 95.3098, s2.loss_bbox: 0.0358, s2.loss_mask: 0.0371, loss: 0.9712\n",
            "2021-05-19 19:39:06,035 - mmdet - INFO - Epoch [45][600/655]\tlr: 1.000e-06, eta: 2:18:37, time: 0.908, data_time: 0.090, memory: 13531, loss_rpn_cls: 0.0271, loss_rpn_bbox: 0.0258, s0.loss_cls: 0.1542, s0.acc: 94.6919, s0.loss_bbox: 0.2185, s0.loss_mask: 0.1910, s1.loss_cls: 0.0683, s1.acc: 95.3378, s1.loss_bbox: 0.0899, s1.loss_mask: 0.0837, s2.loss_cls: 0.0334, s2.acc: 95.3626, s2.loss_bbox: 0.0358, s2.loss_mask: 0.0379, loss: 0.9654\n"
          ],
          "name": "stderr"
        },
        {
          "output_type": "stream",
          "text": [
            "[>>>>>>>>>>>>>>>>>>>>>>>>>>>>>>] 655/655, 7.7 task/s, elapsed: 85s, ETA:     0s"
          ],
          "name": "stdout"
        },
        {
          "output_type": "stream",
          "text": [
            "2021-05-19 19:41:22,536 - mmdet - INFO - Evaluating bbox...\n"
          ],
          "name": "stderr"
        },
        {
          "output_type": "stream",
          "text": [
            "Loading and preparing results...\n",
            "DONE (t=0.64s)\n",
            "creating index...\n",
            "index created!\n",
            "Running per image evaluation...\n",
            "Evaluate annotation type *bbox*\n",
            "DONE (t=3.95s).\n",
            "Accumulating evaluation results...\n"
          ],
          "name": "stdout"
        },
        {
          "output_type": "stream",
          "text": [
            "2021-05-19 19:41:27,879 - mmdet - INFO - Saving checkpoint at 45 epochs\n"
          ],
          "name": "stderr"
        },
        {
          "output_type": "stream",
          "text": [
            "DONE (t=0.67s).\n",
            "Average Precision  (AP) @[ IoU=0.50:0.95 | area=   all | maxDets=100 ] = 0.352\n",
            "Average Precision  (AP) @[ IoU=0.50      | area=   all | maxDets=1000 ] = 0.457\n",
            "Average Precision  (AP) @[ IoU=0.75      | area=   all | maxDets=1000 ] = 0.359\n",
            "Average Precision  (AP) @[ IoU=0.50:0.95 | area= small | maxDets=1000 ] = 0.106\n",
            "Average Precision  (AP) @[ IoU=0.50:0.95 | area=medium | maxDets=1000 ] = 0.341\n",
            "Average Precision  (AP) @[ IoU=0.50:0.95 | area= large | maxDets=1000 ] = 0.601\n",
            "Average Recall     (AR) @[ IoU=0.50:0.95 | area=   all | maxDets=100 ] = 0.477\n",
            "Average Recall     (AR) @[ IoU=0.50:0.95 | area=   all | maxDets=300 ] = 0.477\n",
            "Average Recall     (AR) @[ IoU=0.50:0.95 | area=   all | maxDets=1000 ] = 0.477\n",
            "Average Recall     (AR) @[ IoU=0.50:0.95 | area= small | maxDets=1000 ] = 0.208\n",
            "Average Recall     (AR) @[ IoU=0.50:0.95 | area=medium | maxDets=1000 ] = 0.477\n",
            "Average Recall     (AR) @[ IoU=0.50:0.95 | area= large | maxDets=1000 ] = 0.716\n"
          ],
          "name": "stdout"
        },
        {
          "output_type": "stream",
          "text": [
            "2021-05-19 19:41:33,902 - mmdet - INFO - Epoch(val) [45][655]\tbbox_mAP: 0.3520, bbox_mAP_50: 0.4570, bbox_mAP_75: 0.3590, bbox_mAP_s: 0.1060, bbox_mAP_m: 0.3410, bbox_mAP_l: 0.6010, bbox_mAP_copypaste: 0.352 0.457 0.359 0.106 0.341 0.601\n",
            "2021-05-19 19:46:09,919 - mmdet - INFO - Epoch [46][300/655]\tlr: 1.000e-06, eta: 2:13:30, time: 0.920, data_time: 0.101, memory: 13531, loss_rpn_cls: 0.0277, loss_rpn_bbox: 0.0259, s0.loss_cls: 0.1579, s0.acc: 94.5786, s0.loss_bbox: 0.2200, s0.loss_mask: 0.1859, s1.loss_cls: 0.0703, s1.acc: 95.1881, s1.loss_bbox: 0.0899, s1.loss_mask: 0.0819, s2.loss_cls: 0.0343, s2.acc: 95.2411, s2.loss_bbox: 0.0355, s2.loss_mask: 0.0371, loss: 0.9665\n",
            "2021-05-19 19:50:41,482 - mmdet - INFO - Epoch [46][600/655]\tlr: 1.000e-06, eta: 2:09:24, time: 0.905, data_time: 0.088, memory: 13531, loss_rpn_cls: 0.0268, loss_rpn_bbox: 0.0251, s0.loss_cls: 0.1520, s0.acc: 94.8239, s0.loss_bbox: 0.2141, s0.loss_mask: 0.1878, s1.loss_cls: 0.0669, s1.acc: 95.5048, s1.loss_bbox: 0.0880, s1.loss_mask: 0.0827, s2.loss_cls: 0.0326, s2.acc: 95.4767, s2.loss_bbox: 0.0352, s2.loss_mask: 0.0374, loss: 0.9488\n"
          ],
          "name": "stderr"
        },
        {
          "output_type": "stream",
          "text": [
            "[>>>>>>>>>>>>>>>>>>>>>>>>>>>>>>] 655/655, 7.9 task/s, elapsed: 83s, ETA:     0s"
          ],
          "name": "stdout"
        },
        {
          "output_type": "stream",
          "text": [
            "2021-05-19 19:52:56,102 - mmdet - INFO - Evaluating bbox...\n"
          ],
          "name": "stderr"
        },
        {
          "output_type": "stream",
          "text": [
            "Loading and preparing results...\n",
            "DONE (t=0.07s)\n",
            "creating index...\n",
            "index created!\n",
            "Running per image evaluation...\n",
            "Evaluate annotation type *bbox*\n",
            "DONE (t=4.47s).\n",
            "Accumulating evaluation results...\n"
          ],
          "name": "stdout"
        },
        {
          "output_type": "stream",
          "text": [
            "2021-05-19 19:53:01,364 - mmdet - INFO - Saving checkpoint at 46 epochs\n"
          ],
          "name": "stderr"
        },
        {
          "output_type": "stream",
          "text": [
            "DONE (t=0.65s).\n",
            "Average Precision  (AP) @[ IoU=0.50:0.95 | area=   all | maxDets=100 ] = 0.350\n",
            "Average Precision  (AP) @[ IoU=0.50      | area=   all | maxDets=1000 ] = 0.450\n",
            "Average Precision  (AP) @[ IoU=0.75      | area=   all | maxDets=1000 ] = 0.364\n",
            "Average Precision  (AP) @[ IoU=0.50:0.95 | area= small | maxDets=1000 ] = 0.112\n",
            "Average Precision  (AP) @[ IoU=0.50:0.95 | area=medium | maxDets=1000 ] = 0.338\n",
            "Average Precision  (AP) @[ IoU=0.50:0.95 | area= large | maxDets=1000 ] = 0.599\n",
            "Average Recall     (AR) @[ IoU=0.50:0.95 | area=   all | maxDets=100 ] = 0.478\n",
            "Average Recall     (AR) @[ IoU=0.50:0.95 | area=   all | maxDets=300 ] = 0.478\n",
            "Average Recall     (AR) @[ IoU=0.50:0.95 | area=   all | maxDets=1000 ] = 0.478\n",
            "Average Recall     (AR) @[ IoU=0.50:0.95 | area= small | maxDets=1000 ] = 0.221\n",
            "Average Recall     (AR) @[ IoU=0.50:0.95 | area=medium | maxDets=1000 ] = 0.475\n",
            "Average Recall     (AR) @[ IoU=0.50:0.95 | area= large | maxDets=1000 ] = 0.716\n"
          ],
          "name": "stdout"
        },
        {
          "output_type": "stream",
          "text": [
            "2021-05-19 19:53:06,882 - mmdet - INFO - Epoch(val) [46][655]\tbbox_mAP: 0.3500, bbox_mAP_50: 0.4500, bbox_mAP_75: 0.3640, bbox_mAP_s: 0.1120, bbox_mAP_m: 0.3380, bbox_mAP_l: 0.5990, bbox_mAP_copypaste: 0.350 0.450 0.364 0.112 0.338 0.599\n",
            "2021-05-19 19:57:42,581 - mmdet - INFO - Epoch [47][300/655]\tlr: 1.000e-06, eta: 2:04:18, time: 0.919, data_time: 0.097, memory: 13531, loss_rpn_cls: 0.0259, loss_rpn_bbox: 0.0241, s0.loss_cls: 0.1483, s0.acc: 94.9539, s0.loss_bbox: 0.2097, s0.loss_mask: 0.1807, s1.loss_cls: 0.0657, s1.acc: 95.5531, s1.loss_bbox: 0.0862, s1.loss_mask: 0.0801, s2.loss_cls: 0.0320, s2.acc: 95.5882, s2.loss_bbox: 0.0340, s2.loss_mask: 0.0360, loss: 0.9227\n",
            "2021-05-19 20:02:18,154 - mmdet - INFO - Epoch [47][600/655]\tlr: 1.000e-06, eta: 2:00:13, time: 0.919, data_time: 0.092, memory: 13531, loss_rpn_cls: 0.0284, loss_rpn_bbox: 0.0268, s0.loss_cls: 0.1590, s0.acc: 94.5039, s0.loss_bbox: 0.2238, s0.loss_mask: 0.1926, s1.loss_cls: 0.0707, s1.acc: 95.1746, s1.loss_bbox: 0.0919, s1.loss_mask: 0.0848, s2.loss_cls: 0.0346, s2.acc: 95.2047, s2.loss_bbox: 0.0364, s2.loss_mask: 0.0384, loss: 0.9872\n"
          ],
          "name": "stderr"
        },
        {
          "output_type": "stream",
          "text": [
            "[>>>>>>>>>>>>>>>>>>>>>>>>>>>>>>] 655/655, 7.7 task/s, elapsed: 85s, ETA:     0s"
          ],
          "name": "stdout"
        },
        {
          "output_type": "stream",
          "text": [
            "2021-05-19 20:04:35,729 - mmdet - INFO - Evaluating bbox...\n"
          ],
          "name": "stderr"
        },
        {
          "output_type": "stream",
          "text": [
            "Loading and preparing results...\n",
            "DONE (t=0.08s)\n",
            "creating index...\n",
            "index created!\n",
            "Running per image evaluation...\n",
            "Evaluate annotation type *bbox*\n",
            "DONE (t=3.97s).\n",
            "Accumulating evaluation results...\n"
          ],
          "name": "stdout"
        },
        {
          "output_type": "stream",
          "text": [
            "2021-05-19 20:04:40,506 - mmdet - INFO - Saving checkpoint at 47 epochs\n"
          ],
          "name": "stderr"
        },
        {
          "output_type": "stream",
          "text": [
            "DONE (t=0.65s).\n",
            "Average Precision  (AP) @[ IoU=0.50:0.95 | area=   all | maxDets=100 ] = 0.351\n",
            "Average Precision  (AP) @[ IoU=0.50      | area=   all | maxDets=1000 ] = 0.451\n",
            "Average Precision  (AP) @[ IoU=0.75      | area=   all | maxDets=1000 ] = 0.358\n",
            "Average Precision  (AP) @[ IoU=0.50:0.95 | area= small | maxDets=1000 ] = 0.103\n",
            "Average Precision  (AP) @[ IoU=0.50:0.95 | area=medium | maxDets=1000 ] = 0.340\n",
            "Average Precision  (AP) @[ IoU=0.50:0.95 | area= large | maxDets=1000 ] = 0.601\n",
            "Average Recall     (AR) @[ IoU=0.50:0.95 | area=   all | maxDets=100 ] = 0.475\n",
            "Average Recall     (AR) @[ IoU=0.50:0.95 | area=   all | maxDets=300 ] = 0.475\n",
            "Average Recall     (AR) @[ IoU=0.50:0.95 | area=   all | maxDets=1000 ] = 0.475\n",
            "Average Recall     (AR) @[ IoU=0.50:0.95 | area= small | maxDets=1000 ] = 0.208\n",
            "Average Recall     (AR) @[ IoU=0.50:0.95 | area=medium | maxDets=1000 ] = 0.475\n",
            "Average Recall     (AR) @[ IoU=0.50:0.95 | area= large | maxDets=1000 ] = 0.716\n"
          ],
          "name": "stdout"
        },
        {
          "output_type": "stream",
          "text": [
            "2021-05-19 20:04:46,617 - mmdet - INFO - Epoch(val) [47][655]\tbbox_mAP: 0.3510, bbox_mAP_50: 0.4510, bbox_mAP_75: 0.3580, bbox_mAP_s: 0.1030, bbox_mAP_m: 0.3400, bbox_mAP_l: 0.6010, bbox_mAP_copypaste: 0.351 0.451 0.358 0.103 0.340 0.601\n",
            "2021-05-19 20:09:26,541 - mmdet - INFO - Epoch [48][300/655]\tlr: 1.000e-06, eta: 1:55:09, time: 0.933, data_time: 0.104, memory: 13531, loss_rpn_cls: 0.0296, loss_rpn_bbox: 0.0265, s0.loss_cls: 0.1609, s0.acc: 94.4948, s0.loss_bbox: 0.2277, s0.loss_mask: 0.1913, s1.loss_cls: 0.0716, s1.acc: 95.1728, s1.loss_bbox: 0.0937, s1.loss_mask: 0.0841, s2.loss_cls: 0.0349, s2.acc: 95.2063, s2.loss_bbox: 0.0369, s2.loss_mask: 0.0381, loss: 0.9952\n",
            "2021-05-19 20:14:01,182 - mmdet - INFO - Epoch [48][600/655]\tlr: 1.000e-06, eta: 1:51:02, time: 0.915, data_time: 0.090, memory: 13531, loss_rpn_cls: 0.0257, loss_rpn_bbox: 0.0244, s0.loss_cls: 0.1498, s0.acc: 94.9015, s0.loss_bbox: 0.2091, s0.loss_mask: 0.1842, s1.loss_cls: 0.0661, s1.acc: 95.5074, s1.loss_bbox: 0.0872, s1.loss_mask: 0.0817, s2.loss_cls: 0.0324, s2.acc: 95.5705, s2.loss_bbox: 0.0349, s2.loss_mask: 0.0371, loss: 0.9326\n"
          ],
          "name": "stderr"
        },
        {
          "output_type": "stream",
          "text": [
            "[>>>>>>>>>>>>>>>>>>>>>>>>>>>>>>] 655/655, 7.7 task/s, elapsed: 85s, ETA:     0s"
          ],
          "name": "stdout"
        },
        {
          "output_type": "stream",
          "text": [
            "2021-05-19 20:16:17,889 - mmdet - INFO - Evaluating bbox...\n"
          ],
          "name": "stderr"
        },
        {
          "output_type": "stream",
          "text": [
            "Loading and preparing results...\n",
            "DONE (t=0.65s)\n",
            "creating index...\n",
            "index created!\n",
            "Running per image evaluation...\n",
            "Evaluate annotation type *bbox*\n",
            "DONE (t=3.95s).\n",
            "Accumulating evaluation results...\n"
          ],
          "name": "stdout"
        },
        {
          "output_type": "stream",
          "text": [
            "2021-05-19 20:16:23,217 - mmdet - INFO - Saving checkpoint at 48 epochs\n"
          ],
          "name": "stderr"
        },
        {
          "output_type": "stream",
          "text": [
            "DONE (t=0.65s).\n",
            "Average Precision  (AP) @[ IoU=0.50:0.95 | area=   all | maxDets=100 ] = 0.350\n",
            "Average Precision  (AP) @[ IoU=0.50      | area=   all | maxDets=1000 ] = 0.451\n",
            "Average Precision  (AP) @[ IoU=0.75      | area=   all | maxDets=1000 ] = 0.358\n",
            "Average Precision  (AP) @[ IoU=0.50:0.95 | area= small | maxDets=1000 ] = 0.105\n",
            "Average Precision  (AP) @[ IoU=0.50:0.95 | area=medium | maxDets=1000 ] = 0.340\n",
            "Average Precision  (AP) @[ IoU=0.50:0.95 | area= large | maxDets=1000 ] = 0.597\n",
            "Average Recall     (AR) @[ IoU=0.50:0.95 | area=   all | maxDets=100 ] = 0.471\n",
            "Average Recall     (AR) @[ IoU=0.50:0.95 | area=   all | maxDets=300 ] = 0.471\n",
            "Average Recall     (AR) @[ IoU=0.50:0.95 | area=   all | maxDets=1000 ] = 0.471\n",
            "Average Recall     (AR) @[ IoU=0.50:0.95 | area= small | maxDets=1000 ] = 0.207\n",
            "Average Recall     (AR) @[ IoU=0.50:0.95 | area=medium | maxDets=1000 ] = 0.475\n",
            "Average Recall     (AR) @[ IoU=0.50:0.95 | area= large | maxDets=1000 ] = 0.711\n"
          ],
          "name": "stdout"
        },
        {
          "output_type": "stream",
          "text": [
            "2021-05-19 20:16:29,069 - mmdet - INFO - Epoch(val) [48][655]\tbbox_mAP: 0.3500, bbox_mAP_50: 0.4510, bbox_mAP_75: 0.3580, bbox_mAP_s: 0.1050, bbox_mAP_m: 0.3400, bbox_mAP_l: 0.5970, bbox_mAP_copypaste: 0.350 0.451 0.358 0.105 0.340 0.597\n"
          ],
          "name": "stderr"
        },
        {
          "output_type": "stream",
          "text": [
            "Gradient overflow.  Skipping step, loss scaler 0 reducing loss scale to 16384.0\n"
          ],
          "name": "stdout"
        },
        {
          "output_type": "stream",
          "text": [
            "2021-05-19 20:21:06,544 - mmdet - INFO - Epoch [49][300/655]\tlr: 1.000e-06, eta: 1:45:58, time: 0.925, data_time: 0.100, memory: 13531, loss_rpn_cls: 0.0272, loss_rpn_bbox: 0.0252, s0.loss_cls: 0.1580, s0.acc: 94.5924, s0.loss_bbox: 0.2199, s0.loss_mask: 0.1893, s1.loss_cls: 0.0701, s1.acc: 95.2719, s1.loss_bbox: 0.0906, s1.loss_mask: 0.0834, s2.loss_cls: 0.0343, s2.acc: 95.3271, s2.loss_bbox: 0.0360, s2.loss_mask: 0.0378, loss: 0.9718\n",
            "2021-05-19 20:25:41,834 - mmdet - INFO - Epoch [49][600/655]\tlr: 1.000e-06, eta: 1:41:51, time: 0.918, data_time: 0.090, memory: 13531, loss_rpn_cls: 0.0256, loss_rpn_bbox: 0.0258, s0.loss_cls: 0.1538, s0.acc: 94.6971, s0.loss_bbox: 0.2172, s0.loss_mask: 0.1855, s1.loss_cls: 0.0688, s1.acc: 95.2582, s1.loss_bbox: 0.0895, s1.loss_mask: 0.0812, s2.loss_cls: 0.0335, s2.acc: 95.3113, s2.loss_bbox: 0.0354, s2.loss_mask: 0.0366, loss: 0.9529\n"
          ],
          "name": "stderr"
        },
        {
          "output_type": "stream",
          "text": [
            "[>>>>>>>>>>>>>>>>>>>>>>>>>>>>>>] 655/655, 7.6 task/s, elapsed: 86s, ETA:     0s"
          ],
          "name": "stdout"
        },
        {
          "output_type": "stream",
          "text": [
            "2021-05-19 20:27:59,528 - mmdet - INFO - Evaluating bbox...\n"
          ],
          "name": "stderr"
        },
        {
          "output_type": "stream",
          "text": [
            "Loading and preparing results...\n",
            "DONE (t=0.07s)\n",
            "creating index...\n",
            "index created!\n",
            "Running per image evaluation...\n",
            "Evaluate annotation type *bbox*\n",
            "DONE (t=4.58s).\n",
            "Accumulating evaluation results...\n"
          ],
          "name": "stdout"
        },
        {
          "output_type": "stream",
          "text": [
            "2021-05-19 20:28:04,907 - mmdet - INFO - Saving checkpoint at 49 epochs\n"
          ],
          "name": "stderr"
        },
        {
          "output_type": "stream",
          "text": [
            "DONE (t=0.64s).\n",
            "Average Precision  (AP) @[ IoU=0.50:0.95 | area=   all | maxDets=100 ] = 0.352\n",
            "Average Precision  (AP) @[ IoU=0.50      | area=   all | maxDets=1000 ] = 0.451\n",
            "Average Precision  (AP) @[ IoU=0.75      | area=   all | maxDets=1000 ] = 0.360\n",
            "Average Precision  (AP) @[ IoU=0.50:0.95 | area= small | maxDets=1000 ] = 0.106\n",
            "Average Precision  (AP) @[ IoU=0.50:0.95 | area=medium | maxDets=1000 ] = 0.342\n",
            "Average Precision  (AP) @[ IoU=0.50:0.95 | area= large | maxDets=1000 ] = 0.600\n",
            "Average Recall     (AR) @[ IoU=0.50:0.95 | area=   all | maxDets=100 ] = 0.473\n",
            "Average Recall     (AR) @[ IoU=0.50:0.95 | area=   all | maxDets=300 ] = 0.473\n",
            "Average Recall     (AR) @[ IoU=0.50:0.95 | area=   all | maxDets=1000 ] = 0.473\n",
            "Average Recall     (AR) @[ IoU=0.50:0.95 | area= small | maxDets=1000 ] = 0.208\n",
            "Average Recall     (AR) @[ IoU=0.50:0.95 | area=medium | maxDets=1000 ] = 0.474\n",
            "Average Recall     (AR) @[ IoU=0.50:0.95 | area= large | maxDets=1000 ] = 0.714\n"
          ],
          "name": "stdout"
        },
        {
          "output_type": "stream",
          "text": [
            "2021-05-19 20:28:10,996 - mmdet - INFO - Epoch(val) [49][655]\tbbox_mAP: 0.3520, bbox_mAP_50: 0.4510, bbox_mAP_75: 0.3600, bbox_mAP_s: 0.1060, bbox_mAP_m: 0.3420, bbox_mAP_l: 0.6000, bbox_mAP_copypaste: 0.352 0.451 0.360 0.106 0.342 0.600\n",
            "2021-05-19 20:32:49,468 - mmdet - INFO - Epoch [50][300/655]\tlr: 1.000e-06, eta: 1:36:48, time: 0.928, data_time: 0.103, memory: 13531, loss_rpn_cls: 0.0267, loss_rpn_bbox: 0.0253, s0.loss_cls: 0.1540, s0.acc: 94.7313, s0.loss_bbox: 0.2158, s0.loss_mask: 0.1870, s1.loss_cls: 0.0684, s1.acc: 95.3071, s1.loss_bbox: 0.0891, s1.loss_mask: 0.0827, s2.loss_cls: 0.0332, s2.acc: 95.3690, s2.loss_bbox: 0.0352, s2.loss_mask: 0.0374, loss: 0.9549\n",
            "2021-05-19 20:37:24,924 - mmdet - INFO - Epoch [50][600/655]\tlr: 1.000e-06, eta: 1:32:40, time: 0.918, data_time: 0.091, memory: 13531, loss_rpn_cls: 0.0263, loss_rpn_bbox: 0.0256, s0.loss_cls: 0.1525, s0.acc: 94.8009, s0.loss_bbox: 0.2157, s0.loss_mask: 0.1857, s1.loss_cls: 0.0680, s1.acc: 95.3926, s1.loss_bbox: 0.0891, s1.loss_mask: 0.0820, s2.loss_cls: 0.0333, s2.acc: 95.4997, s2.loss_bbox: 0.0352, s2.loss_mask: 0.0369, loss: 0.9504\n"
          ],
          "name": "stderr"
        },
        {
          "output_type": "stream",
          "text": [
            "[>>>>>>>>>>>>>>>>>>>>>>>>>>>>>>] 655/655, 7.8 task/s, elapsed: 84s, ETA:     0s"
          ],
          "name": "stdout"
        },
        {
          "output_type": "stream",
          "text": [
            "2021-05-19 20:39:41,786 - mmdet - INFO - Evaluating bbox...\n"
          ],
          "name": "stderr"
        },
        {
          "output_type": "stream",
          "text": [
            "Loading and preparing results...\n",
            "DONE (t=0.65s)\n",
            "creating index...\n",
            "index created!\n",
            "Running per image evaluation...\n",
            "Evaluate annotation type *bbox*\n",
            "DONE (t=3.93s).\n",
            "Accumulating evaluation results...\n"
          ],
          "name": "stdout"
        },
        {
          "output_type": "stream",
          "text": [
            "2021-05-19 20:39:47,102 - mmdet - INFO - Saving checkpoint at 50 epochs\n"
          ],
          "name": "stderr"
        },
        {
          "output_type": "stream",
          "text": [
            "DONE (t=0.66s).\n",
            "Average Precision  (AP) @[ IoU=0.50:0.95 | area=   all | maxDets=100 ] = 0.351\n",
            "Average Precision  (AP) @[ IoU=0.50      | area=   all | maxDets=1000 ] = 0.451\n",
            "Average Precision  (AP) @[ IoU=0.75      | area=   all | maxDets=1000 ] = 0.359\n",
            "Average Precision  (AP) @[ IoU=0.50:0.95 | area= small | maxDets=1000 ] = 0.104\n",
            "Average Precision  (AP) @[ IoU=0.50:0.95 | area=medium | maxDets=1000 ] = 0.342\n",
            "Average Precision  (AP) @[ IoU=0.50:0.95 | area= large | maxDets=1000 ] = 0.598\n",
            "Average Recall     (AR) @[ IoU=0.50:0.95 | area=   all | maxDets=100 ] = 0.472\n",
            "Average Recall     (AR) @[ IoU=0.50:0.95 | area=   all | maxDets=300 ] = 0.472\n",
            "Average Recall     (AR) @[ IoU=0.50:0.95 | area=   all | maxDets=1000 ] = 0.472\n",
            "Average Recall     (AR) @[ IoU=0.50:0.95 | area= small | maxDets=1000 ] = 0.207\n",
            "Average Recall     (AR) @[ IoU=0.50:0.95 | area=medium | maxDets=1000 ] = 0.473\n",
            "Average Recall     (AR) @[ IoU=0.50:0.95 | area= large | maxDets=1000 ] = 0.712\n"
          ],
          "name": "stdout"
        },
        {
          "output_type": "stream",
          "text": [
            "2021-05-19 20:39:53,430 - mmdet - INFO - Epoch(val) [50][655]\tbbox_mAP: 0.3510, bbox_mAP_50: 0.4510, bbox_mAP_75: 0.3590, bbox_mAP_s: 0.1040, bbox_mAP_m: 0.3420, bbox_mAP_l: 0.5980, bbox_mAP_copypaste: 0.351 0.451 0.359 0.104 0.342 0.598\n",
            "2021-05-19 20:44:31,989 - mmdet - INFO - Epoch [51][300/655]\tlr: 1.000e-06, eta: 1:27:38, time: 0.928, data_time: 0.102, memory: 13531, loss_rpn_cls: 0.0273, loss_rpn_bbox: 0.0251, s0.loss_cls: 0.1512, s0.acc: 94.7640, s0.loss_bbox: 0.2168, s0.loss_mask: 0.1874, s1.loss_cls: 0.0669, s1.acc: 95.4199, s1.loss_bbox: 0.0891, s1.loss_mask: 0.0821, s2.loss_cls: 0.0324, s2.acc: 95.5168, s2.loss_bbox: 0.0348, s2.loss_mask: 0.0369, loss: 0.9500\n"
          ],
          "name": "stderr"
        },
        {
          "output_type": "error",
          "ename": "KeyboardInterrupt",
          "evalue": "ignored",
          "traceback": [
            "\u001b[0;31m---------------------------------------------------------------------------\u001b[0m",
            "\u001b[0;31mKeyboardInterrupt\u001b[0m                         Traceback (most recent call last)",
            "\u001b[0;32m<ipython-input-6-59b5768e9e45>\u001b[0m in \u001b[0;36m<module>\u001b[0;34m()\u001b[0m\n\u001b[0;32m----> 1\u001b[0;31m \u001b[0mtrain_detector\u001b[0m\u001b[0;34m(\u001b[0m\u001b[0mmodel\u001b[0m\u001b[0;34m,\u001b[0m \u001b[0mdatasets\u001b[0m\u001b[0;34m[\u001b[0m\u001b[0;36m0\u001b[0m\u001b[0;34m]\u001b[0m\u001b[0;34m,\u001b[0m \u001b[0mcfg\u001b[0m\u001b[0;34m,\u001b[0m \u001b[0mdistributed\u001b[0m\u001b[0;34m=\u001b[0m\u001b[0;32mFalse\u001b[0m\u001b[0;34m,\u001b[0m \u001b[0mvalidate\u001b[0m\u001b[0;34m=\u001b[0m\u001b[0;32mTrue\u001b[0m\u001b[0;34m)\u001b[0m\u001b[0;34m\u001b[0m\u001b[0;34m\u001b[0m\u001b[0m\n\u001b[0m",
            "\u001b[0;32m/content/drive/MyDrive/Stage3_Detection/code/Swin-Transformer-Object-Detection-master/mmdet/apis/train.py\u001b[0m in \u001b[0;36mtrain_detector\u001b[0;34m(model, dataset, cfg, distributed, validate, timestamp, meta)\u001b[0m\n\u001b[1;32m    183\u001b[0m     \u001b[0;32melif\u001b[0m \u001b[0mcfg\u001b[0m\u001b[0;34m.\u001b[0m\u001b[0mload_from\u001b[0m\u001b[0;34m:\u001b[0m\u001b[0;34m\u001b[0m\u001b[0;34m\u001b[0m\u001b[0m\n\u001b[1;32m    184\u001b[0m         \u001b[0mrunner\u001b[0m\u001b[0;34m.\u001b[0m\u001b[0mload_checkpoint\u001b[0m\u001b[0;34m(\u001b[0m\u001b[0mcfg\u001b[0m\u001b[0;34m.\u001b[0m\u001b[0mload_from\u001b[0m\u001b[0;34m)\u001b[0m\u001b[0;34m\u001b[0m\u001b[0;34m\u001b[0m\u001b[0m\n\u001b[0;32m--> 185\u001b[0;31m     \u001b[0mrunner\u001b[0m\u001b[0;34m.\u001b[0m\u001b[0mrun\u001b[0m\u001b[0;34m(\u001b[0m\u001b[0mdata_loaders\u001b[0m\u001b[0;34m,\u001b[0m \u001b[0mcfg\u001b[0m\u001b[0;34m.\u001b[0m\u001b[0mworkflow\u001b[0m\u001b[0;34m)\u001b[0m\u001b[0;34m\u001b[0m\u001b[0;34m\u001b[0m\u001b[0m\n\u001b[0m",
            "\u001b[0;32m/usr/local/lib/python3.7/dist-packages/mmcv/runner/epoch_based_runner.py\u001b[0m in \u001b[0;36mrun\u001b[0;34m(self, data_loaders, workflow, max_epochs, **kwargs)\u001b[0m\n\u001b[1;32m    123\u001b[0m                     \u001b[0;32mif\u001b[0m \u001b[0mmode\u001b[0m \u001b[0;34m==\u001b[0m \u001b[0;34m'train'\u001b[0m \u001b[0;32mand\u001b[0m \u001b[0mself\u001b[0m\u001b[0;34m.\u001b[0m\u001b[0mepoch\u001b[0m \u001b[0;34m>=\u001b[0m \u001b[0mself\u001b[0m\u001b[0;34m.\u001b[0m\u001b[0m_max_epochs\u001b[0m\u001b[0;34m:\u001b[0m\u001b[0;34m\u001b[0m\u001b[0;34m\u001b[0m\u001b[0m\n\u001b[1;32m    124\u001b[0m                         \u001b[0;32mbreak\u001b[0m\u001b[0;34m\u001b[0m\u001b[0;34m\u001b[0m\u001b[0m\n\u001b[0;32m--> 125\u001b[0;31m                     \u001b[0mepoch_runner\u001b[0m\u001b[0;34m(\u001b[0m\u001b[0mdata_loaders\u001b[0m\u001b[0;34m[\u001b[0m\u001b[0mi\u001b[0m\u001b[0;34m]\u001b[0m\u001b[0;34m,\u001b[0m \u001b[0;34m**\u001b[0m\u001b[0mkwargs\u001b[0m\u001b[0;34m)\u001b[0m\u001b[0;34m\u001b[0m\u001b[0;34m\u001b[0m\u001b[0m\n\u001b[0m\u001b[1;32m    126\u001b[0m \u001b[0;34m\u001b[0m\u001b[0m\n\u001b[1;32m    127\u001b[0m         \u001b[0mtime\u001b[0m\u001b[0;34m.\u001b[0m\u001b[0msleep\u001b[0m\u001b[0;34m(\u001b[0m\u001b[0;36m1\u001b[0m\u001b[0;34m)\u001b[0m  \u001b[0;31m# wait for some hooks like loggers to finish\u001b[0m\u001b[0;34m\u001b[0m\u001b[0;34m\u001b[0m\u001b[0m\n",
            "\u001b[0;32m/usr/local/lib/python3.7/dist-packages/mmcv/runner/epoch_based_runner.py\u001b[0m in \u001b[0;36mtrain\u001b[0;34m(self, data_loader, **kwargs)\u001b[0m\n\u001b[1;32m     48\u001b[0m             \u001b[0mself\u001b[0m\u001b[0;34m.\u001b[0m\u001b[0m_inner_iter\u001b[0m \u001b[0;34m=\u001b[0m \u001b[0mi\u001b[0m\u001b[0;34m\u001b[0m\u001b[0;34m\u001b[0m\u001b[0m\n\u001b[1;32m     49\u001b[0m             \u001b[0mself\u001b[0m\u001b[0;34m.\u001b[0m\u001b[0mcall_hook\u001b[0m\u001b[0;34m(\u001b[0m\u001b[0;34m'before_train_iter'\u001b[0m\u001b[0;34m)\u001b[0m\u001b[0;34m\u001b[0m\u001b[0;34m\u001b[0m\u001b[0m\n\u001b[0;32m---> 50\u001b[0;31m             \u001b[0mself\u001b[0m\u001b[0;34m.\u001b[0m\u001b[0mrun_iter\u001b[0m\u001b[0;34m(\u001b[0m\u001b[0mdata_batch\u001b[0m\u001b[0;34m,\u001b[0m \u001b[0mtrain_mode\u001b[0m\u001b[0;34m=\u001b[0m\u001b[0;32mTrue\u001b[0m\u001b[0;34m,\u001b[0m \u001b[0;34m**\u001b[0m\u001b[0mkwargs\u001b[0m\u001b[0;34m)\u001b[0m\u001b[0;34m\u001b[0m\u001b[0;34m\u001b[0m\u001b[0m\n\u001b[0m\u001b[1;32m     51\u001b[0m             \u001b[0mself\u001b[0m\u001b[0;34m.\u001b[0m\u001b[0mcall_hook\u001b[0m\u001b[0;34m(\u001b[0m\u001b[0;34m'after_train_iter'\u001b[0m\u001b[0;34m)\u001b[0m\u001b[0;34m\u001b[0m\u001b[0;34m\u001b[0m\u001b[0m\n\u001b[1;32m     52\u001b[0m             \u001b[0mself\u001b[0m\u001b[0;34m.\u001b[0m\u001b[0m_iter\u001b[0m \u001b[0;34m+=\u001b[0m \u001b[0;36m1\u001b[0m\u001b[0;34m\u001b[0m\u001b[0;34m\u001b[0m\u001b[0m\n",
            "\u001b[0;32m/usr/local/lib/python3.7/dist-packages/mmcv/runner/epoch_based_runner.py\u001b[0m in \u001b[0;36mrun_iter\u001b[0;34m(self, data_batch, train_mode, **kwargs)\u001b[0m\n\u001b[1;32m     28\u001b[0m         \u001b[0;32melif\u001b[0m \u001b[0mtrain_mode\u001b[0m\u001b[0;34m:\u001b[0m\u001b[0;34m\u001b[0m\u001b[0;34m\u001b[0m\u001b[0m\n\u001b[1;32m     29\u001b[0m             outputs = self.model.train_step(data_batch, self.optimizer,\n\u001b[0;32m---> 30\u001b[0;31m                                             **kwargs)\n\u001b[0m\u001b[1;32m     31\u001b[0m         \u001b[0;32melse\u001b[0m\u001b[0;34m:\u001b[0m\u001b[0;34m\u001b[0m\u001b[0;34m\u001b[0m\u001b[0m\n\u001b[1;32m     32\u001b[0m             \u001b[0moutputs\u001b[0m \u001b[0;34m=\u001b[0m \u001b[0mself\u001b[0m\u001b[0;34m.\u001b[0m\u001b[0mmodel\u001b[0m\u001b[0;34m.\u001b[0m\u001b[0mval_step\u001b[0m\u001b[0;34m(\u001b[0m\u001b[0mdata_batch\u001b[0m\u001b[0;34m,\u001b[0m \u001b[0mself\u001b[0m\u001b[0;34m.\u001b[0m\u001b[0moptimizer\u001b[0m\u001b[0;34m,\u001b[0m \u001b[0;34m**\u001b[0m\u001b[0mkwargs\u001b[0m\u001b[0;34m)\u001b[0m\u001b[0;34m\u001b[0m\u001b[0;34m\u001b[0m\u001b[0m\n",
            "\u001b[0;32m/usr/local/lib/python3.7/dist-packages/mmcv/parallel/data_parallel.py\u001b[0m in \u001b[0;36mtrain_step\u001b[0;34m(self, *inputs, **kwargs)\u001b[0m\n\u001b[1;32m     65\u001b[0m \u001b[0;34m\u001b[0m\u001b[0m\n\u001b[1;32m     66\u001b[0m         \u001b[0minputs\u001b[0m\u001b[0;34m,\u001b[0m \u001b[0mkwargs\u001b[0m \u001b[0;34m=\u001b[0m \u001b[0mself\u001b[0m\u001b[0;34m.\u001b[0m\u001b[0mscatter\u001b[0m\u001b[0;34m(\u001b[0m\u001b[0minputs\u001b[0m\u001b[0;34m,\u001b[0m \u001b[0mkwargs\u001b[0m\u001b[0;34m,\u001b[0m \u001b[0mself\u001b[0m\u001b[0;34m.\u001b[0m\u001b[0mdevice_ids\u001b[0m\u001b[0;34m)\u001b[0m\u001b[0;34m\u001b[0m\u001b[0;34m\u001b[0m\u001b[0m\n\u001b[0;32m---> 67\u001b[0;31m         \u001b[0;32mreturn\u001b[0m \u001b[0mself\u001b[0m\u001b[0;34m.\u001b[0m\u001b[0mmodule\u001b[0m\u001b[0;34m.\u001b[0m\u001b[0mtrain_step\u001b[0m\u001b[0;34m(\u001b[0m\u001b[0;34m*\u001b[0m\u001b[0minputs\u001b[0m\u001b[0;34m[\u001b[0m\u001b[0;36m0\u001b[0m\u001b[0;34m]\u001b[0m\u001b[0;34m,\u001b[0m \u001b[0;34m**\u001b[0m\u001b[0mkwargs\u001b[0m\u001b[0;34m[\u001b[0m\u001b[0;36m0\u001b[0m\u001b[0;34m]\u001b[0m\u001b[0;34m)\u001b[0m\u001b[0;34m\u001b[0m\u001b[0;34m\u001b[0m\u001b[0m\n\u001b[0m\u001b[1;32m     68\u001b[0m \u001b[0;34m\u001b[0m\u001b[0m\n\u001b[1;32m     69\u001b[0m     \u001b[0;32mdef\u001b[0m \u001b[0mval_step\u001b[0m\u001b[0;34m(\u001b[0m\u001b[0mself\u001b[0m\u001b[0;34m,\u001b[0m \u001b[0;34m*\u001b[0m\u001b[0minputs\u001b[0m\u001b[0;34m,\u001b[0m \u001b[0;34m**\u001b[0m\u001b[0mkwargs\u001b[0m\u001b[0;34m)\u001b[0m\u001b[0;34m:\u001b[0m\u001b[0;34m\u001b[0m\u001b[0;34m\u001b[0m\u001b[0m\n",
            "\u001b[0;32m/content/drive/MyDrive/Stage3_Detection/code/Swin-Transformer-Object-Detection-master/mmdet/models/detectors/base.py\u001b[0m in \u001b[0;36mtrain_step\u001b[0;34m(self, data, optimizer)\u001b[0m\n\u001b[1;32m    245\u001b[0m                 \u001b[0maveraging\u001b[0m \u001b[0mthe\u001b[0m \u001b[0mlogs\u001b[0m\u001b[0;34m.\u001b[0m\u001b[0;34m\u001b[0m\u001b[0;34m\u001b[0m\u001b[0m\n\u001b[1;32m    246\u001b[0m         \"\"\"\n\u001b[0;32m--> 247\u001b[0;31m         \u001b[0mlosses\u001b[0m \u001b[0;34m=\u001b[0m \u001b[0mself\u001b[0m\u001b[0;34m(\u001b[0m\u001b[0;34m**\u001b[0m\u001b[0mdata\u001b[0m\u001b[0;34m)\u001b[0m\u001b[0;34m\u001b[0m\u001b[0;34m\u001b[0m\u001b[0m\n\u001b[0m\u001b[1;32m    248\u001b[0m         \u001b[0mloss\u001b[0m\u001b[0;34m,\u001b[0m \u001b[0mlog_vars\u001b[0m \u001b[0;34m=\u001b[0m \u001b[0mself\u001b[0m\u001b[0;34m.\u001b[0m\u001b[0m_parse_losses\u001b[0m\u001b[0;34m(\u001b[0m\u001b[0mlosses\u001b[0m\u001b[0;34m)\u001b[0m\u001b[0;34m\u001b[0m\u001b[0;34m\u001b[0m\u001b[0m\n\u001b[1;32m    249\u001b[0m \u001b[0;34m\u001b[0m\u001b[0m\n",
            "\u001b[0;32m/usr/local/lib/python3.7/dist-packages/torch/nn/modules/module.py\u001b[0m in \u001b[0;36m_call_impl\u001b[0;34m(self, *input, **kwargs)\u001b[0m\n\u001b[1;32m    887\u001b[0m             \u001b[0mresult\u001b[0m \u001b[0;34m=\u001b[0m \u001b[0mself\u001b[0m\u001b[0;34m.\u001b[0m\u001b[0m_slow_forward\u001b[0m\u001b[0;34m(\u001b[0m\u001b[0;34m*\u001b[0m\u001b[0minput\u001b[0m\u001b[0;34m,\u001b[0m \u001b[0;34m**\u001b[0m\u001b[0mkwargs\u001b[0m\u001b[0;34m)\u001b[0m\u001b[0;34m\u001b[0m\u001b[0;34m\u001b[0m\u001b[0m\n\u001b[1;32m    888\u001b[0m         \u001b[0;32melse\u001b[0m\u001b[0;34m:\u001b[0m\u001b[0;34m\u001b[0m\u001b[0;34m\u001b[0m\u001b[0m\n\u001b[0;32m--> 889\u001b[0;31m             \u001b[0mresult\u001b[0m \u001b[0;34m=\u001b[0m \u001b[0mself\u001b[0m\u001b[0;34m.\u001b[0m\u001b[0mforward\u001b[0m\u001b[0;34m(\u001b[0m\u001b[0;34m*\u001b[0m\u001b[0minput\u001b[0m\u001b[0;34m,\u001b[0m \u001b[0;34m**\u001b[0m\u001b[0mkwargs\u001b[0m\u001b[0;34m)\u001b[0m\u001b[0;34m\u001b[0m\u001b[0;34m\u001b[0m\u001b[0m\n\u001b[0m\u001b[1;32m    890\u001b[0m         for hook in itertools.chain(\n\u001b[1;32m    891\u001b[0m                 \u001b[0m_global_forward_hooks\u001b[0m\u001b[0;34m.\u001b[0m\u001b[0mvalues\u001b[0m\u001b[0;34m(\u001b[0m\u001b[0;34m)\u001b[0m\u001b[0;34m,\u001b[0m\u001b[0;34m\u001b[0m\u001b[0;34m\u001b[0m\u001b[0m\n",
            "\u001b[0;32m/usr/local/lib/python3.7/dist-packages/mmcv/runner/fp16_utils.py\u001b[0m in \u001b[0;36mnew_func\u001b[0;34m(*args, **kwargs)\u001b[0m\n\u001b[1;32m    122\u001b[0m             \u001b[0;32mif\u001b[0m \u001b[0mTORCH_VERSION\u001b[0m \u001b[0;34m!=\u001b[0m \u001b[0;34m'parrots'\u001b[0m \u001b[0;32mand\u001b[0m \u001b[0mTORCH_VERSION\u001b[0m \u001b[0;34m>=\u001b[0m \u001b[0;34m'1.6.0'\u001b[0m\u001b[0;34m:\u001b[0m\u001b[0;34m\u001b[0m\u001b[0;34m\u001b[0m\u001b[0m\n\u001b[1;32m    123\u001b[0m                 \u001b[0;32mwith\u001b[0m \u001b[0mautocast\u001b[0m\u001b[0;34m(\u001b[0m\u001b[0menabled\u001b[0m\u001b[0;34m=\u001b[0m\u001b[0;32mTrue\u001b[0m\u001b[0;34m)\u001b[0m\u001b[0;34m:\u001b[0m\u001b[0;34m\u001b[0m\u001b[0;34m\u001b[0m\u001b[0m\n\u001b[0;32m--> 124\u001b[0;31m                     \u001b[0moutput\u001b[0m \u001b[0;34m=\u001b[0m \u001b[0mold_func\u001b[0m\u001b[0;34m(\u001b[0m\u001b[0;34m*\u001b[0m\u001b[0mnew_args\u001b[0m\u001b[0;34m,\u001b[0m \u001b[0;34m**\u001b[0m\u001b[0mnew_kwargs\u001b[0m\u001b[0;34m)\u001b[0m\u001b[0;34m\u001b[0m\u001b[0;34m\u001b[0m\u001b[0m\n\u001b[0m\u001b[1;32m    125\u001b[0m             \u001b[0;32melse\u001b[0m\u001b[0;34m:\u001b[0m\u001b[0;34m\u001b[0m\u001b[0;34m\u001b[0m\u001b[0m\n\u001b[1;32m    126\u001b[0m                 \u001b[0moutput\u001b[0m \u001b[0;34m=\u001b[0m \u001b[0mold_func\u001b[0m\u001b[0;34m(\u001b[0m\u001b[0;34m*\u001b[0m\u001b[0mnew_args\u001b[0m\u001b[0;34m,\u001b[0m \u001b[0;34m**\u001b[0m\u001b[0mnew_kwargs\u001b[0m\u001b[0;34m)\u001b[0m\u001b[0;34m\u001b[0m\u001b[0;34m\u001b[0m\u001b[0m\n",
            "\u001b[0;32m/content/drive/MyDrive/Stage3_Detection/code/Swin-Transformer-Object-Detection-master/mmdet/models/detectors/base.py\u001b[0m in \u001b[0;36mforward\u001b[0;34m(self, img, img_metas, return_loss, **kwargs)\u001b[0m\n\u001b[1;32m    179\u001b[0m         \"\"\"\n\u001b[1;32m    180\u001b[0m         \u001b[0;32mif\u001b[0m \u001b[0mreturn_loss\u001b[0m\u001b[0;34m:\u001b[0m\u001b[0;34m\u001b[0m\u001b[0;34m\u001b[0m\u001b[0m\n\u001b[0;32m--> 181\u001b[0;31m             \u001b[0;32mreturn\u001b[0m \u001b[0mself\u001b[0m\u001b[0;34m.\u001b[0m\u001b[0mforward_train\u001b[0m\u001b[0;34m(\u001b[0m\u001b[0mimg\u001b[0m\u001b[0;34m,\u001b[0m \u001b[0mimg_metas\u001b[0m\u001b[0;34m,\u001b[0m \u001b[0;34m**\u001b[0m\u001b[0mkwargs\u001b[0m\u001b[0;34m)\u001b[0m\u001b[0;34m\u001b[0m\u001b[0;34m\u001b[0m\u001b[0m\n\u001b[0m\u001b[1;32m    182\u001b[0m         \u001b[0;32melse\u001b[0m\u001b[0;34m:\u001b[0m\u001b[0;34m\u001b[0m\u001b[0;34m\u001b[0m\u001b[0m\n\u001b[1;32m    183\u001b[0m             \u001b[0;32mreturn\u001b[0m \u001b[0mself\u001b[0m\u001b[0;34m.\u001b[0m\u001b[0mforward_test\u001b[0m\u001b[0;34m(\u001b[0m\u001b[0mimg\u001b[0m\u001b[0;34m,\u001b[0m \u001b[0mimg_metas\u001b[0m\u001b[0;34m,\u001b[0m \u001b[0;34m**\u001b[0m\u001b[0mkwargs\u001b[0m\u001b[0;34m)\u001b[0m\u001b[0;34m\u001b[0m\u001b[0;34m\u001b[0m\u001b[0m\n",
            "\u001b[0;32m/content/drive/MyDrive/Stage3_Detection/code/Swin-Transformer-Object-Detection-master/mmdet/models/detectors/two_stage.py\u001b[0m in \u001b[0;36mforward_train\u001b[0;34m(self, img, img_metas, gt_bboxes, gt_labels, gt_bboxes_ignore, gt_masks, proposals, **kwargs)\u001b[0m\n\u001b[1;32m    154\u001b[0m                 \u001b[0mgt_labels\u001b[0m\u001b[0;34m=\u001b[0m\u001b[0;32mNone\u001b[0m\u001b[0;34m,\u001b[0m\u001b[0;34m\u001b[0m\u001b[0;34m\u001b[0m\u001b[0m\n\u001b[1;32m    155\u001b[0m                 \u001b[0mgt_bboxes_ignore\u001b[0m\u001b[0;34m=\u001b[0m\u001b[0mgt_bboxes_ignore\u001b[0m\u001b[0;34m,\u001b[0m\u001b[0;34m\u001b[0m\u001b[0;34m\u001b[0m\u001b[0m\n\u001b[0;32m--> 156\u001b[0;31m                 proposal_cfg=proposal_cfg)\n\u001b[0m\u001b[1;32m    157\u001b[0m             \u001b[0mlosses\u001b[0m\u001b[0;34m.\u001b[0m\u001b[0mupdate\u001b[0m\u001b[0;34m(\u001b[0m\u001b[0mrpn_losses\u001b[0m\u001b[0;34m)\u001b[0m\u001b[0;34m\u001b[0m\u001b[0;34m\u001b[0m\u001b[0m\n\u001b[1;32m    158\u001b[0m         \u001b[0;32melse\u001b[0m\u001b[0;34m:\u001b[0m\u001b[0;34m\u001b[0m\u001b[0;34m\u001b[0m\u001b[0m\n",
            "\u001b[0;32m/content/drive/MyDrive/Stage3_Detection/code/Swin-Transformer-Object-Detection-master/mmdet/models/dense_heads/base_dense_head.py\u001b[0m in \u001b[0;36mforward_train\u001b[0;34m(self, x, img_metas, gt_bboxes, gt_labels, gt_bboxes_ignore, proposal_cfg, **kwargs)\u001b[0m\n\u001b[1;32m     56\u001b[0m             \u001b[0;32mreturn\u001b[0m \u001b[0mlosses\u001b[0m\u001b[0;34m\u001b[0m\u001b[0;34m\u001b[0m\u001b[0m\n\u001b[1;32m     57\u001b[0m         \u001b[0;32melse\u001b[0m\u001b[0;34m:\u001b[0m\u001b[0;34m\u001b[0m\u001b[0;34m\u001b[0m\u001b[0m\n\u001b[0;32m---> 58\u001b[0;31m             \u001b[0mproposal_list\u001b[0m \u001b[0;34m=\u001b[0m \u001b[0mself\u001b[0m\u001b[0;34m.\u001b[0m\u001b[0mget_bboxes\u001b[0m\u001b[0;34m(\u001b[0m\u001b[0;34m*\u001b[0m\u001b[0mouts\u001b[0m\u001b[0;34m,\u001b[0m \u001b[0mimg_metas\u001b[0m\u001b[0;34m,\u001b[0m \u001b[0mcfg\u001b[0m\u001b[0;34m=\u001b[0m\u001b[0mproposal_cfg\u001b[0m\u001b[0;34m)\u001b[0m\u001b[0;34m\u001b[0m\u001b[0;34m\u001b[0m\u001b[0m\n\u001b[0m\u001b[1;32m     59\u001b[0m             \u001b[0;32mreturn\u001b[0m \u001b[0mlosses\u001b[0m\u001b[0;34m,\u001b[0m \u001b[0mproposal_list\u001b[0m\u001b[0;34m\u001b[0m\u001b[0;34m\u001b[0m\u001b[0m\n",
            "\u001b[0;32m/usr/local/lib/python3.7/dist-packages/mmcv/runner/fp16_utils.py\u001b[0m in \u001b[0;36mnew_func\u001b[0;34m(*args, **kwargs)\u001b[0m\n\u001b[1;32m    207\u001b[0m             \u001b[0;32mif\u001b[0m \u001b[0mTORCH_VERSION\u001b[0m \u001b[0;34m!=\u001b[0m \u001b[0;34m'parrots'\u001b[0m \u001b[0;32mand\u001b[0m \u001b[0mTORCH_VERSION\u001b[0m \u001b[0;34m>=\u001b[0m \u001b[0;34m'1.6.0'\u001b[0m\u001b[0;34m:\u001b[0m\u001b[0;34m\u001b[0m\u001b[0;34m\u001b[0m\u001b[0m\n\u001b[1;32m    208\u001b[0m                 \u001b[0;32mwith\u001b[0m \u001b[0mautocast\u001b[0m\u001b[0;34m(\u001b[0m\u001b[0menabled\u001b[0m\u001b[0;34m=\u001b[0m\u001b[0;32mFalse\u001b[0m\u001b[0;34m)\u001b[0m\u001b[0;34m:\u001b[0m\u001b[0;34m\u001b[0m\u001b[0;34m\u001b[0m\u001b[0m\n\u001b[0;32m--> 209\u001b[0;31m                     \u001b[0moutput\u001b[0m \u001b[0;34m=\u001b[0m \u001b[0mold_func\u001b[0m\u001b[0;34m(\u001b[0m\u001b[0;34m*\u001b[0m\u001b[0mnew_args\u001b[0m\u001b[0;34m,\u001b[0m \u001b[0;34m**\u001b[0m\u001b[0mnew_kwargs\u001b[0m\u001b[0;34m)\u001b[0m\u001b[0;34m\u001b[0m\u001b[0;34m\u001b[0m\u001b[0m\n\u001b[0m\u001b[1;32m    210\u001b[0m             \u001b[0;32melse\u001b[0m\u001b[0;34m:\u001b[0m\u001b[0;34m\u001b[0m\u001b[0;34m\u001b[0m\u001b[0m\n\u001b[1;32m    211\u001b[0m                 \u001b[0moutput\u001b[0m \u001b[0;34m=\u001b[0m \u001b[0mold_func\u001b[0m\u001b[0;34m(\u001b[0m\u001b[0;34m*\u001b[0m\u001b[0mnew_args\u001b[0m\u001b[0;34m,\u001b[0m \u001b[0;34m**\u001b[0m\u001b[0mnew_kwargs\u001b[0m\u001b[0;34m)\u001b[0m\u001b[0;34m\u001b[0m\u001b[0;34m\u001b[0m\u001b[0m\n",
            "\u001b[0;32m/content/drive/MyDrive/Stage3_Detection/code/Swin-Transformer-Object-Detection-master/mmdet/models/dense_heads/anchor_head.py\u001b[0m in \u001b[0;36mget_bboxes\u001b[0;34m(self, cls_scores, bbox_preds, img_metas, cfg, rescale, with_nms)\u001b[0m\n\u001b[1;32m    582\u001b[0m             result_list = self._get_bboxes(mlvl_cls_scores, mlvl_bbox_preds,\n\u001b[1;32m    583\u001b[0m                                            \u001b[0mmlvl_anchors\u001b[0m\u001b[0;34m,\u001b[0m \u001b[0mimg_shapes\u001b[0m\u001b[0;34m,\u001b[0m\u001b[0;34m\u001b[0m\u001b[0;34m\u001b[0m\u001b[0m\n\u001b[0;32m--> 584\u001b[0;31m                                            scale_factors, cfg, rescale)\n\u001b[0m\u001b[1;32m    585\u001b[0m         \u001b[0;32melse\u001b[0m\u001b[0;34m:\u001b[0m\u001b[0;34m\u001b[0m\u001b[0;34m\u001b[0m\u001b[0m\n\u001b[1;32m    586\u001b[0m             result_list = self._get_bboxes(mlvl_cls_scores, mlvl_bbox_preds,\n",
            "\u001b[0;32m/content/drive/MyDrive/Stage3_Detection/code/Swin-Transformer-Object-Detection-master/mmdet/models/dense_heads/rpn_head.py\u001b[0m in \u001b[0;36m_get_bboxes\u001b[0;34m(self, cls_scores, bbox_preds, mlvl_anchors, img_shapes, scale_factors, cfg, rescale)\u001b[0m\n\u001b[1;32m    232\u001b[0m \u001b[0;34m\u001b[0m\u001b[0m\n\u001b[1;32m    233\u001b[0m             dets, keep = batched_nms(mlvl_proposals, mlvl_scores, mlvl_ids,\n\u001b[0;32m--> 234\u001b[0;31m                                      cfg.nms)\n\u001b[0m\u001b[1;32m    235\u001b[0m             \u001b[0mresult_list\u001b[0m\u001b[0;34m.\u001b[0m\u001b[0mappend\u001b[0m\u001b[0;34m(\u001b[0m\u001b[0mdets\u001b[0m\u001b[0;34m[\u001b[0m\u001b[0;34m:\u001b[0m\u001b[0mcfg\u001b[0m\u001b[0;34m.\u001b[0m\u001b[0mmax_per_img\u001b[0m\u001b[0;34m]\u001b[0m\u001b[0;34m)\u001b[0m\u001b[0;34m\u001b[0m\u001b[0;34m\u001b[0m\u001b[0m\n\u001b[1;32m    236\u001b[0m         \u001b[0;32mreturn\u001b[0m \u001b[0mresult_list\u001b[0m\u001b[0;34m\u001b[0m\u001b[0;34m\u001b[0m\u001b[0m\n",
            "\u001b[0;32m/usr/local/lib/python3.7/dist-packages/mmcv/ops/nms.py\u001b[0m in \u001b[0;36mbatched_nms\u001b[0;34m(boxes, scores, idxs, nms_cfg, class_agnostic)\u001b[0m\n\u001b[1;32m    277\u001b[0m     \u001b[0;31m# Won't split to multiple nms nodes when exporting to onnx\u001b[0m\u001b[0;34m\u001b[0m\u001b[0;34m\u001b[0m\u001b[0;34m\u001b[0m\u001b[0m\n\u001b[1;32m    278\u001b[0m     \u001b[0;32mif\u001b[0m \u001b[0mboxes_for_nms\u001b[0m\u001b[0;34m.\u001b[0m\u001b[0mshape\u001b[0m\u001b[0;34m[\u001b[0m\u001b[0;36m0\u001b[0m\u001b[0;34m]\u001b[0m \u001b[0;34m<\u001b[0m \u001b[0msplit_thr\u001b[0m \u001b[0;32mor\u001b[0m \u001b[0mtorch\u001b[0m\u001b[0;34m.\u001b[0m\u001b[0monnx\u001b[0m\u001b[0;34m.\u001b[0m\u001b[0mis_in_onnx_export\u001b[0m\u001b[0;34m(\u001b[0m\u001b[0;34m)\u001b[0m\u001b[0;34m:\u001b[0m\u001b[0;34m\u001b[0m\u001b[0;34m\u001b[0m\u001b[0m\n\u001b[0;32m--> 279\u001b[0;31m         \u001b[0mdets\u001b[0m\u001b[0;34m,\u001b[0m \u001b[0mkeep\u001b[0m \u001b[0;34m=\u001b[0m \u001b[0mnms_op\u001b[0m\u001b[0;34m(\u001b[0m\u001b[0mboxes_for_nms\u001b[0m\u001b[0;34m,\u001b[0m \u001b[0mscores\u001b[0m\u001b[0;34m,\u001b[0m \u001b[0;34m**\u001b[0m\u001b[0mnms_cfg_\u001b[0m\u001b[0;34m)\u001b[0m\u001b[0;34m\u001b[0m\u001b[0;34m\u001b[0m\u001b[0m\n\u001b[0m\u001b[1;32m    280\u001b[0m         \u001b[0mboxes\u001b[0m \u001b[0;34m=\u001b[0m \u001b[0mboxes\u001b[0m\u001b[0;34m[\u001b[0m\u001b[0mkeep\u001b[0m\u001b[0;34m]\u001b[0m\u001b[0;34m\u001b[0m\u001b[0;34m\u001b[0m\u001b[0m\n\u001b[1;32m    281\u001b[0m         \u001b[0;31m# -1 indexing works abnormal in TensorRT\u001b[0m\u001b[0;34m\u001b[0m\u001b[0;34m\u001b[0m\u001b[0;34m\u001b[0m\u001b[0m\n",
            "\u001b[0;32m/usr/local/lib/python3.7/dist-packages/mmcv/utils/misc.py\u001b[0m in \u001b[0;36mnew_func\u001b[0;34m(*args, **kwargs)\u001b[0m\n\u001b[1;32m    308\u001b[0m \u001b[0;34m\u001b[0m\u001b[0m\n\u001b[1;32m    309\u001b[0m             \u001b[0;31m# apply converted arguments to the decorated method\u001b[0m\u001b[0;34m\u001b[0m\u001b[0;34m\u001b[0m\u001b[0;34m\u001b[0m\u001b[0m\n\u001b[0;32m--> 310\u001b[0;31m             \u001b[0moutput\u001b[0m \u001b[0;34m=\u001b[0m \u001b[0mold_func\u001b[0m\u001b[0;34m(\u001b[0m\u001b[0;34m*\u001b[0m\u001b[0margs\u001b[0m\u001b[0;34m,\u001b[0m \u001b[0;34m**\u001b[0m\u001b[0mkwargs\u001b[0m\u001b[0;34m)\u001b[0m\u001b[0;34m\u001b[0m\u001b[0;34m\u001b[0m\u001b[0m\n\u001b[0m\u001b[1;32m    311\u001b[0m             \u001b[0;32mreturn\u001b[0m \u001b[0moutput\u001b[0m\u001b[0;34m\u001b[0m\u001b[0;34m\u001b[0m\u001b[0m\n\u001b[1;32m    312\u001b[0m \u001b[0;34m\u001b[0m\u001b[0m\n",
            "\u001b[0;32m/usr/local/lib/python3.7/dist-packages/mmcv/ops/nms.py\u001b[0m in \u001b[0;36mnms\u001b[0;34m(boxes, scores, iou_threshold, offset)\u001b[0m\n\u001b[1;32m    142\u001b[0m         \u001b[0minds\u001b[0m \u001b[0;34m=\u001b[0m \u001b[0mext_module\u001b[0m\u001b[0;34m.\u001b[0m\u001b[0mnms\u001b[0m\u001b[0;34m(\u001b[0m\u001b[0;34m*\u001b[0m\u001b[0mindata_list\u001b[0m\u001b[0;34m,\u001b[0m \u001b[0;34m**\u001b[0m\u001b[0mindata_dict\u001b[0m\u001b[0;34m)\u001b[0m\u001b[0;34m\u001b[0m\u001b[0;34m\u001b[0m\u001b[0m\n\u001b[1;32m    143\u001b[0m     \u001b[0;32melse\u001b[0m\u001b[0;34m:\u001b[0m\u001b[0;34m\u001b[0m\u001b[0;34m\u001b[0m\u001b[0m\n\u001b[0;32m--> 144\u001b[0;31m         \u001b[0minds\u001b[0m \u001b[0;34m=\u001b[0m \u001b[0mNMSop\u001b[0m\u001b[0;34m.\u001b[0m\u001b[0mapply\u001b[0m\u001b[0;34m(\u001b[0m\u001b[0mboxes\u001b[0m\u001b[0;34m,\u001b[0m \u001b[0mscores\u001b[0m\u001b[0;34m,\u001b[0m \u001b[0miou_threshold\u001b[0m\u001b[0;34m,\u001b[0m \u001b[0moffset\u001b[0m\u001b[0;34m)\u001b[0m\u001b[0;34m\u001b[0m\u001b[0;34m\u001b[0m\u001b[0m\n\u001b[0m\u001b[1;32m    145\u001b[0m     \u001b[0mdets\u001b[0m \u001b[0;34m=\u001b[0m \u001b[0mtorch\u001b[0m\u001b[0;34m.\u001b[0m\u001b[0mcat\u001b[0m\u001b[0;34m(\u001b[0m\u001b[0;34m(\u001b[0m\u001b[0mboxes\u001b[0m\u001b[0;34m[\u001b[0m\u001b[0minds\u001b[0m\u001b[0;34m]\u001b[0m\u001b[0;34m,\u001b[0m \u001b[0mscores\u001b[0m\u001b[0;34m[\u001b[0m\u001b[0minds\u001b[0m\u001b[0;34m]\u001b[0m\u001b[0;34m.\u001b[0m\u001b[0mreshape\u001b[0m\u001b[0;34m(\u001b[0m\u001b[0;34m-\u001b[0m\u001b[0;36m1\u001b[0m\u001b[0;34m,\u001b[0m \u001b[0;36m1\u001b[0m\u001b[0;34m)\u001b[0m\u001b[0;34m)\u001b[0m\u001b[0;34m,\u001b[0m \u001b[0mdim\u001b[0m\u001b[0;34m=\u001b[0m\u001b[0;36m1\u001b[0m\u001b[0;34m)\u001b[0m\u001b[0;34m\u001b[0m\u001b[0;34m\u001b[0m\u001b[0m\n\u001b[1;32m    146\u001b[0m     \u001b[0;32mif\u001b[0m \u001b[0mis_numpy\u001b[0m\u001b[0;34m:\u001b[0m\u001b[0;34m\u001b[0m\u001b[0;34m\u001b[0m\u001b[0m\n",
            "\u001b[0;32m/usr/local/lib/python3.7/dist-packages/mmcv/ops/nms.py\u001b[0m in \u001b[0;36mforward\u001b[0;34m(ctx, bboxes, scores, iou_threshold, offset)\u001b[0m\n\u001b[1;32m     18\u001b[0m     \u001b[0;32mdef\u001b[0m \u001b[0mforward\u001b[0m\u001b[0;34m(\u001b[0m\u001b[0mctx\u001b[0m\u001b[0;34m,\u001b[0m \u001b[0mbboxes\u001b[0m\u001b[0;34m,\u001b[0m \u001b[0mscores\u001b[0m\u001b[0;34m,\u001b[0m \u001b[0miou_threshold\u001b[0m\u001b[0;34m,\u001b[0m \u001b[0moffset\u001b[0m\u001b[0;34m)\u001b[0m\u001b[0;34m:\u001b[0m\u001b[0;34m\u001b[0m\u001b[0;34m\u001b[0m\u001b[0m\n\u001b[1;32m     19\u001b[0m         inds = ext_module.nms(\n\u001b[0;32m---> 20\u001b[0;31m             bboxes, scores, iou_threshold=float(iou_threshold), offset=offset)\n\u001b[0m\u001b[1;32m     21\u001b[0m         \u001b[0;32mreturn\u001b[0m \u001b[0minds\u001b[0m\u001b[0;34m\u001b[0m\u001b[0;34m\u001b[0m\u001b[0m\n\u001b[1;32m     22\u001b[0m \u001b[0;34m\u001b[0m\u001b[0m\n",
            "\u001b[0;31mKeyboardInterrupt\u001b[0m: "
          ]
        }
      ]
    },
    {
      "cell_type": "markdown",
      "metadata": {
        "id": "1Lb6lpnTL_Qz"
      },
      "source": [
        "# Inference  ( fp16 주석 처리!! )"
      ]
    },
    {
      "cell_type": "code",
      "metadata": {
        "id": "UnPYDu5PKCAZ"
      },
      "source": [
        "file_name = 'epoch_50.pth'\n",
        "\n",
        "cfg.work_dir = './work_dirs/cascade'\n",
        "cfg.model.train_cfg = None\n",
        "\n",
        "checkpoint_path = os.path.join(cfg.work_dir, f'{file_name}')"
      ],
      "execution_count": null,
      "outputs": []
    },
    {
      "cell_type": "code",
      "metadata": {
        "id": "KaGon3Fmg2CZ"
      },
      "source": [
        "cfg.data.test"
      ],
      "execution_count": null,
      "outputs": []
    },
    {
      "cell_type": "code",
      "metadata": {
        "colab": {
          "base_uri": "https://localhost:8080/"
        },
        "id": "KA-iqRvIMzIE",
        "outputId": "5cd628d2-6abe-4843-b079-4f736e879010"
      },
      "source": [
        "dataset = build_dataset(cfg.data.test)\n",
        "data_loader = build_dataloader(\n",
        "        dataset,\n",
        "        samples_per_gpu=1,\n",
        "        workers_per_gpu=cfg.data.workers_per_gpu,\n",
        "        dist=False,\n",
        "        shuffle=False)"
      ],
      "execution_count": null,
      "outputs": [
        {
          "output_type": "stream",
          "text": [
            "loading annotations into memory...\n",
            "Done (t=0.01s)\n",
            "creating index...\n",
            "index created!\n"
          ],
          "name": "stdout"
        }
      ]
    },
    {
      "cell_type": "code",
      "metadata": {
        "colab": {
          "base_uri": "https://localhost:8080/"
        },
        "id": "ri1utn5LM-Q4",
        "outputId": "ae75391b-f96f-4610-8119-23a152aadae7"
      },
      "source": [
        "model = build_detector(cfg.model, test_cfg=cfg.get('test_cfg'))\n",
        "checkpoint = load_checkpoint(model, checkpoint_path, map_location='cpu')\n",
        "\n",
        "model.CLASSES = dataset.CLASSES\n",
        "model = MMDataParallel(model.cuda(), device_ids=[0])"
      ],
      "execution_count": null,
      "outputs": [
        {
          "output_type": "stream",
          "text": [
            "Use load_from_local loader\n"
          ],
          "name": "stdout"
        }
      ]
    },
    {
      "cell_type": "code",
      "metadata": {
        "colab": {
          "base_uri": "https://localhost:8080/"
        },
        "id": "l5NdIe20NE2W",
        "outputId": "4a072233-525a-430d-9246-8bc51342a093"
      },
      "source": [
        "output = single_gpu_test(model, data_loader, show_score_thr=0.05)"
      ],
      "execution_count": null,
      "outputs": [
        {
          "output_type": "stream",
          "text": [
            "[>>>>>>>>>>>>>>>>>>>>>>>>>>>>] 837/837, 0.6 task/s, elapsed: 1430s, ETA:     0s"
          ],
          "name": "stdout"
        }
      ]
    },
    {
      "cell_type": "code",
      "metadata": {
        "id": "FX6CWzQjO6bT"
      },
      "source": [
        "gc.collect()\n",
        "torch.cuda.empty_cache()"
      ],
      "execution_count": null,
      "outputs": []
    },
    {
      "cell_type": "code",
      "metadata": {
        "id": "LvE7DAg5NU83"
      },
      "source": [
        "output[0][0]"
      ],
      "execution_count": null,
      "outputs": []
    },
    {
      "cell_type": "code",
      "metadata": {
        "colab": {
          "base_uri": "https://localhost:8080/",
          "height": 256
        },
        "id": "rh6tE73dO7Y2",
        "outputId": "a1f9570c-0c27-4f7a-9c8f-aacc052b7056"
      },
      "source": [
        "prediction_strings = []\n",
        "file_names = []\n",
        "coco = COCO(cfg.data.test.ann_file)\n",
        "imag_ids = coco.getImgIds()\n",
        "\n",
        "class_num = 11\n",
        "for i, out in enumerate(output):\n",
        "    prediction_string = ''\n",
        "    image_info = coco.loadImgs(coco.getImgIds(imgIds=i))[0]\n",
        "    for j in range(class_num):\n",
        "        for o in out[0][j]:\n",
        "            prediction_string += str(j) + ' ' + str(o[4]) + ' ' + str(o[0]) + ' ' + str(o[1]) + ' ' + str(\n",
        "                o[2]) + ' ' + str(o[3]) + ' '\n",
        "        \n",
        "    prediction_strings.append(prediction_string)\n",
        "    file_names.append(image_info['file_name'])\n",
        "\n",
        "\n",
        "submission = pd.DataFrame()\n",
        "submission['PredictionString'] = prediction_strings\n",
        "submission['image_id'] = file_names\n",
        "submission.to_csv(os.path.join(cfg.work_dir, f'submission_{file_name}.csv'), index=None)\n",
        "submission.head()"
      ],
      "execution_count": null,
      "outputs": [
        {
          "output_type": "stream",
          "text": [
            "loading annotations into memory...\n",
            "Done (t=0.01s)\n",
            "creating index...\n",
            "index created!\n"
          ],
          "name": "stdout"
        },
        {
          "output_type": "execute_result",
          "data": {
            "text/html": [
              "<div>\n",
              "<style scoped>\n",
              "    .dataframe tbody tr th:only-of-type {\n",
              "        vertical-align: middle;\n",
              "    }\n",
              "\n",
              "    .dataframe tbody tr th {\n",
              "        vertical-align: top;\n",
              "    }\n",
              "\n",
              "    .dataframe thead th {\n",
              "        text-align: right;\n",
              "    }\n",
              "</style>\n",
              "<table border=\"1\" class=\"dataframe\">\n",
              "  <thead>\n",
              "    <tr style=\"text-align: right;\">\n",
              "      <th></th>\n",
              "      <th>PredictionString</th>\n",
              "      <th>image_id</th>\n",
              "    </tr>\n",
              "  </thead>\n",
              "  <tbody>\n",
              "    <tr>\n",
              "      <th>0</th>\n",
              "      <td>1 0.56805867 165.21016 76.83439 254.77577 166....</td>\n",
              "      <td>batch_01_vt/0021.jpg</td>\n",
              "    </tr>\n",
              "    <tr>\n",
              "      <th>1</th>\n",
              "      <td>1 0.2679668 285.71365 342.5805 306.80557 376.2...</td>\n",
              "      <td>batch_01_vt/0028.jpg</td>\n",
              "    </tr>\n",
              "    <tr>\n",
              "      <th>2</th>\n",
              "      <td>1 0.99610996 69.72126 168.78061 374.8547 378.8...</td>\n",
              "      <td>batch_01_vt/0031.jpg</td>\n",
              "    </tr>\n",
              "    <tr>\n",
              "      <th>3</th>\n",
              "      <td>1 0.06320084 295.4979 157.94702 362.29187 227....</td>\n",
              "      <td>batch_01_vt/0032.jpg</td>\n",
              "    </tr>\n",
              "    <tr>\n",
              "      <th>4</th>\n",
              "      <td>1 0.60295254 389.0904 271.01416 483.7361 344.8...</td>\n",
              "      <td>batch_01_vt/0070.jpg</td>\n",
              "    </tr>\n",
              "  </tbody>\n",
              "</table>\n",
              "</div>"
            ],
            "text/plain": [
              "                                    PredictionString              image_id\n",
              "0  1 0.56805867 165.21016 76.83439 254.77577 166....  batch_01_vt/0021.jpg\n",
              "1  1 0.2679668 285.71365 342.5805 306.80557 376.2...  batch_01_vt/0028.jpg\n",
              "2  1 0.99610996 69.72126 168.78061 374.8547 378.8...  batch_01_vt/0031.jpg\n",
              "3  1 0.06320084 295.4979 157.94702 362.29187 227....  batch_01_vt/0032.jpg\n",
              "4  1 0.60295254 389.0904 271.01416 483.7361 344.8...  batch_01_vt/0070.jpg"
            ]
          },
          "metadata": {
            "tags": []
          },
          "execution_count": 15
        }
      ]
    },
    {
      "cell_type": "code",
      "metadata": {
        "id": "S8hB_Rd0aO2j"
      },
      "source": [
        ""
      ],
      "execution_count": null,
      "outputs": []
    }
  ]
}