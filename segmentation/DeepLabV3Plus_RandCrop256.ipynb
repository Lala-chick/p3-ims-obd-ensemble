{
 "cells": [
  {
   "cell_type": "markdown",
   "id": "67ad268b-fa2e-467f-88cb-a9b95e772e95",
   "metadata": {},
   "source": [
    "## import"
   ]
  },
  {
   "cell_type": "code",
   "execution_count": 1,
   "id": "f78105f2-e053-4d1d-931a-7b5d3e9524ff",
   "metadata": {},
   "outputs": [
    {
     "name": "stdout",
     "output_type": "stream",
     "text": [
      "pytorch version: 1.4.0\n",
      "GPU 사용 가능 여부: True\n",
      "Tesla P40\n",
      "1\n"
     ]
    }
   ],
   "source": [
    "import os\n",
    "import random\n",
    "import time\n",
    "import json\n",
    "import warnings \n",
    "warnings.filterwarnings('ignore')\n",
    "\n",
    "import torch\n",
    "import torch.nn as nn\n",
    "import torch.nn.functional as F\n",
    "from torch.autograd import Variable\n",
    "from torch.utils.data import Dataset, DataLoader\n",
    "from utils import *\n",
    "import cv2\n",
    "\n",
    "import numpy as np\n",
    "import pandas as pd\n",
    "from tqdm.auto import tqdm\n",
    "\n",
    "# Pretrained Model\n",
    "import segmentation_models_pytorch as smp\n",
    "\n",
    "# torchvision Models\n",
    "import torchvision\n",
    "from torchvision import models\n",
    "from torchvision.models.segmentation.deeplabv3 import DeepLabHead\n",
    "\n",
    "# 전처리를 위한 라이브러리\n",
    "from pycocotools.coco import COCO\n",
    "import torchvision\n",
    "import torchvision.transforms as transforms\n",
    "\n",
    "import albumentations as A\n",
    "from albumentations.pytorch import ToTensorV2\n",
    "\n",
    "# 시각화를 위한 라이브러리\n",
    "import matplotlib.pyplot as plt\n",
    "import seaborn as sns; sns.set()\n",
    "\n",
    "plt.rcParams['axes.grid'] = False\n",
    "\n",
    "print('pytorch version: {}'.format(torch.__version__))\n",
    "print('GPU 사용 가능 여부: {}'.format(torch.cuda.is_available()))\n",
    "\n",
    "print(torch.cuda.get_device_name(0))\n",
    "print(torch.cuda.device_count())\n",
    "\n",
    "device = \"cuda\" if torch.cuda.is_available() else \"cpu\"   # GPU 사용 가능 여부에 따라 device 정보 저장\n",
    "%matplotlib inline"
   ]
  },
  {
   "cell_type": "markdown",
   "id": "06d1b401-4a6e-48a2-bcb1-9d240bd1b5fc",
   "metadata": {},
   "source": [
    "## 하이퍼파라미터 세팅 및 seed 고정"
   ]
  },
  {
   "cell_type": "code",
   "execution_count": 2,
   "id": "69c09ce2-06c4-4afc-92b7-435b02ea76b8",
   "metadata": {},
   "outputs": [],
   "source": [
    "batch_size = 10   # Mini-batch size\n",
    "num_epochs = 20\n",
    "learning_rate = 1e-4"
   ]
  },
  {
   "cell_type": "code",
   "execution_count": 3,
   "id": "ae61c169-40e6-41c7-95b4-84eb61e80857",
   "metadata": {},
   "outputs": [],
   "source": [
    "# seed 고정\n",
    "random_seed = 42\n",
    "torch.manual_seed(random_seed)\n",
    "torch.cuda.manual_seed(random_seed)\n",
    "# torch.cuda.manual_seed_all(random_seed) # if use multi-GPU\n",
    "torch.backends.cudnn.deterministic = True\n",
    "torch.backends.cudnn.benchmark = False\n",
    "np.random.seed(random_seed)\n",
    "random.seed(random_seed)"
   ]
  },
  {
   "cell_type": "markdown",
   "id": "06463b21-6e20-4e6d-ad1e-9d90ee5d6422",
   "metadata": {},
   "source": [
    "## 학습 데이터 EDA"
   ]
  },
  {
   "cell_type": "code",
   "execution_count": 4,
   "id": "a8fa1d71-e30f-4a6d-a477-0c220de2dcbc",
   "metadata": {},
   "outputs": [
    {
     "name": "stdout",
     "output_type": "stream",
     "text": [
      "Number of super categories: 11\n",
      "Number of categories: 11\n",
      "Number of annotations: 21116\n",
      "Number of images: 2617\n"
     ]
    }
   ],
   "source": [
    "dataset_path = '../input/data'\n",
    "anns_file_path = dataset_path + '/' + 'train.json'\n",
    "\n",
    "# Read annotations\n",
    "with open(anns_file_path, 'r') as f:\n",
    "    dataset = json.loads(f.read())\n",
    "\n",
    "categories = dataset['categories']\n",
    "anns = dataset['annotations']\n",
    "imgs = dataset['images']\n",
    "nr_cats = len(categories)\n",
    "nr_annotations = len(anns)\n",
    "nr_images = len(imgs)\n",
    "\n",
    "# Load categories and super categories\n",
    "cat_names = []\n",
    "super_cat_names = []\n",
    "super_cat_ids = {}\n",
    "super_cat_last_name = ''\n",
    "nr_super_cats = 0\n",
    "for cat_it in categories:\n",
    "    cat_names.append(cat_it['name'])\n",
    "    super_cat_name = cat_it['supercategory']\n",
    "    # Adding new supercat\n",
    "    if super_cat_name != super_cat_last_name:\n",
    "        super_cat_names.append(super_cat_name)\n",
    "        super_cat_ids[super_cat_name] = nr_super_cats\n",
    "        super_cat_last_name = super_cat_name\n",
    "        nr_super_cats += 1\n",
    "\n",
    "print('Number of super categories:', nr_super_cats)\n",
    "print('Number of categories:', nr_cats)\n",
    "print('Number of annotations:', nr_annotations)\n",
    "print('Number of images:', nr_images)"
   ]
  },
  {
   "cell_type": "code",
   "execution_count": 5,
   "id": "fba647ce-2e8c-4e5a-81b1-9998e5d03322",
   "metadata": {},
   "outputs": [],
   "source": [
    "# Count annotations\n",
    "cat_histogram = np.zeros(nr_cats,dtype=int)\n",
    "for ann in anns:\n",
    "    cat_histogram[ann['category_id']] += 1\n",
    "\n",
    "# Convert to DataFrame\n",
    "df = pd.DataFrame({'Categories': cat_names, 'Number of annotations': cat_histogram})\n",
    "df = df.sort_values('Number of annotations', 0, False)"
   ]
  },
  {
   "cell_type": "markdown",
   "id": "1e8b13cd-1953-427d-bcf1-2192e1ea26ca",
   "metadata": {},
   "source": [
    "## 데이터 전처리 함수 정의 (Dataset)"
   ]
  },
  {
   "cell_type": "code",
   "execution_count": 6,
   "id": "437e4810-8986-4c8f-81b0-1d9366a6c3d0",
   "metadata": {},
   "outputs": [],
   "source": [
    "# category labeling \n",
    "sorted_temp_df = df.sort_index()\n",
    "\n",
    "# background = 0 에 해당되는 label 추가 후 기존들을 모두 label + 1 로 설정\n",
    "sorted_df = pd.DataFrame([\"Backgroud\"], columns = [\"Categories\"])\n",
    "sorted_df = sorted_df.append(sorted_temp_df, ignore_index=True)\n",
    "\n",
    "category_names = list(sorted_df.Categories)\n",
    "\n",
    "def get_classname(classID, cats):\n",
    "    for i in range(len(cats)):\n",
    "        if cats[i]['id']==classID:\n",
    "            return cats[i]['name']\n",
    "    return \"None\"\n",
    "\n",
    "class CustomDataLoader(Dataset):\n",
    "    \"\"\"COCO format\"\"\"\n",
    "    def __init__(self, data_dir, mode = 'train', transform = None):\n",
    "        super().__init__()\n",
    "        self.mode = mode\n",
    "        self.transform = transform\n",
    "        self.coco = COCO(data_dir)\n",
    "        \n",
    "    def __getitem__(self, index: int):\n",
    "        # dataset이 index되어 list처럼 동작\n",
    "        image_id = self.coco.getImgIds(imgIds=index)\n",
    "        image_infos = self.coco.loadImgs(image_id)[0]\n",
    "        \n",
    "        # cv2 를 활용하여 image 불러오기\n",
    "        images = cv2.imread(os.path.join(dataset_path, image_infos['file_name']))\n",
    "        images = cv2.cvtColor(images, cv2.COLOR_BGR2RGB).astype(np.float32)\n",
    "        #images /= 255.0\n",
    "        \n",
    "        if (self.mode in ('train', 'val')):\n",
    "            ann_ids = self.coco.getAnnIds(imgIds=image_infos['id'])\n",
    "            anns = self.coco.loadAnns(ann_ids)\n",
    "\n",
    "            # Load the categories in a variable\n",
    "            cat_ids = self.coco.getCatIds()\n",
    "            cats = self.coco.loadCats(cat_ids)\n",
    "\n",
    "            # masks : size가 (height x width)인 2D\n",
    "            # 각각의 pixel 값에는 \"category id + 1\" 할당\n",
    "            # Background = 0\n",
    "            masks = np.zeros((image_infos[\"height\"], image_infos[\"width\"]))\n",
    "            # Unknown = 1, General trash = 2, ... , Cigarette = 11\n",
    "            for i in range(len(anns)):\n",
    "                className = get_classname(anns[i]['category_id'], cats)\n",
    "                pixel_value = category_names.index(className)\n",
    "                masks = np.maximum(self.coco.annToMask(anns[i])*pixel_value, masks)\n",
    "            masks = masks.astype(np.float32)\n",
    "\n",
    "            # transform -> albumentations 라이브러리 활용\n",
    "            if self.transform is not None:\n",
    "                transformed = self.transform(image=images, mask=masks)\n",
    "                images = transformed[\"image\"]\n",
    "                masks = transformed[\"mask\"]\n",
    "            \n",
    "            return images, masks, image_infos\n",
    "        \n",
    "        if self.mode == 'test':\n",
    "            # transform -> albumentations 라이브러리 활용\n",
    "            if self.transform is not None:\n",
    "                transformed = self.transform(image=images)\n",
    "                images = transformed[\"image\"]\n",
    "            \n",
    "            return images, image_infos\n",
    "    \n",
    "    \n",
    "    def __len__(self) -> int:\n",
    "        # 전체 dataset의 size를 return\n",
    "        return len(self.coco.getImgIds())"
   ]
  },
  {
   "cell_type": "markdown",
   "id": "2711ea58-3820-475d-8aa7-ba1dce749c80",
   "metadata": {},
   "source": [
    "## Dataset 정의 및 DataLoader 할당"
   ]
  },
  {
   "cell_type": "code",
   "execution_count": 7,
   "id": "4b3a4b9b-646e-42e4-8c82-b9df74adbcf2",
   "metadata": {},
   "outputs": [
    {
     "name": "stdout",
     "output_type": "stream",
     "text": [
      "loading annotations into memory...\n",
      "Done (t=3.54s)\n",
      "creating index...\n",
      "index created!\n",
      "loading annotations into memory...\n",
      "Done (t=1.39s)\n",
      "creating index...\n",
      "index created!\n",
      "loading annotations into memory...\n",
      "Done (t=0.00s)\n",
      "creating index...\n",
      "index created!\n"
     ]
    }
   ],
   "source": [
    "# train.json / validation.json / test.json 디렉토리 설정\n",
    "train_path = dataset_path + '/train.json'\n",
    "val_path = dataset_path + '/val.json'\n",
    "test_path = dataset_path + '/test.json'\n",
    "\n",
    "# collate_fn needs for batch\n",
    "def collate_fn(batch):\n",
    "    return tuple(zip(*batch))\n",
    "\n",
    "train_transform = A.Compose([\n",
    "                            A.RandomCrop(256, 256),  ## Changed!!!##\n",
    "                            A.GridDistortion(border_mode=1,p=0.5),\n",
    "                            A.OneOf([\n",
    "                                A.Rotate(border_mode=1,p=0.6),\n",
    "                                A.ShiftScaleRotate(border_mode=1,p=0.6),\n",
    "                            ],p=1),\n",
    "                            A.Flip(p=0.5),\n",
    "                            A.Blur(p=0.4),\n",
    "                            A.RandomBrightnessContrast(p=0.4),\n",
    "                            A.Normalize(\n",
    "                                mean=(0.485, 0.456, 0.406),\n",
    "                                std=(0.229, 0.224, 0.225), max_pixel_value=255.0, p=1.0\n",
    "                            ),\n",
    "                            ToTensorV2(transpose_mask=True),\n",
    "                            ])\n",
    "\n",
    "val_transform = A.Compose([\n",
    "                            A.Normalize(\n",
    "                                mean=(0.485, 0.456, 0.406),\n",
    "                                std=(0.229, 0.224, 0.225), max_pixel_value=255.0, p=1.0\n",
    "                            ),\n",
    "                            ToTensorV2(transpose_mask=True),\n",
    "                        ])\n",
    "\n",
    "test_transform = A.Compose([\n",
    "                            A.Normalize(\n",
    "                                mean=(0.485, 0.456, 0.406),\n",
    "                                std=(0.229, 0.224, 0.225), max_pixel_value=255.0, p=1.0\n",
    "                            ),\n",
    "                            ToTensorV2(transpose_mask=True),\n",
    "                           ])\n",
    "\n",
    "# train dataset\n",
    "train_dataset = CustomDataLoader(data_dir=train_path, mode='train', transform=train_transform)\n",
    "\n",
    "# validation dataset\n",
    "val_dataset = CustomDataLoader(data_dir=val_path, mode='val', transform=val_transform)\n",
    "\n",
    "# test dataset\n",
    "test_dataset = CustomDataLoader(data_dir=test_path, mode='test', transform=test_transform)\n",
    "\n",
    "\n",
    "# DataLoader\n",
    "train_loader = torch.utils.data.DataLoader(dataset=train_dataset, \n",
    "                                           batch_size=batch_size,\n",
    "                                           shuffle=True,\n",
    "                                           num_workers=0,\n",
    "                                           collate_fn=collate_fn)\n",
    "\n",
    "val_loader = torch.utils.data.DataLoader(dataset=val_dataset, \n",
    "                                         batch_size=batch_size,\n",
    "                                         shuffle=False,\n",
    "                                         num_workers=0,\n",
    "                                         collate_fn=collate_fn)\n",
    "\n",
    "test_loader = torch.utils.data.DataLoader(dataset=test_dataset,\n",
    "                                          batch_size=batch_size,\n",
    "                                          num_workers=1,\n",
    "                                          collate_fn=collate_fn)"
   ]
  },
  {
   "cell_type": "markdown",
   "id": "c3e82038-9d32-4ae0-b458-a329c727e3b7",
   "metadata": {},
   "source": [
    "## DeepLabV3+ (ResNext101)"
   ]
  },
  {
   "cell_type": "code",
   "execution_count": 8,
   "id": "0f9b0124-bfb8-4186-90eb-4f8cb90851b1",
   "metadata": {},
   "outputs": [],
   "source": [
    "model = smp.DeepLabV3Plus('se_resnext101_32x4d', encoder_weights=\"imagenet\", classes=12)"
   ]
  },
  {
   "cell_type": "code",
   "execution_count": 9,
   "id": "572b0a78-e021-4669-add6-0f4f7cf592a9",
   "metadata": {},
   "outputs": [],
   "source": [
    "def freeze(Model,idx):\n",
    "    for m in list(Model.children()):\n",
    "        for param in m.parameters():\n",
    "            param.requires_grad=True\n",
    "\n",
    "    for m in list(Model.children())[:idx]:\n",
    "        for param in m.parameters():\n",
    "            param.requires_grad=False\n",
    "\n",
    "def Unfreeze(Model):\n",
    "    for m in list(Model.children()):\n",
    "        for param in m.parameters():\n",
    "            param.requires_grad=True"
   ]
  },
  {
   "cell_type": "markdown",
   "id": "e634115f-25ce-4f16-97ab-fc87a58a2a32",
   "metadata": {},
   "source": [
    "## Dice Loss"
   ]
  },
  {
   "cell_type": "code",
   "execution_count": 10,
   "id": "05e53eae-4122-4281-ac3c-f8d3f5d5598f",
   "metadata": {},
   "outputs": [],
   "source": [
    "def diceCoeffv2(pred, gt, eps=1e-5, activation='softmax2d'):\n",
    "    \"\"\" computational formula：\n",
    "        dice = (2 * tp) / (2 * tp + fp + fn)\n",
    "    \"\"\"\n",
    " \n",
    "    if activation is None or activation == \"none\":\n",
    "        activation_fn = lambda x: x\n",
    "    elif activation == \"sigmoid\":\n",
    "        activation_fn = nn.Sigmoid()\n",
    "    elif activation == \"softmax2d\":\n",
    "        activation_fn = nn.Softmax2d()\n",
    "    else:\n",
    "        raise NotImplementedError(\"Activation implemented for sigmoid and softmax2d activation function operation\")\n",
    " \n",
    "    pred = activation_fn(pred)\n",
    "    # gt -> one-hot encoding\n",
    "    gt = F.one_hot(gt, num_classes = 12).permute(0,3,1,2).contiguous()\n",
    "    N = gt.size(0)\n",
    "    pred_flat = pred.view(N, -1)\n",
    "    gt_flat = gt.view(N, -1)\n",
    " \n",
    "    tp = torch.sum(gt_flat * pred_flat, dim=1)\n",
    "    fp = torch.sum(pred_flat, dim=1) - tp\n",
    "    fn = torch.sum(gt_flat, dim=1) - tp\n",
    "    loss = (2 * tp + eps) / (2 * tp + fp + fn + eps)\n",
    "    return loss.sum() / N\n",
    "\n",
    "class DiceScore(nn.Module):\n",
    "    __name__ = 'dice_score'\n",
    "    def __init__(self, activation='softmax2d'):\n",
    "        super(DiceScore, self).__init__()\n",
    "        self.activation = activation\n",
    " \n",
    "    def forward(self, y_pr, y_gt):\n",
    "        return diceCoeffv2(y_pr, y_gt, activation=self.activation)"
   ]
  },
  {
   "cell_type": "markdown",
   "id": "5f96c3d7-b363-41ce-8b64-35e110acdd52",
   "metadata": {},
   "source": [
    "## Custom Loss"
   ]
  },
  {
   "cell_type": "code",
   "execution_count": 11,
   "id": "90b2c0e5-5812-48d3-b426-504d259eeb0f",
   "metadata": {},
   "outputs": [],
   "source": [
    "class DiceCELoss(nn.Module):\n",
    "    def __init__(self):\n",
    "        super(DiceCELoss, self).__init__()\n",
    "        self.DiceScore=DiceScore()\n",
    "        self.CELoss=nn.CrossEntropyLoss()\n",
    "    \n",
    "    def forward(self,y_pr,y_gt):\n",
    "        return self.CELoss(y_pr,y_gt)-torch.log(self.DiceScore(y_pr,y_gt))"
   ]
  },
  {
   "cell_type": "code",
   "execution_count": 12,
   "id": "6f9b3a58-411e-4782-8d3f-4e7e4766e99d",
   "metadata": {},
   "outputs": [],
   "source": [
    "def class_score(avrg_class_IoU):\n",
    "    # Class Score\n",
    "    class_name=['BG','UNK','General Trash','Paper','Paper pack','Metal','Glass','Plastic','Styrofoam','Plastic Bag','Battery','Clothing']\n",
    "    print('-'*20)\n",
    "    print('Validation Class Pred mIoU Score')\n",
    "    for idx, class_score in enumerate(avrg_class_IoU):\n",
    "        print('[{}] mIoU : [{:.4f}]'.format(class_name[idx],class_score))\n",
    "    print('-'*20)"
   ]
  },
  {
   "cell_type": "markdown",
   "id": "188cdb5e-636b-4242-a379-b4ec302d3fe8",
   "metadata": {},
   "source": [
    "## train, validation, test 함수 정의"
   ]
  },
  {
   "cell_type": "code",
   "execution_count": 13,
   "id": "ed9c62e6-dfa2-4469-8bf2-02c11bbef66e",
   "metadata": {},
   "outputs": [],
   "source": [
    "def train(num_epochs, model, data_loader, val_loader, criterion, optimizer, scheduler, saved_dir, device):\n",
    "    model.to(device)\n",
    "    print('Start training..')\n",
    "    best_loss = 9999999\n",
    "    best_IoU = 0\n",
    "    freeze(model,-2)\n",
    "    for epoch in range(num_epochs):\n",
    "        train_loss=[]\n",
    "        model.train()\n",
    "        if epoch==3: Unfreeze(model)\n",
    "        for step, (images, masks, _) in enumerate(tqdm(data_loader)):\n",
    "            images = torch.stack(images)       # (batch, channel, height, width)\n",
    "            masks = torch.stack(masks).long()  # (batch, channel, height, width)\n",
    "            \n",
    "            # gpu 연산을 위해 device 할당\n",
    "            images, masks = images.to(device), masks.to(device)\n",
    "            \n",
    "            # inference\n",
    "            outputs = model(images)\n",
    "\n",
    "            # loss 계산 (cross entropy loss)\n",
    "            loss = criterion(outputs, masks)\n",
    "            train_loss.append(loss.item())\n",
    "                \n",
    "            optimizer.zero_grad()\n",
    "            loss.backward()\n",
    "            optimizer.step()\n",
    "            \n",
    "            #Cosine Annealing Scheduler\n",
    "            scheduler.step(epoch + step / len(data_loader))\n",
    "        \n",
    "        #scheduler.step(avrg_loss)\n",
    "        # validation 주기에 따른 loss 출력 및 best model 저장\n",
    "        avrg_loss, avrg_IoU, avrg_class_IoU = validation(model, val_loader, criterion, device)\n",
    "        print('Epoch [{}/{}], Train Loss: {:.4f} Vali Loss: {:.4f}, Vali mIoU: {:.4f}'.format(epoch+1, num_epochs, np.mean(train_loss), avrg_loss, avrg_IoU))\n",
    "        # Class Score\n",
    "        class_score(avrg_class_IoU)\n",
    "        # Save\n",
    "        if avrg_loss < best_loss:\n",
    "            print('Best performance at epoch: {}'.format(epoch + 1))\n",
    "            best_loss = avrg_loss\n",
    "            save_model(model, saved_dir,'deeplabv3plus_customloss_minloss_256.pt')\n",
    "        if avrg_IoU > best_IoU:\n",
    "            print('Best performance at epoch: {}'.format(epoch + 1))\n",
    "            best_IoU = avrg_IoU\n",
    "            save_model(model, saved_dir,'deeplabv3plus_customloss_maxIoU_256.pt')"
   ]
  },
  {
   "cell_type": "code",
   "execution_count": 14,
   "id": "b0e81dca-18ae-478c-a51b-fda979a4f5c0",
   "metadata": {},
   "outputs": [],
   "source": [
    "def validation(model, data_loader, criterion, device):\n",
    "    n_class=12\n",
    "    hist = np.zeros((n_class, n_class))\n",
    "    print('Start validation')\n",
    "    model.eval()\n",
    "    with torch.no_grad():\n",
    "        total_loss = 0\n",
    "        cnt = 0\n",
    "        for step, (images, masks, _) in enumerate(tqdm(data_loader)):\n",
    "            \n",
    "            images = torch.stack(images)       # (batch, channel, height, width)\n",
    "            masks = torch.stack(masks).long()  # (batch, channel, height, width)\n",
    "\n",
    "            images, masks = images.to(device), masks.to(device)            \n",
    "\n",
    "            outputs = model(images)\n",
    "            loss = criterion(outputs, masks)\n",
    "            total_loss += loss\n",
    "            cnt += 1\n",
    "            \n",
    "            outputs = torch.argmax(outputs.squeeze(), dim=1).detach().cpu().numpy()\n",
    "            \n",
    "            ### add_hist -> utils.py에 추가했음 ###\n",
    "            hist = add_hist(hist, masks.detach().cpu().numpy(), outputs, n_class=n_class)\n",
    "        \n",
    "        vali_mIoU, vali_class_mIoU = label_accuracy_score(hist)\n",
    "        avrg_loss = total_loss / cnt\n",
    "\n",
    "    return avrg_loss, vali_mIoU, vali_class_mIoU"
   ]
  },
  {
   "cell_type": "markdown",
   "id": "59b7dd9e-4eec-4401-bd62-b19d71db3750",
   "metadata": {},
   "source": [
    "## 모델 저장 함수 정의"
   ]
  },
  {
   "cell_type": "code",
   "execution_count": 15,
   "id": "be94b15d-14d1-45ba-8793-eb27152ae1be",
   "metadata": {},
   "outputs": [],
   "source": [
    "saved_dir = './saved'\n",
    "if not os.path.isdir(saved_dir):                                                           \n",
    "    os.mkdir(saved_dir)\n",
    "    \n",
    "def save_model(model, saved_dir, file_name='deeplabv3_customloss_256.pt'):\n",
    "    check_point = {'net': model.state_dict()}\n",
    "    output_path = os.path.join(saved_dir, file_name)\n",
    "    torch.save(model.state_dict(), output_path)"
   ]
  },
  {
   "cell_type": "markdown",
   "id": "2ae6b900-e089-4005-91d5-112be21b254a",
   "metadata": {},
   "source": [
    "## 모델 생성 및 Loss function, Optimizer 정의"
   ]
  },
  {
   "cell_type": "code",
   "execution_count": 16,
   "id": "73bb4713-946e-4522-8d4a-e3b1b6a20c37",
   "metadata": {},
   "outputs": [],
   "source": [
    "# Loss function 정의\n",
    "criterion = DiceCELoss()\n",
    "\n",
    "# Optimizer 정의\n",
    "#optimizer = torch.optim.Adam(params = model.parameters(), lr = learning_rate)\n",
    "#optimizer =  torch.optim.SGD(model.parameters(), lr=learning_rate, momentum=0.9,weight_decay=1e-4,nesterov=True)\n",
    "optimizer = torch.optim.AdamW(model.parameters(), lr=learning_rate, weight_decay=1e-5)\n",
    "scheduler = torch.optim.lr_scheduler.CosineAnnealingWarmRestarts(optimizer, T_0=10, eta_min=1.2e-8)\n",
    "#scheduler = torch.optim.lr_scheduler.ReduceLROnPlateau(optimizer, mode='min', factor=0.5, patience=2,threshold_mode='abs',min_lr=1e-8, verbose=True)"
   ]
  },
  {
   "cell_type": "code",
   "execution_count": 17,
   "id": "6a3c37aa-d709-4f45-a71f-dedb9ed685aa",
   "metadata": {},
   "outputs": [
    {
     "name": "stdout",
     "output_type": "stream",
     "text": [
      "Start training..\n"
     ]
    },
    {
     "data": {
      "application/vnd.jupyter.widget-view+json": {
       "model_id": "606d201d1c0a4485aa9ba4206f28bab3",
       "version_major": 2,
       "version_minor": 0
      },
      "text/plain": [
       "  0%|          | 0/262 [00:00<?, ?it/s]"
      ]
     },
     "metadata": {},
     "output_type": "display_data"
    },
    {
     "name": "stdout",
     "output_type": "stream",
     "text": [
      "Start validation\n"
     ]
    },
    {
     "data": {
      "application/vnd.jupyter.widget-view+json": {
       "model_id": "f45f66226c184f3090559cd0499c851b",
       "version_major": 2,
       "version_minor": 0
      },
      "text/plain": [
       "  0%|          | 0/66 [00:00<?, ?it/s]"
      ]
     },
     "metadata": {},
     "output_type": "display_data"
    },
    {
     "name": "stdout",
     "output_type": "stream",
     "text": [
      "Epoch [1/20], Train Loss: 2.7036 Vali Loss: 1.0323, Vali mIoU: 0.1678\n",
      "--------------------\n",
      "Validation Class Pred mIoU Score\n",
      "[BG] mIoU : [0.8415]\n",
      "[UNK] mIoU : [0.0000]\n",
      "[General Trash] mIoU : [0.0463]\n",
      "[Paper] mIoU : [0.4329]\n",
      "[Paper pack] mIoU : [0.0077]\n",
      "[Metal] mIoU : [0.0000]\n",
      "[Glass] mIoU : [0.0001]\n",
      "[Plastic] mIoU : [0.1170]\n",
      "[Styrofoam] mIoU : [0.0000]\n",
      "[Plastic Bag] mIoU : [0.5679]\n",
      "[Battery] mIoU : [0.0000]\n",
      "[Clothing] mIoU : [0.0000]\n",
      "--------------------\n",
      "Best performance at epoch: 1\n",
      "Best performance at epoch: 1\n"
     ]
    },
    {
     "data": {
      "application/vnd.jupyter.widget-view+json": {
       "model_id": "d4313ad071464cfaafb746c2af0b82ba",
       "version_major": 2,
       "version_minor": 0
      },
      "text/plain": [
       "  0%|          | 0/262 [00:00<?, ?it/s]"
      ]
     },
     "metadata": {},
     "output_type": "display_data"
    },
    {
     "name": "stdout",
     "output_type": "stream",
     "text": [
      "Start validation\n"
     ]
    },
    {
     "data": {
      "application/vnd.jupyter.widget-view+json": {
       "model_id": "6fde486e8b674c3682614cdb3612ef18",
       "version_major": 2,
       "version_minor": 0
      },
      "text/plain": [
       "  0%|          | 0/66 [00:00<?, ?it/s]"
      ]
     },
     "metadata": {},
     "output_type": "display_data"
    },
    {
     "name": "stdout",
     "output_type": "stream",
     "text": [
      "Epoch [2/20], Train Loss: 2.0589 Vali Loss: 0.8642, Vali mIoU: 0.1983\n",
      "--------------------\n",
      "Validation Class Pred mIoU Score\n",
      "[BG] mIoU : [0.8571]\n",
      "[UNK] mIoU : [0.0000]\n",
      "[General Trash] mIoU : [0.1943]\n",
      "[Paper] mIoU : [0.4737]\n",
      "[Paper pack] mIoU : [0.0000]\n",
      "[Metal] mIoU : [0.0518]\n",
      "[Glass] mIoU : [0.0000]\n",
      "[Plastic] mIoU : [0.1917]\n",
      "[Styrofoam] mIoU : [0.0024]\n",
      "[Plastic Bag] mIoU : [0.6088]\n",
      "[Battery] mIoU : [0.0000]\n",
      "[Clothing] mIoU : [0.0000]\n",
      "--------------------\n",
      "Best performance at epoch: 2\n",
      "Best performance at epoch: 2\n"
     ]
    },
    {
     "data": {
      "application/vnd.jupyter.widget-view+json": {
       "model_id": "9a8cf2a3ff764b1dad549ee482ce0c26",
       "version_major": 2,
       "version_minor": 0
      },
      "text/plain": [
       "  0%|          | 0/262 [00:00<?, ?it/s]"
      ]
     },
     "metadata": {},
     "output_type": "display_data"
    },
    {
     "name": "stdout",
     "output_type": "stream",
     "text": [
      "Start validation\n"
     ]
    },
    {
     "data": {
      "application/vnd.jupyter.widget-view+json": {
       "model_id": "babfaf2c3f6f48debeb1309ae9cb1fae",
       "version_major": 2,
       "version_minor": 0
      },
      "text/plain": [
       "  0%|          | 0/66 [00:00<?, ?it/s]"
      ]
     },
     "metadata": {},
     "output_type": "display_data"
    },
    {
     "name": "stdout",
     "output_type": "stream",
     "text": [
      "Epoch [3/20], Train Loss: 1.9212 Vali Loss: 0.8379, Vali mIoU: 0.2322\n",
      "--------------------\n",
      "Validation Class Pred mIoU Score\n",
      "[BG] mIoU : [0.8651]\n",
      "[UNK] mIoU : [0.0000]\n",
      "[General Trash] mIoU : [0.2687]\n",
      "[Paper] mIoU : [0.4947]\n",
      "[Paper pack] mIoU : [0.0377]\n",
      "[Metal] mIoU : [0.0858]\n",
      "[Glass] mIoU : [0.0000]\n",
      "[Plastic] mIoU : [0.2174]\n",
      "[Styrofoam] mIoU : [0.1885]\n",
      "[Plastic Bag] mIoU : [0.6280]\n",
      "[Battery] mIoU : [0.0000]\n",
      "[Clothing] mIoU : [0.0000]\n",
      "--------------------\n",
      "Best performance at epoch: 3\n",
      "Best performance at epoch: 3\n"
     ]
    },
    {
     "data": {
      "application/vnd.jupyter.widget-view+json": {
       "model_id": "a8593de63d1a4304a7d695a80f8b03bd",
       "version_major": 2,
       "version_minor": 0
      },
      "text/plain": [
       "  0%|          | 0/262 [00:00<?, ?it/s]"
      ]
     },
     "metadata": {},
     "output_type": "display_data"
    },
    {
     "name": "stdout",
     "output_type": "stream",
     "text": [
      "Start validation\n"
     ]
    },
    {
     "data": {
      "application/vnd.jupyter.widget-view+json": {
       "model_id": "665f5efceb914564b0893b03392caa84",
       "version_major": 2,
       "version_minor": 0
      },
      "text/plain": [
       "  0%|          | 0/66 [00:00<?, ?it/s]"
      ]
     },
     "metadata": {},
     "output_type": "display_data"
    },
    {
     "name": "stdout",
     "output_type": "stream",
     "text": [
      "Epoch [4/20], Train Loss: 1.8397 Vali Loss: 0.6673, Vali mIoU: 0.2871\n",
      "--------------------\n",
      "Validation Class Pred mIoU Score\n",
      "[BG] mIoU : [0.8963]\n",
      "[UNK] mIoU : [0.0000]\n",
      "[General Trash] mIoU : [0.3167]\n",
      "[Paper] mIoU : [0.5621]\n",
      "[Paper pack] mIoU : [0.0491]\n",
      "[Metal] mIoU : [0.1439]\n",
      "[Glass] mIoU : [0.0436]\n",
      "[Plastic] mIoU : [0.2743]\n",
      "[Styrofoam] mIoU : [0.4537]\n",
      "[Plastic Bag] mIoU : [0.7056]\n",
      "[Battery] mIoU : [0.0000]\n",
      "[Clothing] mIoU : [0.0000]\n",
      "--------------------\n",
      "Best performance at epoch: 4\n",
      "Best performance at epoch: 4\n"
     ]
    },
    {
     "data": {
      "application/vnd.jupyter.widget-view+json": {
       "model_id": "ef59209c9be54191b3d2f56ee8bacf54",
       "version_major": 2,
       "version_minor": 0
      },
      "text/plain": [
       "  0%|          | 0/262 [00:00<?, ?it/s]"
      ]
     },
     "metadata": {},
     "output_type": "display_data"
    },
    {
     "name": "stdout",
     "output_type": "stream",
     "text": [
      "Start validation\n"
     ]
    },
    {
     "data": {
      "application/vnd.jupyter.widget-view+json": {
       "model_id": "d7f5da7d1b924d3db6bf0e4ea19d37cd",
       "version_major": 2,
       "version_minor": 0
      },
      "text/plain": [
       "  0%|          | 0/66 [00:00<?, ?it/s]"
      ]
     },
     "metadata": {},
     "output_type": "display_data"
    },
    {
     "name": "stdout",
     "output_type": "stream",
     "text": [
      "Epoch [5/20], Train Loss: 1.7310 Vali Loss: 0.5752, Vali mIoU: 0.3254\n",
      "--------------------\n",
      "Validation Class Pred mIoU Score\n",
      "[BG] mIoU : [0.9132]\n",
      "[UNK] mIoU : [0.0000]\n",
      "[General Trash] mIoU : [0.3260]\n",
      "[Paper] mIoU : [0.5897]\n",
      "[Paper pack] mIoU : [0.0663]\n",
      "[Metal] mIoU : [0.2515]\n",
      "[Glass] mIoU : [0.2480]\n",
      "[Plastic] mIoU : [0.3001]\n",
      "[Styrofoam] mIoU : [0.4815]\n",
      "[Plastic Bag] mIoU : [0.7283]\n",
      "[Battery] mIoU : [0.0000]\n",
      "[Clothing] mIoU : [0.0000]\n",
      "--------------------\n",
      "Best performance at epoch: 5\n",
      "Best performance at epoch: 5\n"
     ]
    },
    {
     "data": {
      "application/vnd.jupyter.widget-view+json": {
       "model_id": "4dee5321524c4d58bb827e2ac9c09c5b",
       "version_major": 2,
       "version_minor": 0
      },
      "text/plain": [
       "  0%|          | 0/262 [00:00<?, ?it/s]"
      ]
     },
     "metadata": {},
     "output_type": "display_data"
    },
    {
     "name": "stdout",
     "output_type": "stream",
     "text": [
      "Start validation\n"
     ]
    },
    {
     "data": {
      "application/vnd.jupyter.widget-view+json": {
       "model_id": "0b26dacbaba04fdda296a5cf472ed321",
       "version_major": 2,
       "version_minor": 0
      },
      "text/plain": [
       "  0%|          | 0/66 [00:00<?, ?it/s]"
      ]
     },
     "metadata": {},
     "output_type": "display_data"
    },
    {
     "name": "stdout",
     "output_type": "stream",
     "text": [
      "Epoch [6/20], Train Loss: 1.6525 Vali Loss: 0.5477, Vali mIoU: 0.3622\n",
      "--------------------\n",
      "Validation Class Pred mIoU Score\n",
      "[BG] mIoU : [0.9188]\n",
      "[UNK] mIoU : [0.0000]\n",
      "[General Trash] mIoU : [0.3611]\n",
      "[Paper] mIoU : [0.6068]\n",
      "[Paper pack] mIoU : [0.1469]\n",
      "[Metal] mIoU : [0.3013]\n",
      "[Glass] mIoU : [0.4011]\n",
      "[Plastic] mIoU : [0.3403]\n",
      "[Styrofoam] mIoU : [0.5307]\n",
      "[Plastic Bag] mIoU : [0.7395]\n",
      "[Battery] mIoU : [0.0000]\n",
      "[Clothing] mIoU : [0.0000]\n",
      "--------------------\n",
      "Best performance at epoch: 6\n",
      "Best performance at epoch: 6\n"
     ]
    },
    {
     "data": {
      "application/vnd.jupyter.widget-view+json": {
       "model_id": "8d008f770a2543a5a96320f5e4c1e5fb",
       "version_major": 2,
       "version_minor": 0
      },
      "text/plain": [
       "  0%|          | 0/262 [00:00<?, ?it/s]"
      ]
     },
     "metadata": {},
     "output_type": "display_data"
    },
    {
     "name": "stdout",
     "output_type": "stream",
     "text": [
      "Start validation\n"
     ]
    },
    {
     "data": {
      "application/vnd.jupyter.widget-view+json": {
       "model_id": "f111a08c2e18447ab1f45eea47f2e7e2",
       "version_major": 2,
       "version_minor": 0
      },
      "text/plain": [
       "  0%|          | 0/66 [00:00<?, ?it/s]"
      ]
     },
     "metadata": {},
     "output_type": "display_data"
    },
    {
     "name": "stdout",
     "output_type": "stream",
     "text": [
      "Epoch [7/20], Train Loss: 1.5511 Vali Loss: 0.5076, Vali mIoU: 0.3923\n",
      "--------------------\n",
      "Validation Class Pred mIoU Score\n",
      "[BG] mIoU : [0.9249]\n",
      "[UNK] mIoU : [0.0000]\n",
      "[General Trash] mIoU : [0.3415]\n",
      "[Paper] mIoU : [0.6446]\n",
      "[Paper pack] mIoU : [0.3004]\n",
      "[Metal] mIoU : [0.3503]\n",
      "[Glass] mIoU : [0.4587]\n",
      "[Plastic] mIoU : [0.3275]\n",
      "[Styrofoam] mIoU : [0.5773]\n",
      "[Plastic Bag] mIoU : [0.7734]\n",
      "[Battery] mIoU : [0.0000]\n",
      "[Clothing] mIoU : [0.0092]\n",
      "--------------------\n",
      "Best performance at epoch: 7\n",
      "Best performance at epoch: 7\n"
     ]
    },
    {
     "data": {
      "application/vnd.jupyter.widget-view+json": {
       "model_id": "12221f4c41434ef4b1533e2d469e0c2a",
       "version_major": 2,
       "version_minor": 0
      },
      "text/plain": [
       "  0%|          | 0/262 [00:00<?, ?it/s]"
      ]
     },
     "metadata": {},
     "output_type": "display_data"
    },
    {
     "name": "stdout",
     "output_type": "stream",
     "text": [
      "Start validation\n"
     ]
    },
    {
     "data": {
      "application/vnd.jupyter.widget-view+json": {
       "model_id": "f3a37a8bef924024ae370787bba1883c",
       "version_major": 2,
       "version_minor": 0
      },
      "text/plain": [
       "  0%|          | 0/66 [00:00<?, ?it/s]"
      ]
     },
     "metadata": {},
     "output_type": "display_data"
    },
    {
     "name": "stdout",
     "output_type": "stream",
     "text": [
      "Epoch [8/20], Train Loss: 1.5818 Vali Loss: 0.4901, Vali mIoU: 0.3903\n",
      "--------------------\n",
      "Validation Class Pred mIoU Score\n",
      "[BG] mIoU : [0.9255]\n",
      "[UNK] mIoU : [0.0000]\n",
      "[General Trash] mIoU : [0.3664]\n",
      "[Paper] mIoU : [0.6527]\n",
      "[Paper pack] mIoU : [0.2636]\n",
      "[Metal] mIoU : [0.3093]\n",
      "[Glass] mIoU : [0.4362]\n",
      "[Plastic] mIoU : [0.3534]\n",
      "[Styrofoam] mIoU : [0.5757]\n",
      "[Plastic Bag] mIoU : [0.7771]\n",
      "[Battery] mIoU : [0.0000]\n",
      "[Clothing] mIoU : [0.0234]\n",
      "--------------------\n",
      "Best performance at epoch: 8\n"
     ]
    },
    {
     "data": {
      "application/vnd.jupyter.widget-view+json": {
       "model_id": "9f3b9e00094e48b99ed071286e191425",
       "version_major": 2,
       "version_minor": 0
      },
      "text/plain": [
       "  0%|          | 0/262 [00:00<?, ?it/s]"
      ]
     },
     "metadata": {},
     "output_type": "display_data"
    },
    {
     "name": "stdout",
     "output_type": "stream",
     "text": [
      "Start validation\n"
     ]
    },
    {
     "data": {
      "application/vnd.jupyter.widget-view+json": {
       "model_id": "11759bc821384ecfbd1493edbdbbfbe4",
       "version_major": 2,
       "version_minor": 0
      },
      "text/plain": [
       "  0%|          | 0/66 [00:00<?, ?it/s]"
      ]
     },
     "metadata": {},
     "output_type": "display_data"
    },
    {
     "name": "stdout",
     "output_type": "stream",
     "text": [
      "Epoch [9/20], Train Loss: 1.5698 Vali Loss: 0.4904, Vali mIoU: 0.4064\n",
      "--------------------\n",
      "Validation Class Pred mIoU Score\n",
      "[BG] mIoU : [0.9272]\n",
      "[UNK] mIoU : [0.0000]\n",
      "[General Trash] mIoU : [0.3851]\n",
      "[Paper] mIoU : [0.6566]\n",
      "[Paper pack] mIoU : [0.3215]\n",
      "[Metal] mIoU : [0.3446]\n",
      "[Glass] mIoU : [0.4741]\n",
      "[Plastic] mIoU : [0.3446]\n",
      "[Styrofoam] mIoU : [0.5726]\n",
      "[Plastic Bag] mIoU : [0.7852]\n",
      "[Battery] mIoU : [0.0000]\n",
      "[Clothing] mIoU : [0.0646]\n",
      "--------------------\n",
      "Best performance at epoch: 9\n"
     ]
    },
    {
     "data": {
      "application/vnd.jupyter.widget-view+json": {
       "model_id": "7bc9ce4c7f414d228c1e7992db4c39f2",
       "version_major": 2,
       "version_minor": 0
      },
      "text/plain": [
       "  0%|          | 0/262 [00:00<?, ?it/s]"
      ]
     },
     "metadata": {},
     "output_type": "display_data"
    },
    {
     "name": "stdout",
     "output_type": "stream",
     "text": [
      "Start validation\n"
     ]
    },
    {
     "data": {
      "application/vnd.jupyter.widget-view+json": {
       "model_id": "c05605fff93e47aeb3e092ae411df124",
       "version_major": 2,
       "version_minor": 0
      },
      "text/plain": [
       "  0%|          | 0/66 [00:00<?, ?it/s]"
      ]
     },
     "metadata": {},
     "output_type": "display_data"
    },
    {
     "name": "stdout",
     "output_type": "stream",
     "text": [
      "Epoch [10/20], Train Loss: 1.5516 Vali Loss: 0.4811, Vali mIoU: 0.4078\n",
      "--------------------\n",
      "Validation Class Pred mIoU Score\n",
      "[BG] mIoU : [0.9277]\n",
      "[UNK] mIoU : [0.0000]\n",
      "[General Trash] mIoU : [0.3845]\n",
      "[Paper] mIoU : [0.6485]\n",
      "[Paper pack] mIoU : [0.3117]\n",
      "[Metal] mIoU : [0.3492]\n",
      "[Glass] mIoU : [0.4921]\n",
      "[Plastic] mIoU : [0.3602]\n",
      "[Styrofoam] mIoU : [0.5807]\n",
      "[Plastic Bag] mIoU : [0.7857]\n",
      "[Battery] mIoU : [0.0000]\n",
      "[Clothing] mIoU : [0.0536]\n",
      "--------------------\n",
      "Best performance at epoch: 10\n",
      "Best performance at epoch: 10\n"
     ]
    },
    {
     "data": {
      "application/vnd.jupyter.widget-view+json": {
       "model_id": "fcd0686d204b4558b18a7abcd7ef3747",
       "version_major": 2,
       "version_minor": 0
      },
      "text/plain": [
       "  0%|          | 0/262 [00:00<?, ?it/s]"
      ]
     },
     "metadata": {},
     "output_type": "display_data"
    },
    {
     "name": "stdout",
     "output_type": "stream",
     "text": [
      "Start validation\n"
     ]
    },
    {
     "data": {
      "application/vnd.jupyter.widget-view+json": {
       "model_id": "db4026dd6ec444d6a4498092705c597d",
       "version_major": 2,
       "version_minor": 0
      },
      "text/plain": [
       "  0%|          | 0/66 [00:00<?, ?it/s]"
      ]
     },
     "metadata": {},
     "output_type": "display_data"
    },
    {
     "name": "stdout",
     "output_type": "stream",
     "text": [
      "Epoch [11/20], Train Loss: 1.6473 Vali Loss: 0.5221, Vali mIoU: 0.4059\n",
      "--------------------\n",
      "Validation Class Pred mIoU Score\n",
      "[BG] mIoU : [0.9239]\n",
      "[UNK] mIoU : [0.0000]\n",
      "[General Trash] mIoU : [0.3627]\n",
      "[Paper] mIoU : [0.6425]\n",
      "[Paper pack] mIoU : [0.2689]\n",
      "[Metal] mIoU : [0.2992]\n",
      "[Glass] mIoU : [0.4248]\n",
      "[Plastic] mIoU : [0.2888]\n",
      "[Styrofoam] mIoU : [0.5521]\n",
      "[Plastic Bag] mIoU : [0.7588]\n",
      "[Battery] mIoU : [0.0000]\n",
      "[Clothing] mIoU : [0.3488]\n",
      "--------------------\n"
     ]
    },
    {
     "data": {
      "application/vnd.jupyter.widget-view+json": {
       "model_id": "66899c46e2db4b768ef453a45f035a20",
       "version_major": 2,
       "version_minor": 0
      },
      "text/plain": [
       "  0%|          | 0/262 [00:00<?, ?it/s]"
      ]
     },
     "metadata": {},
     "output_type": "display_data"
    },
    {
     "name": "stdout",
     "output_type": "stream",
     "text": [
      "Start validation\n"
     ]
    },
    {
     "data": {
      "application/vnd.jupyter.widget-view+json": {
       "model_id": "3ebdda61cff445b3b4041e3b0348f286",
       "version_major": 2,
       "version_minor": 0
      },
      "text/plain": [
       "  0%|          | 0/66 [00:00<?, ?it/s]"
      ]
     },
     "metadata": {},
     "output_type": "display_data"
    },
    {
     "name": "stdout",
     "output_type": "stream",
     "text": [
      "Epoch [12/20], Train Loss: 1.6091 Vali Loss: 0.5219, Vali mIoU: 0.3946\n",
      "--------------------\n",
      "Validation Class Pred mIoU Score\n",
      "[BG] mIoU : [0.9192]\n",
      "[UNK] mIoU : [0.0000]\n",
      "[General Trash] mIoU : [0.3557]\n",
      "[Paper] mIoU : [0.6023]\n",
      "[Paper pack] mIoU : [0.2273]\n",
      "[Metal] mIoU : [0.1670]\n",
      "[Glass] mIoU : [0.4221]\n",
      "[Plastic] mIoU : [0.3390]\n",
      "[Styrofoam] mIoU : [0.5370]\n",
      "[Plastic Bag] mIoU : [0.7654]\n",
      "[Battery] mIoU : [0.0000]\n",
      "[Clothing] mIoU : [0.4000]\n",
      "--------------------\n"
     ]
    },
    {
     "data": {
      "application/vnd.jupyter.widget-view+json": {
       "model_id": "3d79780af13849cf957908eb043c090b",
       "version_major": 2,
       "version_minor": 0
      },
      "text/plain": [
       "  0%|          | 0/262 [00:00<?, ?it/s]"
      ]
     },
     "metadata": {},
     "output_type": "display_data"
    },
    {
     "name": "stdout",
     "output_type": "stream",
     "text": [
      "Start validation\n"
     ]
    },
    {
     "data": {
      "application/vnd.jupyter.widget-view+json": {
       "model_id": "9d122ee475d04b98b1c9f15a02e98484",
       "version_major": 2,
       "version_minor": 0
      },
      "text/plain": [
       "  0%|          | 0/66 [00:00<?, ?it/s]"
      ]
     },
     "metadata": {},
     "output_type": "display_data"
    },
    {
     "name": "stdout",
     "output_type": "stream",
     "text": [
      "Epoch [13/20], Train Loss: 1.5511 Vali Loss: 0.5129, Vali mIoU: 0.4169\n",
      "--------------------\n",
      "Validation Class Pred mIoU Score\n",
      "[BG] mIoU : [0.9224]\n",
      "[UNK] mIoU : [0.0000]\n",
      "[General Trash] mIoU : [0.3626]\n",
      "[Paper] mIoU : [0.6575]\n",
      "[Paper pack] mIoU : [0.2496]\n",
      "[Metal] mIoU : [0.3609]\n",
      "[Glass] mIoU : [0.4181]\n",
      "[Plastic] mIoU : [0.2816]\n",
      "[Styrofoam] mIoU : [0.6013]\n",
      "[Plastic Bag] mIoU : [0.7569]\n",
      "[Battery] mIoU : [0.0000]\n",
      "[Clothing] mIoU : [0.3924]\n",
      "--------------------\n",
      "Best performance at epoch: 13\n"
     ]
    },
    {
     "data": {
      "application/vnd.jupyter.widget-view+json": {
       "model_id": "ef8958d65c094d18915421356deffe6d",
       "version_major": 2,
       "version_minor": 0
      },
      "text/plain": [
       "  0%|          | 0/262 [00:00<?, ?it/s]"
      ]
     },
     "metadata": {},
     "output_type": "display_data"
    },
    {
     "name": "stdout",
     "output_type": "stream",
     "text": [
      "Start validation\n"
     ]
    },
    {
     "data": {
      "application/vnd.jupyter.widget-view+json": {
       "model_id": "100f2a351a0f48c9af7e603e5f596e6d",
       "version_major": 2,
       "version_minor": 0
      },
      "text/plain": [
       "  0%|          | 0/66 [00:00<?, ?it/s]"
      ]
     },
     "metadata": {},
     "output_type": "display_data"
    },
    {
     "name": "stdout",
     "output_type": "stream",
     "text": [
      "Epoch [14/20], Train Loss: 1.5006 Vali Loss: 0.5159, Vali mIoU: 0.4186\n",
      "--------------------\n",
      "Validation Class Pred mIoU Score\n",
      "[BG] mIoU : [0.9186]\n",
      "[UNK] mIoU : [0.0000]\n",
      "[General Trash] mIoU : [0.3691]\n",
      "[Paper] mIoU : [0.6501]\n",
      "[Paper pack] mIoU : [0.3501]\n",
      "[Metal] mIoU : [0.3516]\n",
      "[Glass] mIoU : [0.4677]\n",
      "[Plastic] mIoU : [0.3403]\n",
      "[Styrofoam] mIoU : [0.5601]\n",
      "[Plastic Bag] mIoU : [0.7491]\n",
      "[Battery] mIoU : [0.0000]\n",
      "[Clothing] mIoU : [0.2665]\n",
      "--------------------\n",
      "Best performance at epoch: 14\n"
     ]
    },
    {
     "data": {
      "application/vnd.jupyter.widget-view+json": {
       "model_id": "dacd3d30457442b89e2b921aa8eaf3d7",
       "version_major": 2,
       "version_minor": 0
      },
      "text/plain": [
       "  0%|          | 0/262 [00:00<?, ?it/s]"
      ]
     },
     "metadata": {},
     "output_type": "display_data"
    },
    {
     "name": "stdout",
     "output_type": "stream",
     "text": [
      "Start validation\n"
     ]
    },
    {
     "data": {
      "application/vnd.jupyter.widget-view+json": {
       "model_id": "61dd84fa17534cef898720079aff2cc4",
       "version_major": 2,
       "version_minor": 0
      },
      "text/plain": [
       "  0%|          | 0/66 [00:00<?, ?it/s]"
      ]
     },
     "metadata": {},
     "output_type": "display_data"
    },
    {
     "name": "stdout",
     "output_type": "stream",
     "text": [
      "Epoch [15/20], Train Loss: 1.5252 Vali Loss: 0.4625, Vali mIoU: 0.4505\n",
      "--------------------\n",
      "Validation Class Pred mIoU Score\n",
      "[BG] mIoU : [0.9311]\n",
      "[UNK] mIoU : [0.0000]\n",
      "[General Trash] mIoU : [0.3833]\n",
      "[Paper] mIoU : [0.6614]\n",
      "[Paper pack] mIoU : [0.3438]\n",
      "[Metal] mIoU : [0.3410]\n",
      "[Glass] mIoU : [0.5008]\n",
      "[Plastic] mIoU : [0.4207]\n",
      "[Styrofoam] mIoU : [0.6237]\n",
      "[Plastic Bag] mIoU : [0.7866]\n",
      "[Battery] mIoU : [0.0000]\n",
      "[Clothing] mIoU : [0.4132]\n",
      "--------------------\n",
      "Best performance at epoch: 15\n",
      "Best performance at epoch: 15\n"
     ]
    },
    {
     "data": {
      "application/vnd.jupyter.widget-view+json": {
       "model_id": "c8d50e022a4043be9ccb7825d4fdf6c5",
       "version_major": 2,
       "version_minor": 0
      },
      "text/plain": [
       "  0%|          | 0/262 [00:00<?, ?it/s]"
      ]
     },
     "metadata": {},
     "output_type": "display_data"
    },
    {
     "name": "stdout",
     "output_type": "stream",
     "text": [
      "Start validation\n"
     ]
    },
    {
     "data": {
      "application/vnd.jupyter.widget-view+json": {
       "model_id": "fe106cfc2e1f417f81e7f0e485a77433",
       "version_major": 2,
       "version_minor": 0
      },
      "text/plain": [
       "  0%|          | 0/66 [00:00<?, ?it/s]"
      ]
     },
     "metadata": {},
     "output_type": "display_data"
    },
    {
     "name": "stdout",
     "output_type": "stream",
     "text": [
      "Epoch [16/20], Train Loss: 1.4561 Vali Loss: 0.4551, Vali mIoU: 0.4399\n",
      "--------------------\n",
      "Validation Class Pred mIoU Score\n",
      "[BG] mIoU : [0.9321]\n",
      "[UNK] mIoU : [0.0000]\n",
      "[General Trash] mIoU : [0.3782]\n",
      "[Paper] mIoU : [0.6689]\n",
      "[Paper pack] mIoU : [0.4041]\n",
      "[Metal] mIoU : [0.2717]\n",
      "[Glass] mIoU : [0.4967]\n",
      "[Plastic] mIoU : [0.3734]\n",
      "[Styrofoam] mIoU : [0.5835]\n",
      "[Plastic Bag] mIoU : [0.7827]\n",
      "[Battery] mIoU : [0.0000]\n",
      "[Clothing] mIoU : [0.3869]\n",
      "--------------------\n",
      "Best performance at epoch: 16\n"
     ]
    },
    {
     "data": {
      "application/vnd.jupyter.widget-view+json": {
       "model_id": "b4bcd664438a4b79be24e1bb4a8f6966",
       "version_major": 2,
       "version_minor": 0
      },
      "text/plain": [
       "  0%|          | 0/262 [00:00<?, ?it/s]"
      ]
     },
     "metadata": {},
     "output_type": "display_data"
    },
    {
     "name": "stdout",
     "output_type": "stream",
     "text": [
      "Start validation\n"
     ]
    },
    {
     "data": {
      "application/vnd.jupyter.widget-view+json": {
       "model_id": "a8eb4490bcd84b9a8df400cb8a9a49e1",
       "version_major": 2,
       "version_minor": 0
      },
      "text/plain": [
       "  0%|          | 0/66 [00:00<?, ?it/s]"
      ]
     },
     "metadata": {},
     "output_type": "display_data"
    },
    {
     "name": "stdout",
     "output_type": "stream",
     "text": [
      "Epoch [17/20], Train Loss: 1.4277 Vali Loss: 0.4606, Vali mIoU: 0.4613\n",
      "--------------------\n",
      "Validation Class Pred mIoU Score\n",
      "[BG] mIoU : [0.9265]\n",
      "[UNK] mIoU : [0.0000]\n",
      "[General Trash] mIoU : [0.3395]\n",
      "[Paper] mIoU : [0.6644]\n",
      "[Paper pack] mIoU : [0.4248]\n",
      "[Metal] mIoU : [0.3797]\n",
      "[Glass] mIoU : [0.5257]\n",
      "[Plastic] mIoU : [0.4253]\n",
      "[Styrofoam] mIoU : [0.6647]\n",
      "[Plastic Bag] mIoU : [0.7889]\n",
      "[Battery] mIoU : [0.0000]\n",
      "[Clothing] mIoU : [0.3959]\n",
      "--------------------\n",
      "Best performance at epoch: 17\n"
     ]
    },
    {
     "data": {
      "application/vnd.jupyter.widget-view+json": {
       "model_id": "cfcea56fea4c44be99eda607a460badb",
       "version_major": 2,
       "version_minor": 0
      },
      "text/plain": [
       "  0%|          | 0/262 [00:00<?, ?it/s]"
      ]
     },
     "metadata": {},
     "output_type": "display_data"
    },
    {
     "name": "stdout",
     "output_type": "stream",
     "text": [
      "Start validation\n"
     ]
    },
    {
     "data": {
      "application/vnd.jupyter.widget-view+json": {
       "model_id": "566d0464501f4e7f8d96d7671148fc07",
       "version_major": 2,
       "version_minor": 0
      },
      "text/plain": [
       "  0%|          | 0/66 [00:00<?, ?it/s]"
      ]
     },
     "metadata": {},
     "output_type": "display_data"
    },
    {
     "name": "stdout",
     "output_type": "stream",
     "text": [
      "Epoch [18/20], Train Loss: 1.3718 Vali Loss: 0.4425, Vali mIoU: 0.4687\n",
      "--------------------\n",
      "Validation Class Pred mIoU Score\n",
      "[BG] mIoU : [0.9332]\n",
      "[UNK] mIoU : [0.0000]\n",
      "[General Trash] mIoU : [0.3855]\n",
      "[Paper] mIoU : [0.6883]\n",
      "[Paper pack] mIoU : [0.4532]\n",
      "[Metal] mIoU : [0.4362]\n",
      "[Glass] mIoU : [0.4816]\n",
      "[Plastic] mIoU : [0.4367]\n",
      "[Styrofoam] mIoU : [0.6606]\n",
      "[Plastic Bag] mIoU : [0.7933]\n",
      "[Battery] mIoU : [0.0000]\n",
      "[Clothing] mIoU : [0.3554]\n",
      "--------------------\n",
      "Best performance at epoch: 18\n",
      "Best performance at epoch: 18\n"
     ]
    },
    {
     "data": {
      "application/vnd.jupyter.widget-view+json": {
       "model_id": "1ec75f11ffd9434eaf93d53f940b985e",
       "version_major": 2,
       "version_minor": 0
      },
      "text/plain": [
       "  0%|          | 0/262 [00:00<?, ?it/s]"
      ]
     },
     "metadata": {},
     "output_type": "display_data"
    },
    {
     "name": "stdout",
     "output_type": "stream",
     "text": [
      "Start validation\n"
     ]
    },
    {
     "data": {
      "application/vnd.jupyter.widget-view+json": {
       "model_id": "97350d7853894ab19481b0e296109c2e",
       "version_major": 2,
       "version_minor": 0
      },
      "text/plain": [
       "  0%|          | 0/66 [00:00<?, ?it/s]"
      ]
     },
     "metadata": {},
     "output_type": "display_data"
    },
    {
     "name": "stdout",
     "output_type": "stream",
     "text": [
      "Epoch [19/20], Train Loss: 1.3943 Vali Loss: 0.4264, Vali mIoU: 0.4806\n",
      "--------------------\n",
      "Validation Class Pred mIoU Score\n",
      "[BG] mIoU : [0.9339]\n",
      "[UNK] mIoU : [0.0000]\n",
      "[General Trash] mIoU : [0.3931]\n",
      "[Paper] mIoU : [0.6909]\n",
      "[Paper pack] mIoU : [0.4765]\n",
      "[Metal] mIoU : [0.4609]\n",
      "[Glass] mIoU : [0.5034]\n",
      "[Plastic] mIoU : [0.4238]\n",
      "[Styrofoam] mIoU : [0.6730]\n",
      "[Plastic Bag] mIoU : [0.8032]\n",
      "[Battery] mIoU : [0.0000]\n",
      "[Clothing] mIoU : [0.4090]\n",
      "--------------------\n",
      "Best performance at epoch: 19\n",
      "Best performance at epoch: 19\n"
     ]
    },
    {
     "data": {
      "application/vnd.jupyter.widget-view+json": {
       "model_id": "cf1213fe787e4dd181bda9ec40755fd6",
       "version_major": 2,
       "version_minor": 0
      },
      "text/plain": [
       "  0%|          | 0/262 [00:00<?, ?it/s]"
      ]
     },
     "metadata": {},
     "output_type": "display_data"
    },
    {
     "name": "stdout",
     "output_type": "stream",
     "text": [
      "Start validation\n"
     ]
    },
    {
     "data": {
      "application/vnd.jupyter.widget-view+json": {
       "model_id": "e48b6f155d2b4828838237cf59f0e23b",
       "version_major": 2,
       "version_minor": 0
      },
      "text/plain": [
       "  0%|          | 0/66 [00:00<?, ?it/s]"
      ]
     },
     "metadata": {},
     "output_type": "display_data"
    },
    {
     "name": "stdout",
     "output_type": "stream",
     "text": [
      "Epoch [20/20], Train Loss: 1.3473 Vali Loss: 0.4335, Vali mIoU: 0.4716\n",
      "--------------------\n",
      "Validation Class Pred mIoU Score\n",
      "[BG] mIoU : [0.9333]\n",
      "[UNK] mIoU : [0.0000]\n",
      "[General Trash] mIoU : [0.3830]\n",
      "[Paper] mIoU : [0.6946]\n",
      "[Paper pack] mIoU : [0.4516]\n",
      "[Metal] mIoU : [0.4172]\n",
      "[Glass] mIoU : [0.5181]\n",
      "[Plastic] mIoU : [0.4347]\n",
      "[Styrofoam] mIoU : [0.6715]\n",
      "[Plastic Bag] mIoU : [0.7911]\n",
      "[Battery] mIoU : [0.0000]\n",
      "[Clothing] mIoU : [0.3638]\n",
      "--------------------\n"
     ]
    }
   ],
   "source": [
    "train(num_epochs, model, train_loader, val_loader, criterion, optimizer, scheduler, saved_dir, device)"
   ]
  },
  {
   "cell_type": "markdown",
   "id": "dc78d251-ebf1-4294-9df2-5de9f37cc1cc",
   "metadata": {},
   "source": [
    "## 저장된 model 불러오기 (학습된 이후)"
   ]
  },
  {
   "cell_type": "code",
   "execution_count": 18,
   "id": "21fe28b4-1847-407c-acb7-2276520242fb",
   "metadata": {},
   "outputs": [
    {
     "data": {
      "text/plain": [
       "<All keys matched successfully>"
      ]
     },
     "execution_count": 18,
     "metadata": {},
     "output_type": "execute_result"
    }
   ],
   "source": [
    "# best model 저장된 경로\n",
    "model_path = './saved/deeplabv3plus_customloss_minloss_256.pt'\n",
    "# model_path = './saved/deeplabv3plus_customloss_maxIoU_256.pt'\n",
    "\n",
    "# best model 불러오기\n",
    "checkpoint = torch.load(model_path, map_location=device)\n",
    "model.load_state_dict(checkpoint)\n",
    "\n",
    "# 추론을 실행하기 전에는 반드시 설정 (batch normalization, dropout 를 평가 모드로 설정)\n",
    "# model.eval()"
   ]
  },
  {
   "cell_type": "code",
   "execution_count": 19,
   "id": "d50110e8-a411-4c54-ba48-9ba0fb1a849d",
   "metadata": {},
   "outputs": [
    {
     "name": "stderr",
     "output_type": "stream",
     "text": [
      "Clipping input data to the valid range for imshow with RGB data ([0..1] for floats or [0..255] for integers).\n"
     ]
    },
    {
     "name": "stdout",
     "output_type": "stream",
     "text": [
      "Shape of Original Image : [3, 512, 512]\n",
      "Shape of Predicted :  [512, 512]\n",
      "Unique values, category of transformed mask : \n",
      " [{0, 'Backgroud'}, {'Paper', 3}, {9, 'Plastic bag'}]\n"
     ]
    },
    {
     "data": {
      "image/png": "[encoded data removed]",
      "text/plain": [
       "<Figure size 1152x1152 with 2 Axes>"
      ]
     },
     "metadata": {
      "needs_background": "light"
     },
     "output_type": "display_data"
    }
   ],
   "source": [
    "# 첫번째 batch의 추론 결과 확인\n",
    "for imgs, image_infos in test_loader:\n",
    "    image_infos = image_infos\n",
    "    temp_images = imgs\n",
    "    \n",
    "    model.eval()\n",
    "    # inference\n",
    "    outs = model(torch.stack(temp_images).to(device))\n",
    "    oms = torch.argmax(outs.squeeze(), dim=1).detach().cpu().numpy()\n",
    "    \n",
    "    break\n",
    "\n",
    "i = 3\n",
    "fig, (ax1, ax2) = plt.subplots(nrows=1, ncols=2, figsize=(16, 16))\n",
    "\n",
    "print('Shape of Original Image :', list(temp_images[i].shape))\n",
    "print('Shape of Predicted : ', list(oms[i].shape))\n",
    "print('Unique values, category of transformed mask : \\n', [{int(i),category_names[int(i)]} for i in list(np.unique(oms[i]))])\n",
    "\n",
    "# Original image\n",
    "ax1.imshow(temp_images[i].permute([1,2,0]))\n",
    "ax1.grid(False)\n",
    "ax1.set_title(\"Original image : {}\".format(image_infos[i]['file_name']), fontsize = 15)\n",
    "\n",
    "# Predicted\n",
    "ax2.imshow(oms[i])\n",
    "ax2.grid(False)\n",
    "ax2.set_title(\"Predicted : {}\".format(image_infos[i]['file_name']), fontsize = 15)\n",
    "\n",
    "plt.show()"
   ]
  },
  {
   "cell_type": "markdown",
   "id": "68f5d1d0-4956-4863-8eb2-7771a7a0a874",
   "metadata": {},
   "source": [
    "## submission을 위한 test 함수 정의"
   ]
  },
  {
   "cell_type": "code",
   "execution_count": 20,
   "id": "c56df342-3278-4774-ad1c-5ffa90de5dad",
   "metadata": {},
   "outputs": [],
   "source": [
    "def test(model, data_loader, device):\n",
    "    size = 256\n",
    "    transform = A.Compose([A.Resize(256, 256)])\n",
    "    print('Start prediction.')\n",
    "    model.eval()\n",
    "    \n",
    "    file_name_list = []\n",
    "    preds_array = np.empty((0, size*size), dtype=np.long)\n",
    "    \n",
    "    with torch.no_grad():\n",
    "        for step, (imgs, image_infos) in enumerate(tqdm(test_loader)):\n",
    "\n",
    "            # inference (512 x 512)\n",
    "            outs = model(torch.stack(imgs).to(device))\n",
    "            oms = torch.argmax(outs.squeeze(), dim=1).detach().cpu().numpy()\n",
    "            \n",
    "            # resize (256 x 256)\n",
    "            temp_mask = []\n",
    "            for img, mask in zip(np.stack(temp_images), oms):\n",
    "                transformed = transform(image=img, mask=mask)\n",
    "                mask = transformed['mask']\n",
    "                temp_mask.append(mask)\n",
    "\n",
    "            oms = np.array(temp_mask)\n",
    "            \n",
    "            oms = oms.reshape([oms.shape[0], size*size]).astype(int)\n",
    "            preds_array = np.vstack((preds_array, oms))\n",
    "            \n",
    "            file_name_list.append([i['file_name'] for i in image_infos])\n",
    "    print(\"End prediction.\")\n",
    "    file_names = [y for x in file_name_list for y in x]\n",
    "    \n",
    "    return file_names, preds_array\n"
   ]
  },
  {
   "cell_type": "markdown",
   "id": "d2ce96c1-a87b-4fa8-a692-4b0bf8efd805",
   "metadata": {},
   "source": [
    "## submission.csv 생성"
   ]
  },
  {
   "cell_type": "code",
   "execution_count": 21,
   "id": "498a6fca-1165-4adb-ab99-20d942ddf521",
   "metadata": {},
   "outputs": [
    {
     "name": "stdout",
     "output_type": "stream",
     "text": [
      "Start prediction.\n"
     ]
    },
    {
     "data": {
      "application/vnd.jupyter.widget-view+json": {
       "model_id": "d775837fe758480b87d20b163ad42de6",
       "version_major": 2,
       "version_minor": 0
      },
      "text/plain": [
       "  0%|          | 0/84 [00:00<?, ?it/s]"
      ]
     },
     "metadata": {},
     "output_type": "display_data"
    },
    {
     "name": "stdout",
     "output_type": "stream",
     "text": [
      "End prediction.\n"
     ]
    }
   ],
   "source": [
    "# sample_submisson.csv 열기\n",
    "submission = pd.read_csv('./submission/sample_submission.csv', index_col=None)\n",
    "\n",
    "# test set에 대한 prediction\n",
    "file_names, preds = test(model, test_loader, device)\n",
    "\n",
    "# PredictionString 대입\n",
    "for file_name, string in zip(file_names, preds):\n",
    "    submission = submission.append({\"image_id\" : file_name, \"PredictionString\" : ' '.join(str(e) for e in string.tolist())}, \n",
    "                                   ignore_index=True)\n",
    "\n",
    "# submission.csv로 저장\n",
    "submission.to_csv(\"./submission/deeplabv3plus_customloss_minloss_256.csv\", index=False)\n",
    "# submission.to_csv(\"./submission/deeplabv3plus_customloss_maxIoU_256.csv\", index=False)"
   ]
  },
  {
   "cell_type": "code",
   "execution_count": null,
   "id": "0b43fa94-0d84-494c-97ed-69c1870ba5ac",
   "metadata": {},
   "outputs": [],
   "source": []
  }
 ],
 "metadata": {
  "kernelspec": {
   "display_name": "Python 3",
   "language": "python",
   "name": "python3"
  },
  "language_info": {
   "codemirror_mode": {
    "name": "ipython",
    "version": 3
   },
   "file_extension": ".py",
   "mimetype": "text/x-python",
   "name": "python",
   "nbconvert_exporter": "python",
   "pygments_lexer": "ipython3",
   "version": "3.7.7"
  }
 },
 "nbformat": 4,
 "nbformat_minor": 5
}
